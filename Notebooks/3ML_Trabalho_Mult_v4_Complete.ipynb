{
 "cells": [
  {
   "cell_type": "markdown",
   "id": "4da1c440",
   "metadata": {},
   "source": [
    "## **Criação dos Modelos de Aprendizado de Máquina - Risco de Inadimplência de Crédito Residencial**"
   ]
  },
  {
   "cell_type": "markdown",
   "id": "71a9be86",
   "metadata": {},
   "source": [
    "## Importando bibliotecas - SETUP"
   ]
  },
  {
   "cell_type": "code",
   "execution_count": 1,
   "id": "7d1f5ccf",
   "metadata": {},
   "outputs": [],
   "source": [
    "import warnings, requests, zipfile, io\n",
    "warnings.simplefilter('ignore')\n",
    "import pandas as pd\n",
    "from scipy.io import arff\n",
    "\n",
    "import os\n",
    "import boto3\n",
    "import botocore \n",
    "import sagemaker\n",
    "import numpy as np\n",
    "import pandas as pd \n",
    "import seaborn as sns\n",
    "from collections import Counter\n",
    "import matplotlib.pyplot as plt\n",
    "from sagemaker import get_execution_role \n",
    "from sagemaker.image_uris import retrieve\n",
    "from sklearn.preprocessing import LabelEncoder\n",
    "from sklearn.model_selection import train_test_split"
   ]
  },
  {
   "cell_type": "markdown",
   "id": "780a1daa",
   "metadata": {},
   "source": [
    "## Lendo o conjunto de dados processados"
   ]
  },
  {
   "cell_type": "code",
   "execution_count": 2,
   "id": "2dd3fda2",
   "metadata": {},
   "outputs": [],
   "source": [
    "bucket='credit2022rabelo'"
   ]
  },
  {
   "cell_type": "code",
   "execution_count": 3,
   "id": "e6aff982",
   "metadata": {},
   "outputs": [],
   "source": [
    "#prefix = 'EDA/a_train'"
   ]
  },
  {
   "cell_type": "code",
   "execution_count": 4,
   "id": "3838bb0d",
   "metadata": {},
   "outputs": [
    {
     "data": {
      "text/html": [
       "<div>\n",
       "<style scoped>\n",
       "    .dataframe tbody tr th:only-of-type {\n",
       "        vertical-align: middle;\n",
       "    }\n",
       "\n",
       "    .dataframe tbody tr th {\n",
       "        vertical-align: top;\n",
       "    }\n",
       "\n",
       "    .dataframe thead th {\n",
       "        text-align: right;\n",
       "    }\n",
       "</style>\n",
       "<table border=\"1\" class=\"dataframe\">\n",
       "  <thead>\n",
       "    <tr style=\"text-align: right;\">\n",
       "      <th></th>\n",
       "      <th>SK_ID_CURR</th>\n",
       "      <th>TARGET</th>\n",
       "      <th>NAME_CONTRACT_TYPE</th>\n",
       "      <th>CODE_GENDER</th>\n",
       "      <th>FLAG_OWN_CAR</th>\n",
       "      <th>FLAG_OWN_REALTY</th>\n",
       "      <th>CNT_CHILDREN</th>\n",
       "      <th>AMT_INCOME_TOTAL</th>\n",
       "      <th>AMT_CREDIT</th>\n",
       "      <th>AMT_ANNUITY</th>\n",
       "      <th>...</th>\n",
       "      <th>FLAG_DOCUMENT_18</th>\n",
       "      <th>FLAG_DOCUMENT_19</th>\n",
       "      <th>FLAG_DOCUMENT_20</th>\n",
       "      <th>FLAG_DOCUMENT_21</th>\n",
       "      <th>AMT_REQ_CREDIT_BUREAU_HOUR</th>\n",
       "      <th>AMT_REQ_CREDIT_BUREAU_DAY</th>\n",
       "      <th>AMT_REQ_CREDIT_BUREAU_WEEK</th>\n",
       "      <th>AMT_REQ_CREDIT_BUREAU_MON</th>\n",
       "      <th>AMT_REQ_CREDIT_BUREAU_QRT</th>\n",
       "      <th>AMT_REQ_CREDIT_BUREAU_YEAR</th>\n",
       "    </tr>\n",
       "  </thead>\n",
       "  <tbody>\n",
       "    <tr>\n",
       "      <th>0</th>\n",
       "      <td>100002</td>\n",
       "      <td>1</td>\n",
       "      <td>Cash loans</td>\n",
       "      <td>M</td>\n",
       "      <td>N</td>\n",
       "      <td>Y</td>\n",
       "      <td>0</td>\n",
       "      <td>202500.0</td>\n",
       "      <td>406597.5</td>\n",
       "      <td>24700.5</td>\n",
       "      <td>...</td>\n",
       "      <td>0</td>\n",
       "      <td>0</td>\n",
       "      <td>0</td>\n",
       "      <td>0</td>\n",
       "      <td>0.0</td>\n",
       "      <td>0.0</td>\n",
       "      <td>0.0</td>\n",
       "      <td>0.0</td>\n",
       "      <td>0.0</td>\n",
       "      <td>1.0</td>\n",
       "    </tr>\n",
       "    <tr>\n",
       "      <th>1</th>\n",
       "      <td>100003</td>\n",
       "      <td>0</td>\n",
       "      <td>Cash loans</td>\n",
       "      <td>F</td>\n",
       "      <td>N</td>\n",
       "      <td>N</td>\n",
       "      <td>0</td>\n",
       "      <td>270000.0</td>\n",
       "      <td>1293502.5</td>\n",
       "      <td>35698.5</td>\n",
       "      <td>...</td>\n",
       "      <td>0</td>\n",
       "      <td>0</td>\n",
       "      <td>0</td>\n",
       "      <td>0</td>\n",
       "      <td>0.0</td>\n",
       "      <td>0.0</td>\n",
       "      <td>0.0</td>\n",
       "      <td>0.0</td>\n",
       "      <td>0.0</td>\n",
       "      <td>0.0</td>\n",
       "    </tr>\n",
       "    <tr>\n",
       "      <th>2</th>\n",
       "      <td>100004</td>\n",
       "      <td>0</td>\n",
       "      <td>Revolving loans</td>\n",
       "      <td>M</td>\n",
       "      <td>Y</td>\n",
       "      <td>Y</td>\n",
       "      <td>0</td>\n",
       "      <td>67500.0</td>\n",
       "      <td>135000.0</td>\n",
       "      <td>6750.0</td>\n",
       "      <td>...</td>\n",
       "      <td>0</td>\n",
       "      <td>0</td>\n",
       "      <td>0</td>\n",
       "      <td>0</td>\n",
       "      <td>0.0</td>\n",
       "      <td>0.0</td>\n",
       "      <td>0.0</td>\n",
       "      <td>0.0</td>\n",
       "      <td>0.0</td>\n",
       "      <td>0.0</td>\n",
       "    </tr>\n",
       "    <tr>\n",
       "      <th>3</th>\n",
       "      <td>100006</td>\n",
       "      <td>0</td>\n",
       "      <td>Cash loans</td>\n",
       "      <td>F</td>\n",
       "      <td>N</td>\n",
       "      <td>Y</td>\n",
       "      <td>0</td>\n",
       "      <td>135000.0</td>\n",
       "      <td>312682.5</td>\n",
       "      <td>29686.5</td>\n",
       "      <td>...</td>\n",
       "      <td>0</td>\n",
       "      <td>0</td>\n",
       "      <td>0</td>\n",
       "      <td>0</td>\n",
       "      <td>NaN</td>\n",
       "      <td>NaN</td>\n",
       "      <td>NaN</td>\n",
       "      <td>NaN</td>\n",
       "      <td>NaN</td>\n",
       "      <td>NaN</td>\n",
       "    </tr>\n",
       "    <tr>\n",
       "      <th>4</th>\n",
       "      <td>100007</td>\n",
       "      <td>0</td>\n",
       "      <td>Cash loans</td>\n",
       "      <td>M</td>\n",
       "      <td>N</td>\n",
       "      <td>Y</td>\n",
       "      <td>0</td>\n",
       "      <td>121500.0</td>\n",
       "      <td>513000.0</td>\n",
       "      <td>21865.5</td>\n",
       "      <td>...</td>\n",
       "      <td>0</td>\n",
       "      <td>0</td>\n",
       "      <td>0</td>\n",
       "      <td>0</td>\n",
       "      <td>0.0</td>\n",
       "      <td>0.0</td>\n",
       "      <td>0.0</td>\n",
       "      <td>0.0</td>\n",
       "      <td>0.0</td>\n",
       "      <td>0.0</td>\n",
       "    </tr>\n",
       "    <tr>\n",
       "      <th>...</th>\n",
       "      <td>...</td>\n",
       "      <td>...</td>\n",
       "      <td>...</td>\n",
       "      <td>...</td>\n",
       "      <td>...</td>\n",
       "      <td>...</td>\n",
       "      <td>...</td>\n",
       "      <td>...</td>\n",
       "      <td>...</td>\n",
       "      <td>...</td>\n",
       "      <td>...</td>\n",
       "      <td>...</td>\n",
       "      <td>...</td>\n",
       "      <td>...</td>\n",
       "      <td>...</td>\n",
       "      <td>...</td>\n",
       "      <td>...</td>\n",
       "      <td>...</td>\n",
       "      <td>...</td>\n",
       "      <td>...</td>\n",
       "      <td>...</td>\n",
       "    </tr>\n",
       "    <tr>\n",
       "      <th>307506</th>\n",
       "      <td>456251</td>\n",
       "      <td>0</td>\n",
       "      <td>Cash loans</td>\n",
       "      <td>M</td>\n",
       "      <td>N</td>\n",
       "      <td>N</td>\n",
       "      <td>0</td>\n",
       "      <td>157500.0</td>\n",
       "      <td>254700.0</td>\n",
       "      <td>27558.0</td>\n",
       "      <td>...</td>\n",
       "      <td>0</td>\n",
       "      <td>0</td>\n",
       "      <td>0</td>\n",
       "      <td>0</td>\n",
       "      <td>NaN</td>\n",
       "      <td>NaN</td>\n",
       "      <td>NaN</td>\n",
       "      <td>NaN</td>\n",
       "      <td>NaN</td>\n",
       "      <td>NaN</td>\n",
       "    </tr>\n",
       "    <tr>\n",
       "      <th>307507</th>\n",
       "      <td>456252</td>\n",
       "      <td>0</td>\n",
       "      <td>Cash loans</td>\n",
       "      <td>F</td>\n",
       "      <td>N</td>\n",
       "      <td>Y</td>\n",
       "      <td>0</td>\n",
       "      <td>72000.0</td>\n",
       "      <td>269550.0</td>\n",
       "      <td>12001.5</td>\n",
       "      <td>...</td>\n",
       "      <td>0</td>\n",
       "      <td>0</td>\n",
       "      <td>0</td>\n",
       "      <td>0</td>\n",
       "      <td>NaN</td>\n",
       "      <td>NaN</td>\n",
       "      <td>NaN</td>\n",
       "      <td>NaN</td>\n",
       "      <td>NaN</td>\n",
       "      <td>NaN</td>\n",
       "    </tr>\n",
       "    <tr>\n",
       "      <th>307508</th>\n",
       "      <td>456253</td>\n",
       "      <td>0</td>\n",
       "      <td>Cash loans</td>\n",
       "      <td>F</td>\n",
       "      <td>N</td>\n",
       "      <td>Y</td>\n",
       "      <td>0</td>\n",
       "      <td>153000.0</td>\n",
       "      <td>677664.0</td>\n",
       "      <td>29979.0</td>\n",
       "      <td>...</td>\n",
       "      <td>0</td>\n",
       "      <td>0</td>\n",
       "      <td>0</td>\n",
       "      <td>0</td>\n",
       "      <td>1.0</td>\n",
       "      <td>0.0</td>\n",
       "      <td>0.0</td>\n",
       "      <td>1.0</td>\n",
       "      <td>0.0</td>\n",
       "      <td>1.0</td>\n",
       "    </tr>\n",
       "    <tr>\n",
       "      <th>307509</th>\n",
       "      <td>456254</td>\n",
       "      <td>1</td>\n",
       "      <td>Cash loans</td>\n",
       "      <td>F</td>\n",
       "      <td>N</td>\n",
       "      <td>Y</td>\n",
       "      <td>0</td>\n",
       "      <td>171000.0</td>\n",
       "      <td>370107.0</td>\n",
       "      <td>20205.0</td>\n",
       "      <td>...</td>\n",
       "      <td>0</td>\n",
       "      <td>0</td>\n",
       "      <td>0</td>\n",
       "      <td>0</td>\n",
       "      <td>0.0</td>\n",
       "      <td>0.0</td>\n",
       "      <td>0.0</td>\n",
       "      <td>0.0</td>\n",
       "      <td>0.0</td>\n",
       "      <td>0.0</td>\n",
       "    </tr>\n",
       "    <tr>\n",
       "      <th>307510</th>\n",
       "      <td>456255</td>\n",
       "      <td>0</td>\n",
       "      <td>Cash loans</td>\n",
       "      <td>F</td>\n",
       "      <td>N</td>\n",
       "      <td>N</td>\n",
       "      <td>0</td>\n",
       "      <td>157500.0</td>\n",
       "      <td>675000.0</td>\n",
       "      <td>49117.5</td>\n",
       "      <td>...</td>\n",
       "      <td>0</td>\n",
       "      <td>0</td>\n",
       "      <td>0</td>\n",
       "      <td>0</td>\n",
       "      <td>0.0</td>\n",
       "      <td>0.0</td>\n",
       "      <td>0.0</td>\n",
       "      <td>2.0</td>\n",
       "      <td>0.0</td>\n",
       "      <td>1.0</td>\n",
       "    </tr>\n",
       "  </tbody>\n",
       "</table>\n",
       "<p>307511 rows × 122 columns</p>\n",
       "</div>"
      ],
      "text/plain": [
       "        SK_ID_CURR  TARGET NAME_CONTRACT_TYPE CODE_GENDER FLAG_OWN_CAR  \\\n",
       "0           100002       1         Cash loans           M            N   \n",
       "1           100003       0         Cash loans           F            N   \n",
       "2           100004       0    Revolving loans           M            Y   \n",
       "3           100006       0         Cash loans           F            N   \n",
       "4           100007       0         Cash loans           M            N   \n",
       "...            ...     ...                ...         ...          ...   \n",
       "307506      456251       0         Cash loans           M            N   \n",
       "307507      456252       0         Cash loans           F            N   \n",
       "307508      456253       0         Cash loans           F            N   \n",
       "307509      456254       1         Cash loans           F            N   \n",
       "307510      456255       0         Cash loans           F            N   \n",
       "\n",
       "       FLAG_OWN_REALTY  CNT_CHILDREN  AMT_INCOME_TOTAL  AMT_CREDIT  \\\n",
       "0                    Y             0          202500.0    406597.5   \n",
       "1                    N             0          270000.0   1293502.5   \n",
       "2                    Y             0           67500.0    135000.0   \n",
       "3                    Y             0          135000.0    312682.5   \n",
       "4                    Y             0          121500.0    513000.0   \n",
       "...                ...           ...               ...         ...   \n",
       "307506               N             0          157500.0    254700.0   \n",
       "307507               Y             0           72000.0    269550.0   \n",
       "307508               Y             0          153000.0    677664.0   \n",
       "307509               Y             0          171000.0    370107.0   \n",
       "307510               N             0          157500.0    675000.0   \n",
       "\n",
       "        AMT_ANNUITY  ...  FLAG_DOCUMENT_18 FLAG_DOCUMENT_19 FLAG_DOCUMENT_20  \\\n",
       "0           24700.5  ...                 0                0                0   \n",
       "1           35698.5  ...                 0                0                0   \n",
       "2            6750.0  ...                 0                0                0   \n",
       "3           29686.5  ...                 0                0                0   \n",
       "4           21865.5  ...                 0                0                0   \n",
       "...             ...  ...               ...              ...              ...   \n",
       "307506      27558.0  ...                 0                0                0   \n",
       "307507      12001.5  ...                 0                0                0   \n",
       "307508      29979.0  ...                 0                0                0   \n",
       "307509      20205.0  ...                 0                0                0   \n",
       "307510      49117.5  ...                 0                0                0   \n",
       "\n",
       "       FLAG_DOCUMENT_21 AMT_REQ_CREDIT_BUREAU_HOUR AMT_REQ_CREDIT_BUREAU_DAY  \\\n",
       "0                     0                        0.0                       0.0   \n",
       "1                     0                        0.0                       0.0   \n",
       "2                     0                        0.0                       0.0   \n",
       "3                     0                        NaN                       NaN   \n",
       "4                     0                        0.0                       0.0   \n",
       "...                 ...                        ...                       ...   \n",
       "307506                0                        NaN                       NaN   \n",
       "307507                0                        NaN                       NaN   \n",
       "307508                0                        1.0                       0.0   \n",
       "307509                0                        0.0                       0.0   \n",
       "307510                0                        0.0                       0.0   \n",
       "\n",
       "        AMT_REQ_CREDIT_BUREAU_WEEK  AMT_REQ_CREDIT_BUREAU_MON  \\\n",
       "0                              0.0                        0.0   \n",
       "1                              0.0                        0.0   \n",
       "2                              0.0                        0.0   \n",
       "3                              NaN                        NaN   \n",
       "4                              0.0                        0.0   \n",
       "...                            ...                        ...   \n",
       "307506                         NaN                        NaN   \n",
       "307507                         NaN                        NaN   \n",
       "307508                         0.0                        1.0   \n",
       "307509                         0.0                        0.0   \n",
       "307510                         0.0                        2.0   \n",
       "\n",
       "        AMT_REQ_CREDIT_BUREAU_QRT  AMT_REQ_CREDIT_BUREAU_YEAR  \n",
       "0                             0.0                         1.0  \n",
       "1                             0.0                         0.0  \n",
       "2                             0.0                         0.0  \n",
       "3                             NaN                         NaN  \n",
       "4                             0.0                         0.0  \n",
       "...                           ...                         ...  \n",
       "307506                        NaN                         NaN  \n",
       "307507                        NaN                         NaN  \n",
       "307508                        0.0                         1.0  \n",
       "307509                        0.0                         0.0  \n",
       "307510                        0.0                         1.0  \n",
       "\n",
       "[307511 rows x 122 columns]"
      ]
     },
     "execution_count": 4,
     "metadata": {},
     "output_type": "execute_result"
    }
   ],
   "source": [
    "role = get_execution_role() \n",
    "\n",
    "data_key_train = 'application_train.csv' \n",
    "data_location_train = 's3://{}/{}'.format(bucket, data_key_train) \n",
    "\n",
    "a_train = pd.read_csv(data_location_train) \n",
    "a_train"
   ]
  },
  {
   "cell_type": "code",
   "execution_count": 5,
   "id": "fccb97db",
   "metadata": {},
   "outputs": [
    {
     "data": {
      "text/plain": [
       "(307511, 122)"
      ]
     },
     "execution_count": 5,
     "metadata": {},
     "output_type": "execute_result"
    }
   ],
   "source": [
    "a_train.shape"
   ]
  },
  {
   "cell_type": "code",
   "execution_count": 6,
   "id": "e4715593",
   "metadata": {},
   "outputs": [
    {
     "data": {
      "text/plain": [
       "0    282686\n",
       "1     24825\n",
       "Name: TARGET, dtype: int64"
      ]
     },
     "execution_count": 6,
     "metadata": {},
     "output_type": "execute_result"
    }
   ],
   "source": [
    "a_train['TARGET'].value_counts()"
   ]
  },
  {
   "cell_type": "code",
   "execution_count": 7,
   "id": "ea025845",
   "metadata": {},
   "outputs": [
    {
     "data": {
      "text/plain": [
       "<AxesSubplot:xlabel='TARGET', ylabel='count'>"
      ]
     },
     "execution_count": 7,
     "metadata": {},
     "output_type": "execute_result"
    },
    {
     "data": {
      "image/png": "[encoded data removed]",
      "text/plain": [
       "<Figure size 432x288 with 1 Axes>"
      ]
     },
     "metadata": {
      "needs_background": "light"
     },
     "output_type": "display_data"
    }
   ],
   "source": [
    "sns.countplot(x='TARGET',data=a_train)"
   ]
  },
  {
   "cell_type": "code",
   "execution_count": 8,
   "id": "262e8075",
   "metadata": {},
   "outputs": [],
   "source": [
    "#prefix = 'EDA/a_test'"
   ]
  },
  {
   "cell_type": "code",
   "execution_count": 9,
   "id": "dc5b749a",
   "metadata": {},
   "outputs": [
    {
     "data": {
      "text/html": [
       "<div>\n",
       "<style scoped>\n",
       "    .dataframe tbody tr th:only-of-type {\n",
       "        vertical-align: middle;\n",
       "    }\n",
       "\n",
       "    .dataframe tbody tr th {\n",
       "        vertical-align: top;\n",
       "    }\n",
       "\n",
       "    .dataframe thead th {\n",
       "        text-align: right;\n",
       "    }\n",
       "</style>\n",
       "<table border=\"1\" class=\"dataframe\">\n",
       "  <thead>\n",
       "    <tr style=\"text-align: right;\">\n",
       "      <th></th>\n",
       "      <th>SK_ID_CURR</th>\n",
       "      <th>NAME_CONTRACT_TYPE</th>\n",
       "      <th>CODE_GENDER</th>\n",
       "      <th>FLAG_OWN_CAR</th>\n",
       "      <th>FLAG_OWN_REALTY</th>\n",
       "      <th>CNT_CHILDREN</th>\n",
       "      <th>AMT_INCOME_TOTAL</th>\n",
       "      <th>AMT_CREDIT</th>\n",
       "      <th>AMT_ANNUITY</th>\n",
       "      <th>AMT_GOODS_PRICE</th>\n",
       "      <th>...</th>\n",
       "      <th>FLAG_DOCUMENT_18</th>\n",
       "      <th>FLAG_DOCUMENT_19</th>\n",
       "      <th>FLAG_DOCUMENT_20</th>\n",
       "      <th>FLAG_DOCUMENT_21</th>\n",
       "      <th>AMT_REQ_CREDIT_BUREAU_HOUR</th>\n",
       "      <th>AMT_REQ_CREDIT_BUREAU_DAY</th>\n",
       "      <th>AMT_REQ_CREDIT_BUREAU_WEEK</th>\n",
       "      <th>AMT_REQ_CREDIT_BUREAU_MON</th>\n",
       "      <th>AMT_REQ_CREDIT_BUREAU_QRT</th>\n",
       "      <th>AMT_REQ_CREDIT_BUREAU_YEAR</th>\n",
       "    </tr>\n",
       "  </thead>\n",
       "  <tbody>\n",
       "    <tr>\n",
       "      <th>0</th>\n",
       "      <td>100001</td>\n",
       "      <td>Cash loans</td>\n",
       "      <td>F</td>\n",
       "      <td>N</td>\n",
       "      <td>Y</td>\n",
       "      <td>0</td>\n",
       "      <td>135000.0</td>\n",
       "      <td>568800.0</td>\n",
       "      <td>20560.5</td>\n",
       "      <td>450000.0</td>\n",
       "      <td>...</td>\n",
       "      <td>0</td>\n",
       "      <td>0</td>\n",
       "      <td>0</td>\n",
       "      <td>0</td>\n",
       "      <td>0.0</td>\n",
       "      <td>0.0</td>\n",
       "      <td>0.0</td>\n",
       "      <td>0.0</td>\n",
       "      <td>0.0</td>\n",
       "      <td>0.0</td>\n",
       "    </tr>\n",
       "    <tr>\n",
       "      <th>1</th>\n",
       "      <td>100005</td>\n",
       "      <td>Cash loans</td>\n",
       "      <td>M</td>\n",
       "      <td>N</td>\n",
       "      <td>Y</td>\n",
       "      <td>0</td>\n",
       "      <td>99000.0</td>\n",
       "      <td>222768.0</td>\n",
       "      <td>17370.0</td>\n",
       "      <td>180000.0</td>\n",
       "      <td>...</td>\n",
       "      <td>0</td>\n",
       "      <td>0</td>\n",
       "      <td>0</td>\n",
       "      <td>0</td>\n",
       "      <td>0.0</td>\n",
       "      <td>0.0</td>\n",
       "      <td>0.0</td>\n",
       "      <td>0.0</td>\n",
       "      <td>0.0</td>\n",
       "      <td>3.0</td>\n",
       "    </tr>\n",
       "    <tr>\n",
       "      <th>2</th>\n",
       "      <td>100013</td>\n",
       "      <td>Cash loans</td>\n",
       "      <td>M</td>\n",
       "      <td>Y</td>\n",
       "      <td>Y</td>\n",
       "      <td>0</td>\n",
       "      <td>202500.0</td>\n",
       "      <td>663264.0</td>\n",
       "      <td>69777.0</td>\n",
       "      <td>630000.0</td>\n",
       "      <td>...</td>\n",
       "      <td>0</td>\n",
       "      <td>0</td>\n",
       "      <td>0</td>\n",
       "      <td>0</td>\n",
       "      <td>0.0</td>\n",
       "      <td>0.0</td>\n",
       "      <td>0.0</td>\n",
       "      <td>0.0</td>\n",
       "      <td>1.0</td>\n",
       "      <td>4.0</td>\n",
       "    </tr>\n",
       "    <tr>\n",
       "      <th>3</th>\n",
       "      <td>100028</td>\n",
       "      <td>Cash loans</td>\n",
       "      <td>F</td>\n",
       "      <td>N</td>\n",
       "      <td>Y</td>\n",
       "      <td>2</td>\n",
       "      <td>315000.0</td>\n",
       "      <td>1575000.0</td>\n",
       "      <td>49018.5</td>\n",
       "      <td>1575000.0</td>\n",
       "      <td>...</td>\n",
       "      <td>0</td>\n",
       "      <td>0</td>\n",
       "      <td>0</td>\n",
       "      <td>0</td>\n",
       "      <td>0.0</td>\n",
       "      <td>0.0</td>\n",
       "      <td>0.0</td>\n",
       "      <td>0.0</td>\n",
       "      <td>0.0</td>\n",
       "      <td>3.0</td>\n",
       "    </tr>\n",
       "    <tr>\n",
       "      <th>4</th>\n",
       "      <td>100038</td>\n",
       "      <td>Cash loans</td>\n",
       "      <td>M</td>\n",
       "      <td>Y</td>\n",
       "      <td>N</td>\n",
       "      <td>1</td>\n",
       "      <td>180000.0</td>\n",
       "      <td>625500.0</td>\n",
       "      <td>32067.0</td>\n",
       "      <td>625500.0</td>\n",
       "      <td>...</td>\n",
       "      <td>0</td>\n",
       "      <td>0</td>\n",
       "      <td>0</td>\n",
       "      <td>0</td>\n",
       "      <td>NaN</td>\n",
       "      <td>NaN</td>\n",
       "      <td>NaN</td>\n",
       "      <td>NaN</td>\n",
       "      <td>NaN</td>\n",
       "      <td>NaN</td>\n",
       "    </tr>\n",
       "    <tr>\n",
       "      <th>...</th>\n",
       "      <td>...</td>\n",
       "      <td>...</td>\n",
       "      <td>...</td>\n",
       "      <td>...</td>\n",
       "      <td>...</td>\n",
       "      <td>...</td>\n",
       "      <td>...</td>\n",
       "      <td>...</td>\n",
       "      <td>...</td>\n",
       "      <td>...</td>\n",
       "      <td>...</td>\n",
       "      <td>...</td>\n",
       "      <td>...</td>\n",
       "      <td>...</td>\n",
       "      <td>...</td>\n",
       "      <td>...</td>\n",
       "      <td>...</td>\n",
       "      <td>...</td>\n",
       "      <td>...</td>\n",
       "      <td>...</td>\n",
       "      <td>...</td>\n",
       "    </tr>\n",
       "    <tr>\n",
       "      <th>48739</th>\n",
       "      <td>456221</td>\n",
       "      <td>Cash loans</td>\n",
       "      <td>F</td>\n",
       "      <td>N</td>\n",
       "      <td>Y</td>\n",
       "      <td>0</td>\n",
       "      <td>121500.0</td>\n",
       "      <td>412560.0</td>\n",
       "      <td>17473.5</td>\n",
       "      <td>270000.0</td>\n",
       "      <td>...</td>\n",
       "      <td>0</td>\n",
       "      <td>0</td>\n",
       "      <td>0</td>\n",
       "      <td>0</td>\n",
       "      <td>0.0</td>\n",
       "      <td>0.0</td>\n",
       "      <td>0.0</td>\n",
       "      <td>0.0</td>\n",
       "      <td>0.0</td>\n",
       "      <td>1.0</td>\n",
       "    </tr>\n",
       "    <tr>\n",
       "      <th>48740</th>\n",
       "      <td>456222</td>\n",
       "      <td>Cash loans</td>\n",
       "      <td>F</td>\n",
       "      <td>N</td>\n",
       "      <td>N</td>\n",
       "      <td>2</td>\n",
       "      <td>157500.0</td>\n",
       "      <td>622413.0</td>\n",
       "      <td>31909.5</td>\n",
       "      <td>495000.0</td>\n",
       "      <td>...</td>\n",
       "      <td>0</td>\n",
       "      <td>0</td>\n",
       "      <td>0</td>\n",
       "      <td>0</td>\n",
       "      <td>NaN</td>\n",
       "      <td>NaN</td>\n",
       "      <td>NaN</td>\n",
       "      <td>NaN</td>\n",
       "      <td>NaN</td>\n",
       "      <td>NaN</td>\n",
       "    </tr>\n",
       "    <tr>\n",
       "      <th>48741</th>\n",
       "      <td>456223</td>\n",
       "      <td>Cash loans</td>\n",
       "      <td>F</td>\n",
       "      <td>Y</td>\n",
       "      <td>Y</td>\n",
       "      <td>1</td>\n",
       "      <td>202500.0</td>\n",
       "      <td>315000.0</td>\n",
       "      <td>33205.5</td>\n",
       "      <td>315000.0</td>\n",
       "      <td>...</td>\n",
       "      <td>0</td>\n",
       "      <td>0</td>\n",
       "      <td>0</td>\n",
       "      <td>0</td>\n",
       "      <td>0.0</td>\n",
       "      <td>0.0</td>\n",
       "      <td>0.0</td>\n",
       "      <td>0.0</td>\n",
       "      <td>3.0</td>\n",
       "      <td>1.0</td>\n",
       "    </tr>\n",
       "    <tr>\n",
       "      <th>48742</th>\n",
       "      <td>456224</td>\n",
       "      <td>Cash loans</td>\n",
       "      <td>M</td>\n",
       "      <td>N</td>\n",
       "      <td>N</td>\n",
       "      <td>0</td>\n",
       "      <td>225000.0</td>\n",
       "      <td>450000.0</td>\n",
       "      <td>25128.0</td>\n",
       "      <td>450000.0</td>\n",
       "      <td>...</td>\n",
       "      <td>0</td>\n",
       "      <td>0</td>\n",
       "      <td>0</td>\n",
       "      <td>0</td>\n",
       "      <td>0.0</td>\n",
       "      <td>0.0</td>\n",
       "      <td>0.0</td>\n",
       "      <td>0.0</td>\n",
       "      <td>0.0</td>\n",
       "      <td>2.0</td>\n",
       "    </tr>\n",
       "    <tr>\n",
       "      <th>48743</th>\n",
       "      <td>456250</td>\n",
       "      <td>Cash loans</td>\n",
       "      <td>F</td>\n",
       "      <td>Y</td>\n",
       "      <td>N</td>\n",
       "      <td>0</td>\n",
       "      <td>135000.0</td>\n",
       "      <td>312768.0</td>\n",
       "      <td>24709.5</td>\n",
       "      <td>270000.0</td>\n",
       "      <td>...</td>\n",
       "      <td>0</td>\n",
       "      <td>0</td>\n",
       "      <td>0</td>\n",
       "      <td>0</td>\n",
       "      <td>0.0</td>\n",
       "      <td>0.0</td>\n",
       "      <td>0.0</td>\n",
       "      <td>0.0</td>\n",
       "      <td>1.0</td>\n",
       "      <td>4.0</td>\n",
       "    </tr>\n",
       "  </tbody>\n",
       "</table>\n",
       "<p>48744 rows × 121 columns</p>\n",
       "</div>"
      ],
      "text/plain": [
       "       SK_ID_CURR NAME_CONTRACT_TYPE CODE_GENDER FLAG_OWN_CAR FLAG_OWN_REALTY  \\\n",
       "0          100001         Cash loans           F            N               Y   \n",
       "1          100005         Cash loans           M            N               Y   \n",
       "2          100013         Cash loans           M            Y               Y   \n",
       "3          100028         Cash loans           F            N               Y   \n",
       "4          100038         Cash loans           M            Y               N   \n",
       "...           ...                ...         ...          ...             ...   \n",
       "48739      456221         Cash loans           F            N               Y   \n",
       "48740      456222         Cash loans           F            N               N   \n",
       "48741      456223         Cash loans           F            Y               Y   \n",
       "48742      456224         Cash loans           M            N               N   \n",
       "48743      456250         Cash loans           F            Y               N   \n",
       "\n",
       "       CNT_CHILDREN  AMT_INCOME_TOTAL  AMT_CREDIT  AMT_ANNUITY  \\\n",
       "0                 0          135000.0    568800.0      20560.5   \n",
       "1                 0           99000.0    222768.0      17370.0   \n",
       "2                 0          202500.0    663264.0      69777.0   \n",
       "3                 2          315000.0   1575000.0      49018.5   \n",
       "4                 1          180000.0    625500.0      32067.0   \n",
       "...             ...               ...         ...          ...   \n",
       "48739             0          121500.0    412560.0      17473.5   \n",
       "48740             2          157500.0    622413.0      31909.5   \n",
       "48741             1          202500.0    315000.0      33205.5   \n",
       "48742             0          225000.0    450000.0      25128.0   \n",
       "48743             0          135000.0    312768.0      24709.5   \n",
       "\n",
       "       AMT_GOODS_PRICE  ... FLAG_DOCUMENT_18 FLAG_DOCUMENT_19  \\\n",
       "0             450000.0  ...                0                0   \n",
       "1             180000.0  ...                0                0   \n",
       "2             630000.0  ...                0                0   \n",
       "3            1575000.0  ...                0                0   \n",
       "4             625500.0  ...                0                0   \n",
       "...                ...  ...              ...              ...   \n",
       "48739         270000.0  ...                0                0   \n",
       "48740         495000.0  ...                0                0   \n",
       "48741         315000.0  ...                0                0   \n",
       "48742         450000.0  ...                0                0   \n",
       "48743         270000.0  ...                0                0   \n",
       "\n",
       "      FLAG_DOCUMENT_20 FLAG_DOCUMENT_21 AMT_REQ_CREDIT_BUREAU_HOUR  \\\n",
       "0                    0                0                        0.0   \n",
       "1                    0                0                        0.0   \n",
       "2                    0                0                        0.0   \n",
       "3                    0                0                        0.0   \n",
       "4                    0                0                        NaN   \n",
       "...                ...              ...                        ...   \n",
       "48739                0                0                        0.0   \n",
       "48740                0                0                        NaN   \n",
       "48741                0                0                        0.0   \n",
       "48742                0                0                        0.0   \n",
       "48743                0                0                        0.0   \n",
       "\n",
       "       AMT_REQ_CREDIT_BUREAU_DAY  AMT_REQ_CREDIT_BUREAU_WEEK  \\\n",
       "0                            0.0                         0.0   \n",
       "1                            0.0                         0.0   \n",
       "2                            0.0                         0.0   \n",
       "3                            0.0                         0.0   \n",
       "4                            NaN                         NaN   \n",
       "...                          ...                         ...   \n",
       "48739                        0.0                         0.0   \n",
       "48740                        NaN                         NaN   \n",
       "48741                        0.0                         0.0   \n",
       "48742                        0.0                         0.0   \n",
       "48743                        0.0                         0.0   \n",
       "\n",
       "       AMT_REQ_CREDIT_BUREAU_MON  AMT_REQ_CREDIT_BUREAU_QRT  \\\n",
       "0                            0.0                        0.0   \n",
       "1                            0.0                        0.0   \n",
       "2                            0.0                        1.0   \n",
       "3                            0.0                        0.0   \n",
       "4                            NaN                        NaN   \n",
       "...                          ...                        ...   \n",
       "48739                        0.0                        0.0   \n",
       "48740                        NaN                        NaN   \n",
       "48741                        0.0                        3.0   \n",
       "48742                        0.0                        0.0   \n",
       "48743                        0.0                        1.0   \n",
       "\n",
       "       AMT_REQ_CREDIT_BUREAU_YEAR  \n",
       "0                             0.0  \n",
       "1                             3.0  \n",
       "2                             4.0  \n",
       "3                             3.0  \n",
       "4                             NaN  \n",
       "...                           ...  \n",
       "48739                         1.0  \n",
       "48740                         NaN  \n",
       "48741                         1.0  \n",
       "48742                         2.0  \n",
       "48743                         4.0  \n",
       "\n",
       "[48744 rows x 121 columns]"
      ]
     },
     "execution_count": 9,
     "metadata": {},
     "output_type": "execute_result"
    }
   ],
   "source": [
    "role = get_execution_role() \n",
    "\n",
    "data_key_test = 'application_test.csv' \n",
    "data_location_test = 's3://{}/{}'.format(bucket, data_key_test) \n",
    "\n",
    "a_test = pd.read_csv(data_location_test) \n",
    "a_test"
   ]
  },
  {
   "cell_type": "code",
   "execution_count": 10,
   "id": "9f8be756",
   "metadata": {},
   "outputs": [
    {
     "data": {
      "text/plain": [
       "(48744, 121)"
      ]
     },
     "execution_count": 10,
     "metadata": {},
     "output_type": "execute_result"
    }
   ],
   "source": [
    "a_test.shape"
   ]
  },
  {
   "cell_type": "code",
   "execution_count": 11,
   "id": "f1725ab2",
   "metadata": {},
   "outputs": [
    {
     "data": {
      "text/plain": [
       "float64    65\n",
       "int64      41\n",
       "object     16\n",
       "dtype: int64"
      ]
     },
     "execution_count": 11,
     "metadata": {},
     "output_type": "execute_result"
    }
   ],
   "source": [
    "a_train.dtypes.value_counts()"
   ]
  },
  {
   "cell_type": "code",
   "execution_count": 12,
   "id": "80a761fd",
   "metadata": {},
   "outputs": [
    {
     "data": {
      "text/plain": [
       "float64    65\n",
       "int64      40\n",
       "object     16\n",
       "dtype: int64"
      ]
     },
     "execution_count": 12,
     "metadata": {},
     "output_type": "execute_result"
    }
   ],
   "source": [
    "a_test.dtypes.value_counts()"
   ]
  },
  {
   "cell_type": "markdown",
   "id": "5edb33f3",
   "metadata": {},
   "source": [
    "## Examinando valores ausentes"
   ]
  },
  {
   "cell_type": "code",
   "execution_count": 13,
   "id": "53237867",
   "metadata": {},
   "outputs": [],
   "source": [
    "def missing_values_table(df):\n",
    "        # Total de valores faltantes\n",
    "        mis_val = df.isnull().sum()\n",
    "        \n",
    "        # Porcentagem de valores faltantes\n",
    "        mis_val_percent = 100 * df.isnull().sum() / len(df)\n",
    "        \n",
    "        # Fazendo uma tabela com valores faltantes\n",
    "        mis_val_table = pd.concat([mis_val, mis_val_percent], axis=1)\n",
    "        \n",
    "        # Renomeando as colunas\n",
    "        mis_val_table_ren_columns = mis_val_table.rename(\n",
    "        columns = {0 : 'Missing Values', 1 : '% of Total Values'})\n",
    "        \n",
    "        # Classificando a tabela por porcentagem de falta decrescente\n",
    "        mis_val_table_ren_columns = mis_val_table_ren_columns[\n",
    "            mis_val_table_ren_columns.iloc[:,1] != 0].sort_values(\n",
    "        '% of Total Values', ascending=False).round(1)\n",
    "        \n",
    "        # Imprimindo frase com um reumo geral das informações de dados ausentes\n",
    "        print (\"Your selected dataframe has \" + str(df.shape[1]) + \" columns.\\n\"      \n",
    "            \"There are \" + str(mis_val_table_ren_columns.shape[0]) +\n",
    "              \" columns that have missing values.\")\n",
    "        \n",
    "        # Retornar dataframe com informações ausentes\n",
    "        return mis_val_table_ren_columns"
   ]
  },
  {
   "cell_type": "code",
   "execution_count": 14,
   "id": "21f60726",
   "metadata": {},
   "outputs": [
    {
     "name": "stdout",
     "output_type": "stream",
     "text": [
      "Your selected dataframe has 122 columns.\n",
      "There are 67 columns that have missing values.\n"
     ]
    },
    {
     "data": {
      "text/html": [
       "<div>\n",
       "<style scoped>\n",
       "    .dataframe tbody tr th:only-of-type {\n",
       "        vertical-align: middle;\n",
       "    }\n",
       "\n",
       "    .dataframe tbody tr th {\n",
       "        vertical-align: top;\n",
       "    }\n",
       "\n",
       "    .dataframe thead th {\n",
       "        text-align: right;\n",
       "    }\n",
       "</style>\n",
       "<table border=\"1\" class=\"dataframe\">\n",
       "  <thead>\n",
       "    <tr style=\"text-align: right;\">\n",
       "      <th></th>\n",
       "      <th>Missing Values</th>\n",
       "      <th>% of Total Values</th>\n",
       "    </tr>\n",
       "  </thead>\n",
       "  <tbody>\n",
       "    <tr>\n",
       "      <th>COMMONAREA_MEDI</th>\n",
       "      <td>214865</td>\n",
       "      <td>69.9</td>\n",
       "    </tr>\n",
       "    <tr>\n",
       "      <th>COMMONAREA_AVG</th>\n",
       "      <td>214865</td>\n",
       "      <td>69.9</td>\n",
       "    </tr>\n",
       "    <tr>\n",
       "      <th>COMMONAREA_MODE</th>\n",
       "      <td>214865</td>\n",
       "      <td>69.9</td>\n",
       "    </tr>\n",
       "    <tr>\n",
       "      <th>NONLIVINGAPARTMENTS_MEDI</th>\n",
       "      <td>213514</td>\n",
       "      <td>69.4</td>\n",
       "    </tr>\n",
       "    <tr>\n",
       "      <th>NONLIVINGAPARTMENTS_MODE</th>\n",
       "      <td>213514</td>\n",
       "      <td>69.4</td>\n",
       "    </tr>\n",
       "    <tr>\n",
       "      <th>NONLIVINGAPARTMENTS_AVG</th>\n",
       "      <td>213514</td>\n",
       "      <td>69.4</td>\n",
       "    </tr>\n",
       "    <tr>\n",
       "      <th>FONDKAPREMONT_MODE</th>\n",
       "      <td>210295</td>\n",
       "      <td>68.4</td>\n",
       "    </tr>\n",
       "    <tr>\n",
       "      <th>LIVINGAPARTMENTS_MODE</th>\n",
       "      <td>210199</td>\n",
       "      <td>68.4</td>\n",
       "    </tr>\n",
       "    <tr>\n",
       "      <th>LIVINGAPARTMENTS_MEDI</th>\n",
       "      <td>210199</td>\n",
       "      <td>68.4</td>\n",
       "    </tr>\n",
       "    <tr>\n",
       "      <th>LIVINGAPARTMENTS_AVG</th>\n",
       "      <td>210199</td>\n",
       "      <td>68.4</td>\n",
       "    </tr>\n",
       "    <tr>\n",
       "      <th>FLOORSMIN_MODE</th>\n",
       "      <td>208642</td>\n",
       "      <td>67.8</td>\n",
       "    </tr>\n",
       "    <tr>\n",
       "      <th>FLOORSMIN_MEDI</th>\n",
       "      <td>208642</td>\n",
       "      <td>67.8</td>\n",
       "    </tr>\n",
       "    <tr>\n",
       "      <th>FLOORSMIN_AVG</th>\n",
       "      <td>208642</td>\n",
       "      <td>67.8</td>\n",
       "    </tr>\n",
       "    <tr>\n",
       "      <th>YEARS_BUILD_MODE</th>\n",
       "      <td>204488</td>\n",
       "      <td>66.5</td>\n",
       "    </tr>\n",
       "    <tr>\n",
       "      <th>YEARS_BUILD_MEDI</th>\n",
       "      <td>204488</td>\n",
       "      <td>66.5</td>\n",
       "    </tr>\n",
       "    <tr>\n",
       "      <th>YEARS_BUILD_AVG</th>\n",
       "      <td>204488</td>\n",
       "      <td>66.5</td>\n",
       "    </tr>\n",
       "    <tr>\n",
       "      <th>OWN_CAR_AGE</th>\n",
       "      <td>202929</td>\n",
       "      <td>66.0</td>\n",
       "    </tr>\n",
       "    <tr>\n",
       "      <th>LANDAREA_AVG</th>\n",
       "      <td>182590</td>\n",
       "      <td>59.4</td>\n",
       "    </tr>\n",
       "    <tr>\n",
       "      <th>LANDAREA_MEDI</th>\n",
       "      <td>182590</td>\n",
       "      <td>59.4</td>\n",
       "    </tr>\n",
       "    <tr>\n",
       "      <th>LANDAREA_MODE</th>\n",
       "      <td>182590</td>\n",
       "      <td>59.4</td>\n",
       "    </tr>\n",
       "  </tbody>\n",
       "</table>\n",
       "</div>"
      ],
      "text/plain": [
       "                          Missing Values  % of Total Values\n",
       "COMMONAREA_MEDI                   214865               69.9\n",
       "COMMONAREA_AVG                    214865               69.9\n",
       "COMMONAREA_MODE                   214865               69.9\n",
       "NONLIVINGAPARTMENTS_MEDI          213514               69.4\n",
       "NONLIVINGAPARTMENTS_MODE          213514               69.4\n",
       "NONLIVINGAPARTMENTS_AVG           213514               69.4\n",
       "FONDKAPREMONT_MODE                210295               68.4\n",
       "LIVINGAPARTMENTS_MODE             210199               68.4\n",
       "LIVINGAPARTMENTS_MEDI             210199               68.4\n",
       "LIVINGAPARTMENTS_AVG              210199               68.4\n",
       "FLOORSMIN_MODE                    208642               67.8\n",
       "FLOORSMIN_MEDI                    208642               67.8\n",
       "FLOORSMIN_AVG                     208642               67.8\n",
       "YEARS_BUILD_MODE                  204488               66.5\n",
       "YEARS_BUILD_MEDI                  204488               66.5\n",
       "YEARS_BUILD_AVG                   204488               66.5\n",
       "OWN_CAR_AGE                       202929               66.0\n",
       "LANDAREA_AVG                      182590               59.4\n",
       "LANDAREA_MEDI                     182590               59.4\n",
       "LANDAREA_MODE                     182590               59.4"
      ]
     },
     "execution_count": 14,
     "metadata": {},
     "output_type": "execute_result"
    }
   ],
   "source": [
    "# Missing values statistics\n",
    "missing_values = missing_values_table(a_train)\n",
    "missing_values.head(20)"
   ]
  },
  {
   "cell_type": "code",
   "execution_count": 15,
   "id": "8a90c965",
   "metadata": {},
   "outputs": [
    {
     "name": "stdout",
     "output_type": "stream",
     "text": [
      "Your selected dataframe has 121 columns.\n",
      "There are 64 columns that have missing values.\n"
     ]
    },
    {
     "data": {
      "text/html": [
       "<div>\n",
       "<style scoped>\n",
       "    .dataframe tbody tr th:only-of-type {\n",
       "        vertical-align: middle;\n",
       "    }\n",
       "\n",
       "    .dataframe tbody tr th {\n",
       "        vertical-align: top;\n",
       "    }\n",
       "\n",
       "    .dataframe thead th {\n",
       "        text-align: right;\n",
       "    }\n",
       "</style>\n",
       "<table border=\"1\" class=\"dataframe\">\n",
       "  <thead>\n",
       "    <tr style=\"text-align: right;\">\n",
       "      <th></th>\n",
       "      <th>Missing Values</th>\n",
       "      <th>% of Total Values</th>\n",
       "    </tr>\n",
       "  </thead>\n",
       "  <tbody>\n",
       "    <tr>\n",
       "      <th>COMMONAREA_MODE</th>\n",
       "      <td>33495</td>\n",
       "      <td>68.7</td>\n",
       "    </tr>\n",
       "    <tr>\n",
       "      <th>COMMONAREA_MEDI</th>\n",
       "      <td>33495</td>\n",
       "      <td>68.7</td>\n",
       "    </tr>\n",
       "    <tr>\n",
       "      <th>COMMONAREA_AVG</th>\n",
       "      <td>33495</td>\n",
       "      <td>68.7</td>\n",
       "    </tr>\n",
       "    <tr>\n",
       "      <th>NONLIVINGAPARTMENTS_MEDI</th>\n",
       "      <td>33347</td>\n",
       "      <td>68.4</td>\n",
       "    </tr>\n",
       "    <tr>\n",
       "      <th>NONLIVINGAPARTMENTS_AVG</th>\n",
       "      <td>33347</td>\n",
       "      <td>68.4</td>\n",
       "    </tr>\n",
       "    <tr>\n",
       "      <th>NONLIVINGAPARTMENTS_MODE</th>\n",
       "      <td>33347</td>\n",
       "      <td>68.4</td>\n",
       "    </tr>\n",
       "    <tr>\n",
       "      <th>FONDKAPREMONT_MODE</th>\n",
       "      <td>32797</td>\n",
       "      <td>67.3</td>\n",
       "    </tr>\n",
       "    <tr>\n",
       "      <th>LIVINGAPARTMENTS_MODE</th>\n",
       "      <td>32780</td>\n",
       "      <td>67.2</td>\n",
       "    </tr>\n",
       "    <tr>\n",
       "      <th>LIVINGAPARTMENTS_MEDI</th>\n",
       "      <td>32780</td>\n",
       "      <td>67.2</td>\n",
       "    </tr>\n",
       "    <tr>\n",
       "      <th>LIVINGAPARTMENTS_AVG</th>\n",
       "      <td>32780</td>\n",
       "      <td>67.2</td>\n",
       "    </tr>\n",
       "    <tr>\n",
       "      <th>FLOORSMIN_MEDI</th>\n",
       "      <td>32466</td>\n",
       "      <td>66.6</td>\n",
       "    </tr>\n",
       "    <tr>\n",
       "      <th>FLOORSMIN_MODE</th>\n",
       "      <td>32466</td>\n",
       "      <td>66.6</td>\n",
       "    </tr>\n",
       "    <tr>\n",
       "      <th>FLOORSMIN_AVG</th>\n",
       "      <td>32466</td>\n",
       "      <td>66.6</td>\n",
       "    </tr>\n",
       "    <tr>\n",
       "      <th>OWN_CAR_AGE</th>\n",
       "      <td>32312</td>\n",
       "      <td>66.3</td>\n",
       "    </tr>\n",
       "    <tr>\n",
       "      <th>YEARS_BUILD_AVG</th>\n",
       "      <td>31818</td>\n",
       "      <td>65.3</td>\n",
       "    </tr>\n",
       "    <tr>\n",
       "      <th>YEARS_BUILD_MEDI</th>\n",
       "      <td>31818</td>\n",
       "      <td>65.3</td>\n",
       "    </tr>\n",
       "    <tr>\n",
       "      <th>YEARS_BUILD_MODE</th>\n",
       "      <td>31818</td>\n",
       "      <td>65.3</td>\n",
       "    </tr>\n",
       "    <tr>\n",
       "      <th>LANDAREA_MODE</th>\n",
       "      <td>28254</td>\n",
       "      <td>58.0</td>\n",
       "    </tr>\n",
       "    <tr>\n",
       "      <th>LANDAREA_AVG</th>\n",
       "      <td>28254</td>\n",
       "      <td>58.0</td>\n",
       "    </tr>\n",
       "    <tr>\n",
       "      <th>LANDAREA_MEDI</th>\n",
       "      <td>28254</td>\n",
       "      <td>58.0</td>\n",
       "    </tr>\n",
       "  </tbody>\n",
       "</table>\n",
       "</div>"
      ],
      "text/plain": [
       "                          Missing Values  % of Total Values\n",
       "COMMONAREA_MODE                    33495               68.7\n",
       "COMMONAREA_MEDI                    33495               68.7\n",
       "COMMONAREA_AVG                     33495               68.7\n",
       "NONLIVINGAPARTMENTS_MEDI           33347               68.4\n",
       "NONLIVINGAPARTMENTS_AVG            33347               68.4\n",
       "NONLIVINGAPARTMENTS_MODE           33347               68.4\n",
       "FONDKAPREMONT_MODE                 32797               67.3\n",
       "LIVINGAPARTMENTS_MODE              32780               67.2\n",
       "LIVINGAPARTMENTS_MEDI              32780               67.2\n",
       "LIVINGAPARTMENTS_AVG               32780               67.2\n",
       "FLOORSMIN_MEDI                     32466               66.6\n",
       "FLOORSMIN_MODE                     32466               66.6\n",
       "FLOORSMIN_AVG                      32466               66.6\n",
       "OWN_CAR_AGE                        32312               66.3\n",
       "YEARS_BUILD_AVG                    31818               65.3\n",
       "YEARS_BUILD_MEDI                   31818               65.3\n",
       "YEARS_BUILD_MODE                   31818               65.3\n",
       "LANDAREA_MODE                      28254               58.0\n",
       "LANDAREA_AVG                       28254               58.0\n",
       "LANDAREA_MEDI                      28254               58.0"
      ]
     },
     "execution_count": 15,
     "metadata": {},
     "output_type": "execute_result"
    }
   ],
   "source": [
    "# Missing values statistics\n",
    "missing_values = missing_values_table(a_test)\n",
    "missing_values.head(20)"
   ]
  },
  {
   "cell_type": "markdown",
   "id": "a300999d",
   "metadata": {},
   "source": [
    "## Analisando os tipos de dados presentes no dataframe"
   ]
  },
  {
   "cell_type": "code",
   "execution_count": 16,
   "id": "4c8e57ad",
   "metadata": {},
   "outputs": [
    {
     "data": {
      "text/plain": [
       "float64    65\n",
       "int64      41\n",
       "object     16\n",
       "dtype: int64"
      ]
     },
     "execution_count": 16,
     "metadata": {},
     "output_type": "execute_result"
    }
   ],
   "source": [
    "a_train.dtypes.value_counts()"
   ]
  },
  {
   "cell_type": "code",
   "execution_count": 17,
   "id": "c879fbe3",
   "metadata": {},
   "outputs": [
    {
     "data": {
      "text/plain": [
       "NAME_CONTRACT_TYPE             2\n",
       "CODE_GENDER                    3\n",
       "FLAG_OWN_CAR                   2\n",
       "FLAG_OWN_REALTY                2\n",
       "NAME_TYPE_SUITE                7\n",
       "NAME_INCOME_TYPE               8\n",
       "NAME_EDUCATION_TYPE            5\n",
       "NAME_FAMILY_STATUS             6\n",
       "NAME_HOUSING_TYPE              6\n",
       "OCCUPATION_TYPE               18\n",
       "WEEKDAY_APPR_PROCESS_START     7\n",
       "ORGANIZATION_TYPE             58\n",
       "FONDKAPREMONT_MODE             4\n",
       "HOUSETYPE_MODE                 3\n",
       "WALLSMATERIAL_MODE             7\n",
       "EMERGENCYSTATE_MODE            2\n",
       "dtype: int64"
      ]
     },
     "execution_count": 17,
     "metadata": {},
     "output_type": "execute_result"
    }
   ],
   "source": [
    "a_train.select_dtypes('object').apply(pd.Series.nunique, axis = 0)"
   ]
  },
  {
   "cell_type": "code",
   "execution_count": 18,
   "id": "5a9062a8",
   "metadata": {},
   "outputs": [
    {
     "name": "stdout",
     "output_type": "stream",
     "text": [
      "3 colunas foram codificadas por rótulo.\n"
     ]
    }
   ],
   "source": [
    "# Utilizando Label encoding\n",
    "le = LabelEncoder()\n",
    "le_count = 0\n",
    "\n",
    "# Iterando nas colunas\n",
    "for col in a_train:\n",
    "    if a_train[col].dtype == 'object':\n",
    "        # Se tiver duas categorias únicas ou menos:\n",
    "        if len(list(a_train[col].unique())) <= 2:\n",
    "            le.fit(a_train[col])\n",
    "            a_train[col] = le.transform(a_train[col])\n",
    "            a_test[col] = le.transform(a_test[col])\n",
    "            \n",
    "            # Acompanhando quantas colunas foram codificadas por rótulo\n",
    "            le_count += 1\n",
    "            \n",
    "print('%d colunas foram codificadas por rótulo.' % le_count)"
   ]
  },
  {
   "cell_type": "code",
   "execution_count": 19,
   "id": "cccb669e",
   "metadata": {},
   "outputs": [
    {
     "name": "stdout",
     "output_type": "stream",
     "text": [
      "Forma do conjunto de dados de treinamento:  (307511, 243)\n",
      "Forma do conjunto de dados de teste:  (48744, 239)\n"
     ]
    }
   ],
   "source": [
    "# one-hot encoding of categorical variables\n",
    "a_train = pd.get_dummies(a_train)\n",
    "a_test = pd.get_dummies(a_test)\n",
    "\n",
    "print('Forma do conjunto de dados de treinamento: ', a_train.shape)\n",
    "print('Forma do conjunto de dados de teste: ', a_test.shape)"
   ]
  },
  {
   "cell_type": "markdown",
   "id": "188111b7",
   "metadata": {},
   "source": [
    "## **Igualando número de colunas nos dataframes de treinamento e teste**\n",
    "\n",
    "É necessário que haja as mesmas colunas nos dados de treinamento e teste. A codificação one-hot criou mais colunas nos dados de treinamento porque havia algumas variáveis colunas com categorias não representadas nos dados de teste. Para remover as colunas nos dados de treinamento que não estão nos dados de teste, precisamos alinhar os dataframes. Primeiro, extraímos a coluna de destino dos dados de treinamento (porque isso não está nos dados de teste, mas precisamos manter essas informações). Quando fazemos o alinhamento, devemos nos certificar de definir axis = 1 para alinhar os dataframes com base nas colunas e não nas linhas!"
   ]
  },
  {
   "cell_type": "code",
   "execution_count": 20,
   "id": "c48f4bc9",
   "metadata": {},
   "outputs": [
    {
     "name": "stdout",
     "output_type": "stream",
     "text": [
      "Forma do conjunto de dados de treinamento:  (307511, 240)\n",
      "Forma do conjunto de dados de teste:  (48744, 239)\n"
     ]
    }
   ],
   "source": [
    "train_labels = a_train['TARGET']\n",
    "\n",
    "# Align the training and testing data, keep only columns present in both dataframes\n",
    "a_train, a_test = a_train.align(a_test, join = 'inner', axis = 1)\n",
    "\n",
    "# Add the target back in\n",
    "a_train['TARGET'] = train_labels\n",
    "\n",
    "print('Forma do conjunto de dados de treinamento: ', a_train.shape)\n",
    "print('Forma do conjunto de dados de teste: ', a_test.shape)"
   ]
  },
  {
   "cell_type": "markdown",
   "id": "6d0a7a05",
   "metadata": {},
   "source": [
    "## Imputação de valores faltantes (células vazias)"
   ]
  },
  {
   "cell_type": "code",
   "execution_count": 21,
   "id": "1fddad5f",
   "metadata": {},
   "outputs": [],
   "source": [
    "def missing_val_ratio(a_train):\n",
    "    perc_na = (a_train.isnull().sum()/len(a_train))*100\n",
    "    ratio_na = perc_na.sort_values(ascending=False)\n",
    "    missing_data_table = pd.DataFrame({'% of Total Values' :ratio_na})\n",
    "    return missing_data_table"
   ]
  },
  {
   "cell_type": "code",
   "execution_count": 22,
   "id": "b39c07ca",
   "metadata": {},
   "outputs": [
    {
     "data": {
      "text/html": [
       "<div>\n",
       "<style scoped>\n",
       "    .dataframe tbody tr th:only-of-type {\n",
       "        vertical-align: middle;\n",
       "    }\n",
       "\n",
       "    .dataframe tbody tr th {\n",
       "        vertical-align: top;\n",
       "    }\n",
       "\n",
       "    .dataframe thead th {\n",
       "        text-align: right;\n",
       "    }\n",
       "</style>\n",
       "<table border=\"1\" class=\"dataframe\">\n",
       "  <thead>\n",
       "    <tr style=\"text-align: right;\">\n",
       "      <th></th>\n",
       "      <th>% of Total Values</th>\n",
       "    </tr>\n",
       "  </thead>\n",
       "  <tbody>\n",
       "    <tr>\n",
       "      <th>COMMONAREA_AVG</th>\n",
       "      <td>69.872297</td>\n",
       "    </tr>\n",
       "    <tr>\n",
       "      <th>COMMONAREA_MODE</th>\n",
       "      <td>69.872297</td>\n",
       "    </tr>\n",
       "    <tr>\n",
       "      <th>COMMONAREA_MEDI</th>\n",
       "      <td>69.872297</td>\n",
       "    </tr>\n",
       "    <tr>\n",
       "      <th>NONLIVINGAPARTMENTS_AVG</th>\n",
       "      <td>69.432963</td>\n",
       "    </tr>\n",
       "    <tr>\n",
       "      <th>NONLIVINGAPARTMENTS_MEDI</th>\n",
       "      <td>69.432963</td>\n",
       "    </tr>\n",
       "    <tr>\n",
       "      <th>NONLIVINGAPARTMENTS_MODE</th>\n",
       "      <td>69.432963</td>\n",
       "    </tr>\n",
       "    <tr>\n",
       "      <th>LIVINGAPARTMENTS_MODE</th>\n",
       "      <td>68.354953</td>\n",
       "    </tr>\n",
       "    <tr>\n",
       "      <th>LIVINGAPARTMENTS_AVG</th>\n",
       "      <td>68.354953</td>\n",
       "    </tr>\n",
       "    <tr>\n",
       "      <th>LIVINGAPARTMENTS_MEDI</th>\n",
       "      <td>68.354953</td>\n",
       "    </tr>\n",
       "    <tr>\n",
       "      <th>FLOORSMIN_AVG</th>\n",
       "      <td>67.848630</td>\n",
       "    </tr>\n",
       "    <tr>\n",
       "      <th>FLOORSMIN_MEDI</th>\n",
       "      <td>67.848630</td>\n",
       "    </tr>\n",
       "    <tr>\n",
       "      <th>FLOORSMIN_MODE</th>\n",
       "      <td>67.848630</td>\n",
       "    </tr>\n",
       "    <tr>\n",
       "      <th>YEARS_BUILD_MEDI</th>\n",
       "      <td>66.497784</td>\n",
       "    </tr>\n",
       "    <tr>\n",
       "      <th>YEARS_BUILD_AVG</th>\n",
       "      <td>66.497784</td>\n",
       "    </tr>\n",
       "    <tr>\n",
       "      <th>YEARS_BUILD_MODE</th>\n",
       "      <td>66.497784</td>\n",
       "    </tr>\n",
       "    <tr>\n",
       "      <th>OWN_CAR_AGE</th>\n",
       "      <td>65.990810</td>\n",
       "    </tr>\n",
       "    <tr>\n",
       "      <th>LANDAREA_AVG</th>\n",
       "      <td>59.376738</td>\n",
       "    </tr>\n",
       "    <tr>\n",
       "      <th>LANDAREA_MODE</th>\n",
       "      <td>59.376738</td>\n",
       "    </tr>\n",
       "    <tr>\n",
       "      <th>LANDAREA_MEDI</th>\n",
       "      <td>59.376738</td>\n",
       "    </tr>\n",
       "    <tr>\n",
       "      <th>BASEMENTAREA_MODE</th>\n",
       "      <td>58.515956</td>\n",
       "    </tr>\n",
       "  </tbody>\n",
       "</table>\n",
       "</div>"
      ],
      "text/plain": [
       "                          % of Total Values\n",
       "COMMONAREA_AVG                    69.872297\n",
       "COMMONAREA_MODE                   69.872297\n",
       "COMMONAREA_MEDI                   69.872297\n",
       "NONLIVINGAPARTMENTS_AVG           69.432963\n",
       "NONLIVINGAPARTMENTS_MEDI          69.432963\n",
       "NONLIVINGAPARTMENTS_MODE          69.432963\n",
       "LIVINGAPARTMENTS_MODE             68.354953\n",
       "LIVINGAPARTMENTS_AVG              68.354953\n",
       "LIVINGAPARTMENTS_MEDI             68.354953\n",
       "FLOORSMIN_AVG                     67.848630\n",
       "FLOORSMIN_MEDI                    67.848630\n",
       "FLOORSMIN_MODE                    67.848630\n",
       "YEARS_BUILD_MEDI                  66.497784\n",
       "YEARS_BUILD_AVG                   66.497784\n",
       "YEARS_BUILD_MODE                  66.497784\n",
       "OWN_CAR_AGE                       65.990810\n",
       "LANDAREA_AVG                      59.376738\n",
       "LANDAREA_MODE                     59.376738\n",
       "LANDAREA_MEDI                     59.376738\n",
       "BASEMENTAREA_MODE                 58.515956"
      ]
     },
     "execution_count": 22,
     "metadata": {},
     "output_type": "execute_result"
    }
   ],
   "source": [
    "a_train_miss = missing_val_ratio(a_train)\n",
    "a_train_miss.head(20)"
   ]
  },
  {
   "cell_type": "code",
   "execution_count": 23,
   "id": "c3abe645",
   "metadata": {},
   "outputs": [],
   "source": [
    "from sklearn.preprocessing import MinMaxScaler\n",
    "from sklearn.impute import SimpleImputer\n",
    "imputer = SimpleImputer(strategy='median')\n",
    "scaler = MinMaxScaler(feature_range = (0, 1)) "
   ]
  },
  {
   "cell_type": "code",
   "execution_count": 24,
   "id": "5aed4ffa",
   "metadata": {},
   "outputs": [],
   "source": [
    "for column in a_train.columns:\n",
    "    a_train[[column]] = imputer.fit_transform(a_train[[column]])\n",
    "    a_train[[column]] = scaler.fit_transform(a_train[[column]])"
   ]
  },
  {
   "cell_type": "code",
   "execution_count": 25,
   "id": "71fdedea",
   "metadata": {},
   "outputs": [
    {
     "data": {
      "text/html": [
       "<div>\n",
       "<style scoped>\n",
       "    .dataframe tbody tr th:only-of-type {\n",
       "        vertical-align: middle;\n",
       "    }\n",
       "\n",
       "    .dataframe tbody tr th {\n",
       "        vertical-align: top;\n",
       "    }\n",
       "\n",
       "    .dataframe thead th {\n",
       "        text-align: right;\n",
       "    }\n",
       "</style>\n",
       "<table border=\"1\" class=\"dataframe\">\n",
       "  <thead>\n",
       "    <tr style=\"text-align: right;\">\n",
       "      <th></th>\n",
       "      <th>% of Total Values</th>\n",
       "    </tr>\n",
       "  </thead>\n",
       "  <tbody>\n",
       "    <tr>\n",
       "      <th>SK_ID_CURR</th>\n",
       "      <td>0.0</td>\n",
       "    </tr>\n",
       "    <tr>\n",
       "      <th>NAME_CONTRACT_TYPE</th>\n",
       "      <td>0.0</td>\n",
       "    </tr>\n",
       "    <tr>\n",
       "      <th>OCCUPATION_TYPE_Private service staff</th>\n",
       "      <td>0.0</td>\n",
       "    </tr>\n",
       "    <tr>\n",
       "      <th>OCCUPATION_TYPE_Realty agents</th>\n",
       "      <td>0.0</td>\n",
       "    </tr>\n",
       "    <tr>\n",
       "      <th>OCCUPATION_TYPE_Sales staff</th>\n",
       "      <td>0.0</td>\n",
       "    </tr>\n",
       "    <tr>\n",
       "      <th>OCCUPATION_TYPE_Secretaries</th>\n",
       "      <td>0.0</td>\n",
       "    </tr>\n",
       "    <tr>\n",
       "      <th>OCCUPATION_TYPE_Security staff</th>\n",
       "      <td>0.0</td>\n",
       "    </tr>\n",
       "    <tr>\n",
       "      <th>OCCUPATION_TYPE_Waiters/barmen staff</th>\n",
       "      <td>0.0</td>\n",
       "    </tr>\n",
       "    <tr>\n",
       "      <th>WEEKDAY_APPR_PROCESS_START_FRIDAY</th>\n",
       "      <td>0.0</td>\n",
       "    </tr>\n",
       "    <tr>\n",
       "      <th>WEEKDAY_APPR_PROCESS_START_MONDAY</th>\n",
       "      <td>0.0</td>\n",
       "    </tr>\n",
       "    <tr>\n",
       "      <th>WEEKDAY_APPR_PROCESS_START_SATURDAY</th>\n",
       "      <td>0.0</td>\n",
       "    </tr>\n",
       "    <tr>\n",
       "      <th>WEEKDAY_APPR_PROCESS_START_SUNDAY</th>\n",
       "      <td>0.0</td>\n",
       "    </tr>\n",
       "    <tr>\n",
       "      <th>WEEKDAY_APPR_PROCESS_START_THURSDAY</th>\n",
       "      <td>0.0</td>\n",
       "    </tr>\n",
       "    <tr>\n",
       "      <th>WEEKDAY_APPR_PROCESS_START_TUESDAY</th>\n",
       "      <td>0.0</td>\n",
       "    </tr>\n",
       "    <tr>\n",
       "      <th>WEEKDAY_APPR_PROCESS_START_WEDNESDAY</th>\n",
       "      <td>0.0</td>\n",
       "    </tr>\n",
       "    <tr>\n",
       "      <th>ORGANIZATION_TYPE_Advertising</th>\n",
       "      <td>0.0</td>\n",
       "    </tr>\n",
       "    <tr>\n",
       "      <th>ORGANIZATION_TYPE_Agriculture</th>\n",
       "      <td>0.0</td>\n",
       "    </tr>\n",
       "    <tr>\n",
       "      <th>ORGANIZATION_TYPE_Bank</th>\n",
       "      <td>0.0</td>\n",
       "    </tr>\n",
       "    <tr>\n",
       "      <th>ORGANIZATION_TYPE_Business Entity Type 1</th>\n",
       "      <td>0.0</td>\n",
       "    </tr>\n",
       "    <tr>\n",
       "      <th>ORGANIZATION_TYPE_Business Entity Type 2</th>\n",
       "      <td>0.0</td>\n",
       "    </tr>\n",
       "    <tr>\n",
       "      <th>ORGANIZATION_TYPE_Business Entity Type 3</th>\n",
       "      <td>0.0</td>\n",
       "    </tr>\n",
       "    <tr>\n",
       "      <th>ORGANIZATION_TYPE_Cleaning</th>\n",
       "      <td>0.0</td>\n",
       "    </tr>\n",
       "    <tr>\n",
       "      <th>ORGANIZATION_TYPE_Construction</th>\n",
       "      <td>0.0</td>\n",
       "    </tr>\n",
       "    <tr>\n",
       "      <th>ORGANIZATION_TYPE_Culture</th>\n",
       "      <td>0.0</td>\n",
       "    </tr>\n",
       "    <tr>\n",
       "      <th>ORGANIZATION_TYPE_Electricity</th>\n",
       "      <td>0.0</td>\n",
       "    </tr>\n",
       "  </tbody>\n",
       "</table>\n",
       "</div>"
      ],
      "text/plain": [
       "                                          % of Total Values\n",
       "SK_ID_CURR                                              0.0\n",
       "NAME_CONTRACT_TYPE                                      0.0\n",
       "OCCUPATION_TYPE_Private service staff                   0.0\n",
       "OCCUPATION_TYPE_Realty agents                           0.0\n",
       "OCCUPATION_TYPE_Sales staff                             0.0\n",
       "OCCUPATION_TYPE_Secretaries                             0.0\n",
       "OCCUPATION_TYPE_Security staff                          0.0\n",
       "OCCUPATION_TYPE_Waiters/barmen staff                    0.0\n",
       "WEEKDAY_APPR_PROCESS_START_FRIDAY                       0.0\n",
       "WEEKDAY_APPR_PROCESS_START_MONDAY                       0.0\n",
       "WEEKDAY_APPR_PROCESS_START_SATURDAY                     0.0\n",
       "WEEKDAY_APPR_PROCESS_START_SUNDAY                       0.0\n",
       "WEEKDAY_APPR_PROCESS_START_THURSDAY                     0.0\n",
       "WEEKDAY_APPR_PROCESS_START_TUESDAY                      0.0\n",
       "WEEKDAY_APPR_PROCESS_START_WEDNESDAY                    0.0\n",
       "ORGANIZATION_TYPE_Advertising                           0.0\n",
       "ORGANIZATION_TYPE_Agriculture                           0.0\n",
       "ORGANIZATION_TYPE_Bank                                  0.0\n",
       "ORGANIZATION_TYPE_Business Entity Type 1                0.0\n",
       "ORGANIZATION_TYPE_Business Entity Type 2                0.0\n",
       "ORGANIZATION_TYPE_Business Entity Type 3                0.0\n",
       "ORGANIZATION_TYPE_Cleaning                              0.0\n",
       "ORGANIZATION_TYPE_Construction                          0.0\n",
       "ORGANIZATION_TYPE_Culture                               0.0\n",
       "ORGANIZATION_TYPE_Electricity                           0.0"
      ]
     },
     "execution_count": 25,
     "metadata": {},
     "output_type": "execute_result"
    }
   ],
   "source": [
    "a_train_miss = missing_val_ratio(a_train)\n",
    "a_train_miss.head(25)"
   ]
  },
  {
   "cell_type": "code",
   "execution_count": 26,
   "id": "002cc592",
   "metadata": {},
   "outputs": [
    {
     "data": {
      "text/html": [
       "<div>\n",
       "<style scoped>\n",
       "    .dataframe tbody tr th:only-of-type {\n",
       "        vertical-align: middle;\n",
       "    }\n",
       "\n",
       "    .dataframe tbody tr th {\n",
       "        vertical-align: top;\n",
       "    }\n",
       "\n",
       "    .dataframe thead th {\n",
       "        text-align: right;\n",
       "    }\n",
       "</style>\n",
       "<table border=\"1\" class=\"dataframe\">\n",
       "  <thead>\n",
       "    <tr style=\"text-align: right;\">\n",
       "      <th></th>\n",
       "      <th>SK_ID_CURR</th>\n",
       "      <th>NAME_CONTRACT_TYPE</th>\n",
       "      <th>FLAG_OWN_CAR</th>\n",
       "      <th>FLAG_OWN_REALTY</th>\n",
       "      <th>CNT_CHILDREN</th>\n",
       "      <th>AMT_INCOME_TOTAL</th>\n",
       "      <th>AMT_CREDIT</th>\n",
       "      <th>AMT_ANNUITY</th>\n",
       "      <th>AMT_GOODS_PRICE</th>\n",
       "      <th>REGION_POPULATION_RELATIVE</th>\n",
       "      <th>...</th>\n",
       "      <th>WALLSMATERIAL_MODE_Block</th>\n",
       "      <th>WALLSMATERIAL_MODE_Mixed</th>\n",
       "      <th>WALLSMATERIAL_MODE_Monolithic</th>\n",
       "      <th>WALLSMATERIAL_MODE_Others</th>\n",
       "      <th>WALLSMATERIAL_MODE_Panel</th>\n",
       "      <th>WALLSMATERIAL_MODE_Stone, brick</th>\n",
       "      <th>WALLSMATERIAL_MODE_Wooden</th>\n",
       "      <th>EMERGENCYSTATE_MODE_No</th>\n",
       "      <th>EMERGENCYSTATE_MODE_Yes</th>\n",
       "      <th>TARGET</th>\n",
       "    </tr>\n",
       "  </thead>\n",
       "  <tbody>\n",
       "    <tr>\n",
       "      <th>0</th>\n",
       "      <td>0.000000</td>\n",
       "      <td>0.0</td>\n",
       "      <td>0.0</td>\n",
       "      <td>1.0</td>\n",
       "      <td>0.0</td>\n",
       "      <td>0.001512</td>\n",
       "      <td>0.090287</td>\n",
       "      <td>0.090032</td>\n",
       "      <td>0.077441</td>\n",
       "      <td>0.256321</td>\n",
       "      <td>...</td>\n",
       "      <td>0.0</td>\n",
       "      <td>0.0</td>\n",
       "      <td>0.0</td>\n",
       "      <td>0.0</td>\n",
       "      <td>0.0</td>\n",
       "      <td>1.0</td>\n",
       "      <td>0.0</td>\n",
       "      <td>1.0</td>\n",
       "      <td>0.0</td>\n",
       "      <td>1.0</td>\n",
       "    </tr>\n",
       "    <tr>\n",
       "      <th>1</th>\n",
       "      <td>0.000003</td>\n",
       "      <td>0.0</td>\n",
       "      <td>0.0</td>\n",
       "      <td>0.0</td>\n",
       "      <td>0.0</td>\n",
       "      <td>0.002089</td>\n",
       "      <td>0.311736</td>\n",
       "      <td>0.132924</td>\n",
       "      <td>0.271605</td>\n",
       "      <td>0.045016</td>\n",
       "      <td>...</td>\n",
       "      <td>1.0</td>\n",
       "      <td>0.0</td>\n",
       "      <td>0.0</td>\n",
       "      <td>0.0</td>\n",
       "      <td>0.0</td>\n",
       "      <td>0.0</td>\n",
       "      <td>0.0</td>\n",
       "      <td>1.0</td>\n",
       "      <td>0.0</td>\n",
       "      <td>0.0</td>\n",
       "    </tr>\n",
       "    <tr>\n",
       "      <th>2</th>\n",
       "      <td>0.000006</td>\n",
       "      <td>1.0</td>\n",
       "      <td>1.0</td>\n",
       "      <td>1.0</td>\n",
       "      <td>0.0</td>\n",
       "      <td>0.000358</td>\n",
       "      <td>0.022472</td>\n",
       "      <td>0.020025</td>\n",
       "      <td>0.023569</td>\n",
       "      <td>0.134897</td>\n",
       "      <td>...</td>\n",
       "      <td>0.0</td>\n",
       "      <td>0.0</td>\n",
       "      <td>0.0</td>\n",
       "      <td>0.0</td>\n",
       "      <td>0.0</td>\n",
       "      <td>0.0</td>\n",
       "      <td>0.0</td>\n",
       "      <td>0.0</td>\n",
       "      <td>0.0</td>\n",
       "      <td>0.0</td>\n",
       "    </tr>\n",
       "    <tr>\n",
       "      <th>3</th>\n",
       "      <td>0.000011</td>\n",
       "      <td>0.0</td>\n",
       "      <td>0.0</td>\n",
       "      <td>1.0</td>\n",
       "      <td>0.0</td>\n",
       "      <td>0.000935</td>\n",
       "      <td>0.066837</td>\n",
       "      <td>0.109477</td>\n",
       "      <td>0.063973</td>\n",
       "      <td>0.107023</td>\n",
       "      <td>...</td>\n",
       "      <td>0.0</td>\n",
       "      <td>0.0</td>\n",
       "      <td>0.0</td>\n",
       "      <td>0.0</td>\n",
       "      <td>0.0</td>\n",
       "      <td>0.0</td>\n",
       "      <td>0.0</td>\n",
       "      <td>0.0</td>\n",
       "      <td>0.0</td>\n",
       "      <td>0.0</td>\n",
       "    </tr>\n",
       "    <tr>\n",
       "      <th>4</th>\n",
       "      <td>0.000014</td>\n",
       "      <td>0.0</td>\n",
       "      <td>0.0</td>\n",
       "      <td>1.0</td>\n",
       "      <td>0.0</td>\n",
       "      <td>0.000819</td>\n",
       "      <td>0.116854</td>\n",
       "      <td>0.078975</td>\n",
       "      <td>0.117845</td>\n",
       "      <td>0.392880</td>\n",
       "      <td>...</td>\n",
       "      <td>0.0</td>\n",
       "      <td>0.0</td>\n",
       "      <td>0.0</td>\n",
       "      <td>0.0</td>\n",
       "      <td>0.0</td>\n",
       "      <td>0.0</td>\n",
       "      <td>0.0</td>\n",
       "      <td>0.0</td>\n",
       "      <td>0.0</td>\n",
       "      <td>0.0</td>\n",
       "    </tr>\n",
       "    <tr>\n",
       "      <th>...</th>\n",
       "      <td>...</td>\n",
       "      <td>...</td>\n",
       "      <td>...</td>\n",
       "      <td>...</td>\n",
       "      <td>...</td>\n",
       "      <td>...</td>\n",
       "      <td>...</td>\n",
       "      <td>...</td>\n",
       "      <td>...</td>\n",
       "      <td>...</td>\n",
       "      <td>...</td>\n",
       "      <td>...</td>\n",
       "      <td>...</td>\n",
       "      <td>...</td>\n",
       "      <td>...</td>\n",
       "      <td>...</td>\n",
       "      <td>...</td>\n",
       "      <td>...</td>\n",
       "      <td>...</td>\n",
       "      <td>...</td>\n",
       "      <td>...</td>\n",
       "    </tr>\n",
       "    <tr>\n",
       "      <th>307506</th>\n",
       "      <td>0.999989</td>\n",
       "      <td>0.0</td>\n",
       "      <td>0.0</td>\n",
       "      <td>0.0</td>\n",
       "      <td>0.0</td>\n",
       "      <td>0.001127</td>\n",
       "      <td>0.052360</td>\n",
       "      <td>0.101176</td>\n",
       "      <td>0.046016</td>\n",
       "      <td>0.446855</td>\n",
       "      <td>...</td>\n",
       "      <td>0.0</td>\n",
       "      <td>0.0</td>\n",
       "      <td>0.0</td>\n",
       "      <td>0.0</td>\n",
       "      <td>0.0</td>\n",
       "      <td>1.0</td>\n",
       "      <td>0.0</td>\n",
       "      <td>1.0</td>\n",
       "      <td>0.0</td>\n",
       "      <td>0.0</td>\n",
       "    </tr>\n",
       "    <tr>\n",
       "      <th>307507</th>\n",
       "      <td>0.999992</td>\n",
       "      <td>0.0</td>\n",
       "      <td>0.0</td>\n",
       "      <td>1.0</td>\n",
       "      <td>0.0</td>\n",
       "      <td>0.000396</td>\n",
       "      <td>0.056067</td>\n",
       "      <td>0.040505</td>\n",
       "      <td>0.046016</td>\n",
       "      <td>0.344429</td>\n",
       "      <td>...</td>\n",
       "      <td>0.0</td>\n",
       "      <td>0.0</td>\n",
       "      <td>0.0</td>\n",
       "      <td>0.0</td>\n",
       "      <td>0.0</td>\n",
       "      <td>1.0</td>\n",
       "      <td>0.0</td>\n",
       "      <td>1.0</td>\n",
       "      <td>0.0</td>\n",
       "      <td>0.0</td>\n",
       "    </tr>\n",
       "    <tr>\n",
       "      <th>307508</th>\n",
       "      <td>0.999994</td>\n",
       "      <td>0.0</td>\n",
       "      <td>0.0</td>\n",
       "      <td>1.0</td>\n",
       "      <td>0.0</td>\n",
       "      <td>0.001089</td>\n",
       "      <td>0.157969</td>\n",
       "      <td>0.110618</td>\n",
       "      <td>0.135802</td>\n",
       "      <td>0.065247</td>\n",
       "      <td>...</td>\n",
       "      <td>0.0</td>\n",
       "      <td>0.0</td>\n",
       "      <td>0.0</td>\n",
       "      <td>0.0</td>\n",
       "      <td>1.0</td>\n",
       "      <td>0.0</td>\n",
       "      <td>0.0</td>\n",
       "      <td>1.0</td>\n",
       "      <td>0.0</td>\n",
       "      <td>0.0</td>\n",
       "    </tr>\n",
       "    <tr>\n",
       "      <th>307509</th>\n",
       "      <td>0.999997</td>\n",
       "      <td>0.0</td>\n",
       "      <td>0.0</td>\n",
       "      <td>1.0</td>\n",
       "      <td>0.0</td>\n",
       "      <td>0.001243</td>\n",
       "      <td>0.081175</td>\n",
       "      <td>0.072499</td>\n",
       "      <td>0.069585</td>\n",
       "      <td>0.069553</td>\n",
       "      <td>...</td>\n",
       "      <td>0.0</td>\n",
       "      <td>0.0</td>\n",
       "      <td>0.0</td>\n",
       "      <td>0.0</td>\n",
       "      <td>0.0</td>\n",
       "      <td>1.0</td>\n",
       "      <td>0.0</td>\n",
       "      <td>1.0</td>\n",
       "      <td>0.0</td>\n",
       "      <td>1.0</td>\n",
       "    </tr>\n",
       "    <tr>\n",
       "      <th>307510</th>\n",
       "      <td>1.000000</td>\n",
       "      <td>0.0</td>\n",
       "      <td>0.0</td>\n",
       "      <td>0.0</td>\n",
       "      <td>0.0</td>\n",
       "      <td>0.001127</td>\n",
       "      <td>0.157303</td>\n",
       "      <td>0.185258</td>\n",
       "      <td>0.158249</td>\n",
       "      <td>0.635991</td>\n",
       "      <td>...</td>\n",
       "      <td>0.0</td>\n",
       "      <td>0.0</td>\n",
       "      <td>0.0</td>\n",
       "      <td>0.0</td>\n",
       "      <td>1.0</td>\n",
       "      <td>0.0</td>\n",
       "      <td>0.0</td>\n",
       "      <td>1.0</td>\n",
       "      <td>0.0</td>\n",
       "      <td>0.0</td>\n",
       "    </tr>\n",
       "  </tbody>\n",
       "</table>\n",
       "<p>307511 rows × 240 columns</p>\n",
       "</div>"
      ],
      "text/plain": [
       "        SK_ID_CURR  NAME_CONTRACT_TYPE  FLAG_OWN_CAR  FLAG_OWN_REALTY  \\\n",
       "0         0.000000                 0.0           0.0              1.0   \n",
       "1         0.000003                 0.0           0.0              0.0   \n",
       "2         0.000006                 1.0           1.0              1.0   \n",
       "3         0.000011                 0.0           0.0              1.0   \n",
       "4         0.000014                 0.0           0.0              1.0   \n",
       "...            ...                 ...           ...              ...   \n",
       "307506    0.999989                 0.0           0.0              0.0   \n",
       "307507    0.999992                 0.0           0.0              1.0   \n",
       "307508    0.999994                 0.0           0.0              1.0   \n",
       "307509    0.999997                 0.0           0.0              1.0   \n",
       "307510    1.000000                 0.0           0.0              0.0   \n",
       "\n",
       "        CNT_CHILDREN  AMT_INCOME_TOTAL  AMT_CREDIT  AMT_ANNUITY  \\\n",
       "0                0.0          0.001512    0.090287     0.090032   \n",
       "1                0.0          0.002089    0.311736     0.132924   \n",
       "2                0.0          0.000358    0.022472     0.020025   \n",
       "3                0.0          0.000935    0.066837     0.109477   \n",
       "4                0.0          0.000819    0.116854     0.078975   \n",
       "...              ...               ...         ...          ...   \n",
       "307506           0.0          0.001127    0.052360     0.101176   \n",
       "307507           0.0          0.000396    0.056067     0.040505   \n",
       "307508           0.0          0.001089    0.157969     0.110618   \n",
       "307509           0.0          0.001243    0.081175     0.072499   \n",
       "307510           0.0          0.001127    0.157303     0.185258   \n",
       "\n",
       "        AMT_GOODS_PRICE  REGION_POPULATION_RELATIVE  ...  \\\n",
       "0              0.077441                    0.256321  ...   \n",
       "1              0.271605                    0.045016  ...   \n",
       "2              0.023569                    0.134897  ...   \n",
       "3              0.063973                    0.107023  ...   \n",
       "4              0.117845                    0.392880  ...   \n",
       "...                 ...                         ...  ...   \n",
       "307506         0.046016                    0.446855  ...   \n",
       "307507         0.046016                    0.344429  ...   \n",
       "307508         0.135802                    0.065247  ...   \n",
       "307509         0.069585                    0.069553  ...   \n",
       "307510         0.158249                    0.635991  ...   \n",
       "\n",
       "        WALLSMATERIAL_MODE_Block  WALLSMATERIAL_MODE_Mixed  \\\n",
       "0                            0.0                       0.0   \n",
       "1                            1.0                       0.0   \n",
       "2                            0.0                       0.0   \n",
       "3                            0.0                       0.0   \n",
       "4                            0.0                       0.0   \n",
       "...                          ...                       ...   \n",
       "307506                       0.0                       0.0   \n",
       "307507                       0.0                       0.0   \n",
       "307508                       0.0                       0.0   \n",
       "307509                       0.0                       0.0   \n",
       "307510                       0.0                       0.0   \n",
       "\n",
       "        WALLSMATERIAL_MODE_Monolithic  WALLSMATERIAL_MODE_Others  \\\n",
       "0                                 0.0                        0.0   \n",
       "1                                 0.0                        0.0   \n",
       "2                                 0.0                        0.0   \n",
       "3                                 0.0                        0.0   \n",
       "4                                 0.0                        0.0   \n",
       "...                               ...                        ...   \n",
       "307506                            0.0                        0.0   \n",
       "307507                            0.0                        0.0   \n",
       "307508                            0.0                        0.0   \n",
       "307509                            0.0                        0.0   \n",
       "307510                            0.0                        0.0   \n",
       "\n",
       "        WALLSMATERIAL_MODE_Panel  WALLSMATERIAL_MODE_Stone, brick  \\\n",
       "0                            0.0                              1.0   \n",
       "1                            0.0                              0.0   \n",
       "2                            0.0                              0.0   \n",
       "3                            0.0                              0.0   \n",
       "4                            0.0                              0.0   \n",
       "...                          ...                              ...   \n",
       "307506                       0.0                              1.0   \n",
       "307507                       0.0                              1.0   \n",
       "307508                       1.0                              0.0   \n",
       "307509                       0.0                              1.0   \n",
       "307510                       1.0                              0.0   \n",
       "\n",
       "        WALLSMATERIAL_MODE_Wooden  EMERGENCYSTATE_MODE_No  \\\n",
       "0                             0.0                     1.0   \n",
       "1                             0.0                     1.0   \n",
       "2                             0.0                     0.0   \n",
       "3                             0.0                     0.0   \n",
       "4                             0.0                     0.0   \n",
       "...                           ...                     ...   \n",
       "307506                        0.0                     1.0   \n",
       "307507                        0.0                     1.0   \n",
       "307508                        0.0                     1.0   \n",
       "307509                        0.0                     1.0   \n",
       "307510                        0.0                     1.0   \n",
       "\n",
       "        EMERGENCYSTATE_MODE_Yes  TARGET  \n",
       "0                           0.0     1.0  \n",
       "1                           0.0     0.0  \n",
       "2                           0.0     0.0  \n",
       "3                           0.0     0.0  \n",
       "4                           0.0     0.0  \n",
       "...                         ...     ...  \n",
       "307506                      0.0     0.0  \n",
       "307507                      0.0     0.0  \n",
       "307508                      0.0     0.0  \n",
       "307509                      0.0     1.0  \n",
       "307510                      0.0     0.0  \n",
       "\n",
       "[307511 rows x 240 columns]"
      ]
     },
     "execution_count": 26,
     "metadata": {},
     "output_type": "execute_result"
    }
   ],
   "source": [
    "a_train"
   ]
  },
  {
   "cell_type": "code",
   "execution_count": 27,
   "id": "9e55a647",
   "metadata": {},
   "outputs": [
    {
     "data": {
      "text/html": [
       "<div>\n",
       "<style scoped>\n",
       "    .dataframe tbody tr th:only-of-type {\n",
       "        vertical-align: middle;\n",
       "    }\n",
       "\n",
       "    .dataframe tbody tr th {\n",
       "        vertical-align: top;\n",
       "    }\n",
       "\n",
       "    .dataframe thead th {\n",
       "        text-align: right;\n",
       "    }\n",
       "</style>\n",
       "<table border=\"1\" class=\"dataframe\">\n",
       "  <thead>\n",
       "    <tr style=\"text-align: right;\">\n",
       "      <th></th>\n",
       "      <th>% of Total Values</th>\n",
       "    </tr>\n",
       "  </thead>\n",
       "  <tbody>\n",
       "    <tr>\n",
       "      <th>SK_ID_CURR</th>\n",
       "      <td>0.0</td>\n",
       "    </tr>\n",
       "    <tr>\n",
       "      <th>WEEKDAY_APPR_PROCESS_START_WEDNESDAY</th>\n",
       "      <td>0.0</td>\n",
       "    </tr>\n",
       "    <tr>\n",
       "      <th>OCCUPATION_TYPE_Private service staff</th>\n",
       "      <td>0.0</td>\n",
       "    </tr>\n",
       "    <tr>\n",
       "      <th>OCCUPATION_TYPE_Realty agents</th>\n",
       "      <td>0.0</td>\n",
       "    </tr>\n",
       "    <tr>\n",
       "      <th>OCCUPATION_TYPE_Sales staff</th>\n",
       "      <td>0.0</td>\n",
       "    </tr>\n",
       "    <tr>\n",
       "      <th>OCCUPATION_TYPE_Secretaries</th>\n",
       "      <td>0.0</td>\n",
       "    </tr>\n",
       "    <tr>\n",
       "      <th>OCCUPATION_TYPE_Security staff</th>\n",
       "      <td>0.0</td>\n",
       "    </tr>\n",
       "    <tr>\n",
       "      <th>OCCUPATION_TYPE_Waiters/barmen staff</th>\n",
       "      <td>0.0</td>\n",
       "    </tr>\n",
       "    <tr>\n",
       "      <th>WEEKDAY_APPR_PROCESS_START_FRIDAY</th>\n",
       "      <td>0.0</td>\n",
       "    </tr>\n",
       "    <tr>\n",
       "      <th>WEEKDAY_APPR_PROCESS_START_MONDAY</th>\n",
       "      <td>0.0</td>\n",
       "    </tr>\n",
       "    <tr>\n",
       "      <th>WEEKDAY_APPR_PROCESS_START_SATURDAY</th>\n",
       "      <td>0.0</td>\n",
       "    </tr>\n",
       "    <tr>\n",
       "      <th>WEEKDAY_APPR_PROCESS_START_SUNDAY</th>\n",
       "      <td>0.0</td>\n",
       "    </tr>\n",
       "    <tr>\n",
       "      <th>WEEKDAY_APPR_PROCESS_START_THURSDAY</th>\n",
       "      <td>0.0</td>\n",
       "    </tr>\n",
       "    <tr>\n",
       "      <th>WEEKDAY_APPR_PROCESS_START_TUESDAY</th>\n",
       "      <td>0.0</td>\n",
       "    </tr>\n",
       "    <tr>\n",
       "      <th>ORGANIZATION_TYPE_Advertising</th>\n",
       "      <td>0.0</td>\n",
       "    </tr>\n",
       "    <tr>\n",
       "      <th>OCCUPATION_TYPE_Managers</th>\n",
       "      <td>0.0</td>\n",
       "    </tr>\n",
       "    <tr>\n",
       "      <th>ORGANIZATION_TYPE_Agriculture</th>\n",
       "      <td>0.0</td>\n",
       "    </tr>\n",
       "    <tr>\n",
       "      <th>ORGANIZATION_TYPE_Bank</th>\n",
       "      <td>0.0</td>\n",
       "    </tr>\n",
       "    <tr>\n",
       "      <th>ORGANIZATION_TYPE_Business Entity Type 1</th>\n",
       "      <td>0.0</td>\n",
       "    </tr>\n",
       "    <tr>\n",
       "      <th>ORGANIZATION_TYPE_Business Entity Type 2</th>\n",
       "      <td>0.0</td>\n",
       "    </tr>\n",
       "    <tr>\n",
       "      <th>ORGANIZATION_TYPE_Business Entity Type 3</th>\n",
       "      <td>0.0</td>\n",
       "    </tr>\n",
       "    <tr>\n",
       "      <th>ORGANIZATION_TYPE_Cleaning</th>\n",
       "      <td>0.0</td>\n",
       "    </tr>\n",
       "    <tr>\n",
       "      <th>ORGANIZATION_TYPE_Construction</th>\n",
       "      <td>0.0</td>\n",
       "    </tr>\n",
       "    <tr>\n",
       "      <th>ORGANIZATION_TYPE_Culture</th>\n",
       "      <td>0.0</td>\n",
       "    </tr>\n",
       "    <tr>\n",
       "      <th>ORGANIZATION_TYPE_Electricity</th>\n",
       "      <td>0.0</td>\n",
       "    </tr>\n",
       "  </tbody>\n",
       "</table>\n",
       "</div>"
      ],
      "text/plain": [
       "                                          % of Total Values\n",
       "SK_ID_CURR                                              0.0\n",
       "WEEKDAY_APPR_PROCESS_START_WEDNESDAY                    0.0\n",
       "OCCUPATION_TYPE_Private service staff                   0.0\n",
       "OCCUPATION_TYPE_Realty agents                           0.0\n",
       "OCCUPATION_TYPE_Sales staff                             0.0\n",
       "OCCUPATION_TYPE_Secretaries                             0.0\n",
       "OCCUPATION_TYPE_Security staff                          0.0\n",
       "OCCUPATION_TYPE_Waiters/barmen staff                    0.0\n",
       "WEEKDAY_APPR_PROCESS_START_FRIDAY                       0.0\n",
       "WEEKDAY_APPR_PROCESS_START_MONDAY                       0.0\n",
       "WEEKDAY_APPR_PROCESS_START_SATURDAY                     0.0\n",
       "WEEKDAY_APPR_PROCESS_START_SUNDAY                       0.0\n",
       "WEEKDAY_APPR_PROCESS_START_THURSDAY                     0.0\n",
       "WEEKDAY_APPR_PROCESS_START_TUESDAY                      0.0\n",
       "ORGANIZATION_TYPE_Advertising                           0.0\n",
       "OCCUPATION_TYPE_Managers                                0.0\n",
       "ORGANIZATION_TYPE_Agriculture                           0.0\n",
       "ORGANIZATION_TYPE_Bank                                  0.0\n",
       "ORGANIZATION_TYPE_Business Entity Type 1                0.0\n",
       "ORGANIZATION_TYPE_Business Entity Type 2                0.0\n",
       "ORGANIZATION_TYPE_Business Entity Type 3                0.0\n",
       "ORGANIZATION_TYPE_Cleaning                              0.0\n",
       "ORGANIZATION_TYPE_Construction                          0.0\n",
       "ORGANIZATION_TYPE_Culture                               0.0\n",
       "ORGANIZATION_TYPE_Electricity                           0.0"
      ]
     },
     "execution_count": 27,
     "metadata": {},
     "output_type": "execute_result"
    }
   ],
   "source": [
    "a_test_miss = missing_val_ratio(a_test)\n",
    "imputer = SimpleImputer(strategy='median')\n",
    "scaler = MinMaxScaler(feature_range = (0, 1))\n",
    "for column in a_test.columns:\n",
    "    a_test[[column]] = imputer.fit_transform(a_test[[column]])\n",
    "    a_test[[column]] = scaler.fit_transform(a_test[[column]])\n",
    "a_test_miss = missing_val_ratio(a_test)\n",
    "a_test_miss.head(25)"
   ]
  },
  {
   "cell_type": "code",
   "execution_count": 28,
   "id": "652aa0d8",
   "metadata": {},
   "outputs": [
    {
     "data": {
      "text/plain": [
       "(307511, 240)"
      ]
     },
     "execution_count": 28,
     "metadata": {},
     "output_type": "execute_result"
    }
   ],
   "source": [
    "a_train.shape"
   ]
  },
  {
   "cell_type": "code",
   "execution_count": 29,
   "id": "f00a74df",
   "metadata": {},
   "outputs": [
    {
     "data": {
      "text/plain": [
       "float64    240\n",
       "dtype: int64"
      ]
     },
     "execution_count": 29,
     "metadata": {},
     "output_type": "execute_result"
    }
   ],
   "source": [
    "a_train.dtypes.value_counts()"
   ]
  },
  {
   "cell_type": "code",
   "execution_count": 30,
   "id": "7f2f815f",
   "metadata": {},
   "outputs": [
    {
     "data": {
      "text/plain": [
       "(48744, 239)"
      ]
     },
     "execution_count": 30,
     "metadata": {},
     "output_type": "execute_result"
    }
   ],
   "source": [
    "a_test.shape"
   ]
  },
  {
   "cell_type": "code",
   "execution_count": 31,
   "id": "00a59b06",
   "metadata": {},
   "outputs": [
    {
     "data": {
      "text/plain": [
       "float64    239\n",
       "dtype: int64"
      ]
     },
     "execution_count": 31,
     "metadata": {},
     "output_type": "execute_result"
    }
   ],
   "source": [
    "a_test.dtypes.value_counts()"
   ]
  },
  {
   "cell_type": "markdown",
   "id": "4b7da2e7",
   "metadata": {},
   "source": [
    "## Ajustando o dataframe para dar início à criação dos modelos"
   ]
  },
  {
   "cell_type": "code",
   "execution_count": 32,
   "id": "339f66d6",
   "metadata": {},
   "outputs": [],
   "source": [
    "first_column = a_train.pop('TARGET')\n",
    "a_train.insert(0, 'TARGET', first_column)"
   ]
  },
  {
   "cell_type": "code",
   "execution_count": 33,
   "id": "2c2f59f4",
   "metadata": {},
   "outputs": [
    {
     "data": {
      "text/html": [
       "<div>\n",
       "<style scoped>\n",
       "    .dataframe tbody tr th:only-of-type {\n",
       "        vertical-align: middle;\n",
       "    }\n",
       "\n",
       "    .dataframe tbody tr th {\n",
       "        vertical-align: top;\n",
       "    }\n",
       "\n",
       "    .dataframe thead th {\n",
       "        text-align: right;\n",
       "    }\n",
       "</style>\n",
       "<table border=\"1\" class=\"dataframe\">\n",
       "  <thead>\n",
       "    <tr style=\"text-align: right;\">\n",
       "      <th></th>\n",
       "      <th>TARGET</th>\n",
       "      <th>SK_ID_CURR</th>\n",
       "      <th>NAME_CONTRACT_TYPE</th>\n",
       "      <th>FLAG_OWN_CAR</th>\n",
       "      <th>FLAG_OWN_REALTY</th>\n",
       "      <th>CNT_CHILDREN</th>\n",
       "      <th>AMT_INCOME_TOTAL</th>\n",
       "      <th>AMT_CREDIT</th>\n",
       "      <th>AMT_ANNUITY</th>\n",
       "      <th>AMT_GOODS_PRICE</th>\n",
       "      <th>...</th>\n",
       "      <th>HOUSETYPE_MODE_terraced house</th>\n",
       "      <th>WALLSMATERIAL_MODE_Block</th>\n",
       "      <th>WALLSMATERIAL_MODE_Mixed</th>\n",
       "      <th>WALLSMATERIAL_MODE_Monolithic</th>\n",
       "      <th>WALLSMATERIAL_MODE_Others</th>\n",
       "      <th>WALLSMATERIAL_MODE_Panel</th>\n",
       "      <th>WALLSMATERIAL_MODE_Stone, brick</th>\n",
       "      <th>WALLSMATERIAL_MODE_Wooden</th>\n",
       "      <th>EMERGENCYSTATE_MODE_No</th>\n",
       "      <th>EMERGENCYSTATE_MODE_Yes</th>\n",
       "    </tr>\n",
       "  </thead>\n",
       "  <tbody>\n",
       "    <tr>\n",
       "      <th>0</th>\n",
       "      <td>1.0</td>\n",
       "      <td>0.000000</td>\n",
       "      <td>0.0</td>\n",
       "      <td>0.0</td>\n",
       "      <td>1.0</td>\n",
       "      <td>0.0</td>\n",
       "      <td>0.001512</td>\n",
       "      <td>0.090287</td>\n",
       "      <td>0.090032</td>\n",
       "      <td>0.077441</td>\n",
       "      <td>...</td>\n",
       "      <td>0.0</td>\n",
       "      <td>0.0</td>\n",
       "      <td>0.0</td>\n",
       "      <td>0.0</td>\n",
       "      <td>0.0</td>\n",
       "      <td>0.0</td>\n",
       "      <td>1.0</td>\n",
       "      <td>0.0</td>\n",
       "      <td>1.0</td>\n",
       "      <td>0.0</td>\n",
       "    </tr>\n",
       "    <tr>\n",
       "      <th>1</th>\n",
       "      <td>0.0</td>\n",
       "      <td>0.000003</td>\n",
       "      <td>0.0</td>\n",
       "      <td>0.0</td>\n",
       "      <td>0.0</td>\n",
       "      <td>0.0</td>\n",
       "      <td>0.002089</td>\n",
       "      <td>0.311736</td>\n",
       "      <td>0.132924</td>\n",
       "      <td>0.271605</td>\n",
       "      <td>...</td>\n",
       "      <td>0.0</td>\n",
       "      <td>1.0</td>\n",
       "      <td>0.0</td>\n",
       "      <td>0.0</td>\n",
       "      <td>0.0</td>\n",
       "      <td>0.0</td>\n",
       "      <td>0.0</td>\n",
       "      <td>0.0</td>\n",
       "      <td>1.0</td>\n",
       "      <td>0.0</td>\n",
       "    </tr>\n",
       "    <tr>\n",
       "      <th>2</th>\n",
       "      <td>0.0</td>\n",
       "      <td>0.000006</td>\n",
       "      <td>1.0</td>\n",
       "      <td>1.0</td>\n",
       "      <td>1.0</td>\n",
       "      <td>0.0</td>\n",
       "      <td>0.000358</td>\n",
       "      <td>0.022472</td>\n",
       "      <td>0.020025</td>\n",
       "      <td>0.023569</td>\n",
       "      <td>...</td>\n",
       "      <td>0.0</td>\n",
       "      <td>0.0</td>\n",
       "      <td>0.0</td>\n",
       "      <td>0.0</td>\n",
       "      <td>0.0</td>\n",
       "      <td>0.0</td>\n",
       "      <td>0.0</td>\n",
       "      <td>0.0</td>\n",
       "      <td>0.0</td>\n",
       "      <td>0.0</td>\n",
       "    </tr>\n",
       "    <tr>\n",
       "      <th>3</th>\n",
       "      <td>0.0</td>\n",
       "      <td>0.000011</td>\n",
       "      <td>0.0</td>\n",
       "      <td>0.0</td>\n",
       "      <td>1.0</td>\n",
       "      <td>0.0</td>\n",
       "      <td>0.000935</td>\n",
       "      <td>0.066837</td>\n",
       "      <td>0.109477</td>\n",
       "      <td>0.063973</td>\n",
       "      <td>...</td>\n",
       "      <td>0.0</td>\n",
       "      <td>0.0</td>\n",
       "      <td>0.0</td>\n",
       "      <td>0.0</td>\n",
       "      <td>0.0</td>\n",
       "      <td>0.0</td>\n",
       "      <td>0.0</td>\n",
       "      <td>0.0</td>\n",
       "      <td>0.0</td>\n",
       "      <td>0.0</td>\n",
       "    </tr>\n",
       "    <tr>\n",
       "      <th>4</th>\n",
       "      <td>0.0</td>\n",
       "      <td>0.000014</td>\n",
       "      <td>0.0</td>\n",
       "      <td>0.0</td>\n",
       "      <td>1.0</td>\n",
       "      <td>0.0</td>\n",
       "      <td>0.000819</td>\n",
       "      <td>0.116854</td>\n",
       "      <td>0.078975</td>\n",
       "      <td>0.117845</td>\n",
       "      <td>...</td>\n",
       "      <td>0.0</td>\n",
       "      <td>0.0</td>\n",
       "      <td>0.0</td>\n",
       "      <td>0.0</td>\n",
       "      <td>0.0</td>\n",
       "      <td>0.0</td>\n",
       "      <td>0.0</td>\n",
       "      <td>0.0</td>\n",
       "      <td>0.0</td>\n",
       "      <td>0.0</td>\n",
       "    </tr>\n",
       "    <tr>\n",
       "      <th>...</th>\n",
       "      <td>...</td>\n",
       "      <td>...</td>\n",
       "      <td>...</td>\n",
       "      <td>...</td>\n",
       "      <td>...</td>\n",
       "      <td>...</td>\n",
       "      <td>...</td>\n",
       "      <td>...</td>\n",
       "      <td>...</td>\n",
       "      <td>...</td>\n",
       "      <td>...</td>\n",
       "      <td>...</td>\n",
       "      <td>...</td>\n",
       "      <td>...</td>\n",
       "      <td>...</td>\n",
       "      <td>...</td>\n",
       "      <td>...</td>\n",
       "      <td>...</td>\n",
       "      <td>...</td>\n",
       "      <td>...</td>\n",
       "      <td>...</td>\n",
       "    </tr>\n",
       "    <tr>\n",
       "      <th>307506</th>\n",
       "      <td>0.0</td>\n",
       "      <td>0.999989</td>\n",
       "      <td>0.0</td>\n",
       "      <td>0.0</td>\n",
       "      <td>0.0</td>\n",
       "      <td>0.0</td>\n",
       "      <td>0.001127</td>\n",
       "      <td>0.052360</td>\n",
       "      <td>0.101176</td>\n",
       "      <td>0.046016</td>\n",
       "      <td>...</td>\n",
       "      <td>0.0</td>\n",
       "      <td>0.0</td>\n",
       "      <td>0.0</td>\n",
       "      <td>0.0</td>\n",
       "      <td>0.0</td>\n",
       "      <td>0.0</td>\n",
       "      <td>1.0</td>\n",
       "      <td>0.0</td>\n",
       "      <td>1.0</td>\n",
       "      <td>0.0</td>\n",
       "    </tr>\n",
       "    <tr>\n",
       "      <th>307507</th>\n",
       "      <td>0.0</td>\n",
       "      <td>0.999992</td>\n",
       "      <td>0.0</td>\n",
       "      <td>0.0</td>\n",
       "      <td>1.0</td>\n",
       "      <td>0.0</td>\n",
       "      <td>0.000396</td>\n",
       "      <td>0.056067</td>\n",
       "      <td>0.040505</td>\n",
       "      <td>0.046016</td>\n",
       "      <td>...</td>\n",
       "      <td>0.0</td>\n",
       "      <td>0.0</td>\n",
       "      <td>0.0</td>\n",
       "      <td>0.0</td>\n",
       "      <td>0.0</td>\n",
       "      <td>0.0</td>\n",
       "      <td>1.0</td>\n",
       "      <td>0.0</td>\n",
       "      <td>1.0</td>\n",
       "      <td>0.0</td>\n",
       "    </tr>\n",
       "    <tr>\n",
       "      <th>307508</th>\n",
       "      <td>0.0</td>\n",
       "      <td>0.999994</td>\n",
       "      <td>0.0</td>\n",
       "      <td>0.0</td>\n",
       "      <td>1.0</td>\n",
       "      <td>0.0</td>\n",
       "      <td>0.001089</td>\n",
       "      <td>0.157969</td>\n",
       "      <td>0.110618</td>\n",
       "      <td>0.135802</td>\n",
       "      <td>...</td>\n",
       "      <td>0.0</td>\n",
       "      <td>0.0</td>\n",
       "      <td>0.0</td>\n",
       "      <td>0.0</td>\n",
       "      <td>0.0</td>\n",
       "      <td>1.0</td>\n",
       "      <td>0.0</td>\n",
       "      <td>0.0</td>\n",
       "      <td>1.0</td>\n",
       "      <td>0.0</td>\n",
       "    </tr>\n",
       "    <tr>\n",
       "      <th>307509</th>\n",
       "      <td>1.0</td>\n",
       "      <td>0.999997</td>\n",
       "      <td>0.0</td>\n",
       "      <td>0.0</td>\n",
       "      <td>1.0</td>\n",
       "      <td>0.0</td>\n",
       "      <td>0.001243</td>\n",
       "      <td>0.081175</td>\n",
       "      <td>0.072499</td>\n",
       "      <td>0.069585</td>\n",
       "      <td>...</td>\n",
       "      <td>0.0</td>\n",
       "      <td>0.0</td>\n",
       "      <td>0.0</td>\n",
       "      <td>0.0</td>\n",
       "      <td>0.0</td>\n",
       "      <td>0.0</td>\n",
       "      <td>1.0</td>\n",
       "      <td>0.0</td>\n",
       "      <td>1.0</td>\n",
       "      <td>0.0</td>\n",
       "    </tr>\n",
       "    <tr>\n",
       "      <th>307510</th>\n",
       "      <td>0.0</td>\n",
       "      <td>1.000000</td>\n",
       "      <td>0.0</td>\n",
       "      <td>0.0</td>\n",
       "      <td>0.0</td>\n",
       "      <td>0.0</td>\n",
       "      <td>0.001127</td>\n",
       "      <td>0.157303</td>\n",
       "      <td>0.185258</td>\n",
       "      <td>0.158249</td>\n",
       "      <td>...</td>\n",
       "      <td>0.0</td>\n",
       "      <td>0.0</td>\n",
       "      <td>0.0</td>\n",
       "      <td>0.0</td>\n",
       "      <td>0.0</td>\n",
       "      <td>1.0</td>\n",
       "      <td>0.0</td>\n",
       "      <td>0.0</td>\n",
       "      <td>1.0</td>\n",
       "      <td>0.0</td>\n",
       "    </tr>\n",
       "  </tbody>\n",
       "</table>\n",
       "<p>307511 rows × 240 columns</p>\n",
       "</div>"
      ],
      "text/plain": [
       "        TARGET  SK_ID_CURR  NAME_CONTRACT_TYPE  FLAG_OWN_CAR  FLAG_OWN_REALTY  \\\n",
       "0          1.0    0.000000                 0.0           0.0              1.0   \n",
       "1          0.0    0.000003                 0.0           0.0              0.0   \n",
       "2          0.0    0.000006                 1.0           1.0              1.0   \n",
       "3          0.0    0.000011                 0.0           0.0              1.0   \n",
       "4          0.0    0.000014                 0.0           0.0              1.0   \n",
       "...        ...         ...                 ...           ...              ...   \n",
       "307506     0.0    0.999989                 0.0           0.0              0.0   \n",
       "307507     0.0    0.999992                 0.0           0.0              1.0   \n",
       "307508     0.0    0.999994                 0.0           0.0              1.0   \n",
       "307509     1.0    0.999997                 0.0           0.0              1.0   \n",
       "307510     0.0    1.000000                 0.0           0.0              0.0   \n",
       "\n",
       "        CNT_CHILDREN  AMT_INCOME_TOTAL  AMT_CREDIT  AMT_ANNUITY  \\\n",
       "0                0.0          0.001512    0.090287     0.090032   \n",
       "1                0.0          0.002089    0.311736     0.132924   \n",
       "2                0.0          0.000358    0.022472     0.020025   \n",
       "3                0.0          0.000935    0.066837     0.109477   \n",
       "4                0.0          0.000819    0.116854     0.078975   \n",
       "...              ...               ...         ...          ...   \n",
       "307506           0.0          0.001127    0.052360     0.101176   \n",
       "307507           0.0          0.000396    0.056067     0.040505   \n",
       "307508           0.0          0.001089    0.157969     0.110618   \n",
       "307509           0.0          0.001243    0.081175     0.072499   \n",
       "307510           0.0          0.001127    0.157303     0.185258   \n",
       "\n",
       "        AMT_GOODS_PRICE  ...  HOUSETYPE_MODE_terraced house  \\\n",
       "0              0.077441  ...                            0.0   \n",
       "1              0.271605  ...                            0.0   \n",
       "2              0.023569  ...                            0.0   \n",
       "3              0.063973  ...                            0.0   \n",
       "4              0.117845  ...                            0.0   \n",
       "...                 ...  ...                            ...   \n",
       "307506         0.046016  ...                            0.0   \n",
       "307507         0.046016  ...                            0.0   \n",
       "307508         0.135802  ...                            0.0   \n",
       "307509         0.069585  ...                            0.0   \n",
       "307510         0.158249  ...                            0.0   \n",
       "\n",
       "        WALLSMATERIAL_MODE_Block  WALLSMATERIAL_MODE_Mixed  \\\n",
       "0                            0.0                       0.0   \n",
       "1                            1.0                       0.0   \n",
       "2                            0.0                       0.0   \n",
       "3                            0.0                       0.0   \n",
       "4                            0.0                       0.0   \n",
       "...                          ...                       ...   \n",
       "307506                       0.0                       0.0   \n",
       "307507                       0.0                       0.0   \n",
       "307508                       0.0                       0.0   \n",
       "307509                       0.0                       0.0   \n",
       "307510                       0.0                       0.0   \n",
       "\n",
       "        WALLSMATERIAL_MODE_Monolithic  WALLSMATERIAL_MODE_Others  \\\n",
       "0                                 0.0                        0.0   \n",
       "1                                 0.0                        0.0   \n",
       "2                                 0.0                        0.0   \n",
       "3                                 0.0                        0.0   \n",
       "4                                 0.0                        0.0   \n",
       "...                               ...                        ...   \n",
       "307506                            0.0                        0.0   \n",
       "307507                            0.0                        0.0   \n",
       "307508                            0.0                        0.0   \n",
       "307509                            0.0                        0.0   \n",
       "307510                            0.0                        0.0   \n",
       "\n",
       "        WALLSMATERIAL_MODE_Panel  WALLSMATERIAL_MODE_Stone, brick  \\\n",
       "0                            0.0                              1.0   \n",
       "1                            0.0                              0.0   \n",
       "2                            0.0                              0.0   \n",
       "3                            0.0                              0.0   \n",
       "4                            0.0                              0.0   \n",
       "...                          ...                              ...   \n",
       "307506                       0.0                              1.0   \n",
       "307507                       0.0                              1.0   \n",
       "307508                       1.0                              0.0   \n",
       "307509                       0.0                              1.0   \n",
       "307510                       1.0                              0.0   \n",
       "\n",
       "        WALLSMATERIAL_MODE_Wooden  EMERGENCYSTATE_MODE_No  \\\n",
       "0                             0.0                     1.0   \n",
       "1                             0.0                     1.0   \n",
       "2                             0.0                     0.0   \n",
       "3                             0.0                     0.0   \n",
       "4                             0.0                     0.0   \n",
       "...                           ...                     ...   \n",
       "307506                        0.0                     1.0   \n",
       "307507                        0.0                     1.0   \n",
       "307508                        0.0                     1.0   \n",
       "307509                        0.0                     1.0   \n",
       "307510                        0.0                     1.0   \n",
       "\n",
       "        EMERGENCYSTATE_MODE_Yes  \n",
       "0                           0.0  \n",
       "1                           0.0  \n",
       "2                           0.0  \n",
       "3                           0.0  \n",
       "4                           0.0  \n",
       "...                         ...  \n",
       "307506                      0.0  \n",
       "307507                      0.0  \n",
       "307508                      0.0  \n",
       "307509                      0.0  \n",
       "307510                      0.0  \n",
       "\n",
       "[307511 rows x 240 columns]"
      ]
     },
     "execution_count": 33,
     "metadata": {},
     "output_type": "execute_result"
    }
   ],
   "source": [
    "a_train"
   ]
  },
  {
   "cell_type": "markdown",
   "id": "fbcd002e",
   "metadata": {},
   "source": [
    "# Modelling"
   ]
  },
  {
   "cell_type": "markdown",
   "id": "0b2505d2",
   "metadata": {},
   "source": [
    "## XGBoost (Modelo 01)"
   ]
  },
  {
   "cell_type": "code",
   "execution_count": 34,
   "id": "b649933a",
   "metadata": {},
   "outputs": [],
   "source": [
    "from sklearn.model_selection import train_test_split\n",
    "train, test_and_validate = train_test_split(a_train, test_size = 0.2, random_state = 42, stratify = a_train['TARGET'])"
   ]
  },
  {
   "cell_type": "code",
   "execution_count": 35,
   "id": "0dcc0beb",
   "metadata": {},
   "outputs": [],
   "source": [
    "test, validate = train_test_split(test_and_validate, test_size = 0.5, random_state = 42, stratify = test_and_validate['TARGET'])"
   ]
  },
  {
   "cell_type": "code",
   "execution_count": 36,
   "id": "712071b9",
   "metadata": {},
   "outputs": [
    {
     "name": "stdout",
     "output_type": "stream",
     "text": [
      "(246008, 240)\n",
      "(30751, 240)\n",
      "(30752, 240)\n"
     ]
    }
   ],
   "source": [
    "print(train.shape)\n",
    "print(test.shape)\n",
    "print(validate.shape)"
   ]
  },
  {
   "cell_type": "code",
   "execution_count": 37,
   "id": "95e64c3b",
   "metadata": {},
   "outputs": [
    {
     "name": "stdout",
     "output_type": "stream",
     "text": [
      "0.0    226148\n",
      "1.0     19860\n",
      "Name: TARGET, dtype: int64\n",
      "0.0    28269\n",
      "1.0     2482\n",
      "Name: TARGET, dtype: int64\n",
      "0.0    28269\n",
      "1.0     2483\n",
      "Name: TARGET, dtype: int64\n"
     ]
    }
   ],
   "source": [
    "print(train['TARGET'].value_counts())\n",
    "print(test['TARGET'].value_counts())\n",
    "print(validate['TARGET'].value_counts())"
   ]
  },
  {
   "cell_type": "markdown",
   "id": "6216c107",
   "metadata": {},
   "source": [
    "Uploading the data to Amazon S3"
   ]
  },
  {
   "cell_type": "code",
   "execution_count": 38,
   "id": "4049726e",
   "metadata": {},
   "outputs": [],
   "source": [
    "bucket = 'credit2022results'"
   ]
  },
  {
   "cell_type": "code",
   "execution_count": 39,
   "id": "8683689f",
   "metadata": {},
   "outputs": [],
   "source": [
    "prefix = 'XGBoost_02'"
   ]
  },
  {
   "cell_type": "code",
   "execution_count": 40,
   "id": "d2254209",
   "metadata": {},
   "outputs": [],
   "source": [
    "train_file='part_train.csv'\n",
    "test_file='part_test.csv'\n",
    "validate_file='part_validate.csv'"
   ]
  },
  {
   "cell_type": "code",
   "execution_count": 41,
   "id": "f96c1632",
   "metadata": {},
   "outputs": [],
   "source": [
    "s3_resource = boto3.Session().resource('s3')\n",
    "def upload_s3_csv(filename, folder, dataframe):\n",
    "    csv_buffer = io.StringIO()\n",
    "    dataframe.to_csv(csv_buffer, header=False, index=False )\n",
    "    s3_resource.Bucket(bucket).Object(os.path.join(prefix, folder, filename)).put(Body=csv_buffer.getvalue())"
   ]
  },
  {
   "cell_type": "code",
   "execution_count": 42,
   "id": "bc312bf7",
   "metadata": {},
   "outputs": [],
   "source": [
    "upload_s3_csv(train_file, 'train', train)\n",
    "upload_s3_csv(test_file, 'test', test)\n",
    "upload_s3_csv(validate_file, 'validate', validate)"
   ]
  },
  {
   "cell_type": "code",
   "execution_count": 43,
   "id": "3ff8fe95",
   "metadata": {},
   "outputs": [],
   "source": [
    "container = retrieve('xgboost',boto3.Session().region_name,'1.0-1')"
   ]
  },
  {
   "cell_type": "code",
   "execution_count": 44,
   "id": "7b401be8",
   "metadata": {},
   "outputs": [],
   "source": [
    "hyperparams={\"num_round\":\"42\",\n",
    "             \"eval_metric\": \"auc\",\n",
    "             \"objective\": \"binary:logistic\"}"
   ]
  },
  {
   "cell_type": "code",
   "execution_count": 45,
   "id": "385b71d7",
   "metadata": {},
   "outputs": [],
   "source": [
    "s3_output_location=\"s3://{}/{}/output/\".format(bucket,prefix)\n",
    "xgb_model=sagemaker.estimator.Estimator(container,\n",
    "                                       sagemaker.get_execution_role(),\n",
    "                                       instance_count=1,\n",
    "                                       instance_type='ml.m4.xlarge',\n",
    "                                       output_path=s3_output_location,\n",
    "                                        hyperparameters=hyperparams,\n",
    "                                        sagemaker_session=sagemaker.Session())"
   ]
  },
  {
   "cell_type": "code",
   "execution_count": 46,
   "id": "6aae4642",
   "metadata": {},
   "outputs": [],
   "source": [
    "train_channel = sagemaker.inputs.TrainingInput(\n",
    "    \"s3://{}/{}/train/\".format(bucket,prefix,train_file),\n",
    "    content_type='text/csv')"
   ]
  },
  {
   "cell_type": "code",
   "execution_count": 47,
   "id": "c9f82de4",
   "metadata": {},
   "outputs": [],
   "source": [
    "validate_channel = sagemaker.inputs.TrainingInput(\n",
    "    \"s3://{}/{}/validate/\".format(bucket,prefix,validate_file),\n",
    "    content_type='text/csv')"
   ]
  },
  {
   "cell_type": "code",
   "execution_count": 48,
   "id": "7f02ff1f",
   "metadata": {},
   "outputs": [],
   "source": [
    "data_channels = {'train': train_channel, 'validation': validate_channel}\n"
   ]
  },
  {
   "cell_type": "code",
   "execution_count": 49,
   "id": "a8d0aefc",
   "metadata": {},
   "outputs": [
    {
     "name": "stdout",
     "output_type": "stream",
     "text": [
      "\n",
      "2022-11-27 21:19:35 Starting - Starting the training job.......\n",
      "2022-11-27 21:20:13 Starting - Preparing the instances for training...............\n",
      "2022-11-27 21:21:33 Downloading - Downloading input data........\n",
      "2022-11-27 21:22:22 Training - Downloading the training image........\n",
      "2022-11-27 21:23:03 Training - Training image download completed. Training in progress.............\n",
      "2022-11-27 21:24:09 Uploading - Uploading generated training model.\n",
      "2022-11-27 21:24:23 Completed - Training job completed\n"
     ]
    }
   ],
   "source": [
    "xgb_model.fit(inputs=data_channels, logs=False)"
   ]
  },
  {
   "cell_type": "code",
   "execution_count": 50,
   "id": "bc366e7a",
   "metadata": {},
   "outputs": [],
   "source": [
    "batch_X = test.iloc[:,1:];"
   ]
  },
  {
   "cell_type": "code",
   "execution_count": 51,
   "id": "596fc92d",
   "metadata": {},
   "outputs": [],
   "source": [
    "batch_X_file='batch-in.csv'\n",
    "upload_s3_csv(batch_X_file, 'batch-in', batch_X)"
   ]
  },
  {
   "cell_type": "code",
   "execution_count": 52,
   "id": "ab912a62",
   "metadata": {},
   "outputs": [],
   "source": [
    "batch_output = \"s3://{}/{}/batch-out/\".format(bucket,prefix)\n",
    "batch_input = \"s3://{}/{}/batch-in/{}\".format(bucket,prefix,batch_X_file)"
   ]
  },
  {
   "cell_type": "code",
   "execution_count": 53,
   "id": "b95484d7",
   "metadata": {},
   "outputs": [],
   "source": [
    "xgb_transformer = xgb_model.transformer(instance_count=1,\n",
    "                                       instance_type='ml.m4.xlarge',\n",
    "                                       strategy='MultiRecord',\n",
    "                                       assemble_with='Line',\n",
    "                                       output_path=batch_output)"
   ]
  },
  {
   "cell_type": "code",
   "execution_count": 54,
   "id": "fb86c7a8",
   "metadata": {},
   "outputs": [
    {
     "name": "stdout",
     "output_type": "stream",
     "text": [
      "..................................\u001b[34m[2022-11-27:21:29:57:INFO] No GPUs detected (normal if no gpus installed)\u001b[0m\n",
      "\u001b[34m[2022-11-27:21:29:57:INFO] No GPUs detected (normal if no gpus installed)\u001b[0m\n",
      "\u001b[34m[2022-11-27:21:29:57:INFO] nginx config: \u001b[0m\n",
      "\u001b[34mworker_processes auto;\u001b[0m\n",
      "\u001b[34mdaemon off;\u001b[0m\n",
      "\u001b[34mpid /tmp/nginx.pid;\u001b[0m\n",
      "\u001b[34merror_log  /dev/stderr;\u001b[0m\n",
      "\u001b[34mworker_rlimit_nofile 4096;\u001b[0m\n",
      "\u001b[34mevents {\n",
      "  worker_connections 2048;\u001b[0m\n",
      "\u001b[34m}\u001b[0m\n",
      "\u001b[34mhttp {\n",
      "  include /etc/nginx/mime.types;\n",
      "  default_type application/octet-stream;\n",
      "  access_log /dev/stdout combined;\n",
      "  upstream gunicorn {\n",
      "    server unix:/tmp/gunicorn.sock;\n",
      "  }\n",
      "  server {\n",
      "    listen 8080 deferred;\n",
      "    client_max_body_size 0;\n",
      "    keepalive_timeout 3;\n",
      "    location ~ ^/(ping|invocations|execution-parameters) {\n",
      "      proxy_set_header X-Forwarded-For $proxy_add_x_forwarded_for;\n",
      "      proxy_set_header Host $http_host;\n",
      "      proxy_redirect off;\n",
      "      proxy_read_timeout 60s;\n",
      "      proxy_pass http://gunicorn;\n",
      "    }\n",
      "    location / {\n",
      "      return 404 \"{}\";\n",
      "    }\n",
      "  }\u001b[0m\n",
      "\u001b[34m}\u001b[0m\n",
      "\u001b[34m[2022-11-27 21:29:57 +0000] [18] [INFO] Starting gunicorn 19.10.0\u001b[0m\n",
      "\u001b[34m[2022-11-27 21:29:57 +0000] [18] [INFO] Listening at: unix:/tmp/gunicorn.sock (18)\u001b[0m\n",
      "\u001b[34m[2022-11-27 21:29:57 +0000] [18] [INFO] Using worker: gevent\u001b[0m\n",
      "\u001b[34m[2022-11-27 21:29:57 +0000] [25] [INFO] Booting worker with pid: 25\u001b[0m\n",
      "\u001b[34m[2022-11-27 21:29:57 +0000] [26] [INFO] Booting worker with pid: 26\u001b[0m\n",
      "\u001b[34m[2022-11-27 21:29:57 +0000] [27] [INFO] Booting worker with pid: 27\u001b[0m\n",
      "\u001b[34m[2022-11-27 21:29:58 +0000] [28] [INFO] Booting worker with pid: 28\u001b[0m\n",
      "\u001b[34m[2022-11-27:21:30:04:INFO] No GPUs detected (normal if no gpus installed)\u001b[0m\n",
      "\u001b[34m169.254.255.130 - - [27/Nov/2022:21:30:04 +0000] \"GET /ping HTTP/1.1\" 200 0 \"-\" \"Go-http-client/1.1\"\u001b[0m\n",
      "\u001b[34m[2022-11-27:21:30:04:INFO] No GPUs detected (normal if no gpus installed)\u001b[0m\n",
      "\u001b[34m169.254.255.130 - - [27/Nov/2022:21:30:04 +0000] \"GET /execution-parameters HTTP/1.1\" 200 84 \"-\" \"Go-http-client/1.1\"\u001b[0m\n",
      "\u001b[34m[2022-11-27:21:30:05:INFO] No GPUs detected (normal if no gpus installed)\u001b[0m\n",
      "\u001b[34m[2022-11-27:21:30:05:INFO] No GPUs detected (normal if no gpus installed)\u001b[0m\n",
      "\u001b[34m[2022-11-27:21:30:05:INFO] Determined delimiter of CSV input is ','\u001b[0m\n",
      "\u001b[34m[2022-11-27:21:30:05:INFO] Determined delimiter of CSV input is ','\u001b[0m\n",
      "\u001b[34m[2022-11-27:21:30:05:INFO] Determined delimiter of CSV input is ','\u001b[0m\n",
      "\u001b[34m[2022-11-27:21:30:05:INFO] Determined delimiter of CSV input is ','\u001b[0m\n",
      "\u001b[34m169.254.255.130 - - [27/Nov/2022:21:30:07 +0000] \"POST /invocations HTTP/1.1\" 200 93707 \"-\" \"Go-http-client/1.1\"\u001b[0m\n",
      "\u001b[34m169.254.255.130 - - [27/Nov/2022:21:30:07 +0000] \"POST /invocations HTTP/1.1\" 200 93728 \"-\" \"Go-http-client/1.1\"\u001b[0m\n",
      "\u001b[35m169.254.255.130 - - [27/Nov/2022:21:30:07 +0000] \"POST /invocations HTTP/1.1\" 200 93707 \"-\" \"Go-http-client/1.1\"\u001b[0m\n",
      "\u001b[35m169.254.255.130 - - [27/Nov/2022:21:30:07 +0000] \"POST /invocations HTTP/1.1\" 200 93728 \"-\" \"Go-http-client/1.1\"\u001b[0m\n",
      "\u001b[34m169.254.255.130 - - [27/Nov/2022:21:30:07 +0000] \"POST /invocations HTTP/1.1\" 200 93765 \"-\" \"Go-http-client/1.1\"\u001b[0m\n",
      "\u001b[35m169.254.255.130 - - [27/Nov/2022:21:30:07 +0000] \"POST /invocations HTTP/1.1\" 200 93765 \"-\" \"Go-http-client/1.1\"\u001b[0m\n",
      "\u001b[32m2022-11-27T21:30:04.432:[sagemaker logs]: MaxConcurrentTransforms=4, MaxPayloadInMB=6, BatchStrategy=MULTI_RECORD\u001b[0m\n",
      "\u001b[34m169.254.255.130 - - [27/Nov/2022:21:30:07 +0000] \"POST /invocations HTTP/1.1\" 200 93755 \"-\" \"Go-http-client/1.1\"\u001b[0m\n",
      "\u001b[34m[2022-11-27:21:30:07:INFO] Determined delimiter of CSV input is ','\u001b[0m\n",
      "\u001b[34m[2022-11-27:21:30:07:INFO] Determined delimiter of CSV input is ','\u001b[0m\n",
      "\u001b[35m169.254.255.130 - - [27/Nov/2022:21:30:07 +0000] \"POST /invocations HTTP/1.1\" 200 93755 \"-\" \"Go-http-client/1.1\"\u001b[0m\n",
      "\u001b[35m[2022-11-27:21:30:07:INFO] Determined delimiter of CSV input is ','\u001b[0m\n",
      "\u001b[35m[2022-11-27:21:30:07:INFO] Determined delimiter of CSV input is ','\u001b[0m\n",
      "\u001b[34m169.254.255.130 - - [27/Nov/2022:21:30:08 +0000] \"POST /invocations HTTP/1.1\" 200 57071 \"-\" \"Go-http-client/1.1\"\u001b[0m\n",
      "\u001b[35m169.254.255.130 - - [27/Nov/2022:21:30:08 +0000] \"POST /invocations HTTP/1.1\" 200 57071 \"-\" \"Go-http-client/1.1\"\u001b[0m\n",
      "\u001b[34m169.254.255.130 - - [27/Nov/2022:21:30:08 +0000] \"POST /invocations HTTP/1.1\" 200 93876 \"-\" \"Go-http-client/1.1\"\u001b[0m\n",
      "\u001b[34m[2022-11-27:21:30:08:INFO] Determined delimiter of CSV input is ','\u001b[0m\n",
      "\u001b[34m169.254.255.130 - - [27/Nov/2022:21:30:09 +0000] \"POST /invocations HTTP/1.1\" 200 93801 \"-\" \"Go-http-client/1.1\"\u001b[0m\n",
      "\u001b[35m169.254.255.130 - - [27/Nov/2022:21:30:08 +0000] \"POST /invocations HTTP/1.1\" 200 93876 \"-\" \"Go-http-client/1.1\"\u001b[0m\n",
      "\u001b[35m[2022-11-27:21:30:08:INFO] Determined delimiter of CSV input is ','\u001b[0m\n",
      "\u001b[35m169.254.255.130 - - [27/Nov/2022:21:30:09 +0000] \"POST /invocations HTTP/1.1\" 200 93801 \"-\" \"Go-http-client/1.1\"\u001b[0m\n",
      "\n"
     ]
    }
   ],
   "source": [
    "xgb_transformer.transform(data=batch_input,\n",
    "                         data_type='S3Prefix',\n",
    "                         content_type='text/csv',\n",
    "                         split_type='Line')"
   ]
  },
  {
   "cell_type": "code",
   "execution_count": 55,
   "id": "a8b5d041",
   "metadata": {},
   "outputs": [
    {
     "name": "stdout",
     "output_type": "stream",
     "text": [
      "\u001b[34m[2022-11-27:21:29:57:INFO] No GPUs detected (normal if no gpus installed)\u001b[0m\n",
      "\u001b[34m[2022-11-27:21:29:57:INFO] No GPUs detected (normal if no gpus installed)\u001b[0m\n",
      "\u001b[34m[2022-11-27:21:29:57:INFO] nginx config: \u001b[0m\n",
      "\u001b[34mworker_processes auto;\u001b[0m\n",
      "\u001b[34mdaemon off;\u001b[0m\n",
      "\u001b[35m[2022-11-27:21:29:57:INFO] No GPUs detected (normal if no gpus installed)\u001b[0m\n",
      "\u001b[35m[2022-11-27:21:29:57:INFO] No GPUs detected (normal if no gpus installed)\u001b[0m\n",
      "\u001b[35m[2022-11-27:21:29:57:INFO] nginx config: \u001b[0m\n",
      "\u001b[35mworker_processes auto;\u001b[0m\n",
      "\u001b[35mdaemon off;\u001b[0m\n",
      "\u001b[34mpid /tmp/nginx.pid;\u001b[0m\n",
      "\u001b[34merror_log  /dev/stderr;\u001b[0m\n",
      "\u001b[34mworker_rlimit_nofile 4096;\u001b[0m\n",
      "\u001b[34mevents {\n",
      "  worker_connections 2048;\u001b[0m\n",
      "\u001b[34m}\u001b[0m\n",
      "\u001b[34mhttp {\n",
      "  include /etc/nginx/mime.types;\n",
      "  default_type application/octet-stream;\n",
      "  access_log /dev/stdout combined;\n",
      "  upstream gunicorn {\n",
      "    server unix:/tmp/gunicorn.sock;\n",
      "  }\n",
      "  server {\n",
      "    listen 8080 deferred;\n",
      "    client_max_body_size 0;\n",
      "    keepalive_timeout 3;\n",
      "    location ~ ^/(ping|invocations|execution-parameters) {\n",
      "      proxy_set_header X-Forwarded-For $proxy_add_x_forwarded_for;\n",
      "      proxy_set_header Host $http_host;\n",
      "      proxy_redirect off;\n",
      "      proxy_read_timeout 60s;\n",
      "      proxy_pass http://gunicorn;\n",
      "    }\n",
      "    location / {\n",
      "      return 404 \"{}\";\n",
      "    }\n",
      "  }\u001b[0m\n",
      "\u001b[34m}\u001b[0m\n",
      "\u001b[34m[2022-11-27 21:29:57 +0000] [18] [INFO] Starting gunicorn 19.10.0\u001b[0m\n",
      "\u001b[34m[2022-11-27 21:29:57 +0000] [18] [INFO] Listening at: unix:/tmp/gunicorn.sock (18)\u001b[0m\n",
      "\u001b[34m[2022-11-27 21:29:57 +0000] [18] [INFO] Using worker: gevent\u001b[0m\n",
      "\u001b[34m[2022-11-27 21:29:57 +0000] [25] [INFO] Booting worker with pid: 25\u001b[0m\n",
      "\u001b[34m[2022-11-27 21:29:57 +0000] [26] [INFO] Booting worker with pid: 26\u001b[0m\n",
      "\u001b[34m[2022-11-27 21:29:57 +0000] [27] [INFO] Booting worker with pid: 27\u001b[0m\n",
      "\u001b[34m[2022-11-27 21:29:58 +0000] [28] [INFO] Booting worker with pid: 28\u001b[0m\n",
      "\u001b[35mpid /tmp/nginx.pid;\u001b[0m\n",
      "\u001b[35merror_log  /dev/stderr;\u001b[0m\n",
      "\u001b[35mworker_rlimit_nofile 4096;\u001b[0m\n",
      "\u001b[35mevents {\n",
      "  worker_connections 2048;\u001b[0m\n",
      "\u001b[35m}\u001b[0m\n",
      "\u001b[35mhttp {\n",
      "  include /etc/nginx/mime.types;\n",
      "  default_type application/octet-stream;\n",
      "  access_log /dev/stdout combined;\n",
      "  upstream gunicorn {\n",
      "    server unix:/tmp/gunicorn.sock;\n",
      "  }\n",
      "  server {\n",
      "    listen 8080 deferred;\n",
      "    client_max_body_size 0;\n",
      "    keepalive_timeout 3;\n",
      "    location ~ ^/(ping|invocations|execution-parameters) {\n",
      "      proxy_set_header X-Forwarded-For $proxy_add_x_forwarded_for;\n",
      "      proxy_set_header Host $http_host;\n",
      "      proxy_redirect off;\n",
      "      proxy_read_timeout 60s;\n",
      "      proxy_pass http://gunicorn;\n",
      "    }\n",
      "    location / {\n",
      "      return 404 \"{}\";\n",
      "    }\n",
      "  }\u001b[0m\n",
      "\u001b[35m}\u001b[0m\n",
      "\u001b[35m[2022-11-27 21:29:57 +0000] [18] [INFO] Starting gunicorn 19.10.0\u001b[0m\n",
      "\u001b[35m[2022-11-27 21:29:57 +0000] [18] [INFO] Listening at: unix:/tmp/gunicorn.sock (18)\u001b[0m\n",
      "\u001b[35m[2022-11-27 21:29:57 +0000] [18] [INFO] Using worker: gevent\u001b[0m\n",
      "\u001b[35m[2022-11-27 21:29:57 +0000] [25] [INFO] Booting worker with pid: 25\u001b[0m\n",
      "\u001b[35m[2022-11-27 21:29:57 +0000] [26] [INFO] Booting worker with pid: 26\u001b[0m\n",
      "\u001b[35m[2022-11-27 21:29:57 +0000] [27] [INFO] Booting worker with pid: 27\u001b[0m\n",
      "\u001b[35m[2022-11-27 21:29:58 +0000] [28] [INFO] Booting worker with pid: 28\u001b[0m\n",
      "\u001b[34m[2022-11-27:21:30:04:INFO] No GPUs detected (normal if no gpus installed)\u001b[0m\n",
      "\u001b[34m169.254.255.130 - - [27/Nov/2022:21:30:04 +0000] \"GET /ping HTTP/1.1\" 200 0 \"-\" \"Go-http-client/1.1\"\u001b[0m\n",
      "\u001b[34m[2022-11-27:21:30:04:INFO] No GPUs detected (normal if no gpus installed)\u001b[0m\n",
      "\u001b[34m169.254.255.130 - - [27/Nov/2022:21:30:04 +0000] \"GET /execution-parameters HTTP/1.1\" 200 84 \"-\" \"Go-http-client/1.1\"\u001b[0m\n",
      "\u001b[35m[2022-11-27:21:30:04:INFO] No GPUs detected (normal if no gpus installed)\u001b[0m\n",
      "\u001b[35m169.254.255.130 - - [27/Nov/2022:21:30:04 +0000] \"GET /ping HTTP/1.1\" 200 0 \"-\" \"Go-http-client/1.1\"\u001b[0m\n",
      "\u001b[35m[2022-11-27:21:30:04:INFO] No GPUs detected (normal if no gpus installed)\u001b[0m\n",
      "\u001b[35m169.254.255.130 - - [27/Nov/2022:21:30:04 +0000] \"GET /execution-parameters HTTP/1.1\" 200 84 \"-\" \"Go-http-client/1.1\"\u001b[0m\n",
      "\u001b[34m[2022-11-27:21:30:05:INFO] No GPUs detected (normal if no gpus installed)\u001b[0m\n",
      "\u001b[34m[2022-11-27:21:30:05:INFO] No GPUs detected (normal if no gpus installed)\u001b[0m\n",
      "\u001b[34m[2022-11-27:21:30:05:INFO] Determined delimiter of CSV input is ','\u001b[0m\n",
      "\u001b[34m[2022-11-27:21:30:05:INFO] Determined delimiter of CSV input is ','\u001b[0m\n",
      "\u001b[34m[2022-11-27:21:30:05:INFO] Determined delimiter of CSV input is ','\u001b[0m\n",
      "\u001b[34m[2022-11-27:21:30:05:INFO] Determined delimiter of CSV input is ','\u001b[0m\n",
      "\u001b[35m[2022-11-27:21:30:05:INFO] No GPUs detected (normal if no gpus installed)\u001b[0m\n",
      "\u001b[35m[2022-11-27:21:30:05:INFO] No GPUs detected (normal if no gpus installed)\u001b[0m\n",
      "\u001b[35m[2022-11-27:21:30:05:INFO] Determined delimiter of CSV input is ','\u001b[0m\n",
      "\u001b[35m[2022-11-27:21:30:05:INFO] Determined delimiter of CSV input is ','\u001b[0m\n",
      "\u001b[35m[2022-11-27:21:30:05:INFO] Determined delimiter of CSV input is ','\u001b[0m\n",
      "\u001b[35m[2022-11-27:21:30:05:INFO] Determined delimiter of CSV input is ','\u001b[0m\n",
      "\u001b[34m169.254.255.130 - - [27/Nov/2022:21:30:07 +0000] \"POST /invocations HTTP/1.1\" 200 93707 \"-\" \"Go-http-client/1.1\"\u001b[0m\n",
      "\u001b[34m169.254.255.130 - - [27/Nov/2022:21:30:07 +0000] \"POST /invocations HTTP/1.1\" 200 93728 \"-\" \"Go-http-client/1.1\"\u001b[0m\n",
      "\u001b[35m169.254.255.130 - - [27/Nov/2022:21:30:07 +0000] \"POST /invocations HTTP/1.1\" 200 93707 \"-\" \"Go-http-client/1.1\"\u001b[0m\n",
      "\u001b[35m169.254.255.130 - - [27/Nov/2022:21:30:07 +0000] \"POST /invocations HTTP/1.1\" 200 93728 \"-\" \"Go-http-client/1.1\"\u001b[0m\n",
      "\u001b[34m169.254.255.130 - - [27/Nov/2022:21:30:07 +0000] \"POST /invocations HTTP/1.1\" 200 93765 \"-\" \"Go-http-client/1.1\"\u001b[0m\n",
      "\u001b[35m169.254.255.130 - - [27/Nov/2022:21:30:07 +0000] \"POST /invocations HTTP/1.1\" 200 93765 \"-\" \"Go-http-client/1.1\"\u001b[0m\n",
      "\u001b[32m2022-11-27T21:30:04.432:[sagemaker logs]: MaxConcurrentTransforms=4, MaxPayloadInMB=6, BatchStrategy=MULTI_RECORD\u001b[0m\n",
      "\u001b[34m169.254.255.130 - - [27/Nov/2022:21:30:07 +0000] \"POST /invocations HTTP/1.1\" 200 93755 \"-\" \"Go-http-client/1.1\"\u001b[0m\n",
      "\u001b[34m[2022-11-27:21:30:07:INFO] Determined delimiter of CSV input is ','\u001b[0m\n",
      "\u001b[34m[2022-11-27:21:30:07:INFO] Determined delimiter of CSV input is ','\u001b[0m\n",
      "\u001b[35m169.254.255.130 - - [27/Nov/2022:21:30:07 +0000] \"POST /invocations HTTP/1.1\" 200 93755 \"-\" \"Go-http-client/1.1\"\u001b[0m\n",
      "\u001b[35m[2022-11-27:21:30:07:INFO] Determined delimiter of CSV input is ','\u001b[0m\n",
      "\u001b[35m[2022-11-27:21:30:07:INFO] Determined delimiter of CSV input is ','\u001b[0m\n",
      "\u001b[34m169.254.255.130 - - [27/Nov/2022:21:30:08 +0000] \"POST /invocations HTTP/1.1\" 200 57071 \"-\" \"Go-http-client/1.1\"\u001b[0m\n",
      "\u001b[35m169.254.255.130 - - [27/Nov/2022:21:30:08 +0000] \"POST /invocations HTTP/1.1\" 200 57071 \"-\" \"Go-http-client/1.1\"\u001b[0m\n",
      "\u001b[34m169.254.255.130 - - [27/Nov/2022:21:30:08 +0000] \"POST /invocations HTTP/1.1\" 200 93876 \"-\" \"Go-http-client/1.1\"\u001b[0m\n",
      "\u001b[34m[2022-11-27:21:30:08:INFO] Determined delimiter of CSV input is ','\u001b[0m\n",
      "\u001b[34m169.254.255.130 - - [27/Nov/2022:21:30:09 +0000] \"POST /invocations HTTP/1.1\" 200 93801 \"-\" \"Go-http-client/1.1\"\u001b[0m\n",
      "\u001b[35m169.254.255.130 - - [27/Nov/2022:21:30:08 +0000] \"POST /invocations HTTP/1.1\" 200 93876 \"-\" \"Go-http-client/1.1\"\u001b[0m\n",
      "\u001b[35m[2022-11-27:21:30:08:INFO] Determined delimiter of CSV input is ','\u001b[0m\n",
      "\u001b[35m169.254.255.130 - - [27/Nov/2022:21:30:09 +0000] \"POST /invocations HTTP/1.1\" 200 93801 \"-\" \"Go-http-client/1.1\"\u001b[0m\n"
     ]
    }
   ],
   "source": [
    "xgb_transformer.wait()"
   ]
  },
  {
   "cell_type": "markdown",
   "id": "12fa0072",
   "metadata": {},
   "source": [
    "## Explorando os resultados"
   ]
  },
  {
   "cell_type": "code",
   "execution_count": 56,
   "id": "49fe5a5d",
   "metadata": {},
   "outputs": [
    {
     "data": {
      "text/html": [
       "<div>\n",
       "<style scoped>\n",
       "    .dataframe tbody tr th:only-of-type {\n",
       "        vertical-align: middle;\n",
       "    }\n",
       "\n",
       "    .dataframe tbody tr th {\n",
       "        vertical-align: top;\n",
       "    }\n",
       "\n",
       "    .dataframe thead th {\n",
       "        text-align: right;\n",
       "    }\n",
       "</style>\n",
       "<table border=\"1\" class=\"dataframe\">\n",
       "  <thead>\n",
       "    <tr style=\"text-align: right;\">\n",
       "      <th></th>\n",
       "      <th>class</th>\n",
       "    </tr>\n",
       "  </thead>\n",
       "  <tbody>\n",
       "    <tr>\n",
       "      <th>0</th>\n",
       "      <td>0.037589</td>\n",
       "    </tr>\n",
       "    <tr>\n",
       "      <th>1</th>\n",
       "      <td>0.051517</td>\n",
       "    </tr>\n",
       "    <tr>\n",
       "      <th>2</th>\n",
       "      <td>0.090966</td>\n",
       "    </tr>\n",
       "    <tr>\n",
       "      <th>3</th>\n",
       "      <td>0.010947</td>\n",
       "    </tr>\n",
       "    <tr>\n",
       "      <th>4</th>\n",
       "      <td>0.061657</td>\n",
       "    </tr>\n",
       "    <tr>\n",
       "      <th>5</th>\n",
       "      <td>0.185276</td>\n",
       "    </tr>\n",
       "    <tr>\n",
       "      <th>6</th>\n",
       "      <td>0.025829</td>\n",
       "    </tr>\n",
       "    <tr>\n",
       "      <th>7</th>\n",
       "      <td>0.076435</td>\n",
       "    </tr>\n",
       "    <tr>\n",
       "      <th>8</th>\n",
       "      <td>0.053010</td>\n",
       "    </tr>\n",
       "    <tr>\n",
       "      <th>9</th>\n",
       "      <td>0.026354</td>\n",
       "    </tr>\n",
       "    <tr>\n",
       "      <th>10</th>\n",
       "      <td>0.012842</td>\n",
       "    </tr>\n",
       "    <tr>\n",
       "      <th>11</th>\n",
       "      <td>0.028149</td>\n",
       "    </tr>\n",
       "    <tr>\n",
       "      <th>12</th>\n",
       "      <td>0.017572</td>\n",
       "    </tr>\n",
       "    <tr>\n",
       "      <th>13</th>\n",
       "      <td>0.013677</td>\n",
       "    </tr>\n",
       "    <tr>\n",
       "      <th>14</th>\n",
       "      <td>0.060298</td>\n",
       "    </tr>\n",
       "  </tbody>\n",
       "</table>\n",
       "</div>"
      ],
      "text/plain": [
       "       class\n",
       "0   0.037589\n",
       "1   0.051517\n",
       "2   0.090966\n",
       "3   0.010947\n",
       "4   0.061657\n",
       "5   0.185276\n",
       "6   0.025829\n",
       "7   0.076435\n",
       "8   0.053010\n",
       "9   0.026354\n",
       "10  0.012842\n",
       "11  0.028149\n",
       "12  0.017572\n",
       "13  0.013677\n",
       "14  0.060298"
      ]
     },
     "execution_count": 56,
     "metadata": {},
     "output_type": "execute_result"
    }
   ],
   "source": [
    "s3 = boto3.client('s3')\n",
    "obj = s3.get_object(Bucket=bucket, Key=\"{}/batch-out/{}\".format(prefix,'batch-in.csv.out'))\n",
    "target_predicted = pd.read_csv(io.BytesIO(obj['Body'].read()),',',names=['class'])\n",
    "target_predicted.head(15)"
   ]
  },
  {
   "cell_type": "code",
   "execution_count": 57,
   "id": "1ec3154e",
   "metadata": {},
   "outputs": [],
   "source": [
    "def binary_convert(x):\n",
    "    threshold = 0.3\n",
    "    if x > threshold:\n",
    "        return 1\n",
    "    else:\n",
    "        return 0"
   ]
  },
  {
   "cell_type": "code",
   "execution_count": 58,
   "id": "87d4c4b6",
   "metadata": {},
   "outputs": [],
   "source": [
    "target_predicted_binary = target_predicted['class'].apply(binary_convert)"
   ]
  },
  {
   "cell_type": "markdown",
   "id": "b218744f",
   "metadata": {},
   "source": [
    "OBS: A primeira saída da tabela serão os _predicted values_ (valores\n",
    "previstos), e a segunda saída da tabela serão os _original test data_\n",
    "(dados de teste originais)."
   ]
  },
  {
   "cell_type": "code",
   "execution_count": 59,
   "id": "71281383",
   "metadata": {},
   "outputs": [
    {
     "name": "stdout",
     "output_type": "stream",
     "text": [
      "0    0\n",
      "1    0\n",
      "2    0\n",
      "3    0\n",
      "4    0\n",
      "Name: class, dtype: int64\n"
     ]
    },
    {
     "data": {
      "text/html": [
       "<div>\n",
       "<style scoped>\n",
       "    .dataframe tbody tr th:only-of-type {\n",
       "        vertical-align: middle;\n",
       "    }\n",
       "\n",
       "    .dataframe tbody tr th {\n",
       "        vertical-align: top;\n",
       "    }\n",
       "\n",
       "    .dataframe thead th {\n",
       "        text-align: right;\n",
       "    }\n",
       "</style>\n",
       "<table border=\"1\" class=\"dataframe\">\n",
       "  <thead>\n",
       "    <tr style=\"text-align: right;\">\n",
       "      <th></th>\n",
       "      <th>TARGET</th>\n",
       "      <th>SK_ID_CURR</th>\n",
       "      <th>NAME_CONTRACT_TYPE</th>\n",
       "      <th>FLAG_OWN_CAR</th>\n",
       "      <th>FLAG_OWN_REALTY</th>\n",
       "      <th>CNT_CHILDREN</th>\n",
       "      <th>AMT_INCOME_TOTAL</th>\n",
       "      <th>AMT_CREDIT</th>\n",
       "      <th>AMT_ANNUITY</th>\n",
       "      <th>AMT_GOODS_PRICE</th>\n",
       "      <th>...</th>\n",
       "      <th>HOUSETYPE_MODE_terraced house</th>\n",
       "      <th>WALLSMATERIAL_MODE_Block</th>\n",
       "      <th>WALLSMATERIAL_MODE_Mixed</th>\n",
       "      <th>WALLSMATERIAL_MODE_Monolithic</th>\n",
       "      <th>WALLSMATERIAL_MODE_Others</th>\n",
       "      <th>WALLSMATERIAL_MODE_Panel</th>\n",
       "      <th>WALLSMATERIAL_MODE_Stone, brick</th>\n",
       "      <th>WALLSMATERIAL_MODE_Wooden</th>\n",
       "      <th>EMERGENCYSTATE_MODE_No</th>\n",
       "      <th>EMERGENCYSTATE_MODE_Yes</th>\n",
       "    </tr>\n",
       "  </thead>\n",
       "  <tbody>\n",
       "    <tr>\n",
       "      <th>133535</th>\n",
       "      <td>0.0</td>\n",
       "      <td>0.434725</td>\n",
       "      <td>0.0</td>\n",
       "      <td>0.0</td>\n",
       "      <td>1.0</td>\n",
       "      <td>0.000000</td>\n",
       "      <td>0.002474</td>\n",
       "      <td>0.067582</td>\n",
       "      <td>0.092910</td>\n",
       "      <td>0.062851</td>\n",
       "      <td>...</td>\n",
       "      <td>0.0</td>\n",
       "      <td>0.0</td>\n",
       "      <td>0.0</td>\n",
       "      <td>0.0</td>\n",
       "      <td>0.0</td>\n",
       "      <td>0.0</td>\n",
       "      <td>1.0</td>\n",
       "      <td>0.0</td>\n",
       "      <td>1.0</td>\n",
       "      <td>0.0</td>\n",
       "    </tr>\n",
       "    <tr>\n",
       "      <th>158392</th>\n",
       "      <td>0.0</td>\n",
       "      <td>0.515417</td>\n",
       "      <td>0.0</td>\n",
       "      <td>1.0</td>\n",
       "      <td>0.0</td>\n",
       "      <td>0.052632</td>\n",
       "      <td>0.003628</td>\n",
       "      <td>0.262200</td>\n",
       "      <td>0.221762</td>\n",
       "      <td>0.248036</td>\n",
       "      <td>...</td>\n",
       "      <td>0.0</td>\n",
       "      <td>0.0</td>\n",
       "      <td>0.0</td>\n",
       "      <td>0.0</td>\n",
       "      <td>0.0</td>\n",
       "      <td>0.0</td>\n",
       "      <td>1.0</td>\n",
       "      <td>0.0</td>\n",
       "      <td>1.0</td>\n",
       "      <td>0.0</td>\n",
       "    </tr>\n",
       "    <tr>\n",
       "      <th>6922</th>\n",
       "      <td>0.0</td>\n",
       "      <td>0.022630</td>\n",
       "      <td>1.0</td>\n",
       "      <td>1.0</td>\n",
       "      <td>1.0</td>\n",
       "      <td>0.052632</td>\n",
       "      <td>0.002089</td>\n",
       "      <td>0.073034</td>\n",
       "      <td>0.059512</td>\n",
       "      <td>0.074074</td>\n",
       "      <td>...</td>\n",
       "      <td>0.0</td>\n",
       "      <td>0.0</td>\n",
       "      <td>0.0</td>\n",
       "      <td>0.0</td>\n",
       "      <td>0.0</td>\n",
       "      <td>0.0</td>\n",
       "      <td>0.0</td>\n",
       "      <td>0.0</td>\n",
       "      <td>0.0</td>\n",
       "      <td>0.0</td>\n",
       "    </tr>\n",
       "    <tr>\n",
       "      <th>63020</th>\n",
       "      <td>0.0</td>\n",
       "      <td>0.205174</td>\n",
       "      <td>0.0</td>\n",
       "      <td>0.0</td>\n",
       "      <td>0.0</td>\n",
       "      <td>0.052632</td>\n",
       "      <td>0.002858</td>\n",
       "      <td>0.509393</td>\n",
       "      <td>0.276869</td>\n",
       "      <td>0.438833</td>\n",
       "      <td>...</td>\n",
       "      <td>0.0</td>\n",
       "      <td>0.0</td>\n",
       "      <td>0.0</td>\n",
       "      <td>0.0</td>\n",
       "      <td>0.0</td>\n",
       "      <td>1.0</td>\n",
       "      <td>0.0</td>\n",
       "      <td>0.0</td>\n",
       "      <td>1.0</td>\n",
       "      <td>0.0</td>\n",
       "    </tr>\n",
       "    <tr>\n",
       "      <th>84644</th>\n",
       "      <td>0.0</td>\n",
       "      <td>0.275650</td>\n",
       "      <td>0.0</td>\n",
       "      <td>0.0</td>\n",
       "      <td>1.0</td>\n",
       "      <td>0.052632</td>\n",
       "      <td>0.000935</td>\n",
       "      <td>0.318170</td>\n",
       "      <td>0.135697</td>\n",
       "      <td>0.277217</td>\n",
       "      <td>...</td>\n",
       "      <td>0.0</td>\n",
       "      <td>0.0</td>\n",
       "      <td>0.0</td>\n",
       "      <td>0.0</td>\n",
       "      <td>0.0</td>\n",
       "      <td>0.0</td>\n",
       "      <td>0.0</td>\n",
       "      <td>0.0</td>\n",
       "      <td>0.0</td>\n",
       "      <td>0.0</td>\n",
       "    </tr>\n",
       "  </tbody>\n",
       "</table>\n",
       "<p>5 rows × 240 columns</p>\n",
       "</div>"
      ],
      "text/plain": [
       "        TARGET  SK_ID_CURR  NAME_CONTRACT_TYPE  FLAG_OWN_CAR  FLAG_OWN_REALTY  \\\n",
       "133535     0.0    0.434725                 0.0           0.0              1.0   \n",
       "158392     0.0    0.515417                 0.0           1.0              0.0   \n",
       "6922       0.0    0.022630                 1.0           1.0              1.0   \n",
       "63020      0.0    0.205174                 0.0           0.0              0.0   \n",
       "84644      0.0    0.275650                 0.0           0.0              1.0   \n",
       "\n",
       "        CNT_CHILDREN  AMT_INCOME_TOTAL  AMT_CREDIT  AMT_ANNUITY  \\\n",
       "133535      0.000000          0.002474    0.067582     0.092910   \n",
       "158392      0.052632          0.003628    0.262200     0.221762   \n",
       "6922        0.052632          0.002089    0.073034     0.059512   \n",
       "63020       0.052632          0.002858    0.509393     0.276869   \n",
       "84644       0.052632          0.000935    0.318170     0.135697   \n",
       "\n",
       "        AMT_GOODS_PRICE  ...  HOUSETYPE_MODE_terraced house  \\\n",
       "133535         0.062851  ...                            0.0   \n",
       "158392         0.248036  ...                            0.0   \n",
       "6922           0.074074  ...                            0.0   \n",
       "63020          0.438833  ...                            0.0   \n",
       "84644          0.277217  ...                            0.0   \n",
       "\n",
       "        WALLSMATERIAL_MODE_Block  WALLSMATERIAL_MODE_Mixed  \\\n",
       "133535                       0.0                       0.0   \n",
       "158392                       0.0                       0.0   \n",
       "6922                         0.0                       0.0   \n",
       "63020                        0.0                       0.0   \n",
       "84644                        0.0                       0.0   \n",
       "\n",
       "        WALLSMATERIAL_MODE_Monolithic  WALLSMATERIAL_MODE_Others  \\\n",
       "133535                            0.0                        0.0   \n",
       "158392                            0.0                        0.0   \n",
       "6922                              0.0                        0.0   \n",
       "63020                             0.0                        0.0   \n",
       "84644                             0.0                        0.0   \n",
       "\n",
       "        WALLSMATERIAL_MODE_Panel  WALLSMATERIAL_MODE_Stone, brick  \\\n",
       "133535                       0.0                              1.0   \n",
       "158392                       0.0                              1.0   \n",
       "6922                         0.0                              0.0   \n",
       "63020                        1.0                              0.0   \n",
       "84644                        0.0                              0.0   \n",
       "\n",
       "        WALLSMATERIAL_MODE_Wooden  EMERGENCYSTATE_MODE_No  \\\n",
       "133535                        0.0                     1.0   \n",
       "158392                        0.0                     1.0   \n",
       "6922                          0.0                     0.0   \n",
       "63020                         0.0                     1.0   \n",
       "84644                         0.0                     0.0   \n",
       "\n",
       "        EMERGENCYSTATE_MODE_Yes  \n",
       "133535                      0.0  \n",
       "158392                      0.0  \n",
       "6922                        0.0  \n",
       "63020                       0.0  \n",
       "84644                       0.0  \n",
       "\n",
       "[5 rows x 240 columns]"
      ]
     },
     "execution_count": 59,
     "metadata": {},
     "output_type": "execute_result"
    }
   ],
   "source": [
    "print(target_predicted_binary.head(5))\n",
    "test.head(5)"
   ]
  },
  {
   "cell_type": "markdown",
   "id": "576c9cbc",
   "metadata": {},
   "source": [
    "## Criando de uma matriz de confusão (confusion matrix)"
   ]
  },
  {
   "cell_type": "code",
   "execution_count": 60,
   "id": "226fae23",
   "metadata": {},
   "outputs": [
    {
     "data": {
      "text/plain": [
       "133535    0.0\n",
       "158392    0.0\n",
       "6922      0.0\n",
       "63020     0.0\n",
       "84644     0.0\n",
       "Name: TARGET, dtype: float64"
      ]
     },
     "execution_count": 60,
     "metadata": {},
     "output_type": "execute_result"
    }
   ],
   "source": [
    "test_labels = test.iloc[:,0]\n",
    "test_labels.head()"
   ]
  },
  {
   "cell_type": "code",
   "execution_count": 61,
   "id": "d50be33b",
   "metadata": {},
   "outputs": [],
   "source": [
    "from sklearn.metrics import confusion_matrix"
   ]
  },
  {
   "cell_type": "code",
   "execution_count": 62,
   "id": "cb4b1b4c",
   "metadata": {},
   "outputs": [],
   "source": [
    "matrix = confusion_matrix(test_labels, target_predicted_binary)\n",
    "df_confusion = pd.DataFrame(matrix, index=['Reembolsa','Não reembolsa'],columns=['Reembolsa','Não reembolsa'])"
   ]
  },
  {
   "cell_type": "code",
   "execution_count": 63,
   "id": "6904a47b",
   "metadata": {},
   "outputs": [
    {
     "data": {
      "text/html": [
       "<div>\n",
       "<style scoped>\n",
       "    .dataframe tbody tr th:only-of-type {\n",
       "        vertical-align: middle;\n",
       "    }\n",
       "\n",
       "    .dataframe tbody tr th {\n",
       "        vertical-align: top;\n",
       "    }\n",
       "\n",
       "    .dataframe thead th {\n",
       "        text-align: right;\n",
       "    }\n",
       "</style>\n",
       "<table border=\"1\" class=\"dataframe\">\n",
       "  <thead>\n",
       "    <tr style=\"text-align: right;\">\n",
       "      <th></th>\n",
       "      <th>Reembolsa</th>\n",
       "      <th>Não reembolsa</th>\n",
       "    </tr>\n",
       "  </thead>\n",
       "  <tbody>\n",
       "    <tr>\n",
       "      <th>Reembolsa</th>\n",
       "      <td>27706</td>\n",
       "      <td>563</td>\n",
       "    </tr>\n",
       "    <tr>\n",
       "      <th>Não reembolsa</th>\n",
       "      <td>2137</td>\n",
       "      <td>345</td>\n",
       "    </tr>\n",
       "  </tbody>\n",
       "</table>\n",
       "</div>"
      ],
      "text/plain": [
       "               Reembolsa  Não reembolsa\n",
       "Reembolsa          27706            563\n",
       "Não reembolsa       2137            345"
      ]
     },
     "execution_count": 63,
     "metadata": {},
     "output_type": "execute_result"
    }
   ],
   "source": [
    "df_confusion"
   ]
  },
  {
   "cell_type": "code",
   "execution_count": 64,
   "id": "bc6e2652",
   "metadata": {},
   "outputs": [],
   "source": [
    "import seaborn as sns\n",
    "import matplotlib.pyplot as plt"
   ]
  },
  {
   "cell_type": "code",
   "execution_count": 65,
   "id": "bede739d",
   "metadata": {},
   "outputs": [
    {
     "data": {
      "image/png": "[encoded data removed]",
      "text/plain": [
       "<Figure size 432x288 with 1 Axes>"
      ]
     },
     "metadata": {
      "needs_background": "light"
     },
     "output_type": "display_data"
    }
   ],
   "source": [
    "colormap = sns.color_palette(\"BrBG\", 10)\n",
    "sns.heatmap(df_confusion, annot=True, cbar=None, cmap=colormap)\n",
    "plt.title(\"Confusion Matrix\")\n",
    "plt.tight_layout()\n",
    "plt.ylabel(\"True Class\")\n",
    "plt.xlabel(\"Predicted Class\")\n",
    "plt.show()"
   ]
  },
  {
   "cell_type": "markdown",
   "id": "051b5778",
   "metadata": {},
   "source": [
    "## Cálculo dos dados estatísticos de desempenho"
   ]
  },
  {
   "cell_type": "code",
   "execution_count": 66,
   "id": "89cb1a3b",
   "metadata": {},
   "outputs": [],
   "source": [
    "from sklearn.metrics import roc_auc_score, roc_curve, auc"
   ]
  },
  {
   "cell_type": "code",
   "execution_count": 67,
   "id": "90c2b1d3",
   "metadata": {},
   "outputs": [],
   "source": [
    "TN, FP, FN, TP = confusion_matrix(test_labels, target_predicted_binary).ravel()"
   ]
  },
  {
   "cell_type": "code",
   "execution_count": 68,
   "id": "2ca25fa0",
   "metadata": {},
   "outputs": [
    {
     "name": "stdout",
     "output_type": "stream",
     "text": [
      "True Negative (TN) : 27706\n",
      "False Positive (FP): 563\n",
      "False Negative (FN): 2137\n",
      "True Positive (TP) : 345\n"
     ]
    }
   ],
   "source": [
    "print(f\"True Negative (TN) : {TN}\")\n",
    "print(f\"False Positive (FP): {FP}\")\n",
    "print(f\"False Negative (FN): {FN}\")\n",
    "print(f\"True Positive (TP) : {TP}\")"
   ]
  },
  {
   "cell_type": "code",
   "execution_count": 69,
   "id": "aa1bf259",
   "metadata": {},
   "outputs": [
    {
     "name": "stdout",
     "output_type": "stream",
     "text": [
      "Sensitivity or TPR: 13.900080580177276%\n",
      "There is a 13.900080580177276% chance of detecting patients with an abnormality have an abnormality\n"
     ]
    }
   ],
   "source": [
    "# Sensitivity, hit rate, recall, or true positive rate\n",
    "Sensitivity  = float(TP)/(TP+FN)*100\n",
    "print(f\"Sensitivity or TPR: {Sensitivity}%\")  \n",
    "print(f\"There is a {Sensitivity}% chance of detecting patients with an abnormality have an abnormality\")"
   ]
  },
  {
   "cell_type": "code",
   "execution_count": 70,
   "id": "fa5f17ff",
   "metadata": {},
   "outputs": [
    {
     "name": "stdout",
     "output_type": "stream",
     "text": [
      "Specificity or TNR: 98.00841911634652%\n",
      "There is a 98.00841911634652% chance of detecting normal patients are normal.\n"
     ]
    }
   ],
   "source": [
    "# Specificity or true negative rate\n",
    "Specificity  = float(TN)/(TN+FP)*100\n",
    "print(f\"Specificity or TNR: {Specificity}%\") \n",
    "print(f\"There is a {Specificity}% chance of detecting normal patients are normal.\")"
   ]
  },
  {
   "cell_type": "code",
   "execution_count": 71,
   "id": "ba38ea5d",
   "metadata": {},
   "outputs": [
    {
     "name": "stdout",
     "output_type": "stream",
     "text": [
      "Precision: 37.99559471365639%\n",
      "You have an abnormality, and the probablity that is correct is 37.99559471365639%\n"
     ]
    }
   ],
   "source": [
    "# Precision or positive predictive value\n",
    "Precision = float(TP)/(TP+FP)*100\n",
    "print(f\"Precision: {Precision}%\")  \n",
    "print(f\"You have an abnormality, and the probablity that is correct is {Precision}%\")"
   ]
  },
  {
   "cell_type": "code",
   "execution_count": 72,
   "id": "a7fa6c9b",
   "metadata": {},
   "outputs": [
    {
     "name": "stdout",
     "output_type": "stream",
     "text": [
      "Negative Predictive Value: 92.83919177026438%\n",
      "You don't have an abnormality, but there is a 92.83919177026438% chance that is incorrect\n"
     ]
    }
   ],
   "source": [
    "# Negative predictive value\n",
    "NPV = float(TN)/(TN+FN)*100\n",
    "print(f\"Negative Predictive Value: {NPV}%\") \n",
    "print(f\"You don't have an abnormality, but there is a {NPV}% chance that is incorrect\" )"
   ]
  },
  {
   "cell_type": "code",
   "execution_count": 73,
   "id": "7cf080bf",
   "metadata": {},
   "outputs": [
    {
     "name": "stdout",
     "output_type": "stream",
     "text": [
      "False Positive Rate: 1.991580883653472%\n",
      "There is a 1.991580883653472% chance that this positive result is incorrect.\n"
     ]
    }
   ],
   "source": [
    "# Fall out or false positive rate\n",
    "FPR = float(FP)/(FP+TN)*100\n",
    "print( f\"False Positive Rate: {FPR}%\") \n",
    "print( f\"There is a {FPR}% chance that this positive result is incorrect.\")"
   ]
  },
  {
   "cell_type": "code",
   "execution_count": 74,
   "id": "61f33943",
   "metadata": {},
   "outputs": [
    {
     "name": "stdout",
     "output_type": "stream",
     "text": [
      "False Negative Rate: 86.09991941982273%\n",
      "There is a 86.09991941982273% chance that this negative result is incorrect.\n"
     ]
    }
   ],
   "source": [
    "# False negative rate\n",
    "FNR = float(FN)/(TP+FN)*100\n",
    "print(f\"False Negative Rate: {FNR}%\") \n",
    "print(f\"There is a {FNR}% chance that this negative result is incorrect.\")"
   ]
  },
  {
   "cell_type": "code",
   "execution_count": 75,
   "id": "3176f678",
   "metadata": {},
   "outputs": [
    {
     "name": "stdout",
     "output_type": "stream",
     "text": [
      "False Discovery Rate: 62.00440528634361%\n",
      "You have an abnormality, but there is a 62.00440528634361% chance this is incorrect.\n"
     ]
    }
   ],
   "source": [
    "# False discovery rate\n",
    "FDR = float(FP)/(TP+FP)*100\n",
    "print(f\"False Discovery Rate: {FDR}%\" )\n",
    "print(f\"You have an abnormality, but there is a {FDR}% chance this is incorrect.\")"
   ]
  },
  {
   "cell_type": "code",
   "execution_count": 76,
   "id": "9bd0bf57",
   "metadata": {},
   "outputs": [
    {
     "name": "stdout",
     "output_type": "stream",
     "text": [
      "Accuracy: 91.21979773015512%\n"
     ]
    }
   ],
   "source": [
    "# Overall accuracy\n",
    "ACC = float(TP+TN)/(TP+FP+FN+TN)*100\n",
    "print(f\"Accuracy: {ACC}%\") "
   ]
  },
  {
   "cell_type": "code",
   "execution_count": 77,
   "id": "10675fe3",
   "metadata": {},
   "outputs": [
    {
     "name": "stdout",
     "output_type": "stream",
     "text": [
      "Sensitivity or TPR: 13.900080580177276%\n",
      "Specificity or TNR: 98.00841911634652%\n",
      "Precision: 37.99559471365639%\n",
      "Negative Predictive Value: 92.83919177026438%\n",
      "False Positive Rate: 1.991580883653472%\n",
      "False Negative Rate: 86.09991941982273%\n",
      "False Discovery Rate: 62.00440528634361%\n",
      "Accuracy: 91.21979773015512%\n"
     ]
    }
   ],
   "source": [
    "print(f\"Sensitivity or TPR: {Sensitivity}%\")    \n",
    "print(f\"Specificity or TNR: {Specificity}%\") \n",
    "print(f\"Precision: {Precision}%\")   \n",
    "print(f\"Negative Predictive Value: {NPV}%\")  \n",
    "print( f\"False Positive Rate: {FPR}%\") \n",
    "print(f\"False Negative Rate: {FNR}%\")  \n",
    "print(f\"False Discovery Rate: {FDR}%\" )\n",
    "print(f\"Accuracy: {ACC}%\")"
   ]
  },
  {
   "cell_type": "markdown",
   "id": "d1a480f5",
   "metadata": {},
   "source": [
    "## Cálculo do AUC-ROC"
   ]
  },
  {
   "cell_type": "code",
   "execution_count": 78,
   "id": "140a0c43",
   "metadata": {},
   "outputs": [
    {
     "name": "stdout",
     "output_type": "stream",
     "text": [
      "Validation AUC 0.7528091537074649\n"
     ]
    }
   ],
   "source": [
    "test_labels = test.iloc[:,0];\n",
    "print(\"Validation AUC\", roc_auc_score(test_labels, target_predicted) )"
   ]
  },
  {
   "cell_type": "code",
   "execution_count": 79,
   "id": "4e913aac",
   "metadata": {},
   "outputs": [],
   "source": [
    "fpr, tpr, thresholds = roc_curve(test_labels, target_predicted)\n",
    "roc_auc = auc(fpr, tpr)"
   ]
  },
  {
   "cell_type": "code",
   "execution_count": 80,
   "id": "8b07c607",
   "metadata": {},
   "outputs": [
    {
     "data": {
      "text/plain": [
       "<matplotlib.legend.Legend at 0x7f723474be80>"
      ]
     },
     "execution_count": 80,
     "metadata": {},
     "output_type": "execute_result"
    },
    {
     "data": {
      "image/png": "[encoded data removed]",
      "text/plain": [
       "<Figure size 432x288 with 1 Axes>"
      ]
     },
     "metadata": {
      "needs_background": "light"
     },
     "output_type": "display_data"
    }
   ],
   "source": [
    "plt.figure()\n",
    "plt.plot(fpr, tpr, label='ROC curve (area = %0.2f)' % (roc_auc))\n",
    "plt.plot([0, 1], [0, 1], 'k--')\n",
    "plt.xlim([0.0, 1.0])\n",
    "plt.ylim([0.0, 1.05])\n",
    "plt.xlabel('False Positive Rate')\n",
    "plt.ylabel('True Positive Rate')\n",
    "plt.title('Receiver operating characteristic')\n",
    "plt.legend(loc=\"lower right\")"
   ]
  },
  {
   "cell_type": "code",
   "execution_count": 81,
   "id": "fd5b9416",
   "metadata": {},
   "outputs": [
    {
     "data": {
      "text/plain": [
       "(0.0, 1.0)"
      ]
     },
     "execution_count": 81,
     "metadata": {},
     "output_type": "execute_result"
    },
    {
     "data": {
      "image/png": "[encoded data removed]",
      "text/plain": [
       "<Figure size 432x288 with 2 Axes>"
      ]
     },
     "metadata": {
      "needs_background": "light"
     },
     "output_type": "display_data"
    }
   ],
   "source": [
    "# create the axis of thresholds (scores)\n",
    "ax2 = plt.gca().twinx()\n",
    "ax2.plot(fpr, thresholds, markeredgecolor='r',linestyle='dashed', color='r')\n",
    "ax2.set_ylabel('Threshold',color='r')\n",
    "ax2.set_ylim([thresholds[-1],thresholds[0]])\n",
    "ax2.set_xlim([fpr[0],fpr[-1]])"
   ]
  },
  {
   "cell_type": "code",
   "execution_count": 82,
   "id": "04cbc2e6",
   "metadata": {},
   "outputs": [
    {
     "name": "stdout",
     "output_type": "stream",
     "text": [
      "Figure(432x288)\n"
     ]
    },
    {
     "data": {
      "text/plain": [
       "<Figure size 432x288 with 0 Axes>"
      ]
     },
     "metadata": {},
     "output_type": "display_data"
    }
   ],
   "source": [
    "print(plt.figure())"
   ]
  },
  {
   "cell_type": "markdown",
   "id": "4bbbcfb8",
   "metadata": {},
   "source": [
    "## Ajuste dos hiperparâmetros"
   ]
  },
  {
   "cell_type": "code",
   "execution_count": 83,
   "id": "85a114ff",
   "metadata": {},
   "outputs": [
    {
     "name": "stderr",
     "output_type": "stream",
     "text": [
      "No finished training job found associated with this estimator. Please make sure this estimator is only used for building workflow config\n",
      "No finished training job found associated with this estimator. Please make sure this estimator is only used for building workflow config\n"
     ]
    },
    {
     "name": "stdout",
     "output_type": "stream",
     "text": [
      ".....................................................................................................................................................................................................................................................................!\n",
      "!\n",
      "CPU times: user 1.29 s, sys: 137 ms, total: 1.42 s\n",
      "Wall time: 22min 1s\n"
     ]
    }
   ],
   "source": [
    "%%time\n",
    "from sagemaker.tuner import IntegerParameter, CategoricalParameter, ContinuousParameter, HyperparameterTuner\n",
    "\n",
    "xgb = sagemaker.estimator.Estimator(container,\n",
    "                                    role=sagemaker.get_execution_role(), \n",
    "                                    instance_count= 1, # make sure you have limit set for these instances\n",
    "                                    instance_type='ml.m4.xlarge', \n",
    "                                    output_path='s3://{}/{}/output'.format(bucket, prefix),\n",
    "                                    sagemaker_session=sagemaker.Session())\n",
    "\n",
    "\n",
    "xgb.set_hyperparameters(eval_metric='error@.40',\n",
    "                        objective='binary:logistic',\n",
    "                        num_round=42)\n",
    "\n",
    "hyperparameter_ranges = {'alpha': ContinuousParameter(0, 100),\n",
    "                         'min_child_weight': ContinuousParameter(1, 5),\n",
    "                         'subsample': ContinuousParameter(0.5, 1),\n",
    "                         'eta': ContinuousParameter(0.1, 0.3),  \n",
    "                         'num_round': IntegerParameter(1,50)\n",
    "                         }\n",
    "\n",
    "objective_metric_name = 'validation:error'\n",
    "objective_type = 'Minimize'\n",
    "\n",
    "tuner = HyperparameterTuner(xgb,\n",
    "                            objective_metric_name,\n",
    "                            hyperparameter_ranges,\n",
    "                            max_jobs=10, # Set this to 10 or above depending upon budget & available time.\n",
    "                            max_parallel_jobs=1,\n",
    "                            objective_type=objective_type,\n",
    "                            early_stopping_type='Auto')\n",
    "\n",
    "tuner.fit(inputs=data_channels, include_cls_metadata=False)\n",
    "tuner.wait()"
   ]
  },
  {
   "cell_type": "code",
   "execution_count": 84,
   "id": "0461561d",
   "metadata": {},
   "outputs": [
    {
     "data": {
      "text/plain": [
       "'Completed'"
      ]
     },
     "execution_count": 84,
     "metadata": {},
     "output_type": "execute_result"
    }
   ],
   "source": [
    "boto3.client('sagemaker').describe_hyper_parameter_tuning_job(\n",
    "    HyperParameterTuningJobName=tuner.latest_tuning_job.job_name)['HyperParameterTuningJobStatus']"
   ]
  },
  {
   "cell_type": "markdown",
   "id": "10db145d",
   "metadata": {},
   "source": [
    "## Verificando o resultado do ajuste de hiperparâmetros (tuning jobs)"
   ]
  },
  {
   "cell_type": "code",
   "execution_count": 85,
   "id": "46843e1a",
   "metadata": {},
   "outputs": [
    {
     "data": {
      "text/html": [
       "<div>\n",
       "<style scoped>\n",
       "    .dataframe tbody tr th:only-of-type {\n",
       "        vertical-align: middle;\n",
       "    }\n",
       "\n",
       "    .dataframe tbody tr th {\n",
       "        vertical-align: top;\n",
       "    }\n",
       "\n",
       "    .dataframe thead th {\n",
       "        text-align: right;\n",
       "    }\n",
       "</style>\n",
       "<table border=\"1\" class=\"dataframe\">\n",
       "  <thead>\n",
       "    <tr style=\"text-align: right;\">\n",
       "      <th></th>\n",
       "      <th>alpha</th>\n",
       "      <th>eta</th>\n",
       "      <th>min_child_weight</th>\n",
       "      <th>num_round</th>\n",
       "      <th>subsample</th>\n",
       "      <th>TrainingJobName</th>\n",
       "      <th>TrainingJobStatus</th>\n",
       "      <th>FinalObjectiveValue</th>\n",
       "      <th>TrainingStartTime</th>\n",
       "      <th>TrainingEndTime</th>\n",
       "      <th>TrainingElapsedTimeSeconds</th>\n",
       "    </tr>\n",
       "  </thead>\n",
       "  <tbody>\n",
       "    <tr>\n",
       "      <th>0</th>\n",
       "      <td>59.479722</td>\n",
       "      <td>0.134963</td>\n",
       "      <td>3.304703</td>\n",
       "      <td>45.0</td>\n",
       "      <td>0.968458</td>\n",
       "      <td>sagemaker-xgboost-221127-2130-010-b0e724f9</td>\n",
       "      <td>Stopped</td>\n",
       "      <td>0.08038</td>\n",
       "      <td>2022-11-27 21:51:06+00:00</td>\n",
       "      <td>2022-11-27 21:52:51+00:00</td>\n",
       "      <td>105.0</td>\n",
       "    </tr>\n",
       "    <tr>\n",
       "      <th>4</th>\n",
       "      <td>21.377432</td>\n",
       "      <td>0.202005</td>\n",
       "      <td>3.123170</td>\n",
       "      <td>28.0</td>\n",
       "      <td>0.780845</td>\n",
       "      <td>sagemaker-xgboost-221127-2130-006-1d1c80b8</td>\n",
       "      <td>Completed</td>\n",
       "      <td>0.08045</td>\n",
       "      <td>2022-11-27 21:43:54+00:00</td>\n",
       "      <td>2022-11-27 21:45:21+00:00</td>\n",
       "      <td>87.0</td>\n",
       "    </tr>\n",
       "    <tr>\n",
       "      <th>1</th>\n",
       "      <td>55.387963</td>\n",
       "      <td>0.143981</td>\n",
       "      <td>2.949560</td>\n",
       "      <td>48.0</td>\n",
       "      <td>0.812333</td>\n",
       "      <td>sagemaker-xgboost-221127-2130-009-298dd103</td>\n",
       "      <td>Stopped</td>\n",
       "      <td>0.08048</td>\n",
       "      <td>2022-11-27 21:49:27+00:00</td>\n",
       "      <td>2022-11-27 21:50:53+00:00</td>\n",
       "      <td>86.0</td>\n",
       "    </tr>\n",
       "    <tr>\n",
       "      <th>7</th>\n",
       "      <td>37.756227</td>\n",
       "      <td>0.112386</td>\n",
       "      <td>3.489619</td>\n",
       "      <td>45.0</td>\n",
       "      <td>0.615916</td>\n",
       "      <td>sagemaker-xgboost-221127-2130-003-a30eff53</td>\n",
       "      <td>Stopped</td>\n",
       "      <td>0.08052</td>\n",
       "      <td>2022-11-27 21:36:43+00:00</td>\n",
       "      <td>2022-11-27 21:38:11+00:00</td>\n",
       "      <td>88.0</td>\n",
       "    </tr>\n",
       "    <tr>\n",
       "      <th>6</th>\n",
       "      <td>20.031575</td>\n",
       "      <td>0.264696</td>\n",
       "      <td>3.741939</td>\n",
       "      <td>11.0</td>\n",
       "      <td>0.797592</td>\n",
       "      <td>sagemaker-xgboost-221127-2130-004-a3a40701</td>\n",
       "      <td>Completed</td>\n",
       "      <td>0.08055</td>\n",
       "      <td>2022-11-27 21:39:55+00:00</td>\n",
       "      <td>2022-11-27 21:42:07+00:00</td>\n",
       "      <td>132.0</td>\n",
       "    </tr>\n",
       "    <tr>\n",
       "      <th>2</th>\n",
       "      <td>13.089324</td>\n",
       "      <td>0.152622</td>\n",
       "      <td>4.844351</td>\n",
       "      <td>31.0</td>\n",
       "      <td>0.623939</td>\n",
       "      <td>sagemaker-xgboost-221127-2130-008-62daae21</td>\n",
       "      <td>Completed</td>\n",
       "      <td>0.08061</td>\n",
       "      <td>2022-11-27 21:46:49+00:00</td>\n",
       "      <td>2022-11-27 21:48:26+00:00</td>\n",
       "      <td>97.0</td>\n",
       "    </tr>\n",
       "    <tr>\n",
       "      <th>8</th>\n",
       "      <td>0.226734</td>\n",
       "      <td>0.138102</td>\n",
       "      <td>4.081416</td>\n",
       "      <td>8.0</td>\n",
       "      <td>0.901071</td>\n",
       "      <td>sagemaker-xgboost-221127-2130-002-96a481cd</td>\n",
       "      <td>Completed</td>\n",
       "      <td>0.08064</td>\n",
       "      <td>2022-11-27 21:35:22+00:00</td>\n",
       "      <td>2022-11-27 21:36:29+00:00</td>\n",
       "      <td>67.0</td>\n",
       "    </tr>\n",
       "    <tr>\n",
       "      <th>3</th>\n",
       "      <td>26.274035</td>\n",
       "      <td>0.200865</td>\n",
       "      <td>2.036065</td>\n",
       "      <td>1.0</td>\n",
       "      <td>0.994011</td>\n",
       "      <td>sagemaker-xgboost-221127-2130-007-224ff0a0</td>\n",
       "      <td>Completed</td>\n",
       "      <td>0.08074</td>\n",
       "      <td>2022-11-27 21:45:35+00:00</td>\n",
       "      <td>2022-11-27 21:46:27+00:00</td>\n",
       "      <td>52.0</td>\n",
       "    </tr>\n",
       "    <tr>\n",
       "      <th>9</th>\n",
       "      <td>29.188049</td>\n",
       "      <td>0.106713</td>\n",
       "      <td>1.666571</td>\n",
       "      <td>10.0</td>\n",
       "      <td>0.634128</td>\n",
       "      <td>sagemaker-xgboost-221127-2130-001-86ddab29</td>\n",
       "      <td>Completed</td>\n",
       "      <td>0.08074</td>\n",
       "      <td>2022-11-27 21:32:53+00:00</td>\n",
       "      <td>2022-11-27 21:35:05+00:00</td>\n",
       "      <td>132.0</td>\n",
       "    </tr>\n",
       "    <tr>\n",
       "      <th>5</th>\n",
       "      <td>16.194651</td>\n",
       "      <td>0.109564</td>\n",
       "      <td>4.671460</td>\n",
       "      <td>7.0</td>\n",
       "      <td>0.982184</td>\n",
       "      <td>sagemaker-xgboost-221127-2130-005-40213b99</td>\n",
       "      <td>Completed</td>\n",
       "      <td>0.08077</td>\n",
       "      <td>2022-11-27 21:42:40+00:00</td>\n",
       "      <td>2022-11-27 21:43:37+00:00</td>\n",
       "      <td>57.0</td>\n",
       "    </tr>\n",
       "  </tbody>\n",
       "</table>\n",
       "</div>"
      ],
      "text/plain": [
       "       alpha       eta  min_child_weight  num_round  subsample  \\\n",
       "0  59.479722  0.134963          3.304703       45.0   0.968458   \n",
       "4  21.377432  0.202005          3.123170       28.0   0.780845   \n",
       "1  55.387963  0.143981          2.949560       48.0   0.812333   \n",
       "7  37.756227  0.112386          3.489619       45.0   0.615916   \n",
       "6  20.031575  0.264696          3.741939       11.0   0.797592   \n",
       "2  13.089324  0.152622          4.844351       31.0   0.623939   \n",
       "8   0.226734  0.138102          4.081416        8.0   0.901071   \n",
       "3  26.274035  0.200865          2.036065        1.0   0.994011   \n",
       "9  29.188049  0.106713          1.666571       10.0   0.634128   \n",
       "5  16.194651  0.109564          4.671460        7.0   0.982184   \n",
       "\n",
       "                              TrainingJobName TrainingJobStatus  \\\n",
       "0  sagemaker-xgboost-221127-2130-010-b0e724f9           Stopped   \n",
       "4  sagemaker-xgboost-221127-2130-006-1d1c80b8         Completed   \n",
       "1  sagemaker-xgboost-221127-2130-009-298dd103           Stopped   \n",
       "7  sagemaker-xgboost-221127-2130-003-a30eff53           Stopped   \n",
       "6  sagemaker-xgboost-221127-2130-004-a3a40701         Completed   \n",
       "2  sagemaker-xgboost-221127-2130-008-62daae21         Completed   \n",
       "8  sagemaker-xgboost-221127-2130-002-96a481cd         Completed   \n",
       "3  sagemaker-xgboost-221127-2130-007-224ff0a0         Completed   \n",
       "9  sagemaker-xgboost-221127-2130-001-86ddab29         Completed   \n",
       "5  sagemaker-xgboost-221127-2130-005-40213b99         Completed   \n",
       "\n",
       "   FinalObjectiveValue         TrainingStartTime           TrainingEndTime  \\\n",
       "0              0.08038 2022-11-27 21:51:06+00:00 2022-11-27 21:52:51+00:00   \n",
       "4              0.08045 2022-11-27 21:43:54+00:00 2022-11-27 21:45:21+00:00   \n",
       "1              0.08048 2022-11-27 21:49:27+00:00 2022-11-27 21:50:53+00:00   \n",
       "7              0.08052 2022-11-27 21:36:43+00:00 2022-11-27 21:38:11+00:00   \n",
       "6              0.08055 2022-11-27 21:39:55+00:00 2022-11-27 21:42:07+00:00   \n",
       "2              0.08061 2022-11-27 21:46:49+00:00 2022-11-27 21:48:26+00:00   \n",
       "8              0.08064 2022-11-27 21:35:22+00:00 2022-11-27 21:36:29+00:00   \n",
       "3              0.08074 2022-11-27 21:45:35+00:00 2022-11-27 21:46:27+00:00   \n",
       "9              0.08074 2022-11-27 21:32:53+00:00 2022-11-27 21:35:05+00:00   \n",
       "5              0.08077 2022-11-27 21:42:40+00:00 2022-11-27 21:43:37+00:00   \n",
       "\n",
       "   TrainingElapsedTimeSeconds  \n",
       "0                       105.0  \n",
       "4                        87.0  \n",
       "1                        86.0  \n",
       "7                        88.0  \n",
       "6                       132.0  \n",
       "2                        97.0  \n",
       "8                        67.0  \n",
       "3                        52.0  \n",
       "9                       132.0  \n",
       "5                        57.0  "
      ]
     },
     "execution_count": 85,
     "metadata": {},
     "output_type": "execute_result"
    }
   ],
   "source": [
    "from pprint import pprint\n",
    "from sagemaker.analytics import HyperparameterTuningJobAnalytics\n",
    "\n",
    "tuner_analytics = HyperparameterTuningJobAnalytics(tuner.latest_tuning_job.name, sagemaker_session=sagemaker.Session())\n",
    "\n",
    "df_tuning_job_analytics = tuner_analytics.dataframe()\n",
    "\n",
    "# Sort the tuning job analytics by the final metrics value\n",
    "df_tuning_job_analytics.sort_values(\n",
    "    by=['FinalObjectiveValue'],\n",
    "    inplace=True,\n",
    "    ascending=False if tuner.objective_type == \"Maximize\" else True)\n",
    "\n",
    "# Show detailed analytics for the top 20 models\n",
    "df_tuning_job_analytics.head(20)"
   ]
  },
  {
   "cell_type": "code",
   "execution_count": 86,
   "id": "028fa519",
   "metadata": {},
   "outputs": [],
   "source": [
    "attached_tuner = HyperparameterTuner.attach(tuner.latest_tuning_job.name, sagemaker_session=sagemaker.Session())\n",
    "best_training_job = attached_tuner.best_training_job()"
   ]
  },
  {
   "cell_type": "code",
   "execution_count": 87,
   "id": "cf3746cf",
   "metadata": {},
   "outputs": [
    {
     "name": "stdout",
     "output_type": "stream",
     "text": [
      "\n",
      "2022-11-27 21:52:54 Starting - Found matching resource for reuse\n",
      "2022-11-27 21:52:54 Downloading - Downloading input data\n",
      "2022-11-27 21:52:54 Training - Training image download completed. Training in progress.\n",
      "2022-11-27 21:52:54 Uploading - Uploading generated training model\n",
      "2022-11-27 21:52:54 Completed - Training job completed\n"
     ]
    }
   ],
   "source": [
    "from sagemaker.estimator import Estimator\n",
    "algo_estimator = Estimator.attach(best_training_job)\n",
    "\n",
    "best_algo_model = algo_estimator.create_model(env={'SAGEMAKER_DEFAULT_INVOCATIONS_ACCEPT':\"text/csv\"})"
   ]
  },
  {
   "cell_type": "code",
   "execution_count": 88,
   "id": "b0314465",
   "metadata": {},
   "outputs": [
    {
     "name": "stdout",
     "output_type": "stream",
     "text": [
      "................................\u001b[34m[2022-11-27:21:58:05:INFO] No GPUs detected (normal if no gpus installed)\u001b[0m\n",
      "\u001b[34m[2022-11-27:21:58:05:INFO] No GPUs detected (normal if no gpus installed)\u001b[0m\n",
      "\u001b[34m[2022-11-27:21:58:05:INFO] nginx config: \u001b[0m\n",
      "\u001b[34mworker_processes auto;\u001b[0m\n",
      "\u001b[34mdaemon off;\u001b[0m\n",
      "\u001b[34mpid /tmp/nginx.pid;\u001b[0m\n",
      "\u001b[34merror_log  /dev/stderr;\u001b[0m\n",
      "\u001b[34mworker_rlimit_nofile 4096;\u001b[0m\n",
      "\u001b[34mevents {\n",
      "  worker_connections 2048;\u001b[0m\n",
      "\u001b[34m}\u001b[0m\n",
      "\u001b[34mhttp {\n",
      "  include /etc/nginx/mime.types;\n",
      "  default_type application/octet-stream;\n",
      "  access_log /dev/stdout combined;\n",
      "  upstream gunicorn {\n",
      "    server unix:/tmp/gunicorn.sock;\n",
      "  }\n",
      "  server {\n",
      "    listen 8080 deferred;\n",
      "    client_max_body_size 0;\n",
      "    keepalive_timeout 3;\n",
      "    location ~ ^/(ping|invocations|execution-parameters) {\n",
      "      proxy_set_header X-Forwarded-For $proxy_add_x_forwarded_for;\n",
      "      proxy_set_header Host $http_host;\n",
      "      proxy_redirect off;\n",
      "      proxy_read_timeout 60s;\n",
      "      proxy_pass http://gunicorn;\n",
      "    }\n",
      "    location / {\n",
      "      return 404 \"{}\";\n",
      "    }\n",
      "  }\u001b[0m\n",
      "\u001b[34m}\u001b[0m\n",
      "\u001b[34m[2022-11-27 21:58:06 +0000] [18] [INFO] Starting gunicorn 19.10.0\u001b[0m\n",
      "\u001b[34m[2022-11-27 21:58:06 +0000] [18] [INFO] Listening at: unix:/tmp/gunicorn.sock (18)\u001b[0m\n",
      "\u001b[34m[2022-11-27 21:58:06 +0000] [18] [INFO] Using worker: gevent\u001b[0m\n",
      "\u001b[34m[2022-11-27 21:58:06 +0000] [25] [INFO] Booting worker with pid: 25\u001b[0m\n",
      "\u001b[34m[2022-11-27 21:58:06 +0000] [26] [INFO] Booting worker with pid: 26\u001b[0m\n",
      "\u001b[34m[2022-11-27 21:58:06 +0000] [27] [INFO] Booting worker with pid: 27\u001b[0m\n",
      "\u001b[34m[2022-11-27 21:58:06 +0000] [28] [INFO] Booting worker with pid: 28\u001b[0m\n",
      "\u001b[34m[2022-11-27:21:58:12:INFO] No GPUs detected (normal if no gpus installed)\u001b[0m\n",
      "\u001b[34m169.254.255.130 - - [27/Nov/2022:21:58:12 +0000] \"GET /ping HTTP/1.1\" 200 0 \"-\" \"Go-http-client/1.1\"\u001b[0m\n",
      "\u001b[34m169.254.255.130 - - [27/Nov/2022:21:58:12 +0000] \"GET /execution-parameters HTTP/1.1\" 200 84 \"-\" \"Go-http-client/1.1\"\u001b[0m\n",
      "\n",
      "\u001b[34m[2022-11-27:21:58:13:INFO] No GPUs detected (normal if no gpus installed)\u001b[0m\n",
      "\u001b[35m[2022-11-27:21:58:13:INFO] No GPUs detected (normal if no gpus installed)\u001b[0m\n",
      "\u001b[34m[2022-11-27:21:58:13:INFO] Determined delimiter of CSV input is ','\u001b[0m\n",
      "\u001b[34m[2022-11-27:21:58:13:INFO] No GPUs detected (normal if no gpus installed)\u001b[0m\n",
      "\u001b[34m[2022-11-27:21:58:13:INFO] Determined delimiter of CSV input is ','\u001b[0m\n",
      "\u001b[34m[2022-11-27:21:58:13:INFO] Determined delimiter of CSV input is ','\u001b[0m\n",
      "\u001b[34m[2022-11-27:21:58:13:INFO] No GPUs detected (normal if no gpus installed)\u001b[0m\n",
      "\u001b[34m[2022-11-27:21:58:14:INFO] Determined delimiter of CSV input is ','\u001b[0m\n",
      "\u001b[35m[2022-11-27:21:58:13:INFO] Determined delimiter of CSV input is ','\u001b[0m\n",
      "\u001b[35m[2022-11-27:21:58:13:INFO] No GPUs detected (normal if no gpus installed)\u001b[0m\n",
      "\u001b[35m[2022-11-27:21:58:13:INFO] Determined delimiter of CSV input is ','\u001b[0m\n",
      "\u001b[35m[2022-11-27:21:58:13:INFO] Determined delimiter of CSV input is ','\u001b[0m\n",
      "\u001b[35m[2022-11-27:21:58:13:INFO] No GPUs detected (normal if no gpus installed)\u001b[0m\n",
      "\u001b[35m[2022-11-27:21:58:14:INFO] Determined delimiter of CSV input is ','\u001b[0m\n",
      "\u001b[32m2022-11-27T21:58:12.388:[sagemaker logs]: MaxConcurrentTransforms=4, MaxPayloadInMB=6, BatchStrategy=MULTI_RECORD\u001b[0m\n",
      "\u001b[34m169.254.255.130 - - [27/Nov/2022:21:58:15 +0000] \"POST /invocations HTTP/1.1\" 200 93320 \"-\" \"Go-http-client/1.1\"\u001b[0m\n",
      "\u001b[34m169.254.255.130 - - [27/Nov/2022:21:58:15 +0000] \"POST /invocations HTTP/1.1\" 200 93381 \"-\" \"Go-http-client/1.1\"\u001b[0m\n",
      "\u001b[35m169.254.255.130 - - [27/Nov/2022:21:58:15 +0000] \"POST /invocations HTTP/1.1\" 200 93320 \"-\" \"Go-http-client/1.1\"\u001b[0m\n",
      "\u001b[35m169.254.255.130 - - [27/Nov/2022:21:58:15 +0000] \"POST /invocations HTTP/1.1\" 200 93381 \"-\" \"Go-http-client/1.1\"\u001b[0m\n",
      "\u001b[34m169.254.255.130 - - [27/Nov/2022:21:58:15 +0000] \"POST /invocations HTTP/1.1\" 200 93468 \"-\" \"Go-http-client/1.1\"\u001b[0m\n",
      "\u001b[35m169.254.255.130 - - [27/Nov/2022:21:58:15 +0000] \"POST /invocations HTTP/1.1\" 200 93468 \"-\" \"Go-http-client/1.1\"\u001b[0m\n",
      "\u001b[34m[2022-11-27:21:58:15:INFO] Determined delimiter of CSV input is ','\u001b[0m\n",
      "\u001b[34m169.254.255.130 - - [27/Nov/2022:21:58:15 +0000] \"POST /invocations HTTP/1.1\" 200 93450 \"-\" \"Go-http-client/1.1\"\u001b[0m\n",
      "\u001b[34m[2022-11-27:21:58:15:INFO] Determined delimiter of CSV input is ','\u001b[0m\n",
      "\u001b[34m[2022-11-27:21:58:15:INFO] Determined delimiter of CSV input is ','\u001b[0m\n",
      "\u001b[34m169.254.255.130 - - [27/Nov/2022:21:58:16 +0000] \"POST /invocations HTTP/1.1\" 200 56869 \"-\" \"Go-http-client/1.1\"\u001b[0m\n",
      "\u001b[35m[2022-11-27:21:58:15:INFO] Determined delimiter of CSV input is ','\u001b[0m\n",
      "\u001b[35m169.254.255.130 - - [27/Nov/2022:21:58:15 +0000] \"POST /invocations HTTP/1.1\" 200 93450 \"-\" \"Go-http-client/1.1\"\u001b[0m\n",
      "\u001b[35m[2022-11-27:21:58:15:INFO] Determined delimiter of CSV input is ','\u001b[0m\n",
      "\u001b[35m[2022-11-27:21:58:15:INFO] Determined delimiter of CSV input is ','\u001b[0m\n",
      "\u001b[35m169.254.255.130 - - [27/Nov/2022:21:58:16 +0000] \"POST /invocations HTTP/1.1\" 200 56869 \"-\" \"Go-http-client/1.1\"\u001b[0m\n",
      "\u001b[34m169.254.255.130 - - [27/Nov/2022:21:58:16 +0000] \"POST /invocations HTTP/1.1\" 200 93404 \"-\" \"Go-http-client/1.1\"\u001b[0m\n",
      "\u001b[34m169.254.255.130 - - [27/Nov/2022:21:58:16 +0000] \"POST /invocations HTTP/1.1\" 200 93462 \"-\" \"Go-http-client/1.1\"\u001b[0m\n",
      "\u001b[35m169.254.255.130 - - [27/Nov/2022:21:58:16 +0000] \"POST /invocations HTTP/1.1\" 200 93404 \"-\" \"Go-http-client/1.1\"\u001b[0m\n",
      "\u001b[35m169.254.255.130 - - [27/Nov/2022:21:58:16 +0000] \"POST /invocations HTTP/1.1\" 200 93462 \"-\" \"Go-http-client/1.1\"\u001b[0m\n",
      "!\n",
      "CPU times: user 604 ms, sys: 59.9 ms, total: 664 ms\n",
      "Wall time: 5min 46s\n"
     ]
    }
   ],
   "source": [
    "%%time\n",
    "batch_output = \"s3://{}/{}/batch-out/\".format(bucket,prefix)\n",
    "batch_input = \"s3://{}/{}/batch-in/{}\".format(bucket,prefix,batch_X_file)\n",
    "\n",
    "xgb_transformer = best_algo_model.transformer(instance_count=1,\n",
    "                                       instance_type='ml.m4.xlarge',\n",
    "                                       strategy='MultiRecord',\n",
    "                                       assemble_with='Line',\n",
    "                                       output_path=batch_output)\n",
    "\n",
    "\n",
    "xgb_transformer.transform(data=batch_input,\n",
    "                         data_type='S3Prefix',\n",
    "                         content_type='text/csv',\n",
    "                         split_type='Line')\n",
    "xgb_transformer.wait(logs=False)"
   ]
  },
  {
   "cell_type": "markdown",
   "id": "689045f8",
   "metadata": {},
   "source": [
    "## Avaliando novamente os resultados"
   ]
  },
  {
   "cell_type": "code",
   "execution_count": 89,
   "id": "2ff0c0f6",
   "metadata": {},
   "outputs": [],
   "source": [
    "s3 = boto3.client('s3')\n",
    "obj = s3.get_object(Bucket=bucket, Key=\"{}/batch-out/{}\".format(prefix,'batch-in.csv.out'))\n",
    "best_target_predicted = pd.read_csv(io.BytesIO(obj['Body'].read()),',',names=['class'])\n",
    "\n",
    "def binary_convert(x):\n",
    "    threshold = 0.5\n",
    "    if x > threshold:\n",
    "        return 1\n",
    "    else:\n",
    "        return 0\n",
    "\n",
    "best_target_predicted_binary = best_target_predicted['class'].apply(binary_convert)\n",
    "test_labels = test.iloc[:,0]"
   ]
  },
  {
   "cell_type": "markdown",
   "id": "7629a0bb",
   "metadata": {},
   "source": [
    "## Criando uma nova matriz de confusão (confusion matrix)"
   ]
  },
  {
   "cell_type": "code",
   "execution_count": 90,
   "id": "0e6a98cc",
   "metadata": {},
   "outputs": [
    {
     "data": {
      "text/plain": [
       "133535    0.0\n",
       "158392    0.0\n",
       "6922      0.0\n",
       "63020     0.0\n",
       "84644     0.0\n",
       "Name: TARGET, dtype: float64"
      ]
     },
     "execution_count": 90,
     "metadata": {},
     "output_type": "execute_result"
    }
   ],
   "source": [
    "test_labels = test.iloc[:,0]\n",
    "test_labels.head()"
   ]
  },
  {
   "cell_type": "code",
   "execution_count": 91,
   "id": "ea90f640",
   "metadata": {},
   "outputs": [],
   "source": [
    "matrix = confusion_matrix(test_labels, best_target_predicted_binary)\n",
    "df_confusion = pd.DataFrame(matrix, index=['Reembolsa','Não reembolsa'],columns=['Reembolsa','Não reembolsa'])"
   ]
  },
  {
   "cell_type": "code",
   "execution_count": 92,
   "id": "c8fc29f9",
   "metadata": {},
   "outputs": [
    {
     "data": {
      "text/html": [
       "<div>\n",
       "<style scoped>\n",
       "    .dataframe tbody tr th:only-of-type {\n",
       "        vertical-align: middle;\n",
       "    }\n",
       "\n",
       "    .dataframe tbody tr th {\n",
       "        vertical-align: top;\n",
       "    }\n",
       "\n",
       "    .dataframe thead th {\n",
       "        text-align: right;\n",
       "    }\n",
       "</style>\n",
       "<table border=\"1\" class=\"dataframe\">\n",
       "  <thead>\n",
       "    <tr style=\"text-align: right;\">\n",
       "      <th></th>\n",
       "      <th>Reembolsa</th>\n",
       "      <th>Não reembolsa</th>\n",
       "    </tr>\n",
       "  </thead>\n",
       "  <tbody>\n",
       "    <tr>\n",
       "      <th>Reembolsa</th>\n",
       "      <td>28255</td>\n",
       "      <td>14</td>\n",
       "    </tr>\n",
       "    <tr>\n",
       "      <th>Não reembolsa</th>\n",
       "      <td>2456</td>\n",
       "      <td>26</td>\n",
       "    </tr>\n",
       "  </tbody>\n",
       "</table>\n",
       "</div>"
      ],
      "text/plain": [
       "               Reembolsa  Não reembolsa\n",
       "Reembolsa          28255             14\n",
       "Não reembolsa       2456             26"
      ]
     },
     "execution_count": 92,
     "metadata": {},
     "output_type": "execute_result"
    }
   ],
   "source": [
    "df_confusion"
   ]
  },
  {
   "cell_type": "code",
   "execution_count": 93,
   "id": "1e7b8405",
   "metadata": {},
   "outputs": [
    {
     "data": {
      "image/png": "[encoded data removed]",
      "text/plain": [
       "<Figure size 432x288 with 1 Axes>"
      ]
     },
     "metadata": {
      "needs_background": "light"
     },
     "output_type": "display_data"
    }
   ],
   "source": [
    "colormap = sns.color_palette(\"BrBG\", 10)\n",
    "sns.heatmap(df_confusion, annot=True, cbar=None, cmap=colormap)\n",
    "plt.title(\"Confusion Matrix\")\n",
    "plt.tight_layout()\n",
    "plt.ylabel(\"True Class\")\n",
    "plt.xlabel(\"Predicted Class\")\n",
    "plt.show()"
   ]
  },
  {
   "cell_type": "markdown",
   "id": "690301dc",
   "metadata": {},
   "source": [
    "## Recalculando os dados estatísticos de desempenho"
   ]
  },
  {
   "cell_type": "code",
   "execution_count": 94,
   "id": "2ad30708",
   "metadata": {},
   "outputs": [],
   "source": [
    "TN, FP, FN, TP = confusion_matrix(test_labels, best_target_predicted_binary).ravel()"
   ]
  },
  {
   "cell_type": "code",
   "execution_count": 95,
   "id": "252cbc66",
   "metadata": {},
   "outputs": [
    {
     "name": "stdout",
     "output_type": "stream",
     "text": [
      "True Negative (TN) : 28255\n",
      "False Positive (FP): 14\n",
      "False Negative (FN): 2456\n",
      "True Positive (TP) : 26\n"
     ]
    }
   ],
   "source": [
    "print(f\"True Negative (TN) : {TN}\")\n",
    "print(f\"False Positive (FP): {FP}\")\n",
    "print(f\"False Negative (FN): {FN}\")\n",
    "print(f\"True Positive (TP) : {TP}\")"
   ]
  },
  {
   "cell_type": "code",
   "execution_count": 96,
   "id": "ff11e079",
   "metadata": {},
   "outputs": [
    {
     "name": "stdout",
     "output_type": "stream",
     "text": [
      "Sensitivity or TPR: 1.04754230459307%\n",
      "There is a 1.04754230459307% chance of detecting patients with an abnormality have an abnormality\n"
     ]
    }
   ],
   "source": [
    "# Sensitivity, hit rate, recall, or true positive rate\n",
    "Sensitivity  = float(TP)/(TP+FN)*100\n",
    "print(f\"Sensitivity or TPR: {Sensitivity}%\")  \n",
    "print(f\"There is a {Sensitivity}% chance of detecting patients with an abnormality have an abnormality\")"
   ]
  },
  {
   "cell_type": "code",
   "execution_count": 97,
   "id": "4bbc8ef2",
   "metadata": {},
   "outputs": [
    {
     "name": "stdout",
     "output_type": "stream",
     "text": [
      "Specificity or TNR: 99.95047578619689%\n",
      "There is a 99.95047578619689% chance of detecting normal patients are normal.\n"
     ]
    }
   ],
   "source": [
    "# Specificity or true negative rate\n",
    "Specificity  = float(TN)/(TN+FP)*100\n",
    "print(f\"Specificity or TNR: {Specificity}%\") \n",
    "print(f\"There is a {Specificity}% chance of detecting normal patients are normal.\")"
   ]
  },
  {
   "cell_type": "code",
   "execution_count": 98,
   "id": "ee4a7cba",
   "metadata": {},
   "outputs": [
    {
     "name": "stdout",
     "output_type": "stream",
     "text": [
      "Precision: 65.0%\n",
      "You have an abnormality, and the probablity that is correct is 65.0%\n"
     ]
    }
   ],
   "source": [
    "# Precision or positive predictive value\n",
    "Precision = float(TP)/(TP+FP)*100\n",
    "print(f\"Precision: {Precision}%\")  \n",
    "print(f\"You have an abnormality, and the probablity that is correct is {Precision}%\")"
   ]
  },
  {
   "cell_type": "code",
   "execution_count": 99,
   "id": "18cf1630",
   "metadata": {},
   "outputs": [
    {
     "name": "stdout",
     "output_type": "stream",
     "text": [
      "Negative Predictive Value: 92.00286542281268%\n",
      "You don't have an abnormality, but there is a 92.00286542281268% chance that is incorrect\n"
     ]
    }
   ],
   "source": [
    "# Negative predictive value\n",
    "NPV = float(TN)/(TN+FN)*100\n",
    "print(f\"Negative Predictive Value: {NPV}%\") \n",
    "print(f\"You don't have an abnormality, but there is a {NPV}% chance that is incorrect\" )"
   ]
  },
  {
   "cell_type": "code",
   "execution_count": 100,
   "id": "8b43a3f2",
   "metadata": {},
   "outputs": [
    {
     "name": "stdout",
     "output_type": "stream",
     "text": [
      "False Positive Rate: 0.04952421380310587%\n",
      "There is a 0.04952421380310587% chance that this positive result is incorrect.\n"
     ]
    }
   ],
   "source": [
    "# Fall out or false positive rate\n",
    "FPR = float(FP)/(FP+TN)*100\n",
    "print( f\"False Positive Rate: {FPR}%\") \n",
    "print( f\"There is a {FPR}% chance that this positive result is incorrect.\")"
   ]
  },
  {
   "cell_type": "code",
   "execution_count": 101,
   "id": "502779bd",
   "metadata": {},
   "outputs": [
    {
     "name": "stdout",
     "output_type": "stream",
     "text": [
      "False Negative Rate: 98.95245769540692%\n",
      "There is a 98.95245769540692% chance that this negative result is incorrect.\n"
     ]
    }
   ],
   "source": [
    "# False negative rate\n",
    "FNR = float(FN)/(TP+FN)*100\n",
    "print(f\"False Negative Rate: {FNR}%\") \n",
    "print(f\"There is a {FNR}% chance that this negative result is incorrect.\")"
   ]
  },
  {
   "cell_type": "code",
   "execution_count": 102,
   "id": "c72ef34f",
   "metadata": {},
   "outputs": [
    {
     "name": "stdout",
     "output_type": "stream",
     "text": [
      "False Discovery Rate: 35.0%\n",
      "You have an abnormality, but there is a 35.0% chance this is incorrect.\n"
     ]
    }
   ],
   "source": [
    "# False discovery rate\n",
    "FDR = float(FP)/(TP+FP)*100\n",
    "print(f\"False Discovery Rate: {FDR}%\" )\n",
    "print(f\"You have an abnormality, but there is a {FDR}% chance this is incorrect.\")"
   ]
  },
  {
   "cell_type": "code",
   "execution_count": 103,
   "id": "520ba439",
   "metadata": {},
   "outputs": [
    {
     "name": "stdout",
     "output_type": "stream",
     "text": [
      "Accuracy: 91.96774088647524%\n"
     ]
    }
   ],
   "source": [
    "# Overall accuracy\n",
    "ACC = float(TP+TN)/(TP+FP+FN+TN)*100\n",
    "print(f\"Accuracy: {ACC}%\") "
   ]
  },
  {
   "cell_type": "code",
   "execution_count": 104,
   "id": "58ee2948",
   "metadata": {},
   "outputs": [
    {
     "name": "stdout",
     "output_type": "stream",
     "text": [
      "Sensitivity or TPR: 1.04754230459307%\n",
      "Specificity or TNR: 99.95047578619689%\n",
      "Precision: 65.0%\n",
      "Negative Predictive Value: 92.00286542281268%\n",
      "False Positive Rate: 0.04952421380310587%\n",
      "False Negative Rate: 98.95245769540692%\n",
      "False Discovery Rate: 35.0%\n",
      "Accuracy: 91.96774088647524%\n"
     ]
    }
   ],
   "source": [
    "print(f\"Sensitivity or TPR: {Sensitivity}%\")    \n",
    "print(f\"Specificity or TNR: {Specificity}%\") \n",
    "print(f\"Precision: {Precision}%\")   \n",
    "print(f\"Negative Predictive Value: {NPV}%\")  \n",
    "print( f\"False Positive Rate: {FPR}%\") \n",
    "print(f\"False Negative Rate: {FNR}%\")  \n",
    "print(f\"False Discovery Rate: {FDR}%\" )\n",
    "print(f\"Accuracy: {ACC}%\")"
   ]
  },
  {
   "cell_type": "markdown",
   "id": "30e30ba7",
   "metadata": {},
   "source": [
    "## Recalculando AUC-ROC"
   ]
  },
  {
   "cell_type": "code",
   "execution_count": 105,
   "id": "39f3602d",
   "metadata": {},
   "outputs": [
    {
     "name": "stdout",
     "output_type": "stream",
     "text": [
      "Validation AUC 0.7480171358796601\n"
     ]
    }
   ],
   "source": [
    "test_labels = test.iloc[:,0];\n",
    "print(\"Validation AUC\", roc_auc_score(test_labels, best_target_predicted) )"
   ]
  },
  {
   "cell_type": "code",
   "execution_count": 106,
   "id": "c28e434e",
   "metadata": {},
   "outputs": [],
   "source": [
    "fpr, tpr, thresholds = roc_curve(test_labels, best_target_predicted)\n",
    "roc_auc = auc(fpr, tpr)"
   ]
  },
  {
   "cell_type": "code",
   "execution_count": 107,
   "id": "692a1486",
   "metadata": {},
   "outputs": [
    {
     "data": {
      "text/plain": [
       "<matplotlib.legend.Legend at 0x7f722a482370>"
      ]
     },
     "execution_count": 107,
     "metadata": {},
     "output_type": "execute_result"
    },
    {
     "data": {
      "image/png": "[encoded data removed]",
      "text/plain": [
       "<Figure size 432x288 with 1 Axes>"
      ]
     },
     "metadata": {
      "needs_background": "light"
     },
     "output_type": "display_data"
    }
   ],
   "source": [
    "plt.figure()\n",
    "plt.plot(fpr, tpr, label='ROC curve (area = %0.2f)' % (roc_auc))\n",
    "plt.plot([0, 1], [0, 1], 'k--')\n",
    "plt.xlim([0.0, 1.0])\n",
    "plt.ylim([0.0, 1.05])\n",
    "plt.xlabel('False Positive Rate')\n",
    "plt.ylabel('True Positive Rate')\n",
    "plt.title('Receiver operating characteristic')\n",
    "plt.legend(loc=\"lower right\")"
   ]
  },
  {
   "cell_type": "code",
   "execution_count": 108,
   "id": "5307ef30",
   "metadata": {},
   "outputs": [
    {
     "data": {
      "text/plain": [
       "(0.0, 1.0)"
      ]
     },
     "execution_count": 108,
     "metadata": {},
     "output_type": "execute_result"
    },
    {
     "data": {
      "image/png": "[encoded data removed]",
      "text/plain": [
       "<Figure size 432x288 with 2 Axes>"
      ]
     },
     "metadata": {
      "needs_background": "light"
     },
     "output_type": "display_data"
    }
   ],
   "source": [
    "# create the axis of thresholds (scores)\n",
    "ax2 = plt.gca().twinx()\n",
    "ax2.plot(fpr, thresholds, markeredgecolor='r',linestyle='dashed', color='r')\n",
    "ax2.set_ylabel('Threshold',color='r')\n",
    "ax2.set_ylim([thresholds[-1],thresholds[0]])\n",
    "ax2.set_xlim([fpr[0],fpr[-1]])"
   ]
  },
  {
   "cell_type": "code",
   "execution_count": 109,
   "id": "2c91bf79",
   "metadata": {},
   "outputs": [
    {
     "name": "stdout",
     "output_type": "stream",
     "text": [
      "Figure(432x288)\n"
     ]
    },
    {
     "data": {
      "text/plain": [
       "<Figure size 432x288 with 0 Axes>"
      ]
     },
     "metadata": {},
     "output_type": "display_data"
    }
   ],
   "source": [
    "print(plt.figure())"
   ]
  },
  {
   "cell_type": "markdown",
   "id": "2aff6eeb",
   "metadata": {},
   "source": [
    "## Deploy"
   ]
  },
  {
   "cell_type": "code",
   "execution_count": 110,
   "id": "bd009a35",
   "metadata": {},
   "outputs": [
    {
     "name": "stdout",
     "output_type": "stream",
     "text": [
      "-------!"
     ]
    }
   ],
   "source": [
    "xgb_predictor = xgb_model.deploy(initial_instance_count=1,\n",
    "                serializer = sagemaker.serializers.CSVSerializer(),\n",
    "                instance_type='ml.m4.xlarge')"
   ]
  },
  {
   "cell_type": "markdown",
   "id": "f63c7569",
   "metadata": {},
   "source": [
    "## Regressão Logistica"
   ]
  },
  {
   "cell_type": "code",
   "execution_count": 111,
   "id": "93f458a2",
   "metadata": {},
   "outputs": [],
   "source": [
    "y = a_train['TARGET']\n",
    "X = a_train.drop(labels=['TARGET'],axis=1)"
   ]
  },
  {
   "cell_type": "code",
   "execution_count": 112,
   "id": "d8441705",
   "metadata": {},
   "outputs": [],
   "source": [
    "#prediction is on y_train\n",
    "X_train, X_valid, y_train, y_valid = train_test_split(X,y,test_size=.30,random_state=1)"
   ]
  },
  {
   "cell_type": "code",
   "execution_count": 113,
   "id": "a28ca97c",
   "metadata": {},
   "outputs": [
    {
     "name": "stdout",
     "output_type": "stream",
     "text": [
      "(215257, 239)\n",
      "(92254, 239)\n"
     ]
    }
   ],
   "source": [
    "from sklearn.linear_model import LogisticRegression\n",
    "print(X_train.shape)\n",
    "print(X_valid.shape)"
   ]
  },
  {
   "cell_type": "code",
   "execution_count": 114,
   "id": "d730ca8b",
   "metadata": {},
   "outputs": [],
   "source": [
    "\n",
    "# TREINAMENTO\n",
    "clf_logistic = LogisticRegression(solver='lbfgs')\n",
    "clf_logistic_fit = clf_logistic.fit(X_train,y_train)\n",
    "#clf_logistic_fit.coef_"
   ]
  },
  {
   "cell_type": "code",
   "execution_count": 115,
   "id": "74f79586",
   "metadata": {},
   "outputs": [
    {
     "data": {
      "text/html": [
       "<div>\n",
       "<style scoped>\n",
       "    .dataframe tbody tr th:only-of-type {\n",
       "        vertical-align: middle;\n",
       "    }\n",
       "\n",
       "    .dataframe tbody tr th {\n",
       "        vertical-align: top;\n",
       "    }\n",
       "\n",
       "    .dataframe thead th {\n",
       "        text-align: right;\n",
       "    }\n",
       "</style>\n",
       "<table border=\"1\" class=\"dataframe\">\n",
       "  <thead>\n",
       "    <tr style=\"text-align: right;\">\n",
       "      <th></th>\n",
       "      <th>0</th>\n",
       "      <th>1</th>\n",
       "    </tr>\n",
       "  </thead>\n",
       "  <tbody>\n",
       "    <tr>\n",
       "      <th>0</th>\n",
       "      <td>0.963295</td>\n",
       "      <td>0.036705</td>\n",
       "    </tr>\n",
       "    <tr>\n",
       "      <th>1</th>\n",
       "      <td>0.921231</td>\n",
       "      <td>0.078769</td>\n",
       "    </tr>\n",
       "    <tr>\n",
       "      <th>2</th>\n",
       "      <td>0.965671</td>\n",
       "      <td>0.034329</td>\n",
       "    </tr>\n",
       "    <tr>\n",
       "      <th>3</th>\n",
       "      <td>0.931244</td>\n",
       "      <td>0.068756</td>\n",
       "    </tr>\n",
       "    <tr>\n",
       "      <th>4</th>\n",
       "      <td>0.454244</td>\n",
       "      <td>0.545756</td>\n",
       "    </tr>\n",
       "  </tbody>\n",
       "</table>\n",
       "</div>"
      ],
      "text/plain": [
       "          0         1\n",
       "0  0.963295  0.036705\n",
       "1  0.921231  0.078769\n",
       "2  0.965671  0.034329\n",
       "3  0.931244  0.068756\n",
       "4  0.454244  0.545756"
      ]
     },
     "execution_count": 115,
     "metadata": {},
     "output_type": "execute_result"
    }
   ],
   "source": [
    "probs=pd.DataFrame(clf_logistic.predict_proba(X_valid)).head()\n",
    "probs"
   ]
  },
  {
   "cell_type": "code",
   "execution_count": 116,
   "id": "f560047c",
   "metadata": {},
   "outputs": [],
   "source": [
    "from sklearn.metrics import roc_curve, auc, roc_auc_score\n",
    "from sklearn import metrics\n",
    "from sklearn.metrics import confusion_matrix,classification_report,recall_score,accuracy_score,precision_score\n",
    "from sklearn.model_selection import train_test_split"
   ]
  },
  {
   "cell_type": "code",
   "execution_count": 117,
   "id": "898f671a",
   "metadata": {},
   "outputs": [
    {
     "data": {
      "image/png": "[encoded data removed]",
      "text/plain": [
       "<Figure size 432x288 with 1 Axes>"
      ]
     },
     "metadata": {
      "needs_background": "light"
     },
     "output_type": "display_data"
    }
   ],
   "source": [
    "#VALIDAÇÃO\n",
    "y_pred = clf_logistic_fit.predict(X_valid)\n",
    "y_pred_proba = clf_logistic_fit.predict_proba(X_valid)[::,1]\n",
    "fpr, tpr, _ = metrics.roc_curve( y_valid,  y_pred_proba)\n",
    "auc = metrics.roc_auc_score( y_valid, y_pred_proba)\n",
    "plt.plot(fpr,tpr,label=\"AUC=\"+str(auc))\n",
    "plt.plot([0, 1], [0, 1], color='navy', lw=1, linestyle='--')\n",
    "plt.ylabel('True Positive Rate')\n",
    "plt.xlabel('False Positive Rate')\n",
    "plt.legend(loc=4)\n",
    "plt.show()"
   ]
  },
  {
   "cell_type": "code",
   "execution_count": 118,
   "id": "70d6f233",
   "metadata": {},
   "outputs": [
    {
     "name": "stdout",
     "output_type": "stream",
     "text": [
      "              precision    recall  f1-score   support\n",
      "\n",
      "         0.0       0.92      1.00      0.96     84787\n",
      "         1.0       0.49      0.01      0.02      7467\n",
      "\n",
      "    accuracy                           0.92     92254\n",
      "   macro avg       0.70      0.50      0.49     92254\n",
      "weighted avg       0.88      0.92      0.88     92254\n",
      "\n"
     ]
    }
   ],
   "source": [
    "print (classification_report(y_true=y_valid,\n",
    "                            y_pred=y_pred))"
   ]
  },
  {
   "cell_type": "code",
   "execution_count": 119,
   "id": "06abe26c",
   "metadata": {},
   "outputs": [
    {
     "name": "stdout",
     "output_type": "stream",
     "text": [
      "Logistic regression accuracy_score 0.919027901229215\n"
     ]
    }
   ],
   "source": [
    "acc1=accuracy_score(y_true=y_valid,\n",
    "               y_pred=y_pred)\n",
    "print('Logistic regression accuracy_score',acc1)"
   ]
  },
  {
   "cell_type": "code",
   "execution_count": 120,
   "id": "f60489c1",
   "metadata": {},
   "outputs": [
    {
     "data": {
      "text/plain": [
       "array([[84711,    76],\n",
       "       [ 7394,    73]])"
      ]
     },
     "execution_count": 120,
     "metadata": {},
     "output_type": "execute_result"
    }
   ],
   "source": [
    "matrix = confusion_matrix(y_valid, y_pred)\n",
    "matrix"
   ]
  },
  {
   "cell_type": "code",
   "execution_count": null,
   "id": "216adeff",
   "metadata": {},
   "outputs": [],
   "source": []
  },
  {
   "cell_type": "markdown",
   "id": "8e06761d",
   "metadata": {},
   "source": [
    "## Randon Forest"
   ]
  },
  {
   "cell_type": "code",
   "execution_count": 122,
   "id": "524c7746",
   "metadata": {},
   "outputs": [],
   "source": [
    "y = a_train['TARGET']\n",
    "X = a_train.drop(labels=['TARGET'],axis=1)"
   ]
  },
  {
   "cell_type": "code",
   "execution_count": 123,
   "id": "cabea2e4",
   "metadata": {},
   "outputs": [],
   "source": [
    "X_train, X_valid, y_train, y_valid = train_test_split(X,y,test_size=.30,random_state=1)"
   ]
  },
  {
   "cell_type": "code",
   "execution_count": 124,
   "id": "f7648f68",
   "metadata": {},
   "outputs": [],
   "source": [
    "from sklearn.ensemble import RandomForestClassifier,AdaBoostClassifier\n",
    "from sklearn.model_selection import GridSearchCV"
   ]
  },
  {
   "cell_type": "code",
   "execution_count": 125,
   "id": "c480dbee",
   "metadata": {},
   "outputs": [
    {
     "name": "stdout",
     "output_type": "stream",
     "text": [
      "              precision    recall  f1-score   support\n",
      "\n",
      "         0.0       0.92      1.00      0.96     84787\n",
      "         1.0       1.00      0.00      0.00      7467\n",
      "\n",
      "    accuracy                           0.92     92254\n",
      "   macro avg       0.96      0.50      0.48     92254\n",
      "weighted avg       0.93      0.92      0.88     92254\n",
      "\n"
     ]
    }
   ],
   "source": [
    "#X=X_train\n",
    "#y=y_train\n",
    "#X_train, X_valid, y_train, y_valid = train_test_split(X,y,test_size=.30,random_state=1)\n",
    "\n",
    "# TREINAMENTO\n",
    "param_grid={'max_depth':range(1,20,2)}\n",
    "forest = RandomForestClassifier()\n",
    "random_forest = GridSearchCV(forest, param_grid, cv=5, scoring='accuracy',n_jobs=-1).fit(X_train,y_train)\n",
    "\n",
    "# VALIDAÇÃO\n",
    "y_pred = random_forest.predict(X_valid)\n",
    "print(classification_report(y_true=y_valid, y_pred=y_pred))"
   ]
  },
  {
   "cell_type": "code",
   "execution_count": 126,
   "id": "6d0b4651",
   "metadata": {},
   "outputs": [
    {
     "name": "stdout",
     "output_type": "stream",
     "text": [
      "0.9190712597827736\n"
     ]
    }
   ],
   "source": [
    "print(accuracy_score(y_valid,y_pred))"
   ]
  },
  {
   "cell_type": "code",
   "execution_count": 127,
   "id": "2163705b",
   "metadata": {},
   "outputs": [
    {
     "data": {
      "image/png": "[encoded data removed]",
      "text/plain": [
       "<Figure size 432x288 with 1 Axes>"
      ]
     },
     "metadata": {
      "needs_background": "light"
     },
     "output_type": "display_data"
    }
   ],
   "source": [
    "y_pred_proba = random_forest.predict_proba(X_valid)[::,1]\n",
    "fpr, tpr, _ = metrics.roc_curve( y_valid,  y_pred_proba)\n",
    "auc_f = metrics.roc_auc_score( y_valid, y_pred_proba)\n",
    "plt.plot(fpr,tpr,label=\"AUC=\"+str(auc))\n",
    "plt.plot([0, 1], [0, 1], color='navy', lw=1, linestyle='--')\n",
    "plt.ylabel('True Positive Rate')\n",
    "plt.xlabel('False Positive Rate')\n",
    "plt.legend(loc=4)\n",
    "plt.show()"
   ]
  },
  {
   "cell_type": "markdown",
   "id": "b7d9fe7a",
   "metadata": {},
   "source": [
    "## Comparação entre os 3 métodos de ML"
   ]
  },
  {
   "cell_type": "code",
   "execution_count": 135,
   "id": "048aa1fa",
   "metadata": {},
   "outputs": [
    {
     "data": {
      "text/plain": [
       "Text(0, 0.5, 'Auc')"
      ]
     },
     "execution_count": 135,
     "metadata": {},
     "output_type": "execute_result"
    },
    {
     "data": {
      "image/png": "[encoded data removed]",
      "text/plain": [
       "<Figure size 720x360 with 1 Axes>"
      ]
     },
     "metadata": {
      "needs_background": "light"
     },
     "output_type": "display_data"
    }
   ],
   "source": [
    "name = ['Logistic Regression','Random Forest','XGBoost', 'XGBoost - Tunning']\n",
    "auc_f = [0.747,0.747,0.753, 0.748]\n",
    "plt.figure(figsize=(10,5))\n",
    "sns.lineplot(x=name,y=auc_f)\n",
    "plt.xticks(rotation=65)\n",
    "plt.title('Comparação dos métodos de Machine Learning')\n",
    "plt.xlabel('Método')\n",
    "plt.ylabel('Auc')"
   ]
  },
  {
   "cell_type": "markdown",
   "id": "82edaecc",
   "metadata": {},
   "source": [
    "Este gráfico mostra que o XGBoost teve um desepenho melhor que os outros dois modelos"
   ]
  },
  {
   "cell_type": "markdown",
   "id": "4a04a4a6",
   "metadata": {},
   "source": [
    "## Teste"
   ]
  },
  {
   "cell_type": "markdown",
   "id": "18afdc0a",
   "metadata": {},
   "source": [
    "## Regressão Logistica\n",
    "O treinamento de Regressão logistica aplicado no csv de teste predizeu apenas 0,2% de clientes potenciais inadimplentes. "
   ]
  },
  {
   "cell_type": "code",
   "execution_count": 129,
   "id": "91fcc362",
   "metadata": {},
   "outputs": [
    {
     "name": "stdout",
     "output_type": "stream",
     "text": [
      "48612\n",
      "132\n"
     ]
    }
   ],
   "source": [
    "y_pred_LOGISTIC = clf_logistic_fit.predict(a_test)\n",
    "print((y_pred_LOGISTIC == 0).sum())\n",
    "print((y_pred_LOGISTIC == 1).sum())"
   ]
  },
  {
   "cell_type": "markdown",
   "id": "df6701e9",
   "metadata": {},
   "source": [
    "## Random Forest\n",
    "O treinamento de Random Forest aplicado no csv de teste não detectou potenciais clientes inadimplentes."
   ]
  },
  {
   "cell_type": "code",
   "execution_count": 130,
   "id": "40632429",
   "metadata": {},
   "outputs": [
    {
     "name": "stdout",
     "output_type": "stream",
     "text": [
      "48744\n",
      "0\n"
     ]
    }
   ],
   "source": [
    "y_pred_FOREST = random_forest.predict(a_test)\n",
    "print((y_pred_FOREST == 0).sum())\n",
    "print((y_pred_FOREST == 1).sum())"
   ]
  },
  {
   "cell_type": "code",
   "execution_count": 131,
   "id": "7f20ef9c",
   "metadata": {},
   "outputs": [],
   "source": [
    "a_test['TARGET_L'] = y_pred_LOGISTIC\n",
    "a_test['TARGET_F'] = y_pred_FOREST\n",
    "a_test.to_csv('a_test_with_targets.csv')"
   ]
  },
  {
   "cell_type": "markdown",
   "id": "65c324d8",
   "metadata": {},
   "source": [
    "O resultado do Random forest mostra o quão problematico é o desbalanceamento do dataframe. O modelo não encontrou nenhum caso de potencial cliente devedor, isto para uma empresa representa um alto risco de crédito a perfis que o modelo não conseguiu identificar. Esta conclusão só se deve pq é esperado que ao menos 8% do dataset sejam possiveis inadimplentes (seguindo a lógica que a tendencia de um grupo inadimplente siga por voltados 8% do dataset de treino). \n",
    "Logo fica claro que é necessário balancear o data frame e fazer novos treinamentos. "
   ]
  },
  {
   "cell_type": "code",
   "execution_count": null,
   "id": "683faa71",
   "metadata": {},
   "outputs": [],
   "source": []
  }
 ],
 "metadata": {
  "kernelspec": {
   "display_name": "conda_python3",
   "language": "python",
   "name": "conda_python3"
  },
  "language_info": {
   "codemirror_mode": {
    "name": "ipython",
    "version": 3
   },
   "file_extension": ".py",
   "mimetype": "text/x-python",
   "name": "python",
   "nbconvert_exporter": "python",
   "pygments_lexer": "ipython3",
   "version": "3.8.12"
  }
 },
 "nbformat": 4,
 "nbformat_minor": 5
}
