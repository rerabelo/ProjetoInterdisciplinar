{
 "cells": [
  {
   "cell_type": "markdown",
   "id": "5fb8a911",
   "metadata": {},
   "source": [
    "## **Criação dos Modelos de Aprendizado de Máquina - Risco de Inadimplência de Crédito Residencial**"
   ]
  },
  {
   "cell_type": "markdown",
   "id": "04ed3eb5",
   "metadata": {},
   "source": [
    "## Importando bibliotecas - SETUP"
   ]
  },
  {
   "cell_type": "code",
   "execution_count": 1,
   "id": "b9460fa4",
   "metadata": {},
   "outputs": [],
   "source": [
    "import warnings, requests, zipfile, io\n",
    "warnings.simplefilter('ignore')\n",
    "import pandas as pd\n",
    "from scipy.io import arff\n",
    "\n",
    "import os\n",
    "import boto3\n",
    "import botocore \n",
    "import sagemaker\n",
    "import numpy as np\n",
    "import pandas as pd \n",
    "import seaborn as sns\n",
    "from collections import Counter\n",
    "import matplotlib.pyplot as plt\n",
    "from sagemaker import get_execution_role \n",
    "from sagemaker.image_uris import retrieve\n",
    "from sklearn.preprocessing import LabelEncoder\n",
    "from sklearn.model_selection import train_test_split"
   ]
  },
  {
   "cell_type": "markdown",
   "id": "17492f24",
   "metadata": {},
   "source": [
    "## Lendo o conjunto de dados processados"
   ]
  },
  {
   "cell_type": "code",
   "execution_count": 2,
   "id": "57c377d3",
   "metadata": {},
   "outputs": [],
   "source": [
    "bucket='credit2022processados'"
   ]
  },
  {
   "cell_type": "code",
   "execution_count": 3,
   "id": "968f6647",
   "metadata": {},
   "outputs": [],
   "source": [
    "prefix = 'EDA/a_train'"
   ]
  },
  {
   "cell_type": "code",
   "execution_count": 4,
   "id": "f266f553",
   "metadata": {},
   "outputs": [
    {
     "data": {
      "text/html": [
       "<div>\n",
       "<style scoped>\n",
       "    .dataframe tbody tr th:only-of-type {\n",
       "        vertical-align: middle;\n",
       "    }\n",
       "\n",
       "    .dataframe tbody tr th {\n",
       "        vertical-align: top;\n",
       "    }\n",
       "\n",
       "    .dataframe thead th {\n",
       "        text-align: right;\n",
       "    }\n",
       "</style>\n",
       "<table border=\"1\" class=\"dataframe\">\n",
       "  <thead>\n",
       "    <tr style=\"text-align: right;\">\n",
       "      <th></th>\n",
       "      <th>SK_ID_CURR</th>\n",
       "      <th>NAME_CONTRACT_TYPE</th>\n",
       "      <th>FLAG_OWN_CAR</th>\n",
       "      <th>FLAG_OWN_REALTY</th>\n",
       "      <th>AMT_CREDIT</th>\n",
       "      <th>AMT_GOODS_PRICE</th>\n",
       "      <th>REGION_POPULATION_RELATIVE</th>\n",
       "      <th>DAYS_BIRTH</th>\n",
       "      <th>DAYS_EMPLOYED</th>\n",
       "      <th>DAYS_REGISTRATION</th>\n",
       "      <th>...</th>\n",
       "      <th>FONDKAPREMONT_MODE_not specified</th>\n",
       "      <th>FONDKAPREMONT_MODE_org spec account</th>\n",
       "      <th>FONDKAPREMONT_MODE_reg oper account</th>\n",
       "      <th>FONDKAPREMONT_MODE_reg oper spec account</th>\n",
       "      <th>HOUSETYPE_MODE_block of flats</th>\n",
       "      <th>HOUSETYPE_MODE_specific housing</th>\n",
       "      <th>HOUSETYPE_MODE_terraced house</th>\n",
       "      <th>EMERGENCYSTATE_MODE_No</th>\n",
       "      <th>EMERGENCYSTATE_MODE_Yes</th>\n",
       "      <th>TARGET</th>\n",
       "    </tr>\n",
       "  </thead>\n",
       "  <tbody>\n",
       "    <tr>\n",
       "      <th>0</th>\n",
       "      <td>100002</td>\n",
       "      <td>0</td>\n",
       "      <td>0</td>\n",
       "      <td>1</td>\n",
       "      <td>406597.5</td>\n",
       "      <td>351000.0</td>\n",
       "      <td>0.018801</td>\n",
       "      <td>9461</td>\n",
       "      <td>-637</td>\n",
       "      <td>-3648.0</td>\n",
       "      <td>...</td>\n",
       "      <td>0</td>\n",
       "      <td>0</td>\n",
       "      <td>1</td>\n",
       "      <td>0</td>\n",
       "      <td>1</td>\n",
       "      <td>0</td>\n",
       "      <td>0</td>\n",
       "      <td>1</td>\n",
       "      <td>0</td>\n",
       "      <td>1</td>\n",
       "    </tr>\n",
       "    <tr>\n",
       "      <th>1</th>\n",
       "      <td>100003</td>\n",
       "      <td>0</td>\n",
       "      <td>0</td>\n",
       "      <td>0</td>\n",
       "      <td>1293502.5</td>\n",
       "      <td>1129500.0</td>\n",
       "      <td>0.003541</td>\n",
       "      <td>16765</td>\n",
       "      <td>-1188</td>\n",
       "      <td>-1186.0</td>\n",
       "      <td>...</td>\n",
       "      <td>0</td>\n",
       "      <td>0</td>\n",
       "      <td>1</td>\n",
       "      <td>0</td>\n",
       "      <td>1</td>\n",
       "      <td>0</td>\n",
       "      <td>0</td>\n",
       "      <td>1</td>\n",
       "      <td>0</td>\n",
       "      <td>0</td>\n",
       "    </tr>\n",
       "    <tr>\n",
       "      <th>2</th>\n",
       "      <td>100004</td>\n",
       "      <td>1</td>\n",
       "      <td>1</td>\n",
       "      <td>1</td>\n",
       "      <td>135000.0</td>\n",
       "      <td>135000.0</td>\n",
       "      <td>0.010032</td>\n",
       "      <td>19046</td>\n",
       "      <td>-225</td>\n",
       "      <td>-4260.0</td>\n",
       "      <td>...</td>\n",
       "      <td>0</td>\n",
       "      <td>0</td>\n",
       "      <td>0</td>\n",
       "      <td>0</td>\n",
       "      <td>0</td>\n",
       "      <td>0</td>\n",
       "      <td>0</td>\n",
       "      <td>0</td>\n",
       "      <td>0</td>\n",
       "      <td>0</td>\n",
       "    </tr>\n",
       "    <tr>\n",
       "      <th>3</th>\n",
       "      <td>100006</td>\n",
       "      <td>0</td>\n",
       "      <td>0</td>\n",
       "      <td>1</td>\n",
       "      <td>312682.5</td>\n",
       "      <td>297000.0</td>\n",
       "      <td>0.008019</td>\n",
       "      <td>19005</td>\n",
       "      <td>-3039</td>\n",
       "      <td>-9833.0</td>\n",
       "      <td>...</td>\n",
       "      <td>0</td>\n",
       "      <td>0</td>\n",
       "      <td>0</td>\n",
       "      <td>0</td>\n",
       "      <td>0</td>\n",
       "      <td>0</td>\n",
       "      <td>0</td>\n",
       "      <td>0</td>\n",
       "      <td>0</td>\n",
       "      <td>0</td>\n",
       "    </tr>\n",
       "    <tr>\n",
       "      <th>4</th>\n",
       "      <td>100007</td>\n",
       "      <td>0</td>\n",
       "      <td>0</td>\n",
       "      <td>1</td>\n",
       "      <td>513000.0</td>\n",
       "      <td>513000.0</td>\n",
       "      <td>0.028663</td>\n",
       "      <td>19932</td>\n",
       "      <td>-3038</td>\n",
       "      <td>-4311.0</td>\n",
       "      <td>...</td>\n",
       "      <td>0</td>\n",
       "      <td>0</td>\n",
       "      <td>0</td>\n",
       "      <td>0</td>\n",
       "      <td>0</td>\n",
       "      <td>0</td>\n",
       "      <td>0</td>\n",
       "      <td>0</td>\n",
       "      <td>0</td>\n",
       "      <td>0</td>\n",
       "    </tr>\n",
       "    <tr>\n",
       "      <th>...</th>\n",
       "      <td>...</td>\n",
       "      <td>...</td>\n",
       "      <td>...</td>\n",
       "      <td>...</td>\n",
       "      <td>...</td>\n",
       "      <td>...</td>\n",
       "      <td>...</td>\n",
       "      <td>...</td>\n",
       "      <td>...</td>\n",
       "      <td>...</td>\n",
       "      <td>...</td>\n",
       "      <td>...</td>\n",
       "      <td>...</td>\n",
       "      <td>...</td>\n",
       "      <td>...</td>\n",
       "      <td>...</td>\n",
       "      <td>...</td>\n",
       "      <td>...</td>\n",
       "      <td>...</td>\n",
       "      <td>...</td>\n",
       "      <td>...</td>\n",
       "    </tr>\n",
       "    <tr>\n",
       "      <th>307506</th>\n",
       "      <td>456251</td>\n",
       "      <td>0</td>\n",
       "      <td>0</td>\n",
       "      <td>0</td>\n",
       "      <td>254700.0</td>\n",
       "      <td>225000.0</td>\n",
       "      <td>0.032561</td>\n",
       "      <td>9327</td>\n",
       "      <td>-236</td>\n",
       "      <td>-8456.0</td>\n",
       "      <td>...</td>\n",
       "      <td>0</td>\n",
       "      <td>0</td>\n",
       "      <td>1</td>\n",
       "      <td>0</td>\n",
       "      <td>1</td>\n",
       "      <td>0</td>\n",
       "      <td>0</td>\n",
       "      <td>1</td>\n",
       "      <td>0</td>\n",
       "      <td>0</td>\n",
       "    </tr>\n",
       "    <tr>\n",
       "      <th>307507</th>\n",
       "      <td>456252</td>\n",
       "      <td>0</td>\n",
       "      <td>0</td>\n",
       "      <td>1</td>\n",
       "      <td>269550.0</td>\n",
       "      <td>225000.0</td>\n",
       "      <td>0.025164</td>\n",
       "      <td>20775</td>\n",
       "      <td>365243</td>\n",
       "      <td>-4388.0</td>\n",
       "      <td>...</td>\n",
       "      <td>0</td>\n",
       "      <td>0</td>\n",
       "      <td>1</td>\n",
       "      <td>0</td>\n",
       "      <td>1</td>\n",
       "      <td>0</td>\n",
       "      <td>0</td>\n",
       "      <td>1</td>\n",
       "      <td>0</td>\n",
       "      <td>0</td>\n",
       "    </tr>\n",
       "    <tr>\n",
       "      <th>307508</th>\n",
       "      <td>456253</td>\n",
       "      <td>0</td>\n",
       "      <td>0</td>\n",
       "      <td>1</td>\n",
       "      <td>677664.0</td>\n",
       "      <td>585000.0</td>\n",
       "      <td>0.005002</td>\n",
       "      <td>14966</td>\n",
       "      <td>-7921</td>\n",
       "      <td>-6737.0</td>\n",
       "      <td>...</td>\n",
       "      <td>0</td>\n",
       "      <td>0</td>\n",
       "      <td>1</td>\n",
       "      <td>0</td>\n",
       "      <td>1</td>\n",
       "      <td>0</td>\n",
       "      <td>0</td>\n",
       "      <td>1</td>\n",
       "      <td>0</td>\n",
       "      <td>0</td>\n",
       "    </tr>\n",
       "    <tr>\n",
       "      <th>307509</th>\n",
       "      <td>456254</td>\n",
       "      <td>0</td>\n",
       "      <td>0</td>\n",
       "      <td>1</td>\n",
       "      <td>370107.0</td>\n",
       "      <td>319500.0</td>\n",
       "      <td>0.005313</td>\n",
       "      <td>11961</td>\n",
       "      <td>-4786</td>\n",
       "      <td>-2562.0</td>\n",
       "      <td>...</td>\n",
       "      <td>0</td>\n",
       "      <td>0</td>\n",
       "      <td>0</td>\n",
       "      <td>0</td>\n",
       "      <td>1</td>\n",
       "      <td>0</td>\n",
       "      <td>0</td>\n",
       "      <td>1</td>\n",
       "      <td>0</td>\n",
       "      <td>1</td>\n",
       "    </tr>\n",
       "    <tr>\n",
       "      <th>307510</th>\n",
       "      <td>456255</td>\n",
       "      <td>0</td>\n",
       "      <td>0</td>\n",
       "      <td>0</td>\n",
       "      <td>675000.0</td>\n",
       "      <td>675000.0</td>\n",
       "      <td>0.046220</td>\n",
       "      <td>16856</td>\n",
       "      <td>-1262</td>\n",
       "      <td>-5128.0</td>\n",
       "      <td>...</td>\n",
       "      <td>0</td>\n",
       "      <td>0</td>\n",
       "      <td>0</td>\n",
       "      <td>0</td>\n",
       "      <td>1</td>\n",
       "      <td>0</td>\n",
       "      <td>0</td>\n",
       "      <td>1</td>\n",
       "      <td>0</td>\n",
       "      <td>0</td>\n",
       "    </tr>\n",
       "  </tbody>\n",
       "</table>\n",
       "<p>307511 rows × 155 columns</p>\n",
       "</div>"
      ],
      "text/plain": [
       "        SK_ID_CURR  NAME_CONTRACT_TYPE  FLAG_OWN_CAR  FLAG_OWN_REALTY  \\\n",
       "0           100002                   0             0                1   \n",
       "1           100003                   0             0                0   \n",
       "2           100004                   1             1                1   \n",
       "3           100006                   0             0                1   \n",
       "4           100007                   0             0                1   \n",
       "...            ...                 ...           ...              ...   \n",
       "307506      456251                   0             0                0   \n",
       "307507      456252                   0             0                1   \n",
       "307508      456253                   0             0                1   \n",
       "307509      456254                   0             0                1   \n",
       "307510      456255                   0             0                0   \n",
       "\n",
       "        AMT_CREDIT  AMT_GOODS_PRICE  REGION_POPULATION_RELATIVE  DAYS_BIRTH  \\\n",
       "0         406597.5         351000.0                    0.018801        9461   \n",
       "1        1293502.5        1129500.0                    0.003541       16765   \n",
       "2         135000.0         135000.0                    0.010032       19046   \n",
       "3         312682.5         297000.0                    0.008019       19005   \n",
       "4         513000.0         513000.0                    0.028663       19932   \n",
       "...            ...              ...                         ...         ...   \n",
       "307506    254700.0         225000.0                    0.032561        9327   \n",
       "307507    269550.0         225000.0                    0.025164       20775   \n",
       "307508    677664.0         585000.0                    0.005002       14966   \n",
       "307509    370107.0         319500.0                    0.005313       11961   \n",
       "307510    675000.0         675000.0                    0.046220       16856   \n",
       "\n",
       "        DAYS_EMPLOYED  DAYS_REGISTRATION  ...  \\\n",
       "0                -637            -3648.0  ...   \n",
       "1               -1188            -1186.0  ...   \n",
       "2                -225            -4260.0  ...   \n",
       "3               -3039            -9833.0  ...   \n",
       "4               -3038            -4311.0  ...   \n",
       "...               ...                ...  ...   \n",
       "307506           -236            -8456.0  ...   \n",
       "307507         365243            -4388.0  ...   \n",
       "307508          -7921            -6737.0  ...   \n",
       "307509          -4786            -2562.0  ...   \n",
       "307510          -1262            -5128.0  ...   \n",
       "\n",
       "        FONDKAPREMONT_MODE_not specified  FONDKAPREMONT_MODE_org spec account  \\\n",
       "0                                      0                                    0   \n",
       "1                                      0                                    0   \n",
       "2                                      0                                    0   \n",
       "3                                      0                                    0   \n",
       "4                                      0                                    0   \n",
       "...                                  ...                                  ...   \n",
       "307506                                 0                                    0   \n",
       "307507                                 0                                    0   \n",
       "307508                                 0                                    0   \n",
       "307509                                 0                                    0   \n",
       "307510                                 0                                    0   \n",
       "\n",
       "        FONDKAPREMONT_MODE_reg oper account  \\\n",
       "0                                         1   \n",
       "1                                         1   \n",
       "2                                         0   \n",
       "3                                         0   \n",
       "4                                         0   \n",
       "...                                     ...   \n",
       "307506                                    1   \n",
       "307507                                    1   \n",
       "307508                                    1   \n",
       "307509                                    0   \n",
       "307510                                    0   \n",
       "\n",
       "        FONDKAPREMONT_MODE_reg oper spec account  \\\n",
       "0                                              0   \n",
       "1                                              0   \n",
       "2                                              0   \n",
       "3                                              0   \n",
       "4                                              0   \n",
       "...                                          ...   \n",
       "307506                                         0   \n",
       "307507                                         0   \n",
       "307508                                         0   \n",
       "307509                                         0   \n",
       "307510                                         0   \n",
       "\n",
       "        HOUSETYPE_MODE_block of flats  HOUSETYPE_MODE_specific housing  \\\n",
       "0                                   1                                0   \n",
       "1                                   1                                0   \n",
       "2                                   0                                0   \n",
       "3                                   0                                0   \n",
       "4                                   0                                0   \n",
       "...                               ...                              ...   \n",
       "307506                              1                                0   \n",
       "307507                              1                                0   \n",
       "307508                              1                                0   \n",
       "307509                              1                                0   \n",
       "307510                              1                                0   \n",
       "\n",
       "        HOUSETYPE_MODE_terraced house  EMERGENCYSTATE_MODE_No  \\\n",
       "0                                   0                       1   \n",
       "1                                   0                       1   \n",
       "2                                   0                       0   \n",
       "3                                   0                       0   \n",
       "4                                   0                       0   \n",
       "...                               ...                     ...   \n",
       "307506                              0                       1   \n",
       "307507                              0                       1   \n",
       "307508                              0                       1   \n",
       "307509                              0                       1   \n",
       "307510                              0                       1   \n",
       "\n",
       "        EMERGENCYSTATE_MODE_Yes  TARGET  \n",
       "0                             0       1  \n",
       "1                             0       0  \n",
       "2                             0       0  \n",
       "3                             0       0  \n",
       "4                             0       0  \n",
       "...                         ...     ...  \n",
       "307506                        0       0  \n",
       "307507                        0       0  \n",
       "307508                        0       0  \n",
       "307509                        0       1  \n",
       "307510                        0       0  \n",
       "\n",
       "[307511 rows x 155 columns]"
      ]
     },
     "execution_count": 4,
     "metadata": {},
     "output_type": "execute_result"
    }
   ],
   "source": [
    "role = get_execution_role() \n",
    "\n",
    "data_key_train = 'a_train.csv' \n",
    "data_location_train = 's3://{}/{}/{}'.format(bucket, prefix, data_key_train) \n",
    "\n",
    "a_train = pd.read_csv(data_location_train) \n",
    "a_train"
   ]
  },
  {
   "cell_type": "code",
   "execution_count": 5,
   "id": "9a345c17",
   "metadata": {},
   "outputs": [
    {
     "data": {
      "text/plain": [
       "(307511, 155)"
      ]
     },
     "execution_count": 5,
     "metadata": {},
     "output_type": "execute_result"
    }
   ],
   "source": [
    "a_train.shape"
   ]
  },
  {
   "cell_type": "code",
   "execution_count": 6,
   "id": "72c719cb",
   "metadata": {},
   "outputs": [
    {
     "data": {
      "text/plain": [
       "0    282686\n",
       "1     24825\n",
       "Name: TARGET, dtype: int64"
      ]
     },
     "execution_count": 6,
     "metadata": {},
     "output_type": "execute_result"
    }
   ],
   "source": [
    "a_train['TARGET'].value_counts()"
   ]
  },
  {
   "cell_type": "code",
   "execution_count": 7,
   "id": "b0f4c5f0",
   "metadata": {},
   "outputs": [
    {
     "data": {
      "text/plain": [
       "<AxesSubplot:xlabel='TARGET', ylabel='count'>"
      ]
     },
     "execution_count": 7,
     "metadata": {},
     "output_type": "execute_result"
    },
    {
     "data": {
      "image/png": "[encoded data removed]",
      "text/plain": [
       "<Figure size 432x288 with 1 Axes>"
      ]
     },
     "metadata": {
      "needs_background": "light"
     },
     "output_type": "display_data"
    }
   ],
   "source": [
    "sns.countplot(x='TARGET',data=a_train)"
   ]
  },
  {
   "cell_type": "code",
   "execution_count": 8,
   "id": "bf1ee391",
   "metadata": {},
   "outputs": [],
   "source": [
    "prefix = 'EDA/a_test'"
   ]
  },
  {
   "cell_type": "code",
   "execution_count": 9,
   "id": "95b97f5a",
   "metadata": {},
   "outputs": [
    {
     "data": {
      "text/html": [
       "<div>\n",
       "<style scoped>\n",
       "    .dataframe tbody tr th:only-of-type {\n",
       "        vertical-align: middle;\n",
       "    }\n",
       "\n",
       "    .dataframe tbody tr th {\n",
       "        vertical-align: top;\n",
       "    }\n",
       "\n",
       "    .dataframe thead th {\n",
       "        text-align: right;\n",
       "    }\n",
       "</style>\n",
       "<table border=\"1\" class=\"dataframe\">\n",
       "  <thead>\n",
       "    <tr style=\"text-align: right;\">\n",
       "      <th></th>\n",
       "      <th>SK_ID_CURR</th>\n",
       "      <th>NAME_CONTRACT_TYPE</th>\n",
       "      <th>FLAG_OWN_CAR</th>\n",
       "      <th>FLAG_OWN_REALTY</th>\n",
       "      <th>AMT_CREDIT</th>\n",
       "      <th>AMT_GOODS_PRICE</th>\n",
       "      <th>REGION_POPULATION_RELATIVE</th>\n",
       "      <th>DAYS_BIRTH</th>\n",
       "      <th>DAYS_EMPLOYED</th>\n",
       "      <th>DAYS_REGISTRATION</th>\n",
       "      <th>...</th>\n",
       "      <th>ORGANIZATION_TYPE_XNA</th>\n",
       "      <th>FONDKAPREMONT_MODE_not specified</th>\n",
       "      <th>FONDKAPREMONT_MODE_org spec account</th>\n",
       "      <th>FONDKAPREMONT_MODE_reg oper account</th>\n",
       "      <th>FONDKAPREMONT_MODE_reg oper spec account</th>\n",
       "      <th>HOUSETYPE_MODE_block of flats</th>\n",
       "      <th>HOUSETYPE_MODE_specific housing</th>\n",
       "      <th>HOUSETYPE_MODE_terraced house</th>\n",
       "      <th>EMERGENCYSTATE_MODE_No</th>\n",
       "      <th>EMERGENCYSTATE_MODE_Yes</th>\n",
       "    </tr>\n",
       "  </thead>\n",
       "  <tbody>\n",
       "    <tr>\n",
       "      <th>0</th>\n",
       "      <td>100001</td>\n",
       "      <td>0</td>\n",
       "      <td>0</td>\n",
       "      <td>1</td>\n",
       "      <td>568800.0</td>\n",
       "      <td>450000.0</td>\n",
       "      <td>0.018850</td>\n",
       "      <td>-19241</td>\n",
       "      <td>-2329</td>\n",
       "      <td>-5170.0</td>\n",
       "      <td>...</td>\n",
       "      <td>0</td>\n",
       "      <td>0</td>\n",
       "      <td>0</td>\n",
       "      <td>0</td>\n",
       "      <td>0</td>\n",
       "      <td>1</td>\n",
       "      <td>0</td>\n",
       "      <td>0</td>\n",
       "      <td>1</td>\n",
       "      <td>0</td>\n",
       "    </tr>\n",
       "    <tr>\n",
       "      <th>1</th>\n",
       "      <td>100005</td>\n",
       "      <td>0</td>\n",
       "      <td>0</td>\n",
       "      <td>1</td>\n",
       "      <td>222768.0</td>\n",
       "      <td>180000.0</td>\n",
       "      <td>0.035792</td>\n",
       "      <td>-18064</td>\n",
       "      <td>-4469</td>\n",
       "      <td>-9118.0</td>\n",
       "      <td>...</td>\n",
       "      <td>0</td>\n",
       "      <td>0</td>\n",
       "      <td>0</td>\n",
       "      <td>0</td>\n",
       "      <td>0</td>\n",
       "      <td>0</td>\n",
       "      <td>0</td>\n",
       "      <td>0</td>\n",
       "      <td>0</td>\n",
       "      <td>0</td>\n",
       "    </tr>\n",
       "    <tr>\n",
       "      <th>2</th>\n",
       "      <td>100013</td>\n",
       "      <td>0</td>\n",
       "      <td>1</td>\n",
       "      <td>1</td>\n",
       "      <td>663264.0</td>\n",
       "      <td>630000.0</td>\n",
       "      <td>0.019101</td>\n",
       "      <td>-20038</td>\n",
       "      <td>-4458</td>\n",
       "      <td>-2175.0</td>\n",
       "      <td>...</td>\n",
       "      <td>0</td>\n",
       "      <td>0</td>\n",
       "      <td>0</td>\n",
       "      <td>0</td>\n",
       "      <td>0</td>\n",
       "      <td>0</td>\n",
       "      <td>0</td>\n",
       "      <td>0</td>\n",
       "      <td>0</td>\n",
       "      <td>0</td>\n",
       "    </tr>\n",
       "    <tr>\n",
       "      <th>3</th>\n",
       "      <td>100028</td>\n",
       "      <td>0</td>\n",
       "      <td>0</td>\n",
       "      <td>1</td>\n",
       "      <td>1575000.0</td>\n",
       "      <td>1575000.0</td>\n",
       "      <td>0.026392</td>\n",
       "      <td>-13976</td>\n",
       "      <td>-1866</td>\n",
       "      <td>-2000.0</td>\n",
       "      <td>...</td>\n",
       "      <td>0</td>\n",
       "      <td>0</td>\n",
       "      <td>0</td>\n",
       "      <td>1</td>\n",
       "      <td>0</td>\n",
       "      <td>1</td>\n",
       "      <td>0</td>\n",
       "      <td>0</td>\n",
       "      <td>1</td>\n",
       "      <td>0</td>\n",
       "    </tr>\n",
       "    <tr>\n",
       "      <th>4</th>\n",
       "      <td>100038</td>\n",
       "      <td>0</td>\n",
       "      <td>1</td>\n",
       "      <td>0</td>\n",
       "      <td>625500.0</td>\n",
       "      <td>625500.0</td>\n",
       "      <td>0.010032</td>\n",
       "      <td>-13040</td>\n",
       "      <td>-2191</td>\n",
       "      <td>-4000.0</td>\n",
       "      <td>...</td>\n",
       "      <td>0</td>\n",
       "      <td>0</td>\n",
       "      <td>0</td>\n",
       "      <td>0</td>\n",
       "      <td>0</td>\n",
       "      <td>0</td>\n",
       "      <td>0</td>\n",
       "      <td>0</td>\n",
       "      <td>0</td>\n",
       "      <td>0</td>\n",
       "    </tr>\n",
       "    <tr>\n",
       "      <th>...</th>\n",
       "      <td>...</td>\n",
       "      <td>...</td>\n",
       "      <td>...</td>\n",
       "      <td>...</td>\n",
       "      <td>...</td>\n",
       "      <td>...</td>\n",
       "      <td>...</td>\n",
       "      <td>...</td>\n",
       "      <td>...</td>\n",
       "      <td>...</td>\n",
       "      <td>...</td>\n",
       "      <td>...</td>\n",
       "      <td>...</td>\n",
       "      <td>...</td>\n",
       "      <td>...</td>\n",
       "      <td>...</td>\n",
       "      <td>...</td>\n",
       "      <td>...</td>\n",
       "      <td>...</td>\n",
       "      <td>...</td>\n",
       "      <td>...</td>\n",
       "    </tr>\n",
       "    <tr>\n",
       "      <th>48739</th>\n",
       "      <td>456221</td>\n",
       "      <td>0</td>\n",
       "      <td>0</td>\n",
       "      <td>1</td>\n",
       "      <td>412560.0</td>\n",
       "      <td>270000.0</td>\n",
       "      <td>0.002042</td>\n",
       "      <td>-19970</td>\n",
       "      <td>-5169</td>\n",
       "      <td>-9094.0</td>\n",
       "      <td>...</td>\n",
       "      <td>0</td>\n",
       "      <td>0</td>\n",
       "      <td>0</td>\n",
       "      <td>0</td>\n",
       "      <td>0</td>\n",
       "      <td>0</td>\n",
       "      <td>0</td>\n",
       "      <td>0</td>\n",
       "      <td>0</td>\n",
       "      <td>0</td>\n",
       "    </tr>\n",
       "    <tr>\n",
       "      <th>48740</th>\n",
       "      <td>456222</td>\n",
       "      <td>0</td>\n",
       "      <td>0</td>\n",
       "      <td>0</td>\n",
       "      <td>622413.0</td>\n",
       "      <td>495000.0</td>\n",
       "      <td>0.035792</td>\n",
       "      <td>-11186</td>\n",
       "      <td>-1149</td>\n",
       "      <td>-3015.0</td>\n",
       "      <td>...</td>\n",
       "      <td>0</td>\n",
       "      <td>0</td>\n",
       "      <td>0</td>\n",
       "      <td>0</td>\n",
       "      <td>0</td>\n",
       "      <td>0</td>\n",
       "      <td>0</td>\n",
       "      <td>0</td>\n",
       "      <td>0</td>\n",
       "      <td>0</td>\n",
       "    </tr>\n",
       "    <tr>\n",
       "      <th>48741</th>\n",
       "      <td>456223</td>\n",
       "      <td>0</td>\n",
       "      <td>1</td>\n",
       "      <td>1</td>\n",
       "      <td>315000.0</td>\n",
       "      <td>315000.0</td>\n",
       "      <td>0.026392</td>\n",
       "      <td>-15922</td>\n",
       "      <td>-3037</td>\n",
       "      <td>-2681.0</td>\n",
       "      <td>...</td>\n",
       "      <td>0</td>\n",
       "      <td>0</td>\n",
       "      <td>0</td>\n",
       "      <td>0</td>\n",
       "      <td>0</td>\n",
       "      <td>1</td>\n",
       "      <td>0</td>\n",
       "      <td>0</td>\n",
       "      <td>1</td>\n",
       "      <td>0</td>\n",
       "    </tr>\n",
       "    <tr>\n",
       "      <th>48742</th>\n",
       "      <td>456224</td>\n",
       "      <td>0</td>\n",
       "      <td>0</td>\n",
       "      <td>0</td>\n",
       "      <td>450000.0</td>\n",
       "      <td>450000.0</td>\n",
       "      <td>0.018850</td>\n",
       "      <td>-13968</td>\n",
       "      <td>-2731</td>\n",
       "      <td>-1461.0</td>\n",
       "      <td>...</td>\n",
       "      <td>0</td>\n",
       "      <td>0</td>\n",
       "      <td>0</td>\n",
       "      <td>0</td>\n",
       "      <td>0</td>\n",
       "      <td>1</td>\n",
       "      <td>0</td>\n",
       "      <td>0</td>\n",
       "      <td>1</td>\n",
       "      <td>0</td>\n",
       "    </tr>\n",
       "    <tr>\n",
       "      <th>48743</th>\n",
       "      <td>456250</td>\n",
       "      <td>0</td>\n",
       "      <td>1</td>\n",
       "      <td>0</td>\n",
       "      <td>312768.0</td>\n",
       "      <td>270000.0</td>\n",
       "      <td>0.006629</td>\n",
       "      <td>-13962</td>\n",
       "      <td>-633</td>\n",
       "      <td>-1072.0</td>\n",
       "      <td>...</td>\n",
       "      <td>0</td>\n",
       "      <td>0</td>\n",
       "      <td>0</td>\n",
       "      <td>0</td>\n",
       "      <td>0</td>\n",
       "      <td>0</td>\n",
       "      <td>0</td>\n",
       "      <td>0</td>\n",
       "      <td>0</td>\n",
       "      <td>0</td>\n",
       "    </tr>\n",
       "  </tbody>\n",
       "</table>\n",
       "<p>48744 rows × 154 columns</p>\n",
       "</div>"
      ],
      "text/plain": [
       "       SK_ID_CURR  NAME_CONTRACT_TYPE  FLAG_OWN_CAR  FLAG_OWN_REALTY  \\\n",
       "0          100001                   0             0                1   \n",
       "1          100005                   0             0                1   \n",
       "2          100013                   0             1                1   \n",
       "3          100028                   0             0                1   \n",
       "4          100038                   0             1                0   \n",
       "...           ...                 ...           ...              ...   \n",
       "48739      456221                   0             0                1   \n",
       "48740      456222                   0             0                0   \n",
       "48741      456223                   0             1                1   \n",
       "48742      456224                   0             0                0   \n",
       "48743      456250                   0             1                0   \n",
       "\n",
       "       AMT_CREDIT  AMT_GOODS_PRICE  REGION_POPULATION_RELATIVE  DAYS_BIRTH  \\\n",
       "0        568800.0         450000.0                    0.018850      -19241   \n",
       "1        222768.0         180000.0                    0.035792      -18064   \n",
       "2        663264.0         630000.0                    0.019101      -20038   \n",
       "3       1575000.0        1575000.0                    0.026392      -13976   \n",
       "4        625500.0         625500.0                    0.010032      -13040   \n",
       "...           ...              ...                         ...         ...   \n",
       "48739    412560.0         270000.0                    0.002042      -19970   \n",
       "48740    622413.0         495000.0                    0.035792      -11186   \n",
       "48741    315000.0         315000.0                    0.026392      -15922   \n",
       "48742    450000.0         450000.0                    0.018850      -13968   \n",
       "48743    312768.0         270000.0                    0.006629      -13962   \n",
       "\n",
       "       DAYS_EMPLOYED  DAYS_REGISTRATION  ...  ORGANIZATION_TYPE_XNA  \\\n",
       "0              -2329            -5170.0  ...                      0   \n",
       "1              -4469            -9118.0  ...                      0   \n",
       "2              -4458            -2175.0  ...                      0   \n",
       "3              -1866            -2000.0  ...                      0   \n",
       "4              -2191            -4000.0  ...                      0   \n",
       "...              ...                ...  ...                    ...   \n",
       "48739          -5169            -9094.0  ...                      0   \n",
       "48740          -1149            -3015.0  ...                      0   \n",
       "48741          -3037            -2681.0  ...                      0   \n",
       "48742          -2731            -1461.0  ...                      0   \n",
       "48743           -633            -1072.0  ...                      0   \n",
       "\n",
       "       FONDKAPREMONT_MODE_not specified  FONDKAPREMONT_MODE_org spec account  \\\n",
       "0                                     0                                    0   \n",
       "1                                     0                                    0   \n",
       "2                                     0                                    0   \n",
       "3                                     0                                    0   \n",
       "4                                     0                                    0   \n",
       "...                                 ...                                  ...   \n",
       "48739                                 0                                    0   \n",
       "48740                                 0                                    0   \n",
       "48741                                 0                                    0   \n",
       "48742                                 0                                    0   \n",
       "48743                                 0                                    0   \n",
       "\n",
       "       FONDKAPREMONT_MODE_reg oper account  \\\n",
       "0                                        0   \n",
       "1                                        0   \n",
       "2                                        0   \n",
       "3                                        1   \n",
       "4                                        0   \n",
       "...                                    ...   \n",
       "48739                                    0   \n",
       "48740                                    0   \n",
       "48741                                    0   \n",
       "48742                                    0   \n",
       "48743                                    0   \n",
       "\n",
       "       FONDKAPREMONT_MODE_reg oper spec account  \\\n",
       "0                                             0   \n",
       "1                                             0   \n",
       "2                                             0   \n",
       "3                                             0   \n",
       "4                                             0   \n",
       "...                                         ...   \n",
       "48739                                         0   \n",
       "48740                                         0   \n",
       "48741                                         0   \n",
       "48742                                         0   \n",
       "48743                                         0   \n",
       "\n",
       "       HOUSETYPE_MODE_block of flats  HOUSETYPE_MODE_specific housing  \\\n",
       "0                                  1                                0   \n",
       "1                                  0                                0   \n",
       "2                                  0                                0   \n",
       "3                                  1                                0   \n",
       "4                                  0                                0   \n",
       "...                              ...                              ...   \n",
       "48739                              0                                0   \n",
       "48740                              0                                0   \n",
       "48741                              1                                0   \n",
       "48742                              1                                0   \n",
       "48743                              0                                0   \n",
       "\n",
       "       HOUSETYPE_MODE_terraced house  EMERGENCYSTATE_MODE_No  \\\n",
       "0                                  0                       1   \n",
       "1                                  0                       0   \n",
       "2                                  0                       0   \n",
       "3                                  0                       1   \n",
       "4                                  0                       0   \n",
       "...                              ...                     ...   \n",
       "48739                              0                       0   \n",
       "48740                              0                       0   \n",
       "48741                              0                       1   \n",
       "48742                              0                       1   \n",
       "48743                              0                       0   \n",
       "\n",
       "       EMERGENCYSTATE_MODE_Yes  \n",
       "0                            0  \n",
       "1                            0  \n",
       "2                            0  \n",
       "3                            0  \n",
       "4                            0  \n",
       "...                        ...  \n",
       "48739                        0  \n",
       "48740                        0  \n",
       "48741                        0  \n",
       "48742                        0  \n",
       "48743                        0  \n",
       "\n",
       "[48744 rows x 154 columns]"
      ]
     },
     "execution_count": 9,
     "metadata": {},
     "output_type": "execute_result"
    }
   ],
   "source": [
    "role = get_execution_role() \n",
    "\n",
    "data_key_test =  'a_test.csv' \n",
    "data_location_test = 's3://{}/{}/{}'.format(bucket, prefix, data_key_test) \n",
    "\n",
    "a_test = pd.read_csv(data_location_test) \n",
    "a_test"
   ]
  },
  {
   "cell_type": "code",
   "execution_count": 10,
   "id": "36a5204e",
   "metadata": {},
   "outputs": [
    {
     "data": {
      "text/plain": [
       "(48744, 154)"
      ]
     },
     "execution_count": 10,
     "metadata": {},
     "output_type": "execute_result"
    }
   ],
   "source": [
    "a_test.shape"
   ]
  },
  {
   "cell_type": "code",
   "execution_count": 11,
   "id": "3f795833",
   "metadata": {},
   "outputs": [
    {
     "data": {
      "text/plain": [
       "int64      144\n",
       "float64     11\n",
       "dtype: int64"
      ]
     },
     "execution_count": 11,
     "metadata": {},
     "output_type": "execute_result"
    }
   ],
   "source": [
    "a_train.dtypes.value_counts()"
   ]
  },
  {
   "cell_type": "code",
   "execution_count": 12,
   "id": "54a7ccb7",
   "metadata": {},
   "outputs": [
    {
     "data": {
      "text/plain": [
       "int64      143\n",
       "float64     11\n",
       "dtype: int64"
      ]
     },
     "execution_count": 12,
     "metadata": {},
     "output_type": "execute_result"
    }
   ],
   "source": [
    "a_test.dtypes.value_counts()"
   ]
  },
  {
   "cell_type": "markdown",
   "id": "523cf739",
   "metadata": {},
   "source": [
    "## Examinando valores ausentes"
   ]
  },
  {
   "cell_type": "code",
   "execution_count": 13,
   "id": "8d2fad6d",
   "metadata": {},
   "outputs": [],
   "source": [
    "def missing_values_table(df):\n",
    "        # Total de valores faltantes\n",
    "        mis_val = df.isnull().sum()\n",
    "        \n",
    "        # Porcentagem de valores faltantes\n",
    "        mis_val_percent = 100 * df.isnull().sum() / len(df)\n",
    "        \n",
    "        # Fazendo uma tabela com valores faltantes\n",
    "        mis_val_table = pd.concat([mis_val, mis_val_percent], axis=1)\n",
    "        \n",
    "        # Renomeando as colunas\n",
    "        mis_val_table_ren_columns = mis_val_table.rename(\n",
    "        columns = {0 : 'Missing Values', 1 : '% of Total Values'})\n",
    "        \n",
    "        # Classificando a tabela por porcentagem de falta decrescente\n",
    "        mis_val_table_ren_columns = mis_val_table_ren_columns[\n",
    "            mis_val_table_ren_columns.iloc[:,1] != 0].sort_values(\n",
    "        '% of Total Values', ascending=False).round(1)\n",
    "        \n",
    "        # Imprimindo frase com um reumo geral das informações de dados ausentes\n",
    "        print (\"Your selected dataframe has \" + str(df.shape[1]) + \" columns.\\n\"      \n",
    "            \"There are \" + str(mis_val_table_ren_columns.shape[0]) +\n",
    "              \" columns that have missing values.\")\n",
    "        \n",
    "        # Retornar dataframe com informações ausentes\n",
    "        return mis_val_table_ren_columns"
   ]
  },
  {
   "cell_type": "code",
   "execution_count": 14,
   "id": "fbdcb390",
   "metadata": {},
   "outputs": [
    {
     "name": "stdout",
     "output_type": "stream",
     "text": [
      "Your selected dataframe has 155 columns.\n",
      "There are 8 columns that have missing values.\n"
     ]
    },
    {
     "data": {
      "text/html": [
       "<div>\n",
       "<style scoped>\n",
       "    .dataframe tbody tr th:only-of-type {\n",
       "        vertical-align: middle;\n",
       "    }\n",
       "\n",
       "    .dataframe tbody tr th {\n",
       "        vertical-align: top;\n",
       "    }\n",
       "\n",
       "    .dataframe thead th {\n",
       "        text-align: right;\n",
       "    }\n",
       "</style>\n",
       "<table border=\"1\" class=\"dataframe\">\n",
       "  <thead>\n",
       "    <tr style=\"text-align: right;\">\n",
       "      <th></th>\n",
       "      <th>Missing Values</th>\n",
       "      <th>% of Total Values</th>\n",
       "    </tr>\n",
       "  </thead>\n",
       "  <tbody>\n",
       "    <tr>\n",
       "      <th>OWN_CAR_AGE</th>\n",
       "      <td>202929</td>\n",
       "      <td>66.0</td>\n",
       "    </tr>\n",
       "    <tr>\n",
       "      <th>EXT_SOURCE_1</th>\n",
       "      <td>173378</td>\n",
       "      <td>56.4</td>\n",
       "    </tr>\n",
       "    <tr>\n",
       "      <th>APARTMENTS_AVG</th>\n",
       "      <td>156061</td>\n",
       "      <td>50.7</td>\n",
       "    </tr>\n",
       "    <tr>\n",
       "      <th>TOTALAREA_MODE</th>\n",
       "      <td>148431</td>\n",
       "      <td>48.3</td>\n",
       "    </tr>\n",
       "    <tr>\n",
       "      <th>EXT_SOURCE_3</th>\n",
       "      <td>60965</td>\n",
       "      <td>19.8</td>\n",
       "    </tr>\n",
       "    <tr>\n",
       "      <th>EXT_SOURCE_2</th>\n",
       "      <td>660</td>\n",
       "      <td>0.2</td>\n",
       "    </tr>\n",
       "    <tr>\n",
       "      <th>AMT_GOODS_PRICE</th>\n",
       "      <td>278</td>\n",
       "      <td>0.1</td>\n",
       "    </tr>\n",
       "    <tr>\n",
       "      <th>DAYS_LAST_PHONE_CHANGE</th>\n",
       "      <td>1</td>\n",
       "      <td>0.0</td>\n",
       "    </tr>\n",
       "  </tbody>\n",
       "</table>\n",
       "</div>"
      ],
      "text/plain": [
       "                        Missing Values  % of Total Values\n",
       "OWN_CAR_AGE                     202929               66.0\n",
       "EXT_SOURCE_1                    173378               56.4\n",
       "APARTMENTS_AVG                  156061               50.7\n",
       "TOTALAREA_MODE                  148431               48.3\n",
       "EXT_SOURCE_3                     60965               19.8\n",
       "EXT_SOURCE_2                       660                0.2\n",
       "AMT_GOODS_PRICE                    278                0.1\n",
       "DAYS_LAST_PHONE_CHANGE               1                0.0"
      ]
     },
     "execution_count": 14,
     "metadata": {},
     "output_type": "execute_result"
    }
   ],
   "source": [
    "# Missing values statistics\n",
    "missing_values = missing_values_table(a_train)\n",
    "missing_values.head(20)"
   ]
  },
  {
   "cell_type": "code",
   "execution_count": 15,
   "id": "2eadae53",
   "metadata": {},
   "outputs": [
    {
     "name": "stdout",
     "output_type": "stream",
     "text": [
      "Your selected dataframe has 154 columns.\n",
      "There are 6 columns that have missing values.\n"
     ]
    },
    {
     "data": {
      "text/html": [
       "<div>\n",
       "<style scoped>\n",
       "    .dataframe tbody tr th:only-of-type {\n",
       "        vertical-align: middle;\n",
       "    }\n",
       "\n",
       "    .dataframe tbody tr th {\n",
       "        vertical-align: top;\n",
       "    }\n",
       "\n",
       "    .dataframe thead th {\n",
       "        text-align: right;\n",
       "    }\n",
       "</style>\n",
       "<table border=\"1\" class=\"dataframe\">\n",
       "  <thead>\n",
       "    <tr style=\"text-align: right;\">\n",
       "      <th></th>\n",
       "      <th>Missing Values</th>\n",
       "      <th>% of Total Values</th>\n",
       "    </tr>\n",
       "  </thead>\n",
       "  <tbody>\n",
       "    <tr>\n",
       "      <th>OWN_CAR_AGE</th>\n",
       "      <td>32312</td>\n",
       "      <td>66.3</td>\n",
       "    </tr>\n",
       "    <tr>\n",
       "      <th>APARTMENTS_AVG</th>\n",
       "      <td>23887</td>\n",
       "      <td>49.0</td>\n",
       "    </tr>\n",
       "    <tr>\n",
       "      <th>TOTALAREA_MODE</th>\n",
       "      <td>22624</td>\n",
       "      <td>46.4</td>\n",
       "    </tr>\n",
       "    <tr>\n",
       "      <th>EXT_SOURCE_1</th>\n",
       "      <td>20532</td>\n",
       "      <td>42.1</td>\n",
       "    </tr>\n",
       "    <tr>\n",
       "      <th>EXT_SOURCE_3</th>\n",
       "      <td>8668</td>\n",
       "      <td>17.8</td>\n",
       "    </tr>\n",
       "    <tr>\n",
       "      <th>EXT_SOURCE_2</th>\n",
       "      <td>8</td>\n",
       "      <td>0.0</td>\n",
       "    </tr>\n",
       "  </tbody>\n",
       "</table>\n",
       "</div>"
      ],
      "text/plain": [
       "                Missing Values  % of Total Values\n",
       "OWN_CAR_AGE              32312               66.3\n",
       "APARTMENTS_AVG           23887               49.0\n",
       "TOTALAREA_MODE           22624               46.4\n",
       "EXT_SOURCE_1             20532               42.1\n",
       "EXT_SOURCE_3              8668               17.8\n",
       "EXT_SOURCE_2                 8                0.0"
      ]
     },
     "execution_count": 15,
     "metadata": {},
     "output_type": "execute_result"
    }
   ],
   "source": [
    "# Missing values statistics\n",
    "missing_values = missing_values_table(a_test)\n",
    "missing_values.head(20)"
   ]
  },
  {
   "cell_type": "markdown",
   "id": "42c8cab4",
   "metadata": {},
   "source": [
    "## Analisando os tipos de dados presentes no dataframe"
   ]
  },
  {
   "cell_type": "code",
   "execution_count": 16,
   "id": "9e79a4a9",
   "metadata": {},
   "outputs": [
    {
     "data": {
      "text/plain": [
       "int64      144\n",
       "float64     11\n",
       "dtype: int64"
      ]
     },
     "execution_count": 16,
     "metadata": {},
     "output_type": "execute_result"
    }
   ],
   "source": [
    "a_train.dtypes.value_counts()"
   ]
  },
  {
   "cell_type": "code",
   "execution_count": 17,
   "id": "7ef2846a",
   "metadata": {},
   "outputs": [
    {
     "data": {
      "text/plain": [
       "Series([], dtype: float64)"
      ]
     },
     "execution_count": 17,
     "metadata": {},
     "output_type": "execute_result"
    }
   ],
   "source": [
    "a_train.select_dtypes('object').apply(pd.Series.nunique, axis = 0)"
   ]
  },
  {
   "cell_type": "code",
   "execution_count": 18,
   "id": "81af689b",
   "metadata": {},
   "outputs": [
    {
     "name": "stdout",
     "output_type": "stream",
     "text": [
      "0 colunas foram codificadas por rótulo.\n"
     ]
    }
   ],
   "source": [
    "# Utilizando Label encoding\n",
    "le = LabelEncoder()\n",
    "le_count = 0\n",
    "\n",
    "# Iterando nas colunas\n",
    "for col in a_train:\n",
    "    if a_train[col].dtype == 'object':\n",
    "        # Se tiver duas categorias únicas ou menos:\n",
    "        if len(list(a_train[col].unique())) <= 2:\n",
    "            le.fit(a_train[col])\n",
    "            a_train[col] = le.transform(a_train[col])\n",
    "            a_test[col] = le.transform(a_test[col])\n",
    "            \n",
    "            # Acompanhando quantas colunas foram codificadas por rótulo\n",
    "            le_count += 1\n",
    "            \n",
    "print('%d colunas foram codificadas por rótulo.' % le_count)"
   ]
  },
  {
   "cell_type": "code",
   "execution_count": 19,
   "id": "f749849b",
   "metadata": {},
   "outputs": [
    {
     "name": "stdout",
     "output_type": "stream",
     "text": [
      "Forma do conjunto de dados de treinamento:  (307511, 155)\n",
      "Forma do conjunto de dados de teste:  (48744, 154)\n"
     ]
    }
   ],
   "source": [
    "# one-hot encoding of categorical variables\n",
    "a_train = pd.get_dummies(a_train)\n",
    "a_test = pd.get_dummies(a_test)\n",
    "\n",
    "print('Forma do conjunto de dados de treinamento: ', a_train.shape)\n",
    "print('Forma do conjunto de dados de teste: ', a_test.shape)"
   ]
  },
  {
   "cell_type": "markdown",
   "id": "ecfae701",
   "metadata": {},
   "source": [
    "## **Igualando número de colunas nos dataframes de treinamento e teste**\n",
    "\n",
    "É necessário que haja as mesmas colunas nos dados de treinamento e teste. A codificação one-hot criou mais colunas nos dados de treinamento porque havia algumas variáveis colunas com categorias não representadas nos dados de teste. Para remover as colunas nos dados de treinamento que não estão nos dados de teste, precisamos alinhar os dataframes. Primeiro, extraímos a coluna de destino dos dados de treinamento (porque isso não está nos dados de teste, mas precisamos manter essas informações). Quando fazemos o alinhamento, devemos nos certificar de definir axis = 1 para alinhar os dataframes com base nas colunas e não nas linhas!"
   ]
  },
  {
   "cell_type": "code",
   "execution_count": 20,
   "id": "a2be357e",
   "metadata": {},
   "outputs": [
    {
     "name": "stdout",
     "output_type": "stream",
     "text": [
      "Forma do conjunto de dados de treinamento:  (307511, 155)\n",
      "Forma do conjunto de dados de teste:  (48744, 154)\n"
     ]
    }
   ],
   "source": [
    "train_labels = a_train['TARGET']\n",
    "\n",
    "# Align the training and testing data, keep only columns present in both dataframes\n",
    "a_train, a_test = a_train.align(a_test, join = 'inner', axis = 1)\n",
    "\n",
    "# Add the target back in\n",
    "a_train['TARGET'] = train_labels\n",
    "\n",
    "print('Forma do conjunto de dados de treinamento: ', a_train.shape)\n",
    "print('Forma do conjunto de dados de teste: ', a_test.shape)"
   ]
  },
  {
   "cell_type": "markdown",
   "id": "3fdacb12",
   "metadata": {},
   "source": [
    "## Imputação de valores faltantes (células vazias)"
   ]
  },
  {
   "cell_type": "code",
   "execution_count": 21,
   "id": "57f4499b",
   "metadata": {},
   "outputs": [],
   "source": [
    "def missing_val_ratio(a_train):\n",
    "    perc_na = (a_train.isnull().sum()/len(a_train))*100\n",
    "    ratio_na = perc_na.sort_values(ascending=False)\n",
    "    missing_data_table = pd.DataFrame({'% of Total Values' :ratio_na})\n",
    "    return missing_data_table"
   ]
  },
  {
   "cell_type": "code",
   "execution_count": 22,
   "id": "19163a72",
   "metadata": {},
   "outputs": [
    {
     "data": {
      "text/html": [
       "<div>\n",
       "<style scoped>\n",
       "    .dataframe tbody tr th:only-of-type {\n",
       "        vertical-align: middle;\n",
       "    }\n",
       "\n",
       "    .dataframe tbody tr th {\n",
       "        vertical-align: top;\n",
       "    }\n",
       "\n",
       "    .dataframe thead th {\n",
       "        text-align: right;\n",
       "    }\n",
       "</style>\n",
       "<table border=\"1\" class=\"dataframe\">\n",
       "  <thead>\n",
       "    <tr style=\"text-align: right;\">\n",
       "      <th></th>\n",
       "      <th>% of Total Values</th>\n",
       "    </tr>\n",
       "  </thead>\n",
       "  <tbody>\n",
       "    <tr>\n",
       "      <th>OWN_CAR_AGE</th>\n",
       "      <td>65.990810</td>\n",
       "    </tr>\n",
       "    <tr>\n",
       "      <th>EXT_SOURCE_1</th>\n",
       "      <td>56.381073</td>\n",
       "    </tr>\n",
       "    <tr>\n",
       "      <th>APARTMENTS_AVG</th>\n",
       "      <td>50.749729</td>\n",
       "    </tr>\n",
       "    <tr>\n",
       "      <th>TOTALAREA_MODE</th>\n",
       "      <td>48.268517</td>\n",
       "    </tr>\n",
       "    <tr>\n",
       "      <th>EXT_SOURCE_3</th>\n",
       "      <td>19.825307</td>\n",
       "    </tr>\n",
       "    <tr>\n",
       "      <th>EXT_SOURCE_2</th>\n",
       "      <td>0.214626</td>\n",
       "    </tr>\n",
       "    <tr>\n",
       "      <th>AMT_GOODS_PRICE</th>\n",
       "      <td>0.090403</td>\n",
       "    </tr>\n",
       "    <tr>\n",
       "      <th>DAYS_LAST_PHONE_CHANGE</th>\n",
       "      <td>0.000325</td>\n",
       "    </tr>\n",
       "    <tr>\n",
       "      <th>ORGANIZATION_TYPE_Industry: type 2</th>\n",
       "      <td>0.000000</td>\n",
       "    </tr>\n",
       "    <tr>\n",
       "      <th>ORGANIZATION_TYPE_Industry: type 10</th>\n",
       "      <td>0.000000</td>\n",
       "    </tr>\n",
       "    <tr>\n",
       "      <th>ORGANIZATION_TYPE_Industry: type 11</th>\n",
       "      <td>0.000000</td>\n",
       "    </tr>\n",
       "    <tr>\n",
       "      <th>ORGANIZATION_TYPE_Industry: type 12</th>\n",
       "      <td>0.000000</td>\n",
       "    </tr>\n",
       "    <tr>\n",
       "      <th>ORGANIZATION_TYPE_Industry: type 13</th>\n",
       "      <td>0.000000</td>\n",
       "    </tr>\n",
       "    <tr>\n",
       "      <th>ORGANIZATION_TYPE_Legal Services</th>\n",
       "      <td>0.000000</td>\n",
       "    </tr>\n",
       "    <tr>\n",
       "      <th>ORGANIZATION_TYPE_Industry: type 3</th>\n",
       "      <td>0.000000</td>\n",
       "    </tr>\n",
       "    <tr>\n",
       "      <th>ORGANIZATION_TYPE_Kindergarten</th>\n",
       "      <td>0.000000</td>\n",
       "    </tr>\n",
       "    <tr>\n",
       "      <th>ORGANIZATION_TYPE_Industry: type 5</th>\n",
       "      <td>0.000000</td>\n",
       "    </tr>\n",
       "    <tr>\n",
       "      <th>ORGANIZATION_TYPE_Industry: type 6</th>\n",
       "      <td>0.000000</td>\n",
       "    </tr>\n",
       "    <tr>\n",
       "      <th>ORGANIZATION_TYPE_Industry: type 7</th>\n",
       "      <td>0.000000</td>\n",
       "    </tr>\n",
       "    <tr>\n",
       "      <th>ORGANIZATION_TYPE_Industry: type 8</th>\n",
       "      <td>0.000000</td>\n",
       "    </tr>\n",
       "  </tbody>\n",
       "</table>\n",
       "</div>"
      ],
      "text/plain": [
       "                                     % of Total Values\n",
       "OWN_CAR_AGE                                  65.990810\n",
       "EXT_SOURCE_1                                 56.381073\n",
       "APARTMENTS_AVG                               50.749729\n",
       "TOTALAREA_MODE                               48.268517\n",
       "EXT_SOURCE_3                                 19.825307\n",
       "EXT_SOURCE_2                                  0.214626\n",
       "AMT_GOODS_PRICE                               0.090403\n",
       "DAYS_LAST_PHONE_CHANGE                        0.000325\n",
       "ORGANIZATION_TYPE_Industry: type 2            0.000000\n",
       "ORGANIZATION_TYPE_Industry: type 10           0.000000\n",
       "ORGANIZATION_TYPE_Industry: type 11           0.000000\n",
       "ORGANIZATION_TYPE_Industry: type 12           0.000000\n",
       "ORGANIZATION_TYPE_Industry: type 13           0.000000\n",
       "ORGANIZATION_TYPE_Legal Services              0.000000\n",
       "ORGANIZATION_TYPE_Industry: type 3            0.000000\n",
       "ORGANIZATION_TYPE_Kindergarten                0.000000\n",
       "ORGANIZATION_TYPE_Industry: type 5            0.000000\n",
       "ORGANIZATION_TYPE_Industry: type 6            0.000000\n",
       "ORGANIZATION_TYPE_Industry: type 7            0.000000\n",
       "ORGANIZATION_TYPE_Industry: type 8            0.000000"
      ]
     },
     "execution_count": 22,
     "metadata": {},
     "output_type": "execute_result"
    }
   ],
   "source": [
    "a_train_miss = missing_val_ratio(a_train)\n",
    "a_train_miss.head(20)"
   ]
  },
  {
   "cell_type": "code",
   "execution_count": 23,
   "id": "36ce868e",
   "metadata": {},
   "outputs": [],
   "source": [
    "from sklearn.preprocessing import MinMaxScaler\n",
    "from sklearn.impute import SimpleImputer\n",
    "imputer = SimpleImputer(strategy='median')\n",
    "scaler = MinMaxScaler(feature_range = (0, 1)) "
   ]
  },
  {
   "cell_type": "code",
   "execution_count": 24,
   "id": "98a83789",
   "metadata": {},
   "outputs": [],
   "source": [
    "for column in a_train.columns:\n",
    "    a_train[[column]] = imputer.fit_transform(a_train[[column]])\n",
    "    a_train[[column]] = scaler.fit_transform(a_train[[column]])"
   ]
  },
  {
   "cell_type": "code",
   "execution_count": 25,
   "id": "0e48ae87",
   "metadata": {},
   "outputs": [
    {
     "data": {
      "text/html": [
       "<div>\n",
       "<style scoped>\n",
       "    .dataframe tbody tr th:only-of-type {\n",
       "        vertical-align: middle;\n",
       "    }\n",
       "\n",
       "    .dataframe tbody tr th {\n",
       "        vertical-align: top;\n",
       "    }\n",
       "\n",
       "    .dataframe thead th {\n",
       "        text-align: right;\n",
       "    }\n",
       "</style>\n",
       "<table border=\"1\" class=\"dataframe\">\n",
       "  <thead>\n",
       "    <tr style=\"text-align: right;\">\n",
       "      <th></th>\n",
       "      <th>% of Total Values</th>\n",
       "    </tr>\n",
       "  </thead>\n",
       "  <tbody>\n",
       "    <tr>\n",
       "      <th>SK_ID_CURR</th>\n",
       "      <td>0.0</td>\n",
       "    </tr>\n",
       "    <tr>\n",
       "      <th>ORGANIZATION_TYPE_Industry: type 2</th>\n",
       "      <td>0.0</td>\n",
       "    </tr>\n",
       "    <tr>\n",
       "      <th>ORGANIZATION_TYPE_Hotel</th>\n",
       "      <td>0.0</td>\n",
       "    </tr>\n",
       "    <tr>\n",
       "      <th>ORGANIZATION_TYPE_Housing</th>\n",
       "      <td>0.0</td>\n",
       "    </tr>\n",
       "    <tr>\n",
       "      <th>ORGANIZATION_TYPE_Industry: type 1</th>\n",
       "      <td>0.0</td>\n",
       "    </tr>\n",
       "    <tr>\n",
       "      <th>ORGANIZATION_TYPE_Industry: type 10</th>\n",
       "      <td>0.0</td>\n",
       "    </tr>\n",
       "    <tr>\n",
       "      <th>ORGANIZATION_TYPE_Industry: type 11</th>\n",
       "      <td>0.0</td>\n",
       "    </tr>\n",
       "    <tr>\n",
       "      <th>ORGANIZATION_TYPE_Industry: type 12</th>\n",
       "      <td>0.0</td>\n",
       "    </tr>\n",
       "    <tr>\n",
       "      <th>ORGANIZATION_TYPE_Industry: type 13</th>\n",
       "      <td>0.0</td>\n",
       "    </tr>\n",
       "    <tr>\n",
       "      <th>ORGANIZATION_TYPE_Industry: type 3</th>\n",
       "      <td>0.0</td>\n",
       "    </tr>\n",
       "    <tr>\n",
       "      <th>ORGANIZATION_TYPE_Legal Services</th>\n",
       "      <td>0.0</td>\n",
       "    </tr>\n",
       "    <tr>\n",
       "      <th>ORGANIZATION_TYPE_Industry: type 4</th>\n",
       "      <td>0.0</td>\n",
       "    </tr>\n",
       "    <tr>\n",
       "      <th>ORGANIZATION_TYPE_Industry: type 5</th>\n",
       "      <td>0.0</td>\n",
       "    </tr>\n",
       "    <tr>\n",
       "      <th>ORGANIZATION_TYPE_Industry: type 6</th>\n",
       "      <td>0.0</td>\n",
       "    </tr>\n",
       "    <tr>\n",
       "      <th>ORGANIZATION_TYPE_Industry: type 7</th>\n",
       "      <td>0.0</td>\n",
       "    </tr>\n",
       "    <tr>\n",
       "      <th>ORGANIZATION_TYPE_Industry: type 8</th>\n",
       "      <td>0.0</td>\n",
       "    </tr>\n",
       "    <tr>\n",
       "      <th>ORGANIZATION_TYPE_Industry: type 9</th>\n",
       "      <td>0.0</td>\n",
       "    </tr>\n",
       "    <tr>\n",
       "      <th>ORGANIZATION_TYPE_Insurance</th>\n",
       "      <td>0.0</td>\n",
       "    </tr>\n",
       "    <tr>\n",
       "      <th>ORGANIZATION_TYPE_Government</th>\n",
       "      <td>0.0</td>\n",
       "    </tr>\n",
       "    <tr>\n",
       "      <th>ORGANIZATION_TYPE_Emergency</th>\n",
       "      <td>0.0</td>\n",
       "    </tr>\n",
       "    <tr>\n",
       "      <th>ORGANIZATION_TYPE_Electricity</th>\n",
       "      <td>0.0</td>\n",
       "    </tr>\n",
       "    <tr>\n",
       "      <th>ORGANIZATION_TYPE_Culture</th>\n",
       "      <td>0.0</td>\n",
       "    </tr>\n",
       "    <tr>\n",
       "      <th>WEEKDAY_APPR_PROCESS_START_FRIDAY</th>\n",
       "      <td>0.0</td>\n",
       "    </tr>\n",
       "    <tr>\n",
       "      <th>WEEKDAY_APPR_PROCESS_START_MONDAY</th>\n",
       "      <td>0.0</td>\n",
       "    </tr>\n",
       "    <tr>\n",
       "      <th>WEEKDAY_APPR_PROCESS_START_SATURDAY</th>\n",
       "      <td>0.0</td>\n",
       "    </tr>\n",
       "  </tbody>\n",
       "</table>\n",
       "</div>"
      ],
      "text/plain": [
       "                                     % of Total Values\n",
       "SK_ID_CURR                                         0.0\n",
       "ORGANIZATION_TYPE_Industry: type 2                 0.0\n",
       "ORGANIZATION_TYPE_Hotel                            0.0\n",
       "ORGANIZATION_TYPE_Housing                          0.0\n",
       "ORGANIZATION_TYPE_Industry: type 1                 0.0\n",
       "ORGANIZATION_TYPE_Industry: type 10                0.0\n",
       "ORGANIZATION_TYPE_Industry: type 11                0.0\n",
       "ORGANIZATION_TYPE_Industry: type 12                0.0\n",
       "ORGANIZATION_TYPE_Industry: type 13                0.0\n",
       "ORGANIZATION_TYPE_Industry: type 3                 0.0\n",
       "ORGANIZATION_TYPE_Legal Services                   0.0\n",
       "ORGANIZATION_TYPE_Industry: type 4                 0.0\n",
       "ORGANIZATION_TYPE_Industry: type 5                 0.0\n",
       "ORGANIZATION_TYPE_Industry: type 6                 0.0\n",
       "ORGANIZATION_TYPE_Industry: type 7                 0.0\n",
       "ORGANIZATION_TYPE_Industry: type 8                 0.0\n",
       "ORGANIZATION_TYPE_Industry: type 9                 0.0\n",
       "ORGANIZATION_TYPE_Insurance                        0.0\n",
       "ORGANIZATION_TYPE_Government                       0.0\n",
       "ORGANIZATION_TYPE_Emergency                        0.0\n",
       "ORGANIZATION_TYPE_Electricity                      0.0\n",
       "ORGANIZATION_TYPE_Culture                          0.0\n",
       "WEEKDAY_APPR_PROCESS_START_FRIDAY                  0.0\n",
       "WEEKDAY_APPR_PROCESS_START_MONDAY                  0.0\n",
       "WEEKDAY_APPR_PROCESS_START_SATURDAY                0.0"
      ]
     },
     "execution_count": 25,
     "metadata": {},
     "output_type": "execute_result"
    }
   ],
   "source": [
    "a_train_miss = missing_val_ratio(a_train)\n",
    "a_train_miss.head(25)"
   ]
  },
  {
   "cell_type": "code",
   "execution_count": 26,
   "id": "35a84cf7",
   "metadata": {},
   "outputs": [
    {
     "data": {
      "text/html": [
       "<div>\n",
       "<style scoped>\n",
       "    .dataframe tbody tr th:only-of-type {\n",
       "        vertical-align: middle;\n",
       "    }\n",
       "\n",
       "    .dataframe tbody tr th {\n",
       "        vertical-align: top;\n",
       "    }\n",
       "\n",
       "    .dataframe thead th {\n",
       "        text-align: right;\n",
       "    }\n",
       "</style>\n",
       "<table border=\"1\" class=\"dataframe\">\n",
       "  <thead>\n",
       "    <tr style=\"text-align: right;\">\n",
       "      <th></th>\n",
       "      <th>SK_ID_CURR</th>\n",
       "      <th>NAME_CONTRACT_TYPE</th>\n",
       "      <th>FLAG_OWN_CAR</th>\n",
       "      <th>FLAG_OWN_REALTY</th>\n",
       "      <th>AMT_CREDIT</th>\n",
       "      <th>AMT_GOODS_PRICE</th>\n",
       "      <th>REGION_POPULATION_RELATIVE</th>\n",
       "      <th>DAYS_BIRTH</th>\n",
       "      <th>DAYS_EMPLOYED</th>\n",
       "      <th>DAYS_REGISTRATION</th>\n",
       "      <th>...</th>\n",
       "      <th>FONDKAPREMONT_MODE_not specified</th>\n",
       "      <th>FONDKAPREMONT_MODE_org spec account</th>\n",
       "      <th>FONDKAPREMONT_MODE_reg oper account</th>\n",
       "      <th>FONDKAPREMONT_MODE_reg oper spec account</th>\n",
       "      <th>HOUSETYPE_MODE_block of flats</th>\n",
       "      <th>HOUSETYPE_MODE_specific housing</th>\n",
       "      <th>HOUSETYPE_MODE_terraced house</th>\n",
       "      <th>EMERGENCYSTATE_MODE_No</th>\n",
       "      <th>EMERGENCYSTATE_MODE_Yes</th>\n",
       "      <th>TARGET</th>\n",
       "    </tr>\n",
       "  </thead>\n",
       "  <tbody>\n",
       "    <tr>\n",
       "      <th>0</th>\n",
       "      <td>0.000000</td>\n",
       "      <td>0.0</td>\n",
       "      <td>0.0</td>\n",
       "      <td>1.0</td>\n",
       "      <td>0.090287</td>\n",
       "      <td>0.077441</td>\n",
       "      <td>0.256321</td>\n",
       "      <td>0.111161</td>\n",
       "      <td>0.045086</td>\n",
       "      <td>0.852140</td>\n",
       "      <td>...</td>\n",
       "      <td>0.0</td>\n",
       "      <td>0.0</td>\n",
       "      <td>1.0</td>\n",
       "      <td>0.0</td>\n",
       "      <td>1.0</td>\n",
       "      <td>0.0</td>\n",
       "      <td>0.0</td>\n",
       "      <td>1.0</td>\n",
       "      <td>0.0</td>\n",
       "      <td>1.0</td>\n",
       "    </tr>\n",
       "    <tr>\n",
       "      <th>1</th>\n",
       "      <td>0.000003</td>\n",
       "      <td>0.0</td>\n",
       "      <td>0.0</td>\n",
       "      <td>0.0</td>\n",
       "      <td>0.311736</td>\n",
       "      <td>0.271605</td>\n",
       "      <td>0.045016</td>\n",
       "      <td>0.522886</td>\n",
       "      <td>0.043648</td>\n",
       "      <td>0.951929</td>\n",
       "      <td>...</td>\n",
       "      <td>0.0</td>\n",
       "      <td>0.0</td>\n",
       "      <td>1.0</td>\n",
       "      <td>0.0</td>\n",
       "      <td>1.0</td>\n",
       "      <td>0.0</td>\n",
       "      <td>0.0</td>\n",
       "      <td>1.0</td>\n",
       "      <td>0.0</td>\n",
       "      <td>0.0</td>\n",
       "    </tr>\n",
       "    <tr>\n",
       "      <th>2</th>\n",
       "      <td>0.000006</td>\n",
       "      <td>1.0</td>\n",
       "      <td>1.0</td>\n",
       "      <td>1.0</td>\n",
       "      <td>0.022472</td>\n",
       "      <td>0.023569</td>\n",
       "      <td>0.134897</td>\n",
       "      <td>0.651466</td>\n",
       "      <td>0.046161</td>\n",
       "      <td>0.827335</td>\n",
       "      <td>...</td>\n",
       "      <td>0.0</td>\n",
       "      <td>0.0</td>\n",
       "      <td>0.0</td>\n",
       "      <td>0.0</td>\n",
       "      <td>0.0</td>\n",
       "      <td>0.0</td>\n",
       "      <td>0.0</td>\n",
       "      <td>0.0</td>\n",
       "      <td>0.0</td>\n",
       "      <td>0.0</td>\n",
       "    </tr>\n",
       "    <tr>\n",
       "      <th>3</th>\n",
       "      <td>0.000011</td>\n",
       "      <td>0.0</td>\n",
       "      <td>0.0</td>\n",
       "      <td>1.0</td>\n",
       "      <td>0.066837</td>\n",
       "      <td>0.063973</td>\n",
       "      <td>0.107023</td>\n",
       "      <td>0.649154</td>\n",
       "      <td>0.038817</td>\n",
       "      <td>0.601451</td>\n",
       "      <td>...</td>\n",
       "      <td>0.0</td>\n",
       "      <td>0.0</td>\n",
       "      <td>0.0</td>\n",
       "      <td>0.0</td>\n",
       "      <td>0.0</td>\n",
       "      <td>0.0</td>\n",
       "      <td>0.0</td>\n",
       "      <td>0.0</td>\n",
       "      <td>0.0</td>\n",
       "      <td>0.0</td>\n",
       "    </tr>\n",
       "    <tr>\n",
       "      <th>4</th>\n",
       "      <td>0.000014</td>\n",
       "      <td>0.0</td>\n",
       "      <td>0.0</td>\n",
       "      <td>1.0</td>\n",
       "      <td>0.116854</td>\n",
       "      <td>0.117845</td>\n",
       "      <td>0.392880</td>\n",
       "      <td>0.701409</td>\n",
       "      <td>0.038820</td>\n",
       "      <td>0.825268</td>\n",
       "      <td>...</td>\n",
       "      <td>0.0</td>\n",
       "      <td>0.0</td>\n",
       "      <td>0.0</td>\n",
       "      <td>0.0</td>\n",
       "      <td>0.0</td>\n",
       "      <td>0.0</td>\n",
       "      <td>0.0</td>\n",
       "      <td>0.0</td>\n",
       "      <td>0.0</td>\n",
       "      <td>0.0</td>\n",
       "    </tr>\n",
       "    <tr>\n",
       "      <th>...</th>\n",
       "      <td>...</td>\n",
       "      <td>...</td>\n",
       "      <td>...</td>\n",
       "      <td>...</td>\n",
       "      <td>...</td>\n",
       "      <td>...</td>\n",
       "      <td>...</td>\n",
       "      <td>...</td>\n",
       "      <td>...</td>\n",
       "      <td>...</td>\n",
       "      <td>...</td>\n",
       "      <td>...</td>\n",
       "      <td>...</td>\n",
       "      <td>...</td>\n",
       "      <td>...</td>\n",
       "      <td>...</td>\n",
       "      <td>...</td>\n",
       "      <td>...</td>\n",
       "      <td>...</td>\n",
       "      <td>...</td>\n",
       "      <td>...</td>\n",
       "    </tr>\n",
       "    <tr>\n",
       "      <th>307506</th>\n",
       "      <td>0.999989</td>\n",
       "      <td>0.0</td>\n",
       "      <td>0.0</td>\n",
       "      <td>0.0</td>\n",
       "      <td>0.052360</td>\n",
       "      <td>0.046016</td>\n",
       "      <td>0.446855</td>\n",
       "      <td>0.103608</td>\n",
       "      <td>0.046133</td>\n",
       "      <td>0.657263</td>\n",
       "      <td>...</td>\n",
       "      <td>0.0</td>\n",
       "      <td>0.0</td>\n",
       "      <td>1.0</td>\n",
       "      <td>0.0</td>\n",
       "      <td>1.0</td>\n",
       "      <td>0.0</td>\n",
       "      <td>0.0</td>\n",
       "      <td>1.0</td>\n",
       "      <td>0.0</td>\n",
       "      <td>0.0</td>\n",
       "    </tr>\n",
       "    <tr>\n",
       "      <th>307507</th>\n",
       "      <td>0.999992</td>\n",
       "      <td>0.0</td>\n",
       "      <td>0.0</td>\n",
       "      <td>1.0</td>\n",
       "      <td>0.056067</td>\n",
       "      <td>0.046016</td>\n",
       "      <td>0.344429</td>\n",
       "      <td>0.748929</td>\n",
       "      <td>1.000000</td>\n",
       "      <td>0.822147</td>\n",
       "      <td>...</td>\n",
       "      <td>0.0</td>\n",
       "      <td>0.0</td>\n",
       "      <td>1.0</td>\n",
       "      <td>0.0</td>\n",
       "      <td>1.0</td>\n",
       "      <td>0.0</td>\n",
       "      <td>0.0</td>\n",
       "      <td>1.0</td>\n",
       "      <td>0.0</td>\n",
       "      <td>0.0</td>\n",
       "    </tr>\n",
       "    <tr>\n",
       "      <th>307508</th>\n",
       "      <td>0.999994</td>\n",
       "      <td>0.0</td>\n",
       "      <td>0.0</td>\n",
       "      <td>1.0</td>\n",
       "      <td>0.157969</td>\n",
       "      <td>0.135802</td>\n",
       "      <td>0.065247</td>\n",
       "      <td>0.421477</td>\n",
       "      <td>0.026076</td>\n",
       "      <td>0.726937</td>\n",
       "      <td>...</td>\n",
       "      <td>0.0</td>\n",
       "      <td>0.0</td>\n",
       "      <td>1.0</td>\n",
       "      <td>0.0</td>\n",
       "      <td>1.0</td>\n",
       "      <td>0.0</td>\n",
       "      <td>0.0</td>\n",
       "      <td>1.0</td>\n",
       "      <td>0.0</td>\n",
       "      <td>0.0</td>\n",
       "    </tr>\n",
       "    <tr>\n",
       "      <th>307509</th>\n",
       "      <td>0.999997</td>\n",
       "      <td>0.0</td>\n",
       "      <td>0.0</td>\n",
       "      <td>1.0</td>\n",
       "      <td>0.081175</td>\n",
       "      <td>0.069585</td>\n",
       "      <td>0.069553</td>\n",
       "      <td>0.252086</td>\n",
       "      <td>0.034258</td>\n",
       "      <td>0.896158</td>\n",
       "      <td>...</td>\n",
       "      <td>0.0</td>\n",
       "      <td>0.0</td>\n",
       "      <td>0.0</td>\n",
       "      <td>0.0</td>\n",
       "      <td>1.0</td>\n",
       "      <td>0.0</td>\n",
       "      <td>0.0</td>\n",
       "      <td>1.0</td>\n",
       "      <td>0.0</td>\n",
       "      <td>1.0</td>\n",
       "    </tr>\n",
       "    <tr>\n",
       "      <th>307510</th>\n",
       "      <td>1.000000</td>\n",
       "      <td>0.0</td>\n",
       "      <td>0.0</td>\n",
       "      <td>0.0</td>\n",
       "      <td>0.157303</td>\n",
       "      <td>0.158249</td>\n",
       "      <td>0.635991</td>\n",
       "      <td>0.528016</td>\n",
       "      <td>0.043455</td>\n",
       "      <td>0.792153</td>\n",
       "      <td>...</td>\n",
       "      <td>0.0</td>\n",
       "      <td>0.0</td>\n",
       "      <td>0.0</td>\n",
       "      <td>0.0</td>\n",
       "      <td>1.0</td>\n",
       "      <td>0.0</td>\n",
       "      <td>0.0</td>\n",
       "      <td>1.0</td>\n",
       "      <td>0.0</td>\n",
       "      <td>0.0</td>\n",
       "    </tr>\n",
       "  </tbody>\n",
       "</table>\n",
       "<p>307511 rows × 155 columns</p>\n",
       "</div>"
      ],
      "text/plain": [
       "        SK_ID_CURR  NAME_CONTRACT_TYPE  FLAG_OWN_CAR  FLAG_OWN_REALTY  \\\n",
       "0         0.000000                 0.0           0.0              1.0   \n",
       "1         0.000003                 0.0           0.0              0.0   \n",
       "2         0.000006                 1.0           1.0              1.0   \n",
       "3         0.000011                 0.0           0.0              1.0   \n",
       "4         0.000014                 0.0           0.0              1.0   \n",
       "...            ...                 ...           ...              ...   \n",
       "307506    0.999989                 0.0           0.0              0.0   \n",
       "307507    0.999992                 0.0           0.0              1.0   \n",
       "307508    0.999994                 0.0           0.0              1.0   \n",
       "307509    0.999997                 0.0           0.0              1.0   \n",
       "307510    1.000000                 0.0           0.0              0.0   \n",
       "\n",
       "        AMT_CREDIT  AMT_GOODS_PRICE  REGION_POPULATION_RELATIVE  DAYS_BIRTH  \\\n",
       "0         0.090287         0.077441                    0.256321    0.111161   \n",
       "1         0.311736         0.271605                    0.045016    0.522886   \n",
       "2         0.022472         0.023569                    0.134897    0.651466   \n",
       "3         0.066837         0.063973                    0.107023    0.649154   \n",
       "4         0.116854         0.117845                    0.392880    0.701409   \n",
       "...            ...              ...                         ...         ...   \n",
       "307506    0.052360         0.046016                    0.446855    0.103608   \n",
       "307507    0.056067         0.046016                    0.344429    0.748929   \n",
       "307508    0.157969         0.135802                    0.065247    0.421477   \n",
       "307509    0.081175         0.069585                    0.069553    0.252086   \n",
       "307510    0.157303         0.158249                    0.635991    0.528016   \n",
       "\n",
       "        DAYS_EMPLOYED  DAYS_REGISTRATION  ...  \\\n",
       "0            0.045086           0.852140  ...   \n",
       "1            0.043648           0.951929  ...   \n",
       "2            0.046161           0.827335  ...   \n",
       "3            0.038817           0.601451  ...   \n",
       "4            0.038820           0.825268  ...   \n",
       "...               ...                ...  ...   \n",
       "307506       0.046133           0.657263  ...   \n",
       "307507       1.000000           0.822147  ...   \n",
       "307508       0.026076           0.726937  ...   \n",
       "307509       0.034258           0.896158  ...   \n",
       "307510       0.043455           0.792153  ...   \n",
       "\n",
       "        FONDKAPREMONT_MODE_not specified  FONDKAPREMONT_MODE_org spec account  \\\n",
       "0                                    0.0                                  0.0   \n",
       "1                                    0.0                                  0.0   \n",
       "2                                    0.0                                  0.0   \n",
       "3                                    0.0                                  0.0   \n",
       "4                                    0.0                                  0.0   \n",
       "...                                  ...                                  ...   \n",
       "307506                               0.0                                  0.0   \n",
       "307507                               0.0                                  0.0   \n",
       "307508                               0.0                                  0.0   \n",
       "307509                               0.0                                  0.0   \n",
       "307510                               0.0                                  0.0   \n",
       "\n",
       "        FONDKAPREMONT_MODE_reg oper account  \\\n",
       "0                                       1.0   \n",
       "1                                       1.0   \n",
       "2                                       0.0   \n",
       "3                                       0.0   \n",
       "4                                       0.0   \n",
       "...                                     ...   \n",
       "307506                                  1.0   \n",
       "307507                                  1.0   \n",
       "307508                                  1.0   \n",
       "307509                                  0.0   \n",
       "307510                                  0.0   \n",
       "\n",
       "        FONDKAPREMONT_MODE_reg oper spec account  \\\n",
       "0                                            0.0   \n",
       "1                                            0.0   \n",
       "2                                            0.0   \n",
       "3                                            0.0   \n",
       "4                                            0.0   \n",
       "...                                          ...   \n",
       "307506                                       0.0   \n",
       "307507                                       0.0   \n",
       "307508                                       0.0   \n",
       "307509                                       0.0   \n",
       "307510                                       0.0   \n",
       "\n",
       "        HOUSETYPE_MODE_block of flats  HOUSETYPE_MODE_specific housing  \\\n",
       "0                                 1.0                              0.0   \n",
       "1                                 1.0                              0.0   \n",
       "2                                 0.0                              0.0   \n",
       "3                                 0.0                              0.0   \n",
       "4                                 0.0                              0.0   \n",
       "...                               ...                              ...   \n",
       "307506                            1.0                              0.0   \n",
       "307507                            1.0                              0.0   \n",
       "307508                            1.0                              0.0   \n",
       "307509                            1.0                              0.0   \n",
       "307510                            1.0                              0.0   \n",
       "\n",
       "        HOUSETYPE_MODE_terraced house  EMERGENCYSTATE_MODE_No  \\\n",
       "0                                 0.0                     1.0   \n",
       "1                                 0.0                     1.0   \n",
       "2                                 0.0                     0.0   \n",
       "3                                 0.0                     0.0   \n",
       "4                                 0.0                     0.0   \n",
       "...                               ...                     ...   \n",
       "307506                            0.0                     1.0   \n",
       "307507                            0.0                     1.0   \n",
       "307508                            0.0                     1.0   \n",
       "307509                            0.0                     1.0   \n",
       "307510                            0.0                     1.0   \n",
       "\n",
       "        EMERGENCYSTATE_MODE_Yes  TARGET  \n",
       "0                           0.0     1.0  \n",
       "1                           0.0     0.0  \n",
       "2                           0.0     0.0  \n",
       "3                           0.0     0.0  \n",
       "4                           0.0     0.0  \n",
       "...                         ...     ...  \n",
       "307506                      0.0     0.0  \n",
       "307507                      0.0     0.0  \n",
       "307508                      0.0     0.0  \n",
       "307509                      0.0     1.0  \n",
       "307510                      0.0     0.0  \n",
       "\n",
       "[307511 rows x 155 columns]"
      ]
     },
     "execution_count": 26,
     "metadata": {},
     "output_type": "execute_result"
    }
   ],
   "source": [
    "a_train"
   ]
  },
  {
   "cell_type": "code",
   "execution_count": 27,
   "id": "1406bfa0",
   "metadata": {},
   "outputs": [
    {
     "data": {
      "text/html": [
       "<div>\n",
       "<style scoped>\n",
       "    .dataframe tbody tr th:only-of-type {\n",
       "        vertical-align: middle;\n",
       "    }\n",
       "\n",
       "    .dataframe tbody tr th {\n",
       "        vertical-align: top;\n",
       "    }\n",
       "\n",
       "    .dataframe thead th {\n",
       "        text-align: right;\n",
       "    }\n",
       "</style>\n",
       "<table border=\"1\" class=\"dataframe\">\n",
       "  <thead>\n",
       "    <tr style=\"text-align: right;\">\n",
       "      <th></th>\n",
       "      <th>% of Total Values</th>\n",
       "    </tr>\n",
       "  </thead>\n",
       "  <tbody>\n",
       "    <tr>\n",
       "      <th>SK_ID_CURR</th>\n",
       "      <td>0.0</td>\n",
       "    </tr>\n",
       "    <tr>\n",
       "      <th>ORGANIZATION_TYPE_Industry: type 13</th>\n",
       "      <td>0.0</td>\n",
       "    </tr>\n",
       "    <tr>\n",
       "      <th>ORGANIZATION_TYPE_Government</th>\n",
       "      <td>0.0</td>\n",
       "    </tr>\n",
       "    <tr>\n",
       "      <th>ORGANIZATION_TYPE_Hotel</th>\n",
       "      <td>0.0</td>\n",
       "    </tr>\n",
       "    <tr>\n",
       "      <th>ORGANIZATION_TYPE_Housing</th>\n",
       "      <td>0.0</td>\n",
       "    </tr>\n",
       "    <tr>\n",
       "      <th>ORGANIZATION_TYPE_Industry: type 1</th>\n",
       "      <td>0.0</td>\n",
       "    </tr>\n",
       "    <tr>\n",
       "      <th>ORGANIZATION_TYPE_Industry: type 10</th>\n",
       "      <td>0.0</td>\n",
       "    </tr>\n",
       "    <tr>\n",
       "      <th>ORGANIZATION_TYPE_Industry: type 11</th>\n",
       "      <td>0.0</td>\n",
       "    </tr>\n",
       "    <tr>\n",
       "      <th>ORGANIZATION_TYPE_Industry: type 12</th>\n",
       "      <td>0.0</td>\n",
       "    </tr>\n",
       "    <tr>\n",
       "      <th>ORGANIZATION_TYPE_Industry: type 2</th>\n",
       "      <td>0.0</td>\n",
       "    </tr>\n",
       "    <tr>\n",
       "      <th>ORGANIZATION_TYPE_Kindergarten</th>\n",
       "      <td>0.0</td>\n",
       "    </tr>\n",
       "    <tr>\n",
       "      <th>ORGANIZATION_TYPE_Industry: type 3</th>\n",
       "      <td>0.0</td>\n",
       "    </tr>\n",
       "    <tr>\n",
       "      <th>ORGANIZATION_TYPE_Industry: type 4</th>\n",
       "      <td>0.0</td>\n",
       "    </tr>\n",
       "    <tr>\n",
       "      <th>ORGANIZATION_TYPE_Industry: type 5</th>\n",
       "      <td>0.0</td>\n",
       "    </tr>\n",
       "    <tr>\n",
       "      <th>ORGANIZATION_TYPE_Industry: type 6</th>\n",
       "      <td>0.0</td>\n",
       "    </tr>\n",
       "    <tr>\n",
       "      <th>ORGANIZATION_TYPE_Industry: type 7</th>\n",
       "      <td>0.0</td>\n",
       "    </tr>\n",
       "    <tr>\n",
       "      <th>ORGANIZATION_TYPE_Industry: type 8</th>\n",
       "      <td>0.0</td>\n",
       "    </tr>\n",
       "    <tr>\n",
       "      <th>ORGANIZATION_TYPE_Industry: type 9</th>\n",
       "      <td>0.0</td>\n",
       "    </tr>\n",
       "    <tr>\n",
       "      <th>ORGANIZATION_TYPE_Emergency</th>\n",
       "      <td>0.0</td>\n",
       "    </tr>\n",
       "    <tr>\n",
       "      <th>ORGANIZATION_TYPE_Electricity</th>\n",
       "      <td>0.0</td>\n",
       "    </tr>\n",
       "    <tr>\n",
       "      <th>ORGANIZATION_TYPE_Culture</th>\n",
       "      <td>0.0</td>\n",
       "    </tr>\n",
       "    <tr>\n",
       "      <th>ORGANIZATION_TYPE_Construction</th>\n",
       "      <td>0.0</td>\n",
       "    </tr>\n",
       "    <tr>\n",
       "      <th>OCCUPATION_TYPE_Waiters/barmen staff</th>\n",
       "      <td>0.0</td>\n",
       "    </tr>\n",
       "    <tr>\n",
       "      <th>WEEKDAY_APPR_PROCESS_START_FRIDAY</th>\n",
       "      <td>0.0</td>\n",
       "    </tr>\n",
       "    <tr>\n",
       "      <th>WEEKDAY_APPR_PROCESS_START_MONDAY</th>\n",
       "      <td>0.0</td>\n",
       "    </tr>\n",
       "  </tbody>\n",
       "</table>\n",
       "</div>"
      ],
      "text/plain": [
       "                                      % of Total Values\n",
       "SK_ID_CURR                                          0.0\n",
       "ORGANIZATION_TYPE_Industry: type 13                 0.0\n",
       "ORGANIZATION_TYPE_Government                        0.0\n",
       "ORGANIZATION_TYPE_Hotel                             0.0\n",
       "ORGANIZATION_TYPE_Housing                           0.0\n",
       "ORGANIZATION_TYPE_Industry: type 1                  0.0\n",
       "ORGANIZATION_TYPE_Industry: type 10                 0.0\n",
       "ORGANIZATION_TYPE_Industry: type 11                 0.0\n",
       "ORGANIZATION_TYPE_Industry: type 12                 0.0\n",
       "ORGANIZATION_TYPE_Industry: type 2                  0.0\n",
       "ORGANIZATION_TYPE_Kindergarten                      0.0\n",
       "ORGANIZATION_TYPE_Industry: type 3                  0.0\n",
       "ORGANIZATION_TYPE_Industry: type 4                  0.0\n",
       "ORGANIZATION_TYPE_Industry: type 5                  0.0\n",
       "ORGANIZATION_TYPE_Industry: type 6                  0.0\n",
       "ORGANIZATION_TYPE_Industry: type 7                  0.0\n",
       "ORGANIZATION_TYPE_Industry: type 8                  0.0\n",
       "ORGANIZATION_TYPE_Industry: type 9                  0.0\n",
       "ORGANIZATION_TYPE_Emergency                         0.0\n",
       "ORGANIZATION_TYPE_Electricity                       0.0\n",
       "ORGANIZATION_TYPE_Culture                           0.0\n",
       "ORGANIZATION_TYPE_Construction                      0.0\n",
       "OCCUPATION_TYPE_Waiters/barmen staff                0.0\n",
       "WEEKDAY_APPR_PROCESS_START_FRIDAY                   0.0\n",
       "WEEKDAY_APPR_PROCESS_START_MONDAY                   0.0"
      ]
     },
     "execution_count": 27,
     "metadata": {},
     "output_type": "execute_result"
    }
   ],
   "source": [
    "a_test_miss = missing_val_ratio(a_test)\n",
    "imputer = SimpleImputer(strategy='median')\n",
    "scaler = MinMaxScaler(feature_range = (0, 1))\n",
    "for column in a_test.columns:\n",
    "    a_test[[column]] = imputer.fit_transform(a_test[[column]])\n",
    "    a_test[[column]] = scaler.fit_transform(a_test[[column]])\n",
    "a_test_miss = missing_val_ratio(a_test)\n",
    "a_test_miss.head(25)"
   ]
  },
  {
   "cell_type": "code",
   "execution_count": 28,
   "id": "30881a25",
   "metadata": {},
   "outputs": [
    {
     "data": {
      "text/plain": [
       "(307511, 155)"
      ]
     },
     "execution_count": 28,
     "metadata": {},
     "output_type": "execute_result"
    }
   ],
   "source": [
    "a_train.shape"
   ]
  },
  {
   "cell_type": "code",
   "execution_count": 29,
   "id": "0fc2e40e",
   "metadata": {},
   "outputs": [
    {
     "data": {
      "text/plain": [
       "float64    155\n",
       "dtype: int64"
      ]
     },
     "execution_count": 29,
     "metadata": {},
     "output_type": "execute_result"
    }
   ],
   "source": [
    "a_train.dtypes.value_counts()"
   ]
  },
  {
   "cell_type": "code",
   "execution_count": 30,
   "id": "5608cdbb",
   "metadata": {},
   "outputs": [
    {
     "data": {
      "text/plain": [
       "(48744, 154)"
      ]
     },
     "execution_count": 30,
     "metadata": {},
     "output_type": "execute_result"
    }
   ],
   "source": [
    "a_test.shape"
   ]
  },
  {
   "cell_type": "code",
   "execution_count": 31,
   "id": "97977659",
   "metadata": {},
   "outputs": [
    {
     "data": {
      "text/plain": [
       "float64    154\n",
       "dtype: int64"
      ]
     },
     "execution_count": 31,
     "metadata": {},
     "output_type": "execute_result"
    }
   ],
   "source": [
    "a_test.dtypes.value_counts()"
   ]
  },
  {
   "cell_type": "markdown",
   "id": "b3f33784",
   "metadata": {},
   "source": [
    "## Ajustando o dataframe para dar início à criação dos modelos"
   ]
  },
  {
   "cell_type": "code",
   "execution_count": 32,
   "id": "ee00236c",
   "metadata": {},
   "outputs": [],
   "source": [
    "first_column = a_train.pop('TARGET')\n",
    "a_train.insert(0, 'TARGET', first_column)"
   ]
  },
  {
   "cell_type": "code",
   "execution_count": 33,
   "id": "393de3b2",
   "metadata": {},
   "outputs": [
    {
     "data": {
      "text/html": [
       "<div>\n",
       "<style scoped>\n",
       "    .dataframe tbody tr th:only-of-type {\n",
       "        vertical-align: middle;\n",
       "    }\n",
       "\n",
       "    .dataframe tbody tr th {\n",
       "        vertical-align: top;\n",
       "    }\n",
       "\n",
       "    .dataframe thead th {\n",
       "        text-align: right;\n",
       "    }\n",
       "</style>\n",
       "<table border=\"1\" class=\"dataframe\">\n",
       "  <thead>\n",
       "    <tr style=\"text-align: right;\">\n",
       "      <th></th>\n",
       "      <th>TARGET</th>\n",
       "      <th>SK_ID_CURR</th>\n",
       "      <th>NAME_CONTRACT_TYPE</th>\n",
       "      <th>FLAG_OWN_CAR</th>\n",
       "      <th>FLAG_OWN_REALTY</th>\n",
       "      <th>AMT_CREDIT</th>\n",
       "      <th>AMT_GOODS_PRICE</th>\n",
       "      <th>REGION_POPULATION_RELATIVE</th>\n",
       "      <th>DAYS_BIRTH</th>\n",
       "      <th>DAYS_EMPLOYED</th>\n",
       "      <th>...</th>\n",
       "      <th>ORGANIZATION_TYPE_XNA</th>\n",
       "      <th>FONDKAPREMONT_MODE_not specified</th>\n",
       "      <th>FONDKAPREMONT_MODE_org spec account</th>\n",
       "      <th>FONDKAPREMONT_MODE_reg oper account</th>\n",
       "      <th>FONDKAPREMONT_MODE_reg oper spec account</th>\n",
       "      <th>HOUSETYPE_MODE_block of flats</th>\n",
       "      <th>HOUSETYPE_MODE_specific housing</th>\n",
       "      <th>HOUSETYPE_MODE_terraced house</th>\n",
       "      <th>EMERGENCYSTATE_MODE_No</th>\n",
       "      <th>EMERGENCYSTATE_MODE_Yes</th>\n",
       "    </tr>\n",
       "  </thead>\n",
       "  <tbody>\n",
       "    <tr>\n",
       "      <th>0</th>\n",
       "      <td>1.0</td>\n",
       "      <td>0.000000</td>\n",
       "      <td>0.0</td>\n",
       "      <td>0.0</td>\n",
       "      <td>1.0</td>\n",
       "      <td>0.090287</td>\n",
       "      <td>0.077441</td>\n",
       "      <td>0.256321</td>\n",
       "      <td>0.111161</td>\n",
       "      <td>0.045086</td>\n",
       "      <td>...</td>\n",
       "      <td>0.0</td>\n",
       "      <td>0.0</td>\n",
       "      <td>0.0</td>\n",
       "      <td>1.0</td>\n",
       "      <td>0.0</td>\n",
       "      <td>1.0</td>\n",
       "      <td>0.0</td>\n",
       "      <td>0.0</td>\n",
       "      <td>1.0</td>\n",
       "      <td>0.0</td>\n",
       "    </tr>\n",
       "    <tr>\n",
       "      <th>1</th>\n",
       "      <td>0.0</td>\n",
       "      <td>0.000003</td>\n",
       "      <td>0.0</td>\n",
       "      <td>0.0</td>\n",
       "      <td>0.0</td>\n",
       "      <td>0.311736</td>\n",
       "      <td>0.271605</td>\n",
       "      <td>0.045016</td>\n",
       "      <td>0.522886</td>\n",
       "      <td>0.043648</td>\n",
       "      <td>...</td>\n",
       "      <td>0.0</td>\n",
       "      <td>0.0</td>\n",
       "      <td>0.0</td>\n",
       "      <td>1.0</td>\n",
       "      <td>0.0</td>\n",
       "      <td>1.0</td>\n",
       "      <td>0.0</td>\n",
       "      <td>0.0</td>\n",
       "      <td>1.0</td>\n",
       "      <td>0.0</td>\n",
       "    </tr>\n",
       "    <tr>\n",
       "      <th>2</th>\n",
       "      <td>0.0</td>\n",
       "      <td>0.000006</td>\n",
       "      <td>1.0</td>\n",
       "      <td>1.0</td>\n",
       "      <td>1.0</td>\n",
       "      <td>0.022472</td>\n",
       "      <td>0.023569</td>\n",
       "      <td>0.134897</td>\n",
       "      <td>0.651466</td>\n",
       "      <td>0.046161</td>\n",
       "      <td>...</td>\n",
       "      <td>0.0</td>\n",
       "      <td>0.0</td>\n",
       "      <td>0.0</td>\n",
       "      <td>0.0</td>\n",
       "      <td>0.0</td>\n",
       "      <td>0.0</td>\n",
       "      <td>0.0</td>\n",
       "      <td>0.0</td>\n",
       "      <td>0.0</td>\n",
       "      <td>0.0</td>\n",
       "    </tr>\n",
       "    <tr>\n",
       "      <th>3</th>\n",
       "      <td>0.0</td>\n",
       "      <td>0.000011</td>\n",
       "      <td>0.0</td>\n",
       "      <td>0.0</td>\n",
       "      <td>1.0</td>\n",
       "      <td>0.066837</td>\n",
       "      <td>0.063973</td>\n",
       "      <td>0.107023</td>\n",
       "      <td>0.649154</td>\n",
       "      <td>0.038817</td>\n",
       "      <td>...</td>\n",
       "      <td>0.0</td>\n",
       "      <td>0.0</td>\n",
       "      <td>0.0</td>\n",
       "      <td>0.0</td>\n",
       "      <td>0.0</td>\n",
       "      <td>0.0</td>\n",
       "      <td>0.0</td>\n",
       "      <td>0.0</td>\n",
       "      <td>0.0</td>\n",
       "      <td>0.0</td>\n",
       "    </tr>\n",
       "    <tr>\n",
       "      <th>4</th>\n",
       "      <td>0.0</td>\n",
       "      <td>0.000014</td>\n",
       "      <td>0.0</td>\n",
       "      <td>0.0</td>\n",
       "      <td>1.0</td>\n",
       "      <td>0.116854</td>\n",
       "      <td>0.117845</td>\n",
       "      <td>0.392880</td>\n",
       "      <td>0.701409</td>\n",
       "      <td>0.038820</td>\n",
       "      <td>...</td>\n",
       "      <td>0.0</td>\n",
       "      <td>0.0</td>\n",
       "      <td>0.0</td>\n",
       "      <td>0.0</td>\n",
       "      <td>0.0</td>\n",
       "      <td>0.0</td>\n",
       "      <td>0.0</td>\n",
       "      <td>0.0</td>\n",
       "      <td>0.0</td>\n",
       "      <td>0.0</td>\n",
       "    </tr>\n",
       "    <tr>\n",
       "      <th>...</th>\n",
       "      <td>...</td>\n",
       "      <td>...</td>\n",
       "      <td>...</td>\n",
       "      <td>...</td>\n",
       "      <td>...</td>\n",
       "      <td>...</td>\n",
       "      <td>...</td>\n",
       "      <td>...</td>\n",
       "      <td>...</td>\n",
       "      <td>...</td>\n",
       "      <td>...</td>\n",
       "      <td>...</td>\n",
       "      <td>...</td>\n",
       "      <td>...</td>\n",
       "      <td>...</td>\n",
       "      <td>...</td>\n",
       "      <td>...</td>\n",
       "      <td>...</td>\n",
       "      <td>...</td>\n",
       "      <td>...</td>\n",
       "      <td>...</td>\n",
       "    </tr>\n",
       "    <tr>\n",
       "      <th>307506</th>\n",
       "      <td>0.0</td>\n",
       "      <td>0.999989</td>\n",
       "      <td>0.0</td>\n",
       "      <td>0.0</td>\n",
       "      <td>0.0</td>\n",
       "      <td>0.052360</td>\n",
       "      <td>0.046016</td>\n",
       "      <td>0.446855</td>\n",
       "      <td>0.103608</td>\n",
       "      <td>0.046133</td>\n",
       "      <td>...</td>\n",
       "      <td>0.0</td>\n",
       "      <td>0.0</td>\n",
       "      <td>0.0</td>\n",
       "      <td>1.0</td>\n",
       "      <td>0.0</td>\n",
       "      <td>1.0</td>\n",
       "      <td>0.0</td>\n",
       "      <td>0.0</td>\n",
       "      <td>1.0</td>\n",
       "      <td>0.0</td>\n",
       "    </tr>\n",
       "    <tr>\n",
       "      <th>307507</th>\n",
       "      <td>0.0</td>\n",
       "      <td>0.999992</td>\n",
       "      <td>0.0</td>\n",
       "      <td>0.0</td>\n",
       "      <td>1.0</td>\n",
       "      <td>0.056067</td>\n",
       "      <td>0.046016</td>\n",
       "      <td>0.344429</td>\n",
       "      <td>0.748929</td>\n",
       "      <td>1.000000</td>\n",
       "      <td>...</td>\n",
       "      <td>1.0</td>\n",
       "      <td>0.0</td>\n",
       "      <td>0.0</td>\n",
       "      <td>1.0</td>\n",
       "      <td>0.0</td>\n",
       "      <td>1.0</td>\n",
       "      <td>0.0</td>\n",
       "      <td>0.0</td>\n",
       "      <td>1.0</td>\n",
       "      <td>0.0</td>\n",
       "    </tr>\n",
       "    <tr>\n",
       "      <th>307508</th>\n",
       "      <td>0.0</td>\n",
       "      <td>0.999994</td>\n",
       "      <td>0.0</td>\n",
       "      <td>0.0</td>\n",
       "      <td>1.0</td>\n",
       "      <td>0.157969</td>\n",
       "      <td>0.135802</td>\n",
       "      <td>0.065247</td>\n",
       "      <td>0.421477</td>\n",
       "      <td>0.026076</td>\n",
       "      <td>...</td>\n",
       "      <td>0.0</td>\n",
       "      <td>0.0</td>\n",
       "      <td>0.0</td>\n",
       "      <td>1.0</td>\n",
       "      <td>0.0</td>\n",
       "      <td>1.0</td>\n",
       "      <td>0.0</td>\n",
       "      <td>0.0</td>\n",
       "      <td>1.0</td>\n",
       "      <td>0.0</td>\n",
       "    </tr>\n",
       "    <tr>\n",
       "      <th>307509</th>\n",
       "      <td>1.0</td>\n",
       "      <td>0.999997</td>\n",
       "      <td>0.0</td>\n",
       "      <td>0.0</td>\n",
       "      <td>1.0</td>\n",
       "      <td>0.081175</td>\n",
       "      <td>0.069585</td>\n",
       "      <td>0.069553</td>\n",
       "      <td>0.252086</td>\n",
       "      <td>0.034258</td>\n",
       "      <td>...</td>\n",
       "      <td>0.0</td>\n",
       "      <td>0.0</td>\n",
       "      <td>0.0</td>\n",
       "      <td>0.0</td>\n",
       "      <td>0.0</td>\n",
       "      <td>1.0</td>\n",
       "      <td>0.0</td>\n",
       "      <td>0.0</td>\n",
       "      <td>1.0</td>\n",
       "      <td>0.0</td>\n",
       "    </tr>\n",
       "    <tr>\n",
       "      <th>307510</th>\n",
       "      <td>0.0</td>\n",
       "      <td>1.000000</td>\n",
       "      <td>0.0</td>\n",
       "      <td>0.0</td>\n",
       "      <td>0.0</td>\n",
       "      <td>0.157303</td>\n",
       "      <td>0.158249</td>\n",
       "      <td>0.635991</td>\n",
       "      <td>0.528016</td>\n",
       "      <td>0.043455</td>\n",
       "      <td>...</td>\n",
       "      <td>0.0</td>\n",
       "      <td>0.0</td>\n",
       "      <td>0.0</td>\n",
       "      <td>0.0</td>\n",
       "      <td>0.0</td>\n",
       "      <td>1.0</td>\n",
       "      <td>0.0</td>\n",
       "      <td>0.0</td>\n",
       "      <td>1.0</td>\n",
       "      <td>0.0</td>\n",
       "    </tr>\n",
       "  </tbody>\n",
       "</table>\n",
       "<p>307511 rows × 155 columns</p>\n",
       "</div>"
      ],
      "text/plain": [
       "        TARGET  SK_ID_CURR  NAME_CONTRACT_TYPE  FLAG_OWN_CAR  FLAG_OWN_REALTY  \\\n",
       "0          1.0    0.000000                 0.0           0.0              1.0   \n",
       "1          0.0    0.000003                 0.0           0.0              0.0   \n",
       "2          0.0    0.000006                 1.0           1.0              1.0   \n",
       "3          0.0    0.000011                 0.0           0.0              1.0   \n",
       "4          0.0    0.000014                 0.0           0.0              1.0   \n",
       "...        ...         ...                 ...           ...              ...   \n",
       "307506     0.0    0.999989                 0.0           0.0              0.0   \n",
       "307507     0.0    0.999992                 0.0           0.0              1.0   \n",
       "307508     0.0    0.999994                 0.0           0.0              1.0   \n",
       "307509     1.0    0.999997                 0.0           0.0              1.0   \n",
       "307510     0.0    1.000000                 0.0           0.0              0.0   \n",
       "\n",
       "        AMT_CREDIT  AMT_GOODS_PRICE  REGION_POPULATION_RELATIVE  DAYS_BIRTH  \\\n",
       "0         0.090287         0.077441                    0.256321    0.111161   \n",
       "1         0.311736         0.271605                    0.045016    0.522886   \n",
       "2         0.022472         0.023569                    0.134897    0.651466   \n",
       "3         0.066837         0.063973                    0.107023    0.649154   \n",
       "4         0.116854         0.117845                    0.392880    0.701409   \n",
       "...            ...              ...                         ...         ...   \n",
       "307506    0.052360         0.046016                    0.446855    0.103608   \n",
       "307507    0.056067         0.046016                    0.344429    0.748929   \n",
       "307508    0.157969         0.135802                    0.065247    0.421477   \n",
       "307509    0.081175         0.069585                    0.069553    0.252086   \n",
       "307510    0.157303         0.158249                    0.635991    0.528016   \n",
       "\n",
       "        DAYS_EMPLOYED  ...  ORGANIZATION_TYPE_XNA  \\\n",
       "0            0.045086  ...                    0.0   \n",
       "1            0.043648  ...                    0.0   \n",
       "2            0.046161  ...                    0.0   \n",
       "3            0.038817  ...                    0.0   \n",
       "4            0.038820  ...                    0.0   \n",
       "...               ...  ...                    ...   \n",
       "307506       0.046133  ...                    0.0   \n",
       "307507       1.000000  ...                    1.0   \n",
       "307508       0.026076  ...                    0.0   \n",
       "307509       0.034258  ...                    0.0   \n",
       "307510       0.043455  ...                    0.0   \n",
       "\n",
       "        FONDKAPREMONT_MODE_not specified  FONDKAPREMONT_MODE_org spec account  \\\n",
       "0                                    0.0                                  0.0   \n",
       "1                                    0.0                                  0.0   \n",
       "2                                    0.0                                  0.0   \n",
       "3                                    0.0                                  0.0   \n",
       "4                                    0.0                                  0.0   \n",
       "...                                  ...                                  ...   \n",
       "307506                               0.0                                  0.0   \n",
       "307507                               0.0                                  0.0   \n",
       "307508                               0.0                                  0.0   \n",
       "307509                               0.0                                  0.0   \n",
       "307510                               0.0                                  0.0   \n",
       "\n",
       "        FONDKAPREMONT_MODE_reg oper account  \\\n",
       "0                                       1.0   \n",
       "1                                       1.0   \n",
       "2                                       0.0   \n",
       "3                                       0.0   \n",
       "4                                       0.0   \n",
       "...                                     ...   \n",
       "307506                                  1.0   \n",
       "307507                                  1.0   \n",
       "307508                                  1.0   \n",
       "307509                                  0.0   \n",
       "307510                                  0.0   \n",
       "\n",
       "        FONDKAPREMONT_MODE_reg oper spec account  \\\n",
       "0                                            0.0   \n",
       "1                                            0.0   \n",
       "2                                            0.0   \n",
       "3                                            0.0   \n",
       "4                                            0.0   \n",
       "...                                          ...   \n",
       "307506                                       0.0   \n",
       "307507                                       0.0   \n",
       "307508                                       0.0   \n",
       "307509                                       0.0   \n",
       "307510                                       0.0   \n",
       "\n",
       "        HOUSETYPE_MODE_block of flats  HOUSETYPE_MODE_specific housing  \\\n",
       "0                                 1.0                              0.0   \n",
       "1                                 1.0                              0.0   \n",
       "2                                 0.0                              0.0   \n",
       "3                                 0.0                              0.0   \n",
       "4                                 0.0                              0.0   \n",
       "...                               ...                              ...   \n",
       "307506                            1.0                              0.0   \n",
       "307507                            1.0                              0.0   \n",
       "307508                            1.0                              0.0   \n",
       "307509                            1.0                              0.0   \n",
       "307510                            1.0                              0.0   \n",
       "\n",
       "        HOUSETYPE_MODE_terraced house  EMERGENCYSTATE_MODE_No  \\\n",
       "0                                 0.0                     1.0   \n",
       "1                                 0.0                     1.0   \n",
       "2                                 0.0                     0.0   \n",
       "3                                 0.0                     0.0   \n",
       "4                                 0.0                     0.0   \n",
       "...                               ...                     ...   \n",
       "307506                            0.0                     1.0   \n",
       "307507                            0.0                     1.0   \n",
       "307508                            0.0                     1.0   \n",
       "307509                            0.0                     1.0   \n",
       "307510                            0.0                     1.0   \n",
       "\n",
       "        EMERGENCYSTATE_MODE_Yes  \n",
       "0                           0.0  \n",
       "1                           0.0  \n",
       "2                           0.0  \n",
       "3                           0.0  \n",
       "4                           0.0  \n",
       "...                         ...  \n",
       "307506                      0.0  \n",
       "307507                      0.0  \n",
       "307508                      0.0  \n",
       "307509                      0.0  \n",
       "307510                      0.0  \n",
       "\n",
       "[307511 rows x 155 columns]"
      ]
     },
     "execution_count": 33,
     "metadata": {},
     "output_type": "execute_result"
    }
   ],
   "source": [
    "a_train"
   ]
  },
  {
   "cell_type": "markdown",
   "id": "6ffc8ddb",
   "metadata": {},
   "source": [
    "# Modelling"
   ]
  },
  {
   "cell_type": "markdown",
   "id": "6ccc3537",
   "metadata": {},
   "source": [
    "## XGBoost (Modelo 01)"
   ]
  },
  {
   "cell_type": "code",
   "execution_count": 34,
   "id": "a1e4c545",
   "metadata": {},
   "outputs": [],
   "source": [
    "from sklearn.model_selection import train_test_split\n",
    "train, test_and_validate = train_test_split(a_train, test_size = 0.2, random_state = 42, stratify = a_train['TARGET'])"
   ]
  },
  {
   "cell_type": "code",
   "execution_count": 35,
   "id": "1e3be10b",
   "metadata": {},
   "outputs": [],
   "source": [
    "test, validate = train_test_split(test_and_validate, test_size = 0.5, random_state = 42, stratify = test_and_validate['TARGET'])"
   ]
  },
  {
   "cell_type": "code",
   "execution_count": 36,
   "id": "3ef125bc",
   "metadata": {},
   "outputs": [
    {
     "name": "stdout",
     "output_type": "stream",
     "text": [
      "(246008, 155)\n",
      "(30751, 155)\n",
      "(30752, 155)\n"
     ]
    }
   ],
   "source": [
    "print(train.shape)\n",
    "print(test.shape)\n",
    "print(validate.shape)"
   ]
  },
  {
   "cell_type": "code",
   "execution_count": 37,
   "id": "f8d153dc",
   "metadata": {},
   "outputs": [
    {
     "name": "stdout",
     "output_type": "stream",
     "text": [
      "0.0    226148\n",
      "1.0     19860\n",
      "Name: TARGET, dtype: int64\n",
      "0.0    28269\n",
      "1.0     2482\n",
      "Name: TARGET, dtype: int64\n",
      "0.0    28269\n",
      "1.0     2483\n",
      "Name: TARGET, dtype: int64\n"
     ]
    }
   ],
   "source": [
    "print(train['TARGET'].value_counts())\n",
    "print(test['TARGET'].value_counts())\n",
    "print(validate['TARGET'].value_counts())"
   ]
  },
  {
   "cell_type": "markdown",
   "id": "b3402a00",
   "metadata": {},
   "source": [
    "Uploading the data to Amazon S3"
   ]
  },
  {
   "cell_type": "code",
   "execution_count": 38,
   "id": "3395fe50",
   "metadata": {},
   "outputs": [],
   "source": [
    "bucket = 'credit2022results'"
   ]
  },
  {
   "cell_type": "code",
   "execution_count": 39,
   "id": "df346c1c",
   "metadata": {},
   "outputs": [],
   "source": [
    "prefix = 'XGBoost_01'"
   ]
  },
  {
   "cell_type": "code",
   "execution_count": 40,
   "id": "63cf4fc5",
   "metadata": {},
   "outputs": [],
   "source": [
    "train_file='part_train.csv'\n",
    "test_file='part_test.csv'\n",
    "validate_file='part_validate.csv'"
   ]
  },
  {
   "cell_type": "code",
   "execution_count": 41,
   "id": "8979175d",
   "metadata": {},
   "outputs": [],
   "source": [
    "s3_resource = boto3.Session().resource('s3')\n",
    "def upload_s3_csv(filename, folder, dataframe):\n",
    "    csv_buffer = io.StringIO()\n",
    "    dataframe.to_csv(csv_buffer, header=False, index=False )\n",
    "    s3_resource.Bucket(bucket).Object(os.path.join(prefix, folder, filename)).put(Body=csv_buffer.getvalue())"
   ]
  },
  {
   "cell_type": "code",
   "execution_count": 42,
   "id": "8b0d9562",
   "metadata": {},
   "outputs": [],
   "source": [
    "upload_s3_csv(train_file, 'train', train)\n",
    "upload_s3_csv(test_file, 'test', test)\n",
    "upload_s3_csv(validate_file, 'validate', validate)"
   ]
  },
  {
   "cell_type": "code",
   "execution_count": 43,
   "id": "090e3952",
   "metadata": {},
   "outputs": [],
   "source": [
    "container = retrieve('xgboost',boto3.Session().region_name,'1.0-1')"
   ]
  },
  {
   "cell_type": "code",
   "execution_count": 44,
   "id": "5760a8df",
   "metadata": {},
   "outputs": [],
   "source": [
    "hyperparams={\"num_round\":\"42\",\n",
    "             \"eval_metric\": \"auc\",\n",
    "             \"objective\": \"binary:logistic\"}"
   ]
  },
  {
   "cell_type": "code",
   "execution_count": 45,
   "id": "567b5d44",
   "metadata": {},
   "outputs": [],
   "source": [
    "s3_output_location=\"s3://{}/{}/output/\".format(bucket,prefix)\n",
    "xgb_model=sagemaker.estimator.Estimator(container,\n",
    "                                       sagemaker.get_execution_role(),\n",
    "                                       instance_count=1,\n",
    "                                       instance_type='ml.m4.xlarge',\n",
    "                                       output_path=s3_output_location,\n",
    "                                        hyperparameters=hyperparams,\n",
    "                                        sagemaker_session=sagemaker.Session())"
   ]
  },
  {
   "cell_type": "code",
   "execution_count": 46,
   "id": "9bbb7f6a",
   "metadata": {},
   "outputs": [],
   "source": [
    "train_channel = sagemaker.inputs.TrainingInput(\n",
    "    \"s3://{}/{}/train/\".format(bucket,prefix,train_file),\n",
    "    content_type='text/csv')"
   ]
  },
  {
   "cell_type": "code",
   "execution_count": 47,
   "id": "d6debf61",
   "metadata": {},
   "outputs": [],
   "source": [
    "validate_channel = sagemaker.inputs.TrainingInput(\n",
    "    \"s3://{}/{}/validate/\".format(bucket,prefix,validate_file),\n",
    "    content_type='text/csv')"
   ]
  },
  {
   "cell_type": "code",
   "execution_count": 48,
   "id": "c2722aea",
   "metadata": {},
   "outputs": [],
   "source": [
    "data_channels = {'train': train_channel, 'validation': validate_channel}\n"
   ]
  },
  {
   "cell_type": "code",
   "execution_count": 49,
   "id": "e2f81533",
   "metadata": {},
   "outputs": [
    {
     "name": "stdout",
     "output_type": "stream",
     "text": [
      "\n",
      "2022-11-27 21:18:58 Starting - Starting the training job.....\n",
      "2022-11-27 21:19:26 Starting - Preparing the instances for training................\n",
      "2022-11-27 21:20:53 Downloading - Downloading input data.......\n",
      "2022-11-27 21:21:33 Training - Downloading the training image.........\n",
      "2022-11-27 21:22:24 Training - Training image download completed. Training in progress.........\n",
      "2022-11-27 21:23:09 Uploading - Uploading generated training model..\n",
      "2022-11-27 21:23:25 Completed - Training job completed\n"
     ]
    }
   ],
   "source": [
    "xgb_model.fit(inputs=data_channels, logs=False)"
   ]
  },
  {
   "cell_type": "code",
   "execution_count": 50,
   "id": "e3930127",
   "metadata": {},
   "outputs": [],
   "source": [
    "batch_X = test.iloc[:,1:];"
   ]
  },
  {
   "cell_type": "code",
   "execution_count": 51,
   "id": "73e060e3",
   "metadata": {},
   "outputs": [],
   "source": [
    "batch_X_file='batch-in.csv'\n",
    "upload_s3_csv(batch_X_file, 'batch-in', batch_X)"
   ]
  },
  {
   "cell_type": "code",
   "execution_count": 52,
   "id": "74a5229d",
   "metadata": {},
   "outputs": [],
   "source": [
    "batch_output = \"s3://{}/{}/batch-out/\".format(bucket,prefix)\n",
    "batch_input = \"s3://{}/{}/batch-in/{}\".format(bucket,prefix,batch_X_file)"
   ]
  },
  {
   "cell_type": "code",
   "execution_count": 53,
   "id": "217970c8",
   "metadata": {},
   "outputs": [],
   "source": [
    "xgb_transformer = xgb_model.transformer(instance_count=1,\n",
    "                                       instance_type='ml.m4.xlarge',\n",
    "                                       strategy='MultiRecord',\n",
    "                                       assemble_with='Line',\n",
    "                                       output_path=batch_output)"
   ]
  },
  {
   "cell_type": "code",
   "execution_count": 54,
   "id": "137f9d36",
   "metadata": {},
   "outputs": [
    {
     "name": "stdout",
     "output_type": "stream",
     "text": [
      "...................................\u001b[34m[2022-11-27:21:29:07:INFO] No GPUs detected (normal if no gpus installed)\u001b[0m\n",
      "\u001b[34m[2022-11-27:21:29:07:INFO] No GPUs detected (normal if no gpus installed)\u001b[0m\n",
      "\u001b[34m[2022-11-27:21:29:07:INFO] nginx config: \u001b[0m\n",
      "\u001b[34mworker_processes auto;\u001b[0m\n",
      "\u001b[34mdaemon off;\u001b[0m\n",
      "\u001b[34mpid /tmp/nginx.pid;\u001b[0m\n",
      "\u001b[34merror_log  /dev/stderr;\u001b[0m\n",
      "\u001b[34mworker_rlimit_nofile 4096;\u001b[0m\n",
      "\u001b[34mevents {\n",
      "  worker_connections 2048;\u001b[0m\n",
      "\u001b[34m}\u001b[0m\n",
      "\u001b[34mhttp {\n",
      "  include /etc/nginx/mime.types;\n",
      "  default_type application/octet-stream;\n",
      "  access_log /dev/stdout combined;\n",
      "  upstream gunicorn {\n",
      "    server unix:/tmp/gunicorn.sock;\n",
      "  }\n",
      "  server {\n",
      "    listen 8080 deferred;\n",
      "    client_max_body_size 0;\n",
      "    keepalive_timeout 3;\n",
      "    location ~ ^/(ping|invocations|execution-parameters) {\n",
      "      proxy_set_header X-Forwarded-For $proxy_add_x_forwarded_for;\n",
      "      proxy_set_header Host $http_host;\n",
      "      proxy_redirect off;\n",
      "      proxy_read_timeout 60s;\n",
      "      proxy_pass http://gunicorn;\n",
      "    }\n",
      "    location / {\n",
      "      return 404 \"{}\";\n",
      "    }\n",
      "  }\u001b[0m\n",
      "\u001b[34m}\u001b[0m\n",
      "\u001b[34m[2022-11-27 21:29:07 +0000] [18] [INFO] Starting gunicorn 19.10.0\u001b[0m\n",
      "\u001b[34m[2022-11-27 21:29:07 +0000] [18] [INFO] Listening at: unix:/tmp/gunicorn.sock (18)\u001b[0m\n",
      "\u001b[34m[2022-11-27 21:29:07 +0000] [18] [INFO] Using worker: gevent\u001b[0m\n",
      "\u001b[34m[2022-11-27 21:29:07 +0000] [25] [INFO] Booting worker with pid: 25\u001b[0m\n",
      "\u001b[34m[2022-11-27 21:29:07 +0000] [26] [INFO] Booting worker with pid: 26\u001b[0m\n",
      "\u001b[34m[2022-11-27 21:29:07 +0000] [27] [INFO] Booting worker with pid: 27\u001b[0m\n",
      "\u001b[34m[2022-11-27 21:29:07 +0000] [28] [INFO] Booting worker with pid: 28\u001b[0m\n",
      "\u001b[34m[2022-11-27:21:29:13:INFO] No GPUs detected (normal if no gpus installed)\u001b[0m\n",
      "\u001b[34m169.254.255.130 - - [27/Nov/2022:21:29:13 +0000] \"GET /ping HTTP/1.1\" 200 0 \"-\" \"Go-http-client/1.1\"\u001b[0m\n",
      "\u001b[34m[2022-11-27:21:29:13:INFO] No GPUs detected (normal if no gpus installed)\u001b[0m\n",
      "\u001b[34m169.254.255.130 - - [27/Nov/2022:21:29:13 +0000] \"GET /execution-parameters HTTP/1.1\" 200 84 \"-\" \"Go-http-client/1.1\"\u001b[0m\n",
      "\u001b[34m[2022-11-27:21:29:14:INFO] No GPUs detected (normal if no gpus installed)\u001b[0m\n",
      "\u001b[34m[2022-11-27:21:29:14:INFO] Determined delimiter of CSV input is ','\u001b[0m\n",
      "\u001b[34m[2022-11-27:21:29:14:INFO] Determined delimiter of CSV input is ','\u001b[0m\n",
      "\u001b[34m[2022-11-27:21:29:14:INFO] Determined delimiter of CSV input is ','\u001b[0m\n",
      "\u001b[34m[2022-11-27:21:29:15:INFO] No GPUs detected (normal if no gpus installed)\u001b[0m\n",
      "\u001b[34m[2022-11-27:21:29:15:INFO] Determined delimiter of CSV input is ','\u001b[0m\n",
      "\u001b[34m169.254.255.130 - - [27/Nov/2022:21:29:16 +0000] \"POST /invocations HTTP/1.1\" 200 151894 \"-\" \"Go-http-client/1.1\"\u001b[0m\n",
      "\u001b[34m169.254.255.130 - - [27/Nov/2022:21:29:16 +0000] \"POST /invocations HTTP/1.1\" 200 151877 \"-\" \"Go-http-client/1.1\"\u001b[0m\n",
      "\u001b[34m169.254.255.130 - - [27/Nov/2022:21:29:16 +0000] \"POST /invocations HTTP/1.1\" 200 151877 \"-\" \"Go-http-client/1.1\"\u001b[0m\n",
      "\u001b[34m[2022-11-27:21:29:16:INFO] Determined delimiter of CSV input is ','\u001b[0m\n",
      "\u001b[34m169.254.255.130 - - [27/Nov/2022:21:29:16 +0000] \"POST /invocations HTTP/1.1\" 200 12166 \"-\" \"Go-http-client/1.1\"\u001b[0m\n",
      "\u001b[34m169.254.255.130 - - [27/Nov/2022:21:29:16 +0000] \"POST /invocations HTTP/1.1\" 200 151860 \"-\" \"Go-http-client/1.1\"\u001b[0m\n",
      "\n",
      "\u001b[32m2022-11-27T21:29:13.974:[sagemaker logs]: MaxConcurrentTransforms=4, MaxPayloadInMB=6, BatchStrategy=MULTI_RECORD\u001b[0m\n"
     ]
    }
   ],
   "source": [
    "xgb_transformer.transform(data=batch_input,\n",
    "                         data_type='S3Prefix',\n",
    "                         content_type='text/csv',\n",
    "                         split_type='Line')"
   ]
  },
  {
   "cell_type": "code",
   "execution_count": 55,
   "id": "53260390",
   "metadata": {},
   "outputs": [
    {
     "name": "stdout",
     "output_type": "stream",
     "text": [
      "\u001b[34m[2022-11-27:21:29:07:INFO] No GPUs detected (normal if no gpus installed)\u001b[0m\n",
      "\u001b[34m[2022-11-27:21:29:07:INFO] No GPUs detected (normal if no gpus installed)\u001b[0m\n",
      "\u001b[34m[2022-11-27:21:29:07:INFO] nginx config: \u001b[0m\n",
      "\u001b[34mworker_processes auto;\u001b[0m\n",
      "\u001b[34mdaemon off;\u001b[0m\n",
      "\u001b[34mpid /tmp/nginx.pid;\u001b[0m\n",
      "\u001b[34merror_log  /dev/stderr;\u001b[0m\n",
      "\u001b[35m[2022-11-27:21:29:07:INFO] No GPUs detected (normal if no gpus installed)\u001b[0m\n",
      "\u001b[35m[2022-11-27:21:29:07:INFO] No GPUs detected (normal if no gpus installed)\u001b[0m\n",
      "\u001b[35m[2022-11-27:21:29:07:INFO] nginx config: \u001b[0m\n",
      "\u001b[35mworker_processes auto;\u001b[0m\n",
      "\u001b[35mdaemon off;\u001b[0m\n",
      "\u001b[35mpid /tmp/nginx.pid;\u001b[0m\n",
      "\u001b[35merror_log  /dev/stderr;\u001b[0m\n",
      "\u001b[34mworker_rlimit_nofile 4096;\u001b[0m\n",
      "\u001b[34mevents {\n",
      "  worker_connections 2048;\u001b[0m\n",
      "\u001b[34m}\u001b[0m\n",
      "\u001b[34mhttp {\n",
      "  include /etc/nginx/mime.types;\n",
      "  default_type application/octet-stream;\n",
      "  access_log /dev/stdout combined;\n",
      "  upstream gunicorn {\n",
      "    server unix:/tmp/gunicorn.sock;\n",
      "  }\n",
      "  server {\n",
      "    listen 8080 deferred;\n",
      "    client_max_body_size 0;\n",
      "    keepalive_timeout 3;\n",
      "    location ~ ^/(ping|invocations|execution-parameters) {\n",
      "      proxy_set_header X-Forwarded-For $proxy_add_x_forwarded_for;\n",
      "      proxy_set_header Host $http_host;\n",
      "      proxy_redirect off;\n",
      "      proxy_read_timeout 60s;\n",
      "      proxy_pass http://gunicorn;\n",
      "    }\n",
      "    location / {\n",
      "      return 404 \"{}\";\n",
      "    }\n",
      "  }\u001b[0m\n",
      "\u001b[34m}\u001b[0m\n",
      "\u001b[34m[2022-11-27 21:29:07 +0000] [18] [INFO] Starting gunicorn 19.10.0\u001b[0m\n",
      "\u001b[34m[2022-11-27 21:29:07 +0000] [18] [INFO] Listening at: unix:/tmp/gunicorn.sock (18)\u001b[0m\n",
      "\u001b[34m[2022-11-27 21:29:07 +0000] [18] [INFO] Using worker: gevent\u001b[0m\n",
      "\u001b[35mworker_rlimit_nofile 4096;\u001b[0m\n",
      "\u001b[35mevents {\n",
      "  worker_connections 2048;\u001b[0m\n",
      "\u001b[35m}\u001b[0m\n",
      "\u001b[35mhttp {\n",
      "  include /etc/nginx/mime.types;\n",
      "  default_type application/octet-stream;\n",
      "  access_log /dev/stdout combined;\n",
      "  upstream gunicorn {\n",
      "    server unix:/tmp/gunicorn.sock;\n",
      "  }\n",
      "  server {\n",
      "    listen 8080 deferred;\n",
      "    client_max_body_size 0;\n",
      "    keepalive_timeout 3;\n",
      "    location ~ ^/(ping|invocations|execution-parameters) {\n",
      "      proxy_set_header X-Forwarded-For $proxy_add_x_forwarded_for;\n",
      "      proxy_set_header Host $http_host;\n",
      "      proxy_redirect off;\n",
      "      proxy_read_timeout 60s;\n",
      "      proxy_pass http://gunicorn;\n",
      "    }\n",
      "    location / {\n",
      "      return 404 \"{}\";\n",
      "    }\n",
      "  }\u001b[0m\n",
      "\u001b[35m}\u001b[0m\n",
      "\u001b[35m[2022-11-27 21:29:07 +0000] [18] [INFO] Starting gunicorn 19.10.0\u001b[0m\n",
      "\u001b[35m[2022-11-27 21:29:07 +0000] [18] [INFO] Listening at: unix:/tmp/gunicorn.sock (18)\u001b[0m\n",
      "\u001b[35m[2022-11-27 21:29:07 +0000] [18] [INFO] Using worker: gevent\u001b[0m\n",
      "\u001b[34m[2022-11-27 21:29:07 +0000] [25] [INFO] Booting worker with pid: 25\u001b[0m\n",
      "\u001b[34m[2022-11-27 21:29:07 +0000] [26] [INFO] Booting worker with pid: 26\u001b[0m\n",
      "\u001b[34m[2022-11-27 21:29:07 +0000] [27] [INFO] Booting worker with pid: 27\u001b[0m\n",
      "\u001b[34m[2022-11-27 21:29:07 +0000] [28] [INFO] Booting worker with pid: 28\u001b[0m\n",
      "\u001b[35m[2022-11-27 21:29:07 +0000] [25] [INFO] Booting worker with pid: 25\u001b[0m\n",
      "\u001b[35m[2022-11-27 21:29:07 +0000] [26] [INFO] Booting worker with pid: 26\u001b[0m\n",
      "\u001b[35m[2022-11-27 21:29:07 +0000] [27] [INFO] Booting worker with pid: 27\u001b[0m\n",
      "\u001b[35m[2022-11-27 21:29:07 +0000] [28] [INFO] Booting worker with pid: 28\u001b[0m\n",
      "\u001b[34m[2022-11-27:21:29:13:INFO] No GPUs detected (normal if no gpus installed)\u001b[0m\n",
      "\u001b[35m[2022-11-27:21:29:13:INFO] No GPUs detected (normal if no gpus installed)\u001b[0m\n",
      "\u001b[34m169.254.255.130 - - [27/Nov/2022:21:29:13 +0000] \"GET /ping HTTP/1.1\" 200 0 \"-\" \"Go-http-client/1.1\"\u001b[0m\n",
      "\u001b[34m[2022-11-27:21:29:13:INFO] No GPUs detected (normal if no gpus installed)\u001b[0m\n",
      "\u001b[34m169.254.255.130 - - [27/Nov/2022:21:29:13 +0000] \"GET /execution-parameters HTTP/1.1\" 200 84 \"-\" \"Go-http-client/1.1\"\u001b[0m\n",
      "\u001b[35m169.254.255.130 - - [27/Nov/2022:21:29:13 +0000] \"GET /ping HTTP/1.1\" 200 0 \"-\" \"Go-http-client/1.1\"\u001b[0m\n",
      "\u001b[35m[2022-11-27:21:29:13:INFO] No GPUs detected (normal if no gpus installed)\u001b[0m\n",
      "\u001b[35m169.254.255.130 - - [27/Nov/2022:21:29:13 +0000] \"GET /execution-parameters HTTP/1.1\" 200 84 \"-\" \"Go-http-client/1.1\"\u001b[0m\n",
      "\u001b[34m[2022-11-27:21:29:14:INFO] No GPUs detected (normal if no gpus installed)\u001b[0m\n",
      "\u001b[34m[2022-11-27:21:29:14:INFO] Determined delimiter of CSV input is ','\u001b[0m\n",
      "\u001b[34m[2022-11-27:21:29:14:INFO] Determined delimiter of CSV input is ','\u001b[0m\n",
      "\u001b[35m[2022-11-27:21:29:14:INFO] No GPUs detected (normal if no gpus installed)\u001b[0m\n",
      "\u001b[35m[2022-11-27:21:29:14:INFO] Determined delimiter of CSV input is ','\u001b[0m\n",
      "\u001b[35m[2022-11-27:21:29:14:INFO] Determined delimiter of CSV input is ','\u001b[0m\n",
      "\u001b[34m[2022-11-27:21:29:14:INFO] Determined delimiter of CSV input is ','\u001b[0m\n",
      "\u001b[34m[2022-11-27:21:29:15:INFO] No GPUs detected (normal if no gpus installed)\u001b[0m\n",
      "\u001b[34m[2022-11-27:21:29:15:INFO] Determined delimiter of CSV input is ','\u001b[0m\n",
      "\u001b[35m[2022-11-27:21:29:14:INFO] Determined delimiter of CSV input is ','\u001b[0m\n",
      "\u001b[35m[2022-11-27:21:29:15:INFO] No GPUs detected (normal if no gpus installed)\u001b[0m\n",
      "\u001b[35m[2022-11-27:21:29:15:INFO] Determined delimiter of CSV input is ','\u001b[0m\n",
      "\u001b[34m169.254.255.130 - - [27/Nov/2022:21:29:16 +0000] \"POST /invocations HTTP/1.1\" 200 151894 \"-\" \"Go-http-client/1.1\"\u001b[0m\n",
      "\u001b[34m169.254.255.130 - - [27/Nov/2022:21:29:16 +0000] \"POST /invocations HTTP/1.1\" 200 151877 \"-\" \"Go-http-client/1.1\"\u001b[0m\n",
      "\u001b[34m169.254.255.130 - - [27/Nov/2022:21:29:16 +0000] \"POST /invocations HTTP/1.1\" 200 151877 \"-\" \"Go-http-client/1.1\"\u001b[0m\n",
      "\u001b[34m[2022-11-27:21:29:16:INFO] Determined delimiter of CSV input is ','\u001b[0m\n",
      "\u001b[34m169.254.255.130 - - [27/Nov/2022:21:29:16 +0000] \"POST /invocations HTTP/1.1\" 200 12166 \"-\" \"Go-http-client/1.1\"\u001b[0m\n",
      "\u001b[34m169.254.255.130 - - [27/Nov/2022:21:29:16 +0000] \"POST /invocations HTTP/1.1\" 200 151860 \"-\" \"Go-http-client/1.1\"\u001b[0m\n",
      "\u001b[35m169.254.255.130 - - [27/Nov/2022:21:29:16 +0000] \"POST /invocations HTTP/1.1\" 200 151894 \"-\" \"Go-http-client/1.1\"\u001b[0m\n",
      "\u001b[35m169.254.255.130 - - [27/Nov/2022:21:29:16 +0000] \"POST /invocations HTTP/1.1\" 200 151877 \"-\" \"Go-http-client/1.1\"\u001b[0m\n",
      "\u001b[35m169.254.255.130 - - [27/Nov/2022:21:29:16 +0000] \"POST /invocations HTTP/1.1\" 200 151877 \"-\" \"Go-http-client/1.1\"\u001b[0m\n",
      "\u001b[35m[2022-11-27:21:29:16:INFO] Determined delimiter of CSV input is ','\u001b[0m\n",
      "\u001b[35m169.254.255.130 - - [27/Nov/2022:21:29:16 +0000] \"POST /invocations HTTP/1.1\" 200 12166 \"-\" \"Go-http-client/1.1\"\u001b[0m\n",
      "\u001b[35m169.254.255.130 - - [27/Nov/2022:21:29:16 +0000] \"POST /invocations HTTP/1.1\" 200 151860 \"-\" \"Go-http-client/1.1\"\u001b[0m\n",
      "\u001b[32m2022-11-27T21:29:13.974:[sagemaker logs]: MaxConcurrentTransforms=4, MaxPayloadInMB=6, BatchStrategy=MULTI_RECORD\u001b[0m\n"
     ]
    }
   ],
   "source": [
    "xgb_transformer.wait()"
   ]
  },
  {
   "cell_type": "markdown",
   "id": "91e76215",
   "metadata": {},
   "source": [
    "## Explorando os resultados"
   ]
  },
  {
   "cell_type": "code",
   "execution_count": 56,
   "id": "2df5d1fb",
   "metadata": {},
   "outputs": [
    {
     "data": {
      "text/html": [
       "<div>\n",
       "<style scoped>\n",
       "    .dataframe tbody tr th:only-of-type {\n",
       "        vertical-align: middle;\n",
       "    }\n",
       "\n",
       "    .dataframe tbody tr th {\n",
       "        vertical-align: top;\n",
       "    }\n",
       "\n",
       "    .dataframe thead th {\n",
       "        text-align: right;\n",
       "    }\n",
       "</style>\n",
       "<table border=\"1\" class=\"dataframe\">\n",
       "  <thead>\n",
       "    <tr style=\"text-align: right;\">\n",
       "      <th></th>\n",
       "      <th>class</th>\n",
       "    </tr>\n",
       "  </thead>\n",
       "  <tbody>\n",
       "    <tr>\n",
       "      <th>0</th>\n",
       "      <td>0.051363</td>\n",
       "    </tr>\n",
       "    <tr>\n",
       "      <th>1</th>\n",
       "      <td>0.055564</td>\n",
       "    </tr>\n",
       "    <tr>\n",
       "      <th>2</th>\n",
       "      <td>0.068542</td>\n",
       "    </tr>\n",
       "    <tr>\n",
       "      <th>3</th>\n",
       "      <td>0.014509</td>\n",
       "    </tr>\n",
       "    <tr>\n",
       "      <th>4</th>\n",
       "      <td>0.055072</td>\n",
       "    </tr>\n",
       "    <tr>\n",
       "      <th>5</th>\n",
       "      <td>0.171781</td>\n",
       "    </tr>\n",
       "    <tr>\n",
       "      <th>6</th>\n",
       "      <td>0.029474</td>\n",
       "    </tr>\n",
       "    <tr>\n",
       "      <th>7</th>\n",
       "      <td>0.056715</td>\n",
       "    </tr>\n",
       "    <tr>\n",
       "      <th>8</th>\n",
       "      <td>0.050838</td>\n",
       "    </tr>\n",
       "    <tr>\n",
       "      <th>9</th>\n",
       "      <td>0.023310</td>\n",
       "    </tr>\n",
       "    <tr>\n",
       "      <th>10</th>\n",
       "      <td>0.009413</td>\n",
       "    </tr>\n",
       "    <tr>\n",
       "      <th>11</th>\n",
       "      <td>0.026412</td>\n",
       "    </tr>\n",
       "    <tr>\n",
       "      <th>12</th>\n",
       "      <td>0.014788</td>\n",
       "    </tr>\n",
       "    <tr>\n",
       "      <th>13</th>\n",
       "      <td>0.015348</td>\n",
       "    </tr>\n",
       "    <tr>\n",
       "      <th>14</th>\n",
       "      <td>0.046561</td>\n",
       "    </tr>\n",
       "  </tbody>\n",
       "</table>\n",
       "</div>"
      ],
      "text/plain": [
       "       class\n",
       "0   0.051363\n",
       "1   0.055564\n",
       "2   0.068542\n",
       "3   0.014509\n",
       "4   0.055072\n",
       "5   0.171781\n",
       "6   0.029474\n",
       "7   0.056715\n",
       "8   0.050838\n",
       "9   0.023310\n",
       "10  0.009413\n",
       "11  0.026412\n",
       "12  0.014788\n",
       "13  0.015348\n",
       "14  0.046561"
      ]
     },
     "execution_count": 56,
     "metadata": {},
     "output_type": "execute_result"
    }
   ],
   "source": [
    "s3 = boto3.client('s3')\n",
    "obj = s3.get_object(Bucket=bucket, Key=\"{}/batch-out/{}\".format(prefix,'batch-in.csv.out'))\n",
    "target_predicted = pd.read_csv(io.BytesIO(obj['Body'].read()),',',names=['class'])\n",
    "target_predicted.head(15)"
   ]
  },
  {
   "cell_type": "code",
   "execution_count": 57,
   "id": "91bd3d93",
   "metadata": {},
   "outputs": [],
   "source": [
    "def binary_convert(x):\n",
    "    threshold = 0.3\n",
    "    if x > threshold:\n",
    "        return 1\n",
    "    else:\n",
    "        return 0"
   ]
  },
  {
   "cell_type": "code",
   "execution_count": 58,
   "id": "fc4dc231",
   "metadata": {},
   "outputs": [],
   "source": [
    "target_predicted_binary = target_predicted['class'].apply(binary_convert)"
   ]
  },
  {
   "cell_type": "markdown",
   "id": "ddc38266",
   "metadata": {},
   "source": [
    "OBS: A primeira saída da tabela serão os _predicted values_ (valores\n",
    "previstos), e a segunda saída da tabela serão os _original test data_\n",
    "(dados de teste originais)."
   ]
  },
  {
   "cell_type": "code",
   "execution_count": 59,
   "id": "bd1c9d44",
   "metadata": {},
   "outputs": [
    {
     "name": "stdout",
     "output_type": "stream",
     "text": [
      "0    0\n",
      "1    0\n",
      "2    0\n",
      "3    0\n",
      "4    0\n",
      "Name: class, dtype: int64\n"
     ]
    },
    {
     "data": {
      "text/html": [
       "<div>\n",
       "<style scoped>\n",
       "    .dataframe tbody tr th:only-of-type {\n",
       "        vertical-align: middle;\n",
       "    }\n",
       "\n",
       "    .dataframe tbody tr th {\n",
       "        vertical-align: top;\n",
       "    }\n",
       "\n",
       "    .dataframe thead th {\n",
       "        text-align: right;\n",
       "    }\n",
       "</style>\n",
       "<table border=\"1\" class=\"dataframe\">\n",
       "  <thead>\n",
       "    <tr style=\"text-align: right;\">\n",
       "      <th></th>\n",
       "      <th>TARGET</th>\n",
       "      <th>SK_ID_CURR</th>\n",
       "      <th>NAME_CONTRACT_TYPE</th>\n",
       "      <th>FLAG_OWN_CAR</th>\n",
       "      <th>FLAG_OWN_REALTY</th>\n",
       "      <th>AMT_CREDIT</th>\n",
       "      <th>AMT_GOODS_PRICE</th>\n",
       "      <th>REGION_POPULATION_RELATIVE</th>\n",
       "      <th>DAYS_BIRTH</th>\n",
       "      <th>DAYS_EMPLOYED</th>\n",
       "      <th>...</th>\n",
       "      <th>ORGANIZATION_TYPE_XNA</th>\n",
       "      <th>FONDKAPREMONT_MODE_not specified</th>\n",
       "      <th>FONDKAPREMONT_MODE_org spec account</th>\n",
       "      <th>FONDKAPREMONT_MODE_reg oper account</th>\n",
       "      <th>FONDKAPREMONT_MODE_reg oper spec account</th>\n",
       "      <th>HOUSETYPE_MODE_block of flats</th>\n",
       "      <th>HOUSETYPE_MODE_specific housing</th>\n",
       "      <th>HOUSETYPE_MODE_terraced house</th>\n",
       "      <th>EMERGENCYSTATE_MODE_No</th>\n",
       "      <th>EMERGENCYSTATE_MODE_Yes</th>\n",
       "    </tr>\n",
       "  </thead>\n",
       "  <tbody>\n",
       "    <tr>\n",
       "      <th>133535</th>\n",
       "      <td>0.0</td>\n",
       "      <td>0.434725</td>\n",
       "      <td>0.0</td>\n",
       "      <td>0.0</td>\n",
       "      <td>1.0</td>\n",
       "      <td>0.067582</td>\n",
       "      <td>0.062851</td>\n",
       "      <td>1.000000</td>\n",
       "      <td>0.366234</td>\n",
       "      <td>0.034837</td>\n",
       "      <td>...</td>\n",
       "      <td>0.0</td>\n",
       "      <td>0.0</td>\n",
       "      <td>0.0</td>\n",
       "      <td>1.0</td>\n",
       "      <td>0.0</td>\n",
       "      <td>1.0</td>\n",
       "      <td>0.0</td>\n",
       "      <td>0.0</td>\n",
       "      <td>1.0</td>\n",
       "      <td>0.0</td>\n",
       "    </tr>\n",
       "    <tr>\n",
       "      <th>158392</th>\n",
       "      <td>0.0</td>\n",
       "      <td>0.515417</td>\n",
       "      <td>0.0</td>\n",
       "      <td>1.0</td>\n",
       "      <td>0.0</td>\n",
       "      <td>0.262200</td>\n",
       "      <td>0.248036</td>\n",
       "      <td>0.134897</td>\n",
       "      <td>0.423901</td>\n",
       "      <td>0.037176</td>\n",
       "      <td>...</td>\n",
       "      <td>0.0</td>\n",
       "      <td>0.0</td>\n",
       "      <td>0.0</td>\n",
       "      <td>0.0</td>\n",
       "      <td>0.0</td>\n",
       "      <td>1.0</td>\n",
       "      <td>0.0</td>\n",
       "      <td>0.0</td>\n",
       "      <td>1.0</td>\n",
       "      <td>0.0</td>\n",
       "    </tr>\n",
       "    <tr>\n",
       "      <th>6922</th>\n",
       "      <td>0.0</td>\n",
       "      <td>0.022630</td>\n",
       "      <td>1.0</td>\n",
       "      <td>1.0</td>\n",
       "      <td>1.0</td>\n",
       "      <td>0.073034</td>\n",
       "      <td>0.074074</td>\n",
       "      <td>0.129705</td>\n",
       "      <td>0.232018</td>\n",
       "      <td>0.045598</td>\n",
       "      <td>...</td>\n",
       "      <td>0.0</td>\n",
       "      <td>0.0</td>\n",
       "      <td>0.0</td>\n",
       "      <td>0.0</td>\n",
       "      <td>0.0</td>\n",
       "      <td>0.0</td>\n",
       "      <td>0.0</td>\n",
       "      <td>0.0</td>\n",
       "      <td>0.0</td>\n",
       "      <td>0.0</td>\n",
       "    </tr>\n",
       "    <tr>\n",
       "      <th>63020</th>\n",
       "      <td>0.0</td>\n",
       "      <td>0.205174</td>\n",
       "      <td>0.0</td>\n",
       "      <td>0.0</td>\n",
       "      <td>0.0</td>\n",
       "      <td>0.509393</td>\n",
       "      <td>0.438833</td>\n",
       "      <td>1.000000</td>\n",
       "      <td>0.413191</td>\n",
       "      <td>0.046214</td>\n",
       "      <td>...</td>\n",
       "      <td>0.0</td>\n",
       "      <td>0.0</td>\n",
       "      <td>0.0</td>\n",
       "      <td>0.0</td>\n",
       "      <td>0.0</td>\n",
       "      <td>1.0</td>\n",
       "      <td>0.0</td>\n",
       "      <td>0.0</td>\n",
       "      <td>1.0</td>\n",
       "      <td>0.0</td>\n",
       "    </tr>\n",
       "    <tr>\n",
       "      <th>84644</th>\n",
       "      <td>0.0</td>\n",
       "      <td>0.275650</td>\n",
       "      <td>0.0</td>\n",
       "      <td>0.0</td>\n",
       "      <td>1.0</td>\n",
       "      <td>0.318170</td>\n",
       "      <td>0.277217</td>\n",
       "      <td>0.090864</td>\n",
       "      <td>0.510936</td>\n",
       "      <td>0.025830</td>\n",
       "      <td>...</td>\n",
       "      <td>0.0</td>\n",
       "      <td>0.0</td>\n",
       "      <td>0.0</td>\n",
       "      <td>0.0</td>\n",
       "      <td>0.0</td>\n",
       "      <td>0.0</td>\n",
       "      <td>0.0</td>\n",
       "      <td>0.0</td>\n",
       "      <td>0.0</td>\n",
       "      <td>0.0</td>\n",
       "    </tr>\n",
       "  </tbody>\n",
       "</table>\n",
       "<p>5 rows × 155 columns</p>\n",
       "</div>"
      ],
      "text/plain": [
       "        TARGET  SK_ID_CURR  NAME_CONTRACT_TYPE  FLAG_OWN_CAR  FLAG_OWN_REALTY  \\\n",
       "133535     0.0    0.434725                 0.0           0.0              1.0   \n",
       "158392     0.0    0.515417                 0.0           1.0              0.0   \n",
       "6922       0.0    0.022630                 1.0           1.0              1.0   \n",
       "63020      0.0    0.205174                 0.0           0.0              0.0   \n",
       "84644      0.0    0.275650                 0.0           0.0              1.0   \n",
       "\n",
       "        AMT_CREDIT  AMT_GOODS_PRICE  REGION_POPULATION_RELATIVE  DAYS_BIRTH  \\\n",
       "133535    0.067582         0.062851                    1.000000    0.366234   \n",
       "158392    0.262200         0.248036                    0.134897    0.423901   \n",
       "6922      0.073034         0.074074                    0.129705    0.232018   \n",
       "63020     0.509393         0.438833                    1.000000    0.413191   \n",
       "84644     0.318170         0.277217                    0.090864    0.510936   \n",
       "\n",
       "        DAYS_EMPLOYED  ...  ORGANIZATION_TYPE_XNA  \\\n",
       "133535       0.034837  ...                    0.0   \n",
       "158392       0.037176  ...                    0.0   \n",
       "6922         0.045598  ...                    0.0   \n",
       "63020        0.046214  ...                    0.0   \n",
       "84644        0.025830  ...                    0.0   \n",
       "\n",
       "        FONDKAPREMONT_MODE_not specified  FONDKAPREMONT_MODE_org spec account  \\\n",
       "133535                               0.0                                  0.0   \n",
       "158392                               0.0                                  0.0   \n",
       "6922                                 0.0                                  0.0   \n",
       "63020                                0.0                                  0.0   \n",
       "84644                                0.0                                  0.0   \n",
       "\n",
       "        FONDKAPREMONT_MODE_reg oper account  \\\n",
       "133535                                  1.0   \n",
       "158392                                  0.0   \n",
       "6922                                    0.0   \n",
       "63020                                   0.0   \n",
       "84644                                   0.0   \n",
       "\n",
       "        FONDKAPREMONT_MODE_reg oper spec account  \\\n",
       "133535                                       0.0   \n",
       "158392                                       0.0   \n",
       "6922                                         0.0   \n",
       "63020                                        0.0   \n",
       "84644                                        0.0   \n",
       "\n",
       "        HOUSETYPE_MODE_block of flats  HOUSETYPE_MODE_specific housing  \\\n",
       "133535                            1.0                              0.0   \n",
       "158392                            1.0                              0.0   \n",
       "6922                              0.0                              0.0   \n",
       "63020                             1.0                              0.0   \n",
       "84644                             0.0                              0.0   \n",
       "\n",
       "        HOUSETYPE_MODE_terraced house  EMERGENCYSTATE_MODE_No  \\\n",
       "133535                            0.0                     1.0   \n",
       "158392                            0.0                     1.0   \n",
       "6922                              0.0                     0.0   \n",
       "63020                             0.0                     1.0   \n",
       "84644                             0.0                     0.0   \n",
       "\n",
       "        EMERGENCYSTATE_MODE_Yes  \n",
       "133535                      0.0  \n",
       "158392                      0.0  \n",
       "6922                        0.0  \n",
       "63020                       0.0  \n",
       "84644                       0.0  \n",
       "\n",
       "[5 rows x 155 columns]"
      ]
     },
     "execution_count": 59,
     "metadata": {},
     "output_type": "execute_result"
    }
   ],
   "source": [
    "print(target_predicted_binary.head(5))\n",
    "test.head(5)"
   ]
  },
  {
   "cell_type": "markdown",
   "id": "ce0bab91",
   "metadata": {},
   "source": [
    "## Criando de uma matriz de confusão (confusion matrix)"
   ]
  },
  {
   "cell_type": "code",
   "execution_count": 60,
   "id": "de4dd086",
   "metadata": {},
   "outputs": [
    {
     "data": {
      "text/plain": [
       "133535    0.0\n",
       "158392    0.0\n",
       "6922      0.0\n",
       "63020     0.0\n",
       "84644     0.0\n",
       "Name: TARGET, dtype: float64"
      ]
     },
     "execution_count": 60,
     "metadata": {},
     "output_type": "execute_result"
    }
   ],
   "source": [
    "test_labels = test.iloc[:,0]\n",
    "test_labels.head()"
   ]
  },
  {
   "cell_type": "code",
   "execution_count": 61,
   "id": "108948c4",
   "metadata": {},
   "outputs": [],
   "source": [
    "from sklearn.metrics import confusion_matrix"
   ]
  },
  {
   "cell_type": "code",
   "execution_count": 62,
   "id": "4833cd21",
   "metadata": {},
   "outputs": [],
   "source": [
    "matrix = confusion_matrix(test_labels, target_predicted_binary)\n",
    "df_confusion = pd.DataFrame(matrix, index=['Reembolsa','Não reembolsa'],columns=['Reembolsa','Não reembolsa'])"
   ]
  },
  {
   "cell_type": "code",
   "execution_count": 63,
   "id": "60404d4c",
   "metadata": {},
   "outputs": [
    {
     "data": {
      "text/html": [
       "<div>\n",
       "<style scoped>\n",
       "    .dataframe tbody tr th:only-of-type {\n",
       "        vertical-align: middle;\n",
       "    }\n",
       "\n",
       "    .dataframe tbody tr th {\n",
       "        vertical-align: top;\n",
       "    }\n",
       "\n",
       "    .dataframe thead th {\n",
       "        text-align: right;\n",
       "    }\n",
       "</style>\n",
       "<table border=\"1\" class=\"dataframe\">\n",
       "  <thead>\n",
       "    <tr style=\"text-align: right;\">\n",
       "      <th></th>\n",
       "      <th>Reembolsa</th>\n",
       "      <th>Não reembolsa</th>\n",
       "    </tr>\n",
       "  </thead>\n",
       "  <tbody>\n",
       "    <tr>\n",
       "      <th>Reembolsa</th>\n",
       "      <td>27743</td>\n",
       "      <td>526</td>\n",
       "    </tr>\n",
       "    <tr>\n",
       "      <th>Não reembolsa</th>\n",
       "      <td>2156</td>\n",
       "      <td>326</td>\n",
       "    </tr>\n",
       "  </tbody>\n",
       "</table>\n",
       "</div>"
      ],
      "text/plain": [
       "               Reembolsa  Não reembolsa\n",
       "Reembolsa          27743            526\n",
       "Não reembolsa       2156            326"
      ]
     },
     "execution_count": 63,
     "metadata": {},
     "output_type": "execute_result"
    }
   ],
   "source": [
    "df_confusion"
   ]
  },
  {
   "cell_type": "code",
   "execution_count": 64,
   "id": "1a9702c1",
   "metadata": {},
   "outputs": [],
   "source": [
    "import seaborn as sns\n",
    "import matplotlib.pyplot as plt"
   ]
  },
  {
   "cell_type": "code",
   "execution_count": 65,
   "id": "9990e393",
   "metadata": {},
   "outputs": [
    {
     "data": {
      "image/png": "[encoded data removed]",
      "text/plain": [
       "<Figure size 432x288 with 1 Axes>"
      ]
     },
     "metadata": {
      "needs_background": "light"
     },
     "output_type": "display_data"
    }
   ],
   "source": [
    "colormap = sns.color_palette(\"BrBG\", 10)\n",
    "sns.heatmap(df_confusion, annot=True, cbar=None, cmap=colormap)\n",
    "plt.title(\"Confusion Matrix\")\n",
    "plt.tight_layout()\n",
    "plt.ylabel(\"True Class\")\n",
    "plt.xlabel(\"Predicted Class\")\n",
    "plt.show()"
   ]
  },
  {
   "cell_type": "markdown",
   "id": "8dd83f50",
   "metadata": {},
   "source": [
    "## Cálculo dos dados estatísticos de desempenho"
   ]
  },
  {
   "cell_type": "code",
   "execution_count": 66,
   "id": "0e948397",
   "metadata": {},
   "outputs": [],
   "source": [
    "from sklearn.metrics import roc_auc_score, roc_curve, auc"
   ]
  },
  {
   "cell_type": "code",
   "execution_count": 67,
   "id": "69f4fb97",
   "metadata": {},
   "outputs": [],
   "source": [
    "TN, FP, FN, TP = confusion_matrix(test_labels, target_predicted_binary).ravel()"
   ]
  },
  {
   "cell_type": "code",
   "execution_count": 68,
   "id": "5c26b28a",
   "metadata": {},
   "outputs": [
    {
     "name": "stdout",
     "output_type": "stream",
     "text": [
      "True Negative (TN) : 27743\n",
      "False Positive (FP): 526\n",
      "False Negative (FN): 2156\n",
      "True Positive (TP) : 326\n"
     ]
    }
   ],
   "source": [
    "print(f\"True Negative (TN) : {TN}\")\n",
    "print(f\"False Positive (FP): {FP}\")\n",
    "print(f\"False Negative (FN): {FN}\")\n",
    "print(f\"True Positive (TP) : {TP}\")"
   ]
  },
  {
   "cell_type": "code",
   "execution_count": 69,
   "id": "974129ac",
   "metadata": {},
   "outputs": [
    {
     "name": "stdout",
     "output_type": "stream",
     "text": [
      "Sensitivity or TPR: 13.13456889605157%\n",
      "There is a 13.13456889605157% chance of detecting patients with an abnormality have an abnormality\n"
     ]
    }
   ],
   "source": [
    "# Sensitivity, hit rate, recall, or true positive rate\n",
    "Sensitivity  = float(TP)/(TP+FN)*100\n",
    "print(f\"Sensitivity or TPR: {Sensitivity}%\")  \n",
    "print(f\"There is a {Sensitivity}% chance of detecting patients with an abnormality have an abnormality\")"
   ]
  },
  {
   "cell_type": "code",
   "execution_count": 70,
   "id": "beedd08b",
   "metadata": {},
   "outputs": [
    {
     "name": "stdout",
     "output_type": "stream",
     "text": [
      "Specificity or TNR: 98.13930453854044%\n",
      "There is a 98.13930453854044% chance of detecting normal patients are normal.\n"
     ]
    }
   ],
   "source": [
    "# Specificity or true negative rate\n",
    "Specificity  = float(TN)/(TN+FP)*100\n",
    "print(f\"Specificity or TNR: {Specificity}%\") \n",
    "print(f\"There is a {Specificity}% chance of detecting normal patients are normal.\")"
   ]
  },
  {
   "cell_type": "code",
   "execution_count": 71,
   "id": "fc00dcbc",
   "metadata": {},
   "outputs": [
    {
     "name": "stdout",
     "output_type": "stream",
     "text": [
      "Precision: 38.26291079812207%\n",
      "You have an abnormality, and the probablity that is correct is 38.26291079812207%\n"
     ]
    }
   ],
   "source": [
    "# Precision or positive predictive value\n",
    "Precision = float(TP)/(TP+FP)*100\n",
    "print(f\"Precision: {Precision}%\")  \n",
    "print(f\"You have an abnormality, and the probablity that is correct is {Precision}%\")"
   ]
  },
  {
   "cell_type": "code",
   "execution_count": 72,
   "id": "e1fcdbae",
   "metadata": {},
   "outputs": [
    {
     "name": "stdout",
     "output_type": "stream",
     "text": [
      "Negative Predictive Value: 92.78905649018363%\n",
      "You don't have an abnormality, but there is a 92.78905649018363% chance that is incorrect\n"
     ]
    }
   ],
   "source": [
    "# Negative predictive value\n",
    "NPV = float(TN)/(TN+FN)*100\n",
    "print(f\"Negative Predictive Value: {NPV}%\") \n",
    "print(f\"You don't have an abnormality, but there is a {NPV}% chance that is incorrect\" )"
   ]
  },
  {
   "cell_type": "code",
   "execution_count": 73,
   "id": "963cfc2a",
   "metadata": {},
   "outputs": [
    {
     "name": "stdout",
     "output_type": "stream",
     "text": [
      "False Positive Rate: 1.8606954614595494%\n",
      "There is a 1.8606954614595494% chance that this positive result is incorrect.\n"
     ]
    }
   ],
   "source": [
    "# Fall out or false positive rate\n",
    "FPR = float(FP)/(FP+TN)*100\n",
    "print( f\"False Positive Rate: {FPR}%\") \n",
    "print( f\"There is a {FPR}% chance that this positive result is incorrect.\")"
   ]
  },
  {
   "cell_type": "code",
   "execution_count": 74,
   "id": "638a3660",
   "metadata": {},
   "outputs": [
    {
     "name": "stdout",
     "output_type": "stream",
     "text": [
      "False Negative Rate: 86.86543110394844%\n",
      "There is a 86.86543110394844% chance that this negative result is incorrect.\n"
     ]
    }
   ],
   "source": [
    "# False negative rate\n",
    "FNR = float(FN)/(TP+FN)*100\n",
    "print(f\"False Negative Rate: {FNR}%\") \n",
    "print(f\"There is a {FNR}% chance that this negative result is incorrect.\")"
   ]
  },
  {
   "cell_type": "code",
   "execution_count": 75,
   "id": "a9943012",
   "metadata": {},
   "outputs": [
    {
     "name": "stdout",
     "output_type": "stream",
     "text": [
      "False Discovery Rate: 61.737089201877936%\n",
      "You have an abnormality, but there is a 61.737089201877936% chance this is incorrect.\n"
     ]
    }
   ],
   "source": [
    "# False discovery rate\n",
    "FDR = float(FP)/(TP+FP)*100\n",
    "print(f\"False Discovery Rate: {FDR}%\" )\n",
    "print(f\"You have an abnormality, but there is a {FDR}% chance this is incorrect.\")"
   ]
  },
  {
   "cell_type": "code",
   "execution_count": 76,
   "id": "29549cc0",
   "metadata": {},
   "outputs": [
    {
     "name": "stdout",
     "output_type": "stream",
     "text": [
      "Accuracy: 91.27833241195408%\n"
     ]
    }
   ],
   "source": [
    "# Overall accuracy\n",
    "ACC = float(TP+TN)/(TP+FP+FN+TN)*100\n",
    "print(f\"Accuracy: {ACC}%\") "
   ]
  },
  {
   "cell_type": "code",
   "execution_count": 77,
   "id": "e732a5b5",
   "metadata": {},
   "outputs": [
    {
     "name": "stdout",
     "output_type": "stream",
     "text": [
      "Sensitivity or TPR: 13.13456889605157%\n",
      "Specificity or TNR: 98.13930453854044%\n",
      "Precision: 38.26291079812207%\n",
      "Negative Predictive Value: 92.78905649018363%\n",
      "False Positive Rate: 1.8606954614595494%\n",
      "False Negative Rate: 86.86543110394844%\n",
      "False Discovery Rate: 61.737089201877936%\n",
      "Accuracy: 91.27833241195408%\n"
     ]
    }
   ],
   "source": [
    "print(f\"Sensitivity or TPR: {Sensitivity}%\")    \n",
    "print(f\"Specificity or TNR: {Specificity}%\") \n",
    "print(f\"Precision: {Precision}%\")   \n",
    "print(f\"Negative Predictive Value: {NPV}%\")  \n",
    "print( f\"False Positive Rate: {FPR}%\") \n",
    "print(f\"False Negative Rate: {FNR}%\")  \n",
    "print(f\"False Discovery Rate: {FDR}%\" )\n",
    "print(f\"Accuracy: {ACC}%\")"
   ]
  },
  {
   "cell_type": "markdown",
   "id": "6c018adb",
   "metadata": {},
   "source": [
    "## Cálculo do AUC-ROC"
   ]
  },
  {
   "cell_type": "code",
   "execution_count": 78,
   "id": "688f5d0f",
   "metadata": {},
   "outputs": [
    {
     "name": "stdout",
     "output_type": "stream",
     "text": [
      "Validation AUC 0.7500147369739474\n"
     ]
    }
   ],
   "source": [
    "test_labels = test.iloc[:,0];\n",
    "print(\"Validation AUC\", roc_auc_score(test_labels, target_predicted) )"
   ]
  },
  {
   "cell_type": "code",
   "execution_count": 79,
   "id": "f399c912",
   "metadata": {},
   "outputs": [],
   "source": [
    "fpr, tpr, thresholds = roc_curve(test_labels, target_predicted)\n",
    "roc_auc = auc(fpr, tpr)"
   ]
  },
  {
   "cell_type": "code",
   "execution_count": 80,
   "id": "a98b1060",
   "metadata": {},
   "outputs": [
    {
     "data": {
      "text/plain": [
       "<matplotlib.legend.Legend at 0x7f5417343b80>"
      ]
     },
     "execution_count": 80,
     "metadata": {},
     "output_type": "execute_result"
    },
    {
     "data": {
      "image/png": "[encoded data removed]",
      "text/plain": [
       "<Figure size 432x288 with 1 Axes>"
      ]
     },
     "metadata": {
      "needs_background": "light"
     },
     "output_type": "display_data"
    }
   ],
   "source": [
    "plt.figure()\n",
    "plt.plot(fpr, tpr, label='ROC curve (area = %0.2f)' % (roc_auc))\n",
    "plt.plot([0, 1], [0, 1], 'k--')\n",
    "plt.xlim([0.0, 1.0])\n",
    "plt.ylim([0.0, 1.05])\n",
    "plt.xlabel('False Positive Rate')\n",
    "plt.ylabel('True Positive Rate')\n",
    "plt.title('Receiver operating characteristic')\n",
    "plt.legend(loc=\"lower right\")"
   ]
  },
  {
   "cell_type": "code",
   "execution_count": 81,
   "id": "980ad314",
   "metadata": {},
   "outputs": [
    {
     "data": {
      "text/plain": [
       "(0.0, 1.0)"
      ]
     },
     "execution_count": 81,
     "metadata": {},
     "output_type": "execute_result"
    },
    {
     "data": {
      "image/png": "[encoded data removed]",
      "text/plain": [
       "<Figure size 432x288 with 2 Axes>"
      ]
     },
     "metadata": {
      "needs_background": "light"
     },
     "output_type": "display_data"
    }
   ],
   "source": [
    "# create the axis of thresholds (scores)\n",
    "ax2 = plt.gca().twinx()\n",
    "ax2.plot(fpr, thresholds, markeredgecolor='r',linestyle='dashed', color='r')\n",
    "ax2.set_ylabel('Threshold',color='r')\n",
    "ax2.set_ylim([thresholds[-1],thresholds[0]])\n",
    "ax2.set_xlim([fpr[0],fpr[-1]])"
   ]
  },
  {
   "cell_type": "code",
   "execution_count": 82,
   "id": "df94f7e6",
   "metadata": {},
   "outputs": [
    {
     "name": "stdout",
     "output_type": "stream",
     "text": [
      "Figure(432x288)\n"
     ]
    },
    {
     "data": {
      "text/plain": [
       "<Figure size 432x288 with 0 Axes>"
      ]
     },
     "metadata": {},
     "output_type": "display_data"
    }
   ],
   "source": [
    "print(plt.figure())"
   ]
  },
  {
   "cell_type": "markdown",
   "id": "e05ffecc",
   "metadata": {},
   "source": [
    "## Ajuste dos hiperparâmetros"
   ]
  },
  {
   "cell_type": "code",
   "execution_count": 83,
   "id": "923580a3",
   "metadata": {},
   "outputs": [
    {
     "name": "stderr",
     "output_type": "stream",
     "text": [
      "No finished training job found associated with this estimator. Please make sure this estimator is only used for building workflow config\n",
      "No finished training job found associated with this estimator. Please make sure this estimator is only used for building workflow config\n"
     ]
    },
    {
     "name": "stdout",
     "output_type": "stream",
     "text": [
      "......................................................................................................................................................................................................................................................................!\n",
      "!\n",
      "CPU times: user 1.18 s, sys: 129 ms, total: 1.31 s\n",
      "Wall time: 22min 6s\n"
     ]
    }
   ],
   "source": [
    "%%time\n",
    "from sagemaker.tuner import IntegerParameter, CategoricalParameter, ContinuousParameter, HyperparameterTuner\n",
    "\n",
    "xgb = sagemaker.estimator.Estimator(container,\n",
    "                                    role=sagemaker.get_execution_role(), \n",
    "                                    instance_count= 1, # make sure you have limit set for these instances\n",
    "                                    instance_type='ml.m4.xlarge', \n",
    "                                    output_path='s3://{}/{}/output'.format(bucket, prefix),\n",
    "                                    sagemaker_session=sagemaker.Session())\n",
    "\n",
    "\n",
    "xgb.set_hyperparameters(eval_metric='error@.40',\n",
    "                        objective='binary:logistic',\n",
    "                        num_round=42)\n",
    "\n",
    "hyperparameter_ranges = {'alpha': ContinuousParameter(0, 100),\n",
    "                         'min_child_weight': ContinuousParameter(1, 5),\n",
    "                         'subsample': ContinuousParameter(0.5, 1),\n",
    "                         'eta': ContinuousParameter(0.1, 0.3),  \n",
    "                         'num_round': IntegerParameter(1,50)\n",
    "                         }\n",
    "\n",
    "objective_metric_name = 'validation:error'\n",
    "objective_type = 'Minimize'\n",
    "\n",
    "tuner = HyperparameterTuner(xgb,\n",
    "                            objective_metric_name,\n",
    "                            hyperparameter_ranges,\n",
    "                            max_jobs=10, # Set this to 10 or above depending upon budget & available time.\n",
    "                            max_parallel_jobs=1,\n",
    "                            objective_type=objective_type,\n",
    "                            early_stopping_type='Auto')\n",
    "\n",
    "tuner.fit(inputs=data_channels, include_cls_metadata=False)\n",
    "tuner.wait()"
   ]
  },
  {
   "cell_type": "code",
   "execution_count": 84,
   "id": "0606c8ca",
   "metadata": {},
   "outputs": [
    {
     "data": {
      "text/plain": [
       "'Completed'"
      ]
     },
     "execution_count": 84,
     "metadata": {},
     "output_type": "execute_result"
    }
   ],
   "source": [
    "boto3.client('sagemaker').describe_hyper_parameter_tuning_job(\n",
    "    HyperParameterTuningJobName=tuner.latest_tuning_job.job_name)['HyperParameterTuningJobStatus']"
   ]
  },
  {
   "cell_type": "markdown",
   "id": "78d72df7",
   "metadata": {},
   "source": [
    "## Verificando o resultado do ajuste de hiperparâmetros (tuning jobs)"
   ]
  },
  {
   "cell_type": "code",
   "execution_count": 85,
   "id": "8475be28",
   "metadata": {},
   "outputs": [
    {
     "data": {
      "text/html": [
       "<div>\n",
       "<style scoped>\n",
       "    .dataframe tbody tr th:only-of-type {\n",
       "        vertical-align: middle;\n",
       "    }\n",
       "\n",
       "    .dataframe tbody tr th {\n",
       "        vertical-align: top;\n",
       "    }\n",
       "\n",
       "    .dataframe thead th {\n",
       "        text-align: right;\n",
       "    }\n",
       "</style>\n",
       "<table border=\"1\" class=\"dataframe\">\n",
       "  <thead>\n",
       "    <tr style=\"text-align: right;\">\n",
       "      <th></th>\n",
       "      <th>alpha</th>\n",
       "      <th>eta</th>\n",
       "      <th>min_child_weight</th>\n",
       "      <th>num_round</th>\n",
       "      <th>subsample</th>\n",
       "      <th>TrainingJobName</th>\n",
       "      <th>TrainingJobStatus</th>\n",
       "      <th>FinalObjectiveValue</th>\n",
       "      <th>TrainingStartTime</th>\n",
       "      <th>TrainingEndTime</th>\n",
       "      <th>TrainingElapsedTimeSeconds</th>\n",
       "    </tr>\n",
       "  </thead>\n",
       "  <tbody>\n",
       "    <tr>\n",
       "      <th>1</th>\n",
       "      <td>68.756530</td>\n",
       "      <td>0.235254</td>\n",
       "      <td>1.876447</td>\n",
       "      <td>49.0</td>\n",
       "      <td>0.569299</td>\n",
       "      <td>sagemaker-xgboost-221127-2129-009-f22c52b0</td>\n",
       "      <td>Stopped</td>\n",
       "      <td>0.07993</td>\n",
       "      <td>2022-11-27 21:48:25+00:00</td>\n",
       "      <td>2022-11-27 21:49:54+00:00</td>\n",
       "      <td>89.0</td>\n",
       "    </tr>\n",
       "    <tr>\n",
       "      <th>6</th>\n",
       "      <td>79.712398</td>\n",
       "      <td>0.285719</td>\n",
       "      <td>3.441795</td>\n",
       "      <td>44.0</td>\n",
       "      <td>0.547216</td>\n",
       "      <td>sagemaker-xgboost-221127-2129-004-35ef4dc2</td>\n",
       "      <td>Completed</td>\n",
       "      <td>0.07999</td>\n",
       "      <td>2022-11-27 21:37:17+00:00</td>\n",
       "      <td>2022-11-27 21:38:49+00:00</td>\n",
       "      <td>92.0</td>\n",
       "    </tr>\n",
       "    <tr>\n",
       "      <th>0</th>\n",
       "      <td>58.418583</td>\n",
       "      <td>0.259008</td>\n",
       "      <td>3.060715</td>\n",
       "      <td>50.0</td>\n",
       "      <td>0.833525</td>\n",
       "      <td>sagemaker-xgboost-221127-2129-010-af6a1941</td>\n",
       "      <td>Completed</td>\n",
       "      <td>0.08009</td>\n",
       "      <td>2022-11-27 21:50:07+00:00</td>\n",
       "      <td>2022-11-27 21:51:44+00:00</td>\n",
       "      <td>97.0</td>\n",
       "    </tr>\n",
       "    <tr>\n",
       "      <th>3</th>\n",
       "      <td>27.493176</td>\n",
       "      <td>0.295056</td>\n",
       "      <td>3.509944</td>\n",
       "      <td>35.0</td>\n",
       "      <td>0.789321</td>\n",
       "      <td>sagemaker-xgboost-221127-2129-007-478b4f66</td>\n",
       "      <td>Completed</td>\n",
       "      <td>0.08009</td>\n",
       "      <td>2022-11-27 21:45:40+00:00</td>\n",
       "      <td>2022-11-27 21:46:58+00:00</td>\n",
       "      <td>78.0</td>\n",
       "    </tr>\n",
       "    <tr>\n",
       "      <th>5</th>\n",
       "      <td>50.726297</td>\n",
       "      <td>0.225795</td>\n",
       "      <td>1.083899</td>\n",
       "      <td>35.0</td>\n",
       "      <td>0.933329</td>\n",
       "      <td>sagemaker-xgboost-221127-2129-005-f5596145</td>\n",
       "      <td>Completed</td>\n",
       "      <td>0.08013</td>\n",
       "      <td>2022-11-27 21:41:44+00:00</td>\n",
       "      <td>2022-11-27 21:44:08+00:00</td>\n",
       "      <td>144.0</td>\n",
       "    </tr>\n",
       "    <tr>\n",
       "      <th>9</th>\n",
       "      <td>38.452357</td>\n",
       "      <td>0.143557</td>\n",
       "      <td>4.694832</td>\n",
       "      <td>45.0</td>\n",
       "      <td>0.732768</td>\n",
       "      <td>sagemaker-xgboost-221127-2129-001-93a1030f</td>\n",
       "      <td>Completed</td>\n",
       "      <td>0.08038</td>\n",
       "      <td>2022-11-27 21:32:12+00:00</td>\n",
       "      <td>2022-11-27 21:34:50+00:00</td>\n",
       "      <td>158.0</td>\n",
       "    </tr>\n",
       "    <tr>\n",
       "      <th>8</th>\n",
       "      <td>2.780080</td>\n",
       "      <td>0.287207</td>\n",
       "      <td>2.846082</td>\n",
       "      <td>3.0</td>\n",
       "      <td>0.719777</td>\n",
       "      <td>sagemaker-xgboost-221127-2129-002-e1f2e72c</td>\n",
       "      <td>Completed</td>\n",
       "      <td>0.08045</td>\n",
       "      <td>2022-11-27 21:35:08+00:00</td>\n",
       "      <td>2022-11-27 21:35:55+00:00</td>\n",
       "      <td>47.0</td>\n",
       "    </tr>\n",
       "    <tr>\n",
       "      <th>7</th>\n",
       "      <td>83.522570</td>\n",
       "      <td>0.272989</td>\n",
       "      <td>2.679064</td>\n",
       "      <td>12.0</td>\n",
       "      <td>0.633658</td>\n",
       "      <td>sagemaker-xgboost-221127-2129-003-2a7ef37c</td>\n",
       "      <td>Completed</td>\n",
       "      <td>0.08058</td>\n",
       "      <td>2022-11-27 21:36:07+00:00</td>\n",
       "      <td>2022-11-27 21:36:59+00:00</td>\n",
       "      <td>52.0</td>\n",
       "    </tr>\n",
       "    <tr>\n",
       "      <th>2</th>\n",
       "      <td>46.349989</td>\n",
       "      <td>0.139413</td>\n",
       "      <td>2.211348</td>\n",
       "      <td>34.0</td>\n",
       "      <td>0.869404</td>\n",
       "      <td>sagemaker-xgboost-221127-2129-008-7d9c47d6</td>\n",
       "      <td>Stopped</td>\n",
       "      <td>0.08061</td>\n",
       "      <td>2022-11-27 21:47:21+00:00</td>\n",
       "      <td>2022-11-27 21:48:13+00:00</td>\n",
       "      <td>52.0</td>\n",
       "    </tr>\n",
       "    <tr>\n",
       "      <th>4</th>\n",
       "      <td>19.935544</td>\n",
       "      <td>0.206247</td>\n",
       "      <td>4.647080</td>\n",
       "      <td>9.0</td>\n",
       "      <td>0.839720</td>\n",
       "      <td>sagemaker-xgboost-221127-2129-006-f531cd32</td>\n",
       "      <td>Completed</td>\n",
       "      <td>0.08064</td>\n",
       "      <td>2022-11-27 21:44:26+00:00</td>\n",
       "      <td>2022-11-27 21:45:28+00:00</td>\n",
       "      <td>62.0</td>\n",
       "    </tr>\n",
       "  </tbody>\n",
       "</table>\n",
       "</div>"
      ],
      "text/plain": [
       "       alpha       eta  min_child_weight  num_round  subsample  \\\n",
       "1  68.756530  0.235254          1.876447       49.0   0.569299   \n",
       "6  79.712398  0.285719          3.441795       44.0   0.547216   \n",
       "0  58.418583  0.259008          3.060715       50.0   0.833525   \n",
       "3  27.493176  0.295056          3.509944       35.0   0.789321   \n",
       "5  50.726297  0.225795          1.083899       35.0   0.933329   \n",
       "9  38.452357  0.143557          4.694832       45.0   0.732768   \n",
       "8   2.780080  0.287207          2.846082        3.0   0.719777   \n",
       "7  83.522570  0.272989          2.679064       12.0   0.633658   \n",
       "2  46.349989  0.139413          2.211348       34.0   0.869404   \n",
       "4  19.935544  0.206247          4.647080        9.0   0.839720   \n",
       "\n",
       "                              TrainingJobName TrainingJobStatus  \\\n",
       "1  sagemaker-xgboost-221127-2129-009-f22c52b0           Stopped   \n",
       "6  sagemaker-xgboost-221127-2129-004-35ef4dc2         Completed   \n",
       "0  sagemaker-xgboost-221127-2129-010-af6a1941         Completed   \n",
       "3  sagemaker-xgboost-221127-2129-007-478b4f66         Completed   \n",
       "5  sagemaker-xgboost-221127-2129-005-f5596145         Completed   \n",
       "9  sagemaker-xgboost-221127-2129-001-93a1030f         Completed   \n",
       "8  sagemaker-xgboost-221127-2129-002-e1f2e72c         Completed   \n",
       "7  sagemaker-xgboost-221127-2129-003-2a7ef37c         Completed   \n",
       "2  sagemaker-xgboost-221127-2129-008-7d9c47d6           Stopped   \n",
       "4  sagemaker-xgboost-221127-2129-006-f531cd32         Completed   \n",
       "\n",
       "   FinalObjectiveValue         TrainingStartTime           TrainingEndTime  \\\n",
       "1              0.07993 2022-11-27 21:48:25+00:00 2022-11-27 21:49:54+00:00   \n",
       "6              0.07999 2022-11-27 21:37:17+00:00 2022-11-27 21:38:49+00:00   \n",
       "0              0.08009 2022-11-27 21:50:07+00:00 2022-11-27 21:51:44+00:00   \n",
       "3              0.08009 2022-11-27 21:45:40+00:00 2022-11-27 21:46:58+00:00   \n",
       "5              0.08013 2022-11-27 21:41:44+00:00 2022-11-27 21:44:08+00:00   \n",
       "9              0.08038 2022-11-27 21:32:12+00:00 2022-11-27 21:34:50+00:00   \n",
       "8              0.08045 2022-11-27 21:35:08+00:00 2022-11-27 21:35:55+00:00   \n",
       "7              0.08058 2022-11-27 21:36:07+00:00 2022-11-27 21:36:59+00:00   \n",
       "2              0.08061 2022-11-27 21:47:21+00:00 2022-11-27 21:48:13+00:00   \n",
       "4              0.08064 2022-11-27 21:44:26+00:00 2022-11-27 21:45:28+00:00   \n",
       "\n",
       "   TrainingElapsedTimeSeconds  \n",
       "1                        89.0  \n",
       "6                        92.0  \n",
       "0                        97.0  \n",
       "3                        78.0  \n",
       "5                       144.0  \n",
       "9                       158.0  \n",
       "8                        47.0  \n",
       "7                        52.0  \n",
       "2                        52.0  \n",
       "4                        62.0  "
      ]
     },
     "execution_count": 85,
     "metadata": {},
     "output_type": "execute_result"
    }
   ],
   "source": [
    "from pprint import pprint\n",
    "from sagemaker.analytics import HyperparameterTuningJobAnalytics\n",
    "\n",
    "tuner_analytics = HyperparameterTuningJobAnalytics(tuner.latest_tuning_job.name, sagemaker_session=sagemaker.Session())\n",
    "\n",
    "df_tuning_job_analytics = tuner_analytics.dataframe()\n",
    "\n",
    "# Sort the tuning job analytics by the final metrics value\n",
    "df_tuning_job_analytics.sort_values(\n",
    "    by=['FinalObjectiveValue'],\n",
    "    inplace=True,\n",
    "    ascending=False if tuner.objective_type == \"Maximize\" else True)\n",
    "\n",
    "# Show detailed analytics for the top 20 models\n",
    "df_tuning_job_analytics.head(20)"
   ]
  },
  {
   "cell_type": "code",
   "execution_count": 86,
   "id": "5952917d",
   "metadata": {},
   "outputs": [],
   "source": [
    "attached_tuner = HyperparameterTuner.attach(tuner.latest_tuning_job.name, sagemaker_session=sagemaker.Session())\n",
    "best_training_job = attached_tuner.best_training_job()"
   ]
  },
  {
   "cell_type": "code",
   "execution_count": 87,
   "id": "1ab12fc8",
   "metadata": {},
   "outputs": [
    {
     "name": "stdout",
     "output_type": "stream",
     "text": [
      "\n",
      "2022-11-27 21:50:00 Starting - Found matching resource for reuse\n",
      "2022-11-27 21:50:00 Downloading - Downloading input data\n",
      "2022-11-27 21:50:00 Training - Training image download completed. Training in progress.\n",
      "2022-11-27 21:50:00 Uploading - Uploading generated training model\n",
      "2022-11-27 21:50:00 Completed - Resource retained for reuse\n"
     ]
    }
   ],
   "source": [
    "from sagemaker.estimator import Estimator\n",
    "algo_estimator = Estimator.attach(best_training_job)\n",
    "\n",
    "best_algo_model = algo_estimator.create_model(env={'SAGEMAKER_DEFAULT_INVOCATIONS_ACCEPT':\"text/csv\"})"
   ]
  },
  {
   "cell_type": "code",
   "execution_count": 88,
   "id": "407714ef",
   "metadata": {},
   "outputs": [
    {
     "name": "stdout",
     "output_type": "stream",
     "text": [
      "...................................\u001b[34m[2022-11-27:21:57:31:INFO] No GPUs detected (normal if no gpus installed)\u001b[0m\n",
      "\u001b[34m[2022-11-27:21:57:31:INFO] No GPUs detected (normal if no gpus installed)\u001b[0m\n",
      "\u001b[35m[2022-11-27:21:57:31:INFO] No GPUs detected (normal if no gpus installed)\u001b[0m\n",
      "\u001b[35m[2022-11-27:21:57:31:INFO] No GPUs detected (normal if no gpus installed)\u001b[0m\n",
      "\u001b[34m[2022-11-27:21:57:31:INFO] nginx config: \u001b[0m\n",
      "\u001b[34mworker_processes auto;\u001b[0m\n",
      "\u001b[34mdaemon off;\u001b[0m\n",
      "\u001b[34mpid /tmp/nginx.pid;\u001b[0m\n",
      "\u001b[34merror_log  /dev/stderr;\u001b[0m\n",
      "\u001b[34mworker_rlimit_nofile 4096;\u001b[0m\n",
      "\u001b[34mevents {\n",
      "  worker_connections 2048;\u001b[0m\n",
      "\u001b[34m}\u001b[0m\n",
      "\u001b[35m[2022-11-27:21:57:31:INFO] nginx config: \u001b[0m\n",
      "\u001b[35mworker_processes auto;\u001b[0m\n",
      "\u001b[35mdaemon off;\u001b[0m\n",
      "\u001b[35mpid /tmp/nginx.pid;\u001b[0m\n",
      "\u001b[35merror_log  /dev/stderr;\u001b[0m\n",
      "\u001b[35mworker_rlimit_nofile 4096;\u001b[0m\n",
      "\u001b[35mevents {\n",
      "  worker_connections 2048;\u001b[0m\n",
      "\u001b[35m}\u001b[0m\n",
      "\u001b[34mhttp {\n",
      "  include /etc/nginx/mime.types;\n",
      "  default_type application/octet-stream;\n",
      "  access_log /dev/stdout combined;\n",
      "  upstream gunicorn {\n",
      "    server unix:/tmp/gunicorn.sock;\n",
      "  }\n",
      "  server {\n",
      "    listen 8080 deferred;\n",
      "    client_max_body_size 0;\n",
      "    keepalive_timeout 3;\n",
      "    location ~ ^/(ping|invocations|execution-parameters) {\n",
      "      proxy_set_header X-Forwarded-For $proxy_add_x_forwarded_for;\n",
      "      proxy_set_header Host $http_host;\n",
      "      proxy_redirect off;\n",
      "      proxy_read_timeout 60s;\n",
      "      proxy_pass http://gunicorn;\n",
      "    }\n",
      "    location / {\n",
      "      return 404 \"{}\";\n",
      "    }\n",
      "  }\u001b[0m\n",
      "\u001b[34m}\u001b[0m\n",
      "\u001b[34m[2022-11-27 21:57:32 +0000] [18] [INFO] Starting gunicorn 19.10.0\u001b[0m\n",
      "\u001b[34m[2022-11-27 21:57:32 +0000] [18] [INFO] Listening at: unix:/tmp/gunicorn.sock (18)\u001b[0m\n",
      "\u001b[34m[2022-11-27 21:57:32 +0000] [18] [INFO] Using worker: gevent\u001b[0m\n",
      "\u001b[34m[2022-11-27 21:57:32 +0000] [25] [INFO] Booting worker with pid: 25\u001b[0m\n",
      "\u001b[34m[2022-11-27 21:57:32 +0000] [26] [INFO] Booting worker with pid: 26\u001b[0m\n",
      "\u001b[34m[2022-11-27 21:57:32 +0000] [27] [INFO] Booting worker with pid: 27\u001b[0m\n",
      "\u001b[34m[2022-11-27 21:57:32 +0000] [28] [INFO] Booting worker with pid: 28\u001b[0m\n",
      "\u001b[35mhttp {\n",
      "  include /etc/nginx/mime.types;\n",
      "  default_type application/octet-stream;\n",
      "  access_log /dev/stdout combined;\n",
      "  upstream gunicorn {\n",
      "    server unix:/tmp/gunicorn.sock;\n",
      "  }\n",
      "  server {\n",
      "    listen 8080 deferred;\n",
      "    client_max_body_size 0;\n",
      "    keepalive_timeout 3;\n",
      "    location ~ ^/(ping|invocations|execution-parameters) {\n",
      "      proxy_set_header X-Forwarded-For $proxy_add_x_forwarded_for;\n",
      "      proxy_set_header Host $http_host;\n",
      "      proxy_redirect off;\n",
      "      proxy_read_timeout 60s;\n",
      "      proxy_pass http://gunicorn;\n",
      "    }\n",
      "    location / {\n",
      "      return 404 \"{}\";\n",
      "    }\n",
      "  }\u001b[0m\n",
      "\u001b[35m}\u001b[0m\n",
      "\u001b[35m[2022-11-27 21:57:32 +0000] [18] [INFO] Starting gunicorn 19.10.0\u001b[0m\n",
      "\u001b[35m[2022-11-27 21:57:32 +0000] [18] [INFO] Listening at: unix:/tmp/gunicorn.sock (18)\u001b[0m\n",
      "\u001b[35m[2022-11-27 21:57:32 +0000] [18] [INFO] Using worker: gevent\u001b[0m\n",
      "\u001b[35m[2022-11-27 21:57:32 +0000] [25] [INFO] Booting worker with pid: 25\u001b[0m\n",
      "\u001b[35m[2022-11-27 21:57:32 +0000] [26] [INFO] Booting worker with pid: 26\u001b[0m\n",
      "\u001b[35m[2022-11-27 21:57:32 +0000] [27] [INFO] Booting worker with pid: 27\u001b[0m\n",
      "\u001b[35m[2022-11-27 21:57:32 +0000] [28] [INFO] Booting worker with pid: 28\u001b[0m\n",
      "\u001b[34m[2022-11-27:21:57:38:INFO] No GPUs detected (normal if no gpus installed)\u001b[0m\n",
      "\u001b[34m169.254.255.130 - - [27/Nov/2022:21:57:38 +0000] \"GET /ping HTTP/1.1\" 200 0 \"-\" \"Go-http-client/1.1\"\u001b[0m\n",
      "\u001b[34m169.254.255.130 - - [27/Nov/2022:21:57:38 +0000] \"GET /execution-parameters HTTP/1.1\" 200 84 \"-\" \"Go-http-client/1.1\"\u001b[0m\n",
      "\u001b[35m[2022-11-27:21:57:38:INFO] No GPUs detected (normal if no gpus installed)\u001b[0m\n",
      "\u001b[35m169.254.255.130 - - [27/Nov/2022:21:57:38 +0000] \"GET /ping HTTP/1.1\" 200 0 \"-\" \"Go-http-client/1.1\"\u001b[0m\n",
      "\u001b[35m169.254.255.130 - - [27/Nov/2022:21:57:38 +0000] \"GET /execution-parameters HTTP/1.1\" 200 84 \"-\" \"Go-http-client/1.1\"\u001b[0m\n",
      "\u001b[32m2022-11-27T21:57:38.521:[sagemaker logs]: MaxConcurrentTransforms=4, MaxPayloadInMB=6, BatchStrategy=MULTI_RECORD\u001b[0m\n",
      "\u001b[34m[2022-11-27:21:57:39:INFO] No GPUs detected (normal if no gpus installed)\u001b[0m\n",
      "\u001b[34m[2022-11-27:21:57:39:INFO] Determined delimiter of CSV input is ','\u001b[0m\n",
      "\u001b[34m[2022-11-27:21:57:39:INFO] No GPUs detected (normal if no gpus installed)\u001b[0m\n",
      "\u001b[34m[2022-11-27:21:57:39:INFO] Determined delimiter of CSV input is ','\u001b[0m\n",
      "\u001b[34m[2022-11-27:21:57:39:INFO] Determined delimiter of CSV input is ','\u001b[0m\n",
      "\u001b[35m[2022-11-27:21:57:39:INFO] No GPUs detected (normal if no gpus installed)\u001b[0m\n",
      "\u001b[35m[2022-11-27:21:57:39:INFO] Determined delimiter of CSV input is ','\u001b[0m\n",
      "\u001b[35m[2022-11-27:21:57:39:INFO] No GPUs detected (normal if no gpus installed)\u001b[0m\n",
      "\u001b[35m[2022-11-27:21:57:39:INFO] Determined delimiter of CSV input is ','\u001b[0m\n",
      "\u001b[35m[2022-11-27:21:57:39:INFO] Determined delimiter of CSV input is ','\u001b[0m\n",
      "\u001b[34m[2022-11-27:21:57:39:INFO] No GPUs detected (normal if no gpus installed)\u001b[0m\n",
      "\u001b[34m[2022-11-27:21:57:39:INFO] Determined delimiter of CSV input is ','\u001b[0m\n",
      "\u001b[35m[2022-11-27:21:57:39:INFO] No GPUs detected (normal if no gpus installed)\u001b[0m\n",
      "\u001b[35m[2022-11-27:21:57:39:INFO] Determined delimiter of CSV input is ','\u001b[0m\n",
      "\u001b[34m169.254.255.130 - - [27/Nov/2022:21:57:41 +0000] \"POST /invocations HTTP/1.1\" 200 151555 \"-\" \"Go-http-client/1.1\"\u001b[0m\n",
      "\u001b[34m169.254.255.130 - - [27/Nov/2022:21:57:41 +0000] \"POST /invocations HTTP/1.1\" 200 151751 \"-\" \"Go-http-client/1.1\"\u001b[0m\n",
      "\u001b[34m[2022-11-27:21:57:41:INFO] Determined delimiter of CSV input is ','\u001b[0m\n",
      "\u001b[34m169.254.255.130 - - [27/Nov/2022:21:57:41 +0000] \"POST /invocations HTTP/1.1\" 200 151783 \"-\" \"Go-http-client/1.1\"\u001b[0m\n",
      "\u001b[34m169.254.255.130 - - [27/Nov/2022:21:57:41 +0000] \"POST /invocations HTTP/1.1\" 200 151633 \"-\" \"Go-http-client/1.1\"\u001b[0m\n",
      "\u001b[34m169.254.255.130 - - [27/Nov/2022:21:57:41 +0000] \"POST /invocations HTTP/1.1\" 200 12138 \"-\" \"Go-http-client/1.1\"\u001b[0m\n",
      "\u001b[35m169.254.255.130 - - [27/Nov/2022:21:57:41 +0000] \"POST /invocations HTTP/1.1\" 200 151555 \"-\" \"Go-http-client/1.1\"\u001b[0m\n",
      "\u001b[35m169.254.255.130 - - [27/Nov/2022:21:57:41 +0000] \"POST /invocations HTTP/1.1\" 200 151751 \"-\" \"Go-http-client/1.1\"\u001b[0m\n",
      "\u001b[35m[2022-11-27:21:57:41:INFO] Determined delimiter of CSV input is ','\u001b[0m\n",
      "\u001b[35m169.254.255.130 - - [27/Nov/2022:21:57:41 +0000] \"POST /invocations HTTP/1.1\" 200 151783 \"-\" \"Go-http-client/1.1\"\u001b[0m\n",
      "\u001b[35m169.254.255.130 - - [27/Nov/2022:21:57:41 +0000] \"POST /invocations HTTP/1.1\" 200 151633 \"-\" \"Go-http-client/1.1\"\u001b[0m\n",
      "\u001b[35m169.254.255.130 - - [27/Nov/2022:21:57:41 +0000] \"POST /invocations HTTP/1.1\" 200 12138 \"-\" \"Go-http-client/1.1\"\u001b[0m\n",
      "\n",
      "!\n",
      "CPU times: user 664 ms, sys: 48.7 ms, total: 713 ms\n",
      "Wall time: 6min 17s\n"
     ]
    }
   ],
   "source": [
    "%%time\n",
    "batch_output = \"s3://{}/{}/batch-out/\".format(bucket,prefix)\n",
    "batch_input = \"s3://{}/{}/batch-in/{}\".format(bucket,prefix,batch_X_file)\n",
    "\n",
    "xgb_transformer = best_algo_model.transformer(instance_count=1,\n",
    "                                       instance_type='ml.m4.xlarge',\n",
    "                                       strategy='MultiRecord',\n",
    "                                       assemble_with='Line',\n",
    "                                       output_path=batch_output)\n",
    "\n",
    "\n",
    "xgb_transformer.transform(data=batch_input,\n",
    "                         data_type='S3Prefix',\n",
    "                         content_type='text/csv',\n",
    "                         split_type='Line')\n",
    "xgb_transformer.wait(logs=False)"
   ]
  },
  {
   "cell_type": "markdown",
   "id": "32ed6699",
   "metadata": {},
   "source": [
    "## Avaliando novamente os resultados"
   ]
  },
  {
   "cell_type": "code",
   "execution_count": 89,
   "id": "4b87bb63",
   "metadata": {},
   "outputs": [],
   "source": [
    "s3 = boto3.client('s3')\n",
    "obj = s3.get_object(Bucket=bucket, Key=\"{}/batch-out/{}\".format(prefix,'batch-in.csv.out'))\n",
    "best_target_predicted = pd.read_csv(io.BytesIO(obj['Body'].read()),',',names=['class'])\n",
    "\n",
    "def binary_convert(x):\n",
    "    threshold = 0.5\n",
    "    if x > threshold:\n",
    "        return 1\n",
    "    else:\n",
    "        return 0\n",
    "\n",
    "best_target_predicted_binary = best_target_predicted['class'].apply(binary_convert)\n",
    "test_labels = test.iloc[:,0]"
   ]
  },
  {
   "cell_type": "markdown",
   "id": "8f391648",
   "metadata": {},
   "source": [
    "## Criando uma nova matriz de confusão (confusion matrix)"
   ]
  },
  {
   "cell_type": "code",
   "execution_count": 90,
   "id": "667c1f34",
   "metadata": {},
   "outputs": [
    {
     "data": {
      "text/plain": [
       "133535    0.0\n",
       "158392    0.0\n",
       "6922      0.0\n",
       "63020     0.0\n",
       "84644     0.0\n",
       "Name: TARGET, dtype: float64"
      ]
     },
     "execution_count": 90,
     "metadata": {},
     "output_type": "execute_result"
    }
   ],
   "source": [
    "test_labels = test.iloc[:,0]\n",
    "test_labels.head()"
   ]
  },
  {
   "cell_type": "code",
   "execution_count": 91,
   "id": "7bd492a3",
   "metadata": {},
   "outputs": [],
   "source": [
    "matrix = confusion_matrix(test_labels, best_target_predicted_binary)\n",
    "df_confusion = pd.DataFrame(matrix, index=['Reembolsa','Não reembolsa'],columns=['Reembolsa','Não reembolsa'])"
   ]
  },
  {
   "cell_type": "code",
   "execution_count": 92,
   "id": "fcd9820d",
   "metadata": {},
   "outputs": [
    {
     "data": {
      "text/html": [
       "<div>\n",
       "<style scoped>\n",
       "    .dataframe tbody tr th:only-of-type {\n",
       "        vertical-align: middle;\n",
       "    }\n",
       "\n",
       "    .dataframe tbody tr th {\n",
       "        vertical-align: top;\n",
       "    }\n",
       "\n",
       "    .dataframe thead th {\n",
       "        text-align: right;\n",
       "    }\n",
       "</style>\n",
       "<table border=\"1\" class=\"dataframe\">\n",
       "  <thead>\n",
       "    <tr style=\"text-align: right;\">\n",
       "      <th></th>\n",
       "      <th>Reembolsa</th>\n",
       "      <th>Não reembolsa</th>\n",
       "    </tr>\n",
       "  </thead>\n",
       "  <tbody>\n",
       "    <tr>\n",
       "      <th>Reembolsa</th>\n",
       "      <td>28220</td>\n",
       "      <td>49</td>\n",
       "    </tr>\n",
       "    <tr>\n",
       "      <th>Não reembolsa</th>\n",
       "      <td>2427</td>\n",
       "      <td>55</td>\n",
       "    </tr>\n",
       "  </tbody>\n",
       "</table>\n",
       "</div>"
      ],
      "text/plain": [
       "               Reembolsa  Não reembolsa\n",
       "Reembolsa          28220             49\n",
       "Não reembolsa       2427             55"
      ]
     },
     "execution_count": 92,
     "metadata": {},
     "output_type": "execute_result"
    }
   ],
   "source": [
    "df_confusion"
   ]
  },
  {
   "cell_type": "code",
   "execution_count": 93,
   "id": "9a13243b",
   "metadata": {},
   "outputs": [
    {
     "data": {
      "image/png": "[encoded data removed]",
      "text/plain": [
       "<Figure size 432x288 with 1 Axes>"
      ]
     },
     "metadata": {
      "needs_background": "light"
     },
     "output_type": "display_data"
    }
   ],
   "source": [
    "colormap = sns.color_palette(\"BrBG\", 10)\n",
    "sns.heatmap(df_confusion, annot=True, cbar=None, cmap=colormap)\n",
    "plt.title(\"Confusion Matrix\")\n",
    "plt.tight_layout()\n",
    "plt.ylabel(\"True Class\")\n",
    "plt.xlabel(\"Predicted Class\")\n",
    "plt.show()"
   ]
  },
  {
   "cell_type": "markdown",
   "id": "e25af494",
   "metadata": {},
   "source": [
    "## Recalculando os dados estatísticos de desempenho"
   ]
  },
  {
   "cell_type": "code",
   "execution_count": 94,
   "id": "e83f2318",
   "metadata": {},
   "outputs": [],
   "source": [
    "TN, FP, FN, TP = confusion_matrix(test_labels, best_target_predicted_binary).ravel()"
   ]
  },
  {
   "cell_type": "code",
   "execution_count": 95,
   "id": "a495c772",
   "metadata": {},
   "outputs": [
    {
     "name": "stdout",
     "output_type": "stream",
     "text": [
      "True Negative (TN) : 28220\n",
      "False Positive (FP): 49\n",
      "False Negative (FN): 2427\n",
      "True Positive (TP) : 55\n"
     ]
    }
   ],
   "source": [
    "print(f\"True Negative (TN) : {TN}\")\n",
    "print(f\"False Positive (FP): {FP}\")\n",
    "print(f\"False Negative (FN): {FN}\")\n",
    "print(f\"True Positive (TP) : {TP}\")"
   ]
  },
  {
   "cell_type": "code",
   "execution_count": 96,
   "id": "7b2fb701",
   "metadata": {},
   "outputs": [
    {
     "name": "stdout",
     "output_type": "stream",
     "text": [
      "Sensitivity or TPR: 2.215954875100725%\n",
      "There is a 2.215954875100725% chance of detecting patients with an abnormality have an abnormality\n"
     ]
    }
   ],
   "source": [
    "# Sensitivity, hit rate, recall, or true positive rate\n",
    "Sensitivity  = float(TP)/(TP+FN)*100\n",
    "print(f\"Sensitivity or TPR: {Sensitivity}%\")  \n",
    "print(f\"There is a {Sensitivity}% chance of detecting patients with an abnormality have an abnormality\")"
   ]
  },
  {
   "cell_type": "code",
   "execution_count": 97,
   "id": "50f5214f",
   "metadata": {},
   "outputs": [
    {
     "name": "stdout",
     "output_type": "stream",
     "text": [
      "Specificity or TNR: 99.82666525168912%\n",
      "There is a 99.82666525168912% chance of detecting normal patients are normal.\n"
     ]
    }
   ],
   "source": [
    "# Specificity or true negative rate\n",
    "Specificity  = float(TN)/(TN+FP)*100\n",
    "print(f\"Specificity or TNR: {Specificity}%\") \n",
    "print(f\"There is a {Specificity}% chance of detecting normal patients are normal.\")"
   ]
  },
  {
   "cell_type": "code",
   "execution_count": 98,
   "id": "db335363",
   "metadata": {},
   "outputs": [
    {
     "name": "stdout",
     "output_type": "stream",
     "text": [
      "Precision: 52.88461538461539%\n",
      "You have an abnormality, and the probablity that is correct is 52.88461538461539%\n"
     ]
    }
   ],
   "source": [
    "# Precision or positive predictive value\n",
    "Precision = float(TP)/(TP+FP)*100\n",
    "print(f\"Precision: {Precision}%\")  \n",
    "print(f\"You have an abnormality, and the probablity that is correct is {Precision}%\")"
   ]
  },
  {
   "cell_type": "code",
   "execution_count": 99,
   "id": "3a1dcc89",
   "metadata": {},
   "outputs": [
    {
     "name": "stdout",
     "output_type": "stream",
     "text": [
      "Negative Predictive Value: 92.08079094201716%\n",
      "You don't have an abnormality, but there is a 92.08079094201716% chance that is incorrect\n"
     ]
    }
   ],
   "source": [
    "# Negative predictive value\n",
    "NPV = float(TN)/(TN+FN)*100\n",
    "print(f\"Negative Predictive Value: {NPV}%\") \n",
    "print(f\"You don't have an abnormality, but there is a {NPV}% chance that is incorrect\" )"
   ]
  },
  {
   "cell_type": "code",
   "execution_count": 100,
   "id": "cfad0490",
   "metadata": {},
   "outputs": [
    {
     "name": "stdout",
     "output_type": "stream",
     "text": [
      "False Positive Rate: 0.17333474831087056%\n",
      "There is a 0.17333474831087056% chance that this positive result is incorrect.\n"
     ]
    }
   ],
   "source": [
    "# Fall out or false positive rate\n",
    "FPR = float(FP)/(FP+TN)*100\n",
    "print( f\"False Positive Rate: {FPR}%\") \n",
    "print( f\"There is a {FPR}% chance that this positive result is incorrect.\")"
   ]
  },
  {
   "cell_type": "code",
   "execution_count": 101,
   "id": "5b9e8bd2",
   "metadata": {},
   "outputs": [
    {
     "name": "stdout",
     "output_type": "stream",
     "text": [
      "False Negative Rate: 97.78404512489928%\n",
      "There is a 97.78404512489928% chance that this negative result is incorrect.\n"
     ]
    }
   ],
   "source": [
    "# False negative rate\n",
    "FNR = float(FN)/(TP+FN)*100\n",
    "print(f\"False Negative Rate: {FNR}%\") \n",
    "print(f\"There is a {FNR}% chance that this negative result is incorrect.\")"
   ]
  },
  {
   "cell_type": "code",
   "execution_count": 102,
   "id": "e4fecc00",
   "metadata": {},
   "outputs": [
    {
     "name": "stdout",
     "output_type": "stream",
     "text": [
      "False Discovery Rate: 47.11538461538461%\n",
      "You have an abnormality, but there is a 47.11538461538461% chance this is incorrect.\n"
     ]
    }
   ],
   "source": [
    "# False discovery rate\n",
    "FDR = float(FP)/(TP+FP)*100\n",
    "print(f\"False Discovery Rate: {FDR}%\" )\n",
    "print(f\"You have an abnormality, but there is a {FDR}% chance this is incorrect.\")"
   ]
  },
  {
   "cell_type": "code",
   "execution_count": 103,
   "id": "44f7ae9a",
   "metadata": {},
   "outputs": [
    {
     "name": "stdout",
     "output_type": "stream",
     "text": [
      "Accuracy: 91.94822932587559%\n"
     ]
    }
   ],
   "source": [
    "# Overall accuracy\n",
    "ACC = float(TP+TN)/(TP+FP+FN+TN)*100\n",
    "print(f\"Accuracy: {ACC}%\") "
   ]
  },
  {
   "cell_type": "code",
   "execution_count": 104,
   "id": "2c43b1d5",
   "metadata": {},
   "outputs": [
    {
     "name": "stdout",
     "output_type": "stream",
     "text": [
      "Sensitivity or TPR: 2.215954875100725%\n",
      "Specificity or TNR: 99.82666525168912%\n",
      "Precision: 52.88461538461539%\n",
      "Negative Predictive Value: 92.08079094201716%\n",
      "False Positive Rate: 0.17333474831087056%\n",
      "False Negative Rate: 97.78404512489928%\n",
      "False Discovery Rate: 47.11538461538461%\n",
      "Accuracy: 91.94822932587559%\n"
     ]
    }
   ],
   "source": [
    "print(f\"Sensitivity or TPR: {Sensitivity}%\")    \n",
    "print(f\"Specificity or TNR: {Specificity}%\") \n",
    "print(f\"Precision: {Precision}%\")   \n",
    "print(f\"Negative Predictive Value: {NPV}%\")  \n",
    "print( f\"False Positive Rate: {FPR}%\") \n",
    "print(f\"False Negative Rate: {FNR}%\")  \n",
    "print(f\"False Discovery Rate: {FDR}%\" )\n",
    "print(f\"Accuracy: {ACC}%\")"
   ]
  },
  {
   "cell_type": "markdown",
   "id": "cc091968",
   "metadata": {},
   "source": [
    "## Recalculando AUC-ROC"
   ]
  },
  {
   "cell_type": "code",
   "execution_count": 105,
   "id": "3df85db1",
   "metadata": {},
   "outputs": [
    {
     "name": "stdout",
     "output_type": "stream",
     "text": [
      "Validation AUC 0.750781586957738\n"
     ]
    }
   ],
   "source": [
    "test_labels = test.iloc[:,0];\n",
    "print(\"Validation AUC\", roc_auc_score(test_labels, best_target_predicted) )"
   ]
  },
  {
   "cell_type": "code",
   "execution_count": 106,
   "id": "6f1d9973",
   "metadata": {},
   "outputs": [],
   "source": [
    "fpr, tpr, thresholds = roc_curve(test_labels, best_target_predicted)\n",
    "roc_auc = auc(fpr, tpr)"
   ]
  },
  {
   "cell_type": "code",
   "execution_count": 107,
   "id": "d77f3653",
   "metadata": {},
   "outputs": [
    {
     "data": {
      "text/plain": [
       "<matplotlib.legend.Legend at 0x7f5412c95cd0>"
      ]
     },
     "execution_count": 107,
     "metadata": {},
     "output_type": "execute_result"
    },
    {
     "data": {
      "image/png": "[encoded data removed]",
      "text/plain": [
       "<Figure size 432x288 with 1 Axes>"
      ]
     },
     "metadata": {
      "needs_background": "light"
     },
     "output_type": "display_data"
    }
   ],
   "source": [
    "plt.figure()\n",
    "plt.plot(fpr, tpr, label='ROC curve (area = %0.2f)' % (roc_auc))\n",
    "plt.plot([0, 1], [0, 1], 'k--')\n",
    "plt.xlim([0.0, 1.0])\n",
    "plt.ylim([0.0, 1.05])\n",
    "plt.xlabel('False Positive Rate')\n",
    "plt.ylabel('True Positive Rate')\n",
    "plt.title('Receiver operating characteristic')\n",
    "plt.legend(loc=\"lower right\")"
   ]
  },
  {
   "cell_type": "code",
   "execution_count": 108,
   "id": "77d78be9",
   "metadata": {},
   "outputs": [
    {
     "data": {
      "text/plain": [
       "(0.0, 1.0)"
      ]
     },
     "execution_count": 108,
     "metadata": {},
     "output_type": "execute_result"
    },
    {
     "data": {
      "image/png": "[encoded data removed]",
      "text/plain": [
       "<Figure size 432x288 with 2 Axes>"
      ]
     },
     "metadata": {
      "needs_background": "light"
     },
     "output_type": "display_data"
    }
   ],
   "source": [
    "# create the axis of thresholds (scores)\n",
    "ax2 = plt.gca().twinx()\n",
    "ax2.plot(fpr, thresholds, markeredgecolor='r',linestyle='dashed', color='r')\n",
    "ax2.set_ylabel('Threshold',color='r')\n",
    "ax2.set_ylim([thresholds[-1],thresholds[0]])\n",
    "ax2.set_xlim([fpr[0],fpr[-1]])"
   ]
  },
  {
   "cell_type": "code",
   "execution_count": 109,
   "id": "6db08a63",
   "metadata": {},
   "outputs": [
    {
     "name": "stdout",
     "output_type": "stream",
     "text": [
      "Figure(432x288)\n"
     ]
    },
    {
     "data": {
      "text/plain": [
       "<Figure size 432x288 with 0 Axes>"
      ]
     },
     "metadata": {},
     "output_type": "display_data"
    }
   ],
   "source": [
    "print(plt.figure())"
   ]
  },
  {
   "cell_type": "markdown",
   "id": "daadd8d9",
   "metadata": {},
   "source": [
    "## Deploy"
   ]
  },
  {
   "cell_type": "code",
   "execution_count": 110,
   "id": "0b0c60c5",
   "metadata": {},
   "outputs": [
    {
     "name": "stdout",
     "output_type": "stream",
     "text": [
      "-------!"
     ]
    }
   ],
   "source": [
    "xgb_predictor = xgb_model.deploy(initial_instance_count=1,\n",
    "                serializer = sagemaker.serializers.CSVSerializer(),\n",
    "                instance_type='ml.m4.xlarge')"
   ]
  },
  {
   "cell_type": "markdown",
   "id": "e1dc5e71",
   "metadata": {},
   "source": [
    "## Regressão Logistica"
   ]
  },
  {
   "cell_type": "code",
   "execution_count": 111,
   "id": "4baa8d0a",
   "metadata": {},
   "outputs": [],
   "source": [
    "y = a_train['TARGET']\n",
    "X = a_train.drop(labels=['TARGET'],axis=1)"
   ]
  },
  {
   "cell_type": "code",
   "execution_count": 112,
   "id": "70925468",
   "metadata": {},
   "outputs": [],
   "source": [
    "#prediction is on y_train\n",
    "X_train, X_valid, y_train, y_valid = train_test_split(X,y,test_size=.30,random_state=1)"
   ]
  },
  {
   "cell_type": "code",
   "execution_count": 113,
   "id": "26855aa5",
   "metadata": {},
   "outputs": [
    {
     "name": "stdout",
     "output_type": "stream",
     "text": [
      "(215257, 154)\n",
      "(92254, 154)\n"
     ]
    }
   ],
   "source": [
    "from sklearn.linear_model import LogisticRegression\n",
    "print(X_train.shape)\n",
    "print(X_valid.shape)"
   ]
  },
  {
   "cell_type": "code",
   "execution_count": 114,
   "id": "630d3198",
   "metadata": {},
   "outputs": [],
   "source": [
    "\n",
    "# TREINAMENTO\n",
    "clf_logistic = LogisticRegression(solver='lbfgs')\n",
    "clf_logistic_fit = clf_logistic.fit(X_train,y_train)\n",
    "#clf_logistic_fit.coef_"
   ]
  },
  {
   "cell_type": "code",
   "execution_count": 115,
   "id": "9dd4a710",
   "metadata": {},
   "outputs": [
    {
     "data": {
      "text/html": [
       "<div>\n",
       "<style scoped>\n",
       "    .dataframe tbody tr th:only-of-type {\n",
       "        vertical-align: middle;\n",
       "    }\n",
       "\n",
       "    .dataframe tbody tr th {\n",
       "        vertical-align: top;\n",
       "    }\n",
       "\n",
       "    .dataframe thead th {\n",
       "        text-align: right;\n",
       "    }\n",
       "</style>\n",
       "<table border=\"1\" class=\"dataframe\">\n",
       "  <thead>\n",
       "    <tr style=\"text-align: right;\">\n",
       "      <th></th>\n",
       "      <th>0</th>\n",
       "      <th>1</th>\n",
       "    </tr>\n",
       "  </thead>\n",
       "  <tbody>\n",
       "    <tr>\n",
       "      <th>0</th>\n",
       "      <td>0.963493</td>\n",
       "      <td>0.036507</td>\n",
       "    </tr>\n",
       "    <tr>\n",
       "      <th>1</th>\n",
       "      <td>0.917126</td>\n",
       "      <td>0.082874</td>\n",
       "    </tr>\n",
       "    <tr>\n",
       "      <th>2</th>\n",
       "      <td>0.966487</td>\n",
       "      <td>0.033513</td>\n",
       "    </tr>\n",
       "    <tr>\n",
       "      <th>3</th>\n",
       "      <td>0.921054</td>\n",
       "      <td>0.078946</td>\n",
       "    </tr>\n",
       "    <tr>\n",
       "      <th>4</th>\n",
       "      <td>0.453081</td>\n",
       "      <td>0.546919</td>\n",
       "    </tr>\n",
       "  </tbody>\n",
       "</table>\n",
       "</div>"
      ],
      "text/plain": [
       "          0         1\n",
       "0  0.963493  0.036507\n",
       "1  0.917126  0.082874\n",
       "2  0.966487  0.033513\n",
       "3  0.921054  0.078946\n",
       "4  0.453081  0.546919"
      ]
     },
     "execution_count": 115,
     "metadata": {},
     "output_type": "execute_result"
    }
   ],
   "source": [
    "probs=pd.DataFrame(clf_logistic.predict_proba(X_valid)).head()\n",
    "probs"
   ]
  },
  {
   "cell_type": "code",
   "execution_count": 116,
   "id": "adcdd963",
   "metadata": {},
   "outputs": [],
   "source": [
    "from sklearn.metrics import roc_curve, auc, roc_auc_score\n",
    "from sklearn import metrics\n",
    "from sklearn.metrics import confusion_matrix,classification_report,recall_score,accuracy_score,precision_score\n",
    "from sklearn.model_selection import train_test_split"
   ]
  },
  {
   "cell_type": "code",
   "execution_count": 117,
   "id": "0fd15c15",
   "metadata": {},
   "outputs": [
    {
     "data": {
      "image/png": "[encoded data removed]",
      "text/plain": [
       "<Figure size 432x288 with 1 Axes>"
      ]
     },
     "metadata": {
      "needs_background": "light"
     },
     "output_type": "display_data"
    }
   ],
   "source": [
    "#VALIDAÇÃO\n",
    "y_pred = clf_logistic_fit.predict(X_valid)\n",
    "y_pred_proba = clf_logistic_fit.predict_proba(X_valid)[::,1]\n",
    "fpr, tpr, _ = metrics.roc_curve( y_valid,  y_pred_proba)\n",
    "auc = metrics.roc_auc_score( y_valid, y_pred_proba)\n",
    "plt.plot(fpr,tpr,label=\"AUC=\"+str(auc))\n",
    "plt.plot([0, 1], [0, 1], color='navy', lw=1, linestyle='--')\n",
    "plt.ylabel('True Positive Rate')\n",
    "plt.xlabel('False Positive Rate')\n",
    "plt.legend(loc=4)\n",
    "plt.show()"
   ]
  },
  {
   "cell_type": "code",
   "execution_count": 118,
   "id": "a94ed3d3",
   "metadata": {},
   "outputs": [
    {
     "name": "stdout",
     "output_type": "stream",
     "text": [
      "              precision    recall  f1-score   support\n",
      "\n",
      "         0.0       0.92      1.00      0.96     84787\n",
      "         1.0       0.48      0.01      0.02      7467\n",
      "\n",
      "    accuracy                           0.92     92254\n",
      "   macro avg       0.70      0.50      0.49     92254\n",
      "weighted avg       0.88      0.92      0.88     92254\n",
      "\n"
     ]
    }
   ],
   "source": [
    "print (classification_report(y_true=y_valid,\n",
    "                            y_pred=y_pred))"
   ]
  },
  {
   "cell_type": "code",
   "execution_count": 119,
   "id": "346aa64d",
   "metadata": {},
   "outputs": [
    {
     "name": "stdout",
     "output_type": "stream",
     "text": [
      "Logistic regression accuracy_score 0.9189845426756563\n"
     ]
    }
   ],
   "source": [
    "acc1=accuracy_score(y_true=y_valid,\n",
    "               y_pred=y_pred)\n",
    "print('Logistic regression accuracy_score',acc1)"
   ]
  },
  {
   "cell_type": "code",
   "execution_count": 120,
   "id": "4dc440a0",
   "metadata": {},
   "outputs": [
    {
     "data": {
      "text/plain": [
       "array([[84710,    77],\n",
       "       [ 7397,    70]])"
      ]
     },
     "execution_count": 120,
     "metadata": {},
     "output_type": "execute_result"
    }
   ],
   "source": [
    "matrix = confusion_matrix(y_valid, y_pred)\n",
    "matrix"
   ]
  },
  {
   "cell_type": "markdown",
   "id": "09a49260",
   "metadata": {},
   "source": [
    "## Randon Forest"
   ]
  },
  {
   "cell_type": "code",
   "execution_count": 123,
   "id": "8839d54b",
   "metadata": {},
   "outputs": [],
   "source": [
    "y = a_train['TARGET']\n",
    "X = a_train.drop(labels=['TARGET'],axis=1)"
   ]
  },
  {
   "cell_type": "code",
   "execution_count": 124,
   "id": "35b0535a",
   "metadata": {},
   "outputs": [],
   "source": [
    "X_train, X_valid, y_train, y_valid = train_test_split(X,y,test_size=.30,random_state=1)"
   ]
  },
  {
   "cell_type": "code",
   "execution_count": 125,
   "id": "6ccc40d0",
   "metadata": {},
   "outputs": [],
   "source": [
    "from sklearn.ensemble import RandomForestClassifier,AdaBoostClassifier\n",
    "from sklearn.model_selection import GridSearchCV"
   ]
  },
  {
   "cell_type": "code",
   "execution_count": 126,
   "id": "a5c2bdd3",
   "metadata": {},
   "outputs": [
    {
     "name": "stdout",
     "output_type": "stream",
     "text": [
      "              precision    recall  f1-score   support\n",
      "\n",
      "         0.0       0.92      1.00      0.96     84787\n",
      "         1.0       1.00      0.00      0.00      7467\n",
      "\n",
      "    accuracy                           0.92     92254\n",
      "   macro avg       0.96      0.50      0.48     92254\n",
      "weighted avg       0.93      0.92      0.88     92254\n",
      "\n"
     ]
    }
   ],
   "source": [
    "#X=X_train\n",
    "#y=y_train\n",
    "#X_train, X_valid, y_train, y_valid = train_test_split(X,y,test_size=.30,random_state=1)\n",
    "\n",
    "# TREINAMENTO\n",
    "param_grid={'max_depth':range(1,20,2)}\n",
    "forest = RandomForestClassifier()\n",
    "random_forest = GridSearchCV(forest, param_grid, cv=5, scoring='accuracy',n_jobs=-1).fit(X_train,y_train)\n",
    "\n",
    "# VALIDAÇÃO\n",
    "y_pred = random_forest.predict(X_valid)\n",
    "print(classification_report(y_true=y_valid, y_pred=y_pred))"
   ]
  },
  {
   "cell_type": "code",
   "execution_count": 127,
   "id": "4ecc019c",
   "metadata": {},
   "outputs": [
    {
     "name": "stdout",
     "output_type": "stream",
     "text": [
      "0.9190712597827736\n"
     ]
    }
   ],
   "source": [
    "print(accuracy_score(y_valid,y_pred))"
   ]
  },
  {
   "cell_type": "code",
   "execution_count": 128,
   "id": "2f27c962",
   "metadata": {},
   "outputs": [
    {
     "data": {
      "image/png": "[encoded data removed]",
      "text/plain": [
       "<Figure size 432x288 with 1 Axes>"
      ]
     },
     "metadata": {
      "needs_background": "light"
     },
     "output_type": "display_data"
    }
   ],
   "source": [
    "y_pred_proba = random_forest.predict_proba(X_valid)[::,1]\n",
    "fpr, tpr, _ = metrics.roc_curve( y_valid,  y_pred_proba)\n",
    "auc_f = metrics.roc_auc_score( y_valid, y_pred_proba)\n",
    "plt.plot(fpr,tpr,label=\"AUC=\"+str(auc))\n",
    "plt.plot([0, 1], [0, 1], color='navy', lw=1, linestyle='--')\n",
    "plt.ylabel('True Positive Rate')\n",
    "plt.xlabel('False Positive Rate')\n",
    "plt.legend(loc=4)\n",
    "plt.show()"
   ]
  },
  {
   "cell_type": "markdown",
   "id": "f64effce",
   "metadata": {},
   "source": [
    "## Comparação entre os 3 métodos de ML"
   ]
  },
  {
   "cell_type": "code",
   "execution_count": 136,
   "id": "10366420",
   "metadata": {},
   "outputs": [
    {
     "data": {
      "text/plain": [
       "Text(0, 0.5, 'Auc')"
      ]
     },
     "execution_count": 136,
     "metadata": {},
     "output_type": "execute_result"
    },
    {
     "data": {
      "image/png": "[encoded data removed]",
      "text/plain": [
       "<Figure size 720x360 with 1 Axes>"
      ]
     },
     "metadata": {
      "needs_background": "light"
     },
     "output_type": "display_data"
    }
   ],
   "source": [
    "name = ['Logistic Regression','Random Forest','XGBoost', 'XGBoost - Tunning']\n",
    "auc_f = [0.745,0.745,0.75, 0.751]\n",
    "plt.figure(figsize=(10,5))\n",
    "sns.lineplot(x=name,y=auc_f)\n",
    "plt.xticks(rotation=65)\n",
    "plt.title('Comparação dos métodos de Machine Learning')\n",
    "plt.xlabel('Método')\n",
    "plt.ylabel('Auc')"
   ]
  },
  {
   "cell_type": "markdown",
   "id": "4d65ae65",
   "metadata": {},
   "source": [
    "Este gráfico mostra que o XGBoost teve um desepenho melhor que os outros dois modelos"
   ]
  },
  {
   "cell_type": "markdown",
   "id": "7faed877",
   "metadata": {},
   "source": [
    "## Teste"
   ]
  },
  {
   "cell_type": "markdown",
   "id": "52e880a2",
   "metadata": {},
   "source": [
    "## Regressão Logistica\n",
    "O treinamento de Regressão logistica aplicado no csv de teste predizeu apenas 0,2% de clientes potenciais inadimplentes. "
   ]
  },
  {
   "cell_type": "code",
   "execution_count": 130,
   "id": "d914bbcc",
   "metadata": {},
   "outputs": [
    {
     "name": "stdout",
     "output_type": "stream",
     "text": [
      "48655\n",
      "89\n"
     ]
    }
   ],
   "source": [
    "y_pred_LOGISTIC = clf_logistic_fit.predict(a_test)\n",
    "print((y_pred_LOGISTIC == 0).sum())\n",
    "print((y_pred_LOGISTIC == 1).sum())"
   ]
  },
  {
   "cell_type": "markdown",
   "id": "e0aab1d7",
   "metadata": {},
   "source": [
    "## Random Forest\n",
    "O treinamento de Random Forest aplicado no csv de teste não detectou potenciais clientes inadimplentes."
   ]
  },
  {
   "cell_type": "code",
   "execution_count": 131,
   "id": "387da997",
   "metadata": {},
   "outputs": [
    {
     "name": "stdout",
     "output_type": "stream",
     "text": [
      "48743\n",
      "1\n"
     ]
    }
   ],
   "source": [
    "y_pred_FOREST = random_forest.predict(a_test)\n",
    "print((y_pred_FOREST == 0).sum())\n",
    "print((y_pred_FOREST == 1).sum())"
   ]
  },
  {
   "cell_type": "code",
   "execution_count": 132,
   "id": "499b48a3",
   "metadata": {},
   "outputs": [],
   "source": [
    "a_test['TARGET_L'] = y_pred_LOGISTIC\n",
    "a_test['TARGET_F'] = y_pred_FOREST\n",
    "a_test.to_csv('a_test_with_targets.csv')"
   ]
  },
  {
   "cell_type": "markdown",
   "id": "dd806023",
   "metadata": {},
   "source": [
    "O resultado do Random forest mostra o quão problematico é o desbalanceamento do dataframe. O modelo não encontrou nenhum caso de potencial cliente devedor, isto para uma empresa representa um alto risco de crédito a perfis que o modelo não conseguiu identificar. Esta conclusão só se deve pq é esperado que ao menos 8% do dataset sejam possiveis inadimplentes (seguindo a lógica que a tendencia de um grupo inadimplente siga por voltados 8% do dataset de treino). \n",
    "Logo fica claro que é necessário balancear o data frame e fazer novos treinamentos. "
   ]
  },
  {
   "cell_type": "code",
   "execution_count": null,
   "id": "53a54870",
   "metadata": {},
   "outputs": [],
   "source": []
  }
 ],
 "metadata": {
  "kernelspec": {
   "display_name": "conda_python3",
   "language": "python",
   "name": "conda_python3"
  },
  "language_info": {
   "codemirror_mode": {
    "name": "ipython",
    "version": 3
   },
   "file_extension": ".py",
   "mimetype": "text/x-python",
   "name": "python",
   "nbconvert_exporter": "python",
   "pygments_lexer": "ipython3",
   "version": "3.8.12"
  }
 },
 "nbformat": 4,
 "nbformat_minor": 5
}
